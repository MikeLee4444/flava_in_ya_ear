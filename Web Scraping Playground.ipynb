{
 "cells": [
  {
   "cell_type": "code",
   "execution_count": 1,
   "metadata": {},
   "outputs": [],
   "source": [
    "import urllib.request\n",
    "import urllib.parse\n",
    "import urllib.error\n",
    "from bs4 import BeautifulSoup\n",
    "import ssl\n",
    "import json\n",
    "import ast\n",
    "import os\n",
    "from urllib.request import Request, urlopen"
   ]
  },
  {
   "cell_type": "code",
   "execution_count": 2,
   "metadata": {},
   "outputs": [],
   "source": [
    "# For ignoring SSL certificate errors\n",
    "\n",
    "ctx = ssl.create_default_context()\n",
    "ctx.check_hostname = False\n",
    "ctx.verify_mode = ssl.CERT_NONE"
   ]
  },
  {
   "cell_type": "code",
   "execution_count": 26,
   "metadata": {},
   "outputs": [],
   "source": [
    "# Input from user\n",
    "url = 'https://genius.com/J-cole-foldin-clothes-lyrics'"
   ]
  },
  {
   "cell_type": "code",
   "execution_count": 27,
   "metadata": {},
   "outputs": [],
   "source": [
    "# Making the website believe that you are accessing it using a mozilla browser\n",
    "req = Request(url, headers = { 'User-Agent' : 'Mozilla/5.0' })\n",
    "webpage = urlopen(req).read()"
   ]
  },
  {
   "cell_type": "code",
   "execution_count": 28,
   "metadata": {},
   "outputs": [],
   "source": [
    "# Creating a BeautifulSoup object of the html page for easy extraction of data.\n",
    "\n",
    "soup = BeautifulSoup(webpage, 'html.parser')\n",
    "html = soup.prettify('utf-8')\n",
    "song_json = {}\n",
    "song_json[\"Lyrics\"] = [];\n",
    "song_json[\"Comments\"] = [];"
   ]
  },
  {
   "cell_type": "code",
   "execution_count": 29,
   "metadata": {},
   "outputs": [],
   "source": [
    "#Extract Title of the song\n",
    "for title in soup.findAll('title'):\n",
    "  song_json[\"Title\"] = title.text.strip()"
   ]
  },
  {
   "cell_type": "code",
   "execution_count": 30,
   "metadata": {},
   "outputs": [
    {
     "data": {
      "text/plain": [
       "'J.\\xa0Cole – Foldin Clothes Lyrics | Genius Lyrics'"
      ]
     },
     "execution_count": 30,
     "metadata": {},
     "output_type": "execute_result"
    }
   ],
   "source": [
    "song_json[\"Title\"]"
   ]
  },
  {
   "cell_type": "code",
   "execution_count": 31,
   "metadata": {},
   "outputs": [],
   "source": [
    "# Extract the release date of the song\n",
    "for span in soup.findAll('span', attrs = {'class': 'metadata_unit-info metadata_unit-info--text_only'}):\n",
    "  song_json[\"Release date\"] = span.text.strip()"
   ]
  },
  {
   "cell_type": "code",
   "execution_count": 32,
   "metadata": {},
   "outputs": [],
   "source": [
    "# Extract the Comments on the song\n",
    "for div in soup.findAll('div', attrs = {'class': 'rich_text_formatting'}):\n",
    "  comments = div.text.strip().split(\"\\n\")\n",
    "  for comment in comments:\n",
    "      if comment!=\"\":\n",
    "          song_json[\"Comments\"].append(comment);"
   ]
  },
  {
   "cell_type": "code",
   "execution_count": 33,
   "metadata": {},
   "outputs": [],
   "source": [
    "#Extract the Lyrics of the song\n",
    "for div in soup.findAll('div', attrs = {'class': 'lyrics'}):\n",
    "  song_json[\"Lyrics\"].append(div.text.strip().split(\"\\n\"));"
   ]
  },
  {
   "cell_type": "code",
   "execution_count": 34,
   "metadata": {},
   "outputs": [
    {
     "data": {
      "text/plain": [
       "[['[Intro]',\n",
       "  'Hey, hey',\n",
       "  'Hey, hey',\n",
       "  'Hey, hey',\n",
       "  '',\n",
       "  '[Hook]',\n",
       "  'I wanna fold clothes for you',\n",
       "  'I wanna make you feel good',\n",
       "  'Baby, I wanna do the right things they',\n",
       "  'Feel so much better than the wrong things',\n",
       "  'I said I wanna fold clothes for you',\n",
       "  'I wanna make you feel good',\n",
       "  'Baby, I wanna do the right things they',\n",
       "  'Feel so much better than the wrong things',\n",
       "  'I wanna fold clothes for you',\n",
       "  '',\n",
       "  '[Verse 1]',\n",
       "  'I wanna fold clothes for you',\n",
       "  'Woke up this morning',\n",
       "  'Feeling like the best version of me, so happy',\n",
       "  'I walked in the living room',\n",
       "  'And saw you all alone on the couch, just napping',\n",
       "  'I, I see a lot on your plate',\n",
       "  'Nine months with that weight',\n",
       "  'I know you tired so I wonder how I can help',\n",
       "  'I get the basket and grab your clothes out the dryer',\n",
       "  'Oh, I wanna fold clothes for you',\n",
       "  '',\n",
       "  '[Hook]',\n",
       "  'I wanna fold clothes for you',\n",
       "  'I wanna make you feel good',\n",
       "  'Baby, I wanna do the right things they',\n",
       "  'Feel so much better than the wrong things',\n",
       "  'I said I wanna fold clothes for you',\n",
       "  'I wanna make you feel good',\n",
       "  'Baby, I wanna do the right things they',\n",
       "  'Feel so much better than the wrong things',\n",
       "  'I wanna fold clothes for you',\n",
       "  '',\n",
       "  '[Verse 2]',\n",
       "  'Listen, this is a meditation for me',\n",
       "  'A practice in being present',\n",
       "  \"There's nowhere I need to be\",\n",
       "  'Except right here with you',\n",
       "  'Except right here with you',\n",
       "  'Folding clothes',\n",
       "  'Watching Netflix',\n",
       "  'Catching up on our shows',\n",
       "  'Eating breakfast',\n",
       "  'Raisin Bran in my bowl',\n",
       "  'With bananas and some almond milk',\n",
       "  \"I never thought I'd see the day\",\n",
       "  \"I'm drinking almond milk\",\n",
       "  '(\"You soft!\")',\n",
       "  '',\n",
       "  '[Hook]',\n",
       "  'I wanna fold clothes for you',\n",
       "  'I wanna make you feel good',\n",
       "  'Baby, I wanna do the right things they',\n",
       "  'Feel so much better than the wrong things',\n",
       "  'I said I wanna fold clothes for you',\n",
       "  'I wanna make you feel good',\n",
       "  'Baby, I wanna do the right things they',\n",
       "  'Feel so much better than the wrong things',\n",
       "  'I wanna fold clothes for you',\n",
       "  '',\n",
       "  '[Bridge]',\n",
       "  'If I can make life easier',\n",
       "  'The way you do mine',\n",
       "  'Save you some time',\n",
       "  'Alleviate a bit of stress from your mind',\n",
       "  'Help you relax',\n",
       "  'Let you recline babe',\n",
       "  'Then I should do it',\n",
       "  \"'Cause Heaven only knows\",\n",
       "  'How much you have done that for me',\n",
       "  'Now I see',\n",
       "  \"It's the simple things\",\n",
       "  \"It's the simple things\",\n",
       "  \"It's the simple things\",\n",
       "  'That say \"I love you\"',\n",
       "  \"It's the simple things\",\n",
       "  \"It's the simple things\",\n",
       "  \"It's the simple things\",\n",
       "  '',\n",
       "  '[Verse 3]',\n",
       "  'Niggas from the hood is the best actors',\n",
       "  'We the ones that got to wear our face backwards',\n",
       "  'Put your frown on before they think you soft',\n",
       "  'Never smile long or take your defense off',\n",
       "  'Acting tough so much, we start to feel hard',\n",
       "  'Live from the city where they pull cards',\n",
       "  'I got a Glock 40 and a little nine',\n",
       "  'Ready for the day a nigga pull mine',\n",
       "  'Niggas from the hood is the best actors',\n",
       "  \"Gotta learn to speak in ways that's unnatural\",\n",
       "  'Just to make it through the job interviews',\n",
       "  \"If my niggas heard me, they'd say\",\n",
       "  '\"Damn, what\\'s gotten into you?\"',\n",
       "  'Just trying to make it, dog, somehow',\n",
       "  'Peeking through the blinds, I see the sun now',\n",
       "  \"I see you're still sleeping and it feels like\",\n",
       "  \"Maybe everything is gon' be alright\"]]"
      ]
     },
     "execution_count": 34,
     "metadata": {},
     "output_type": "execute_result"
    }
   ],
   "source": [
    "song_json[\"Lyrics\"]"
   ]
  },
  {
   "cell_type": "code",
   "execution_count": 35,
   "metadata": {},
   "outputs": [],
   "source": [
    "lyrics_file = open(song_json[\"Title\"],'a')"
   ]
  },
  {
   "cell_type": "code",
   "execution_count": 36,
   "metadata": {},
   "outputs": [],
   "source": [
    "for line in song_json[\"Lyrics\"][0]:\n",
    "    line = line+'\\n'\n",
    "    lyrics_file.write(line)"
   ]
  },
  {
   "cell_type": "code",
   "execution_count": 37,
   "metadata": {},
   "outputs": [],
   "source": [
    "lyrics_file.close()"
   ]
  },
  {
   "cell_type": "code",
   "execution_count": null,
   "metadata": {},
   "outputs": [],
   "source": []
  },
  {
   "cell_type": "code",
   "execution_count": 27,
   "metadata": {},
   "outputs": [],
   "source": [
    "#Save the json created with the file name as title + .json\n",
    "with open(song_json[\"Title\"] + '.json', 'w') as outfile:\n",
    "  json.dump(song_json, outfile, indent = 4, ensure_ascii = False)"
   ]
  }
 ],
 "metadata": {
  "kernelspec": {
   "display_name": "Python 3",
   "language": "python",
   "name": "python3"
  },
  "language_info": {
   "codemirror_mode": {
    "name": "ipython",
    "version": 3
   },
   "file_extension": ".py",
   "mimetype": "text/x-python",
   "name": "python",
   "nbconvert_exporter": "python",
   "pygments_lexer": "ipython3",
   "version": "3.8.1"
  }
 },
 "nbformat": 4,
 "nbformat_minor": 4
}
