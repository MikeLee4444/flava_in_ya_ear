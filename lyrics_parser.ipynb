{
 "cells": [
  {
   "cell_type": "code",
   "execution_count": 1,
   "metadata": {
    "scrolled": true
   },
   "outputs": [],
   "source": [
    "import nltk\n",
    "import re\n",
    "import string\n",
    "import unicodedata\n",
    "import pandas as pd\n",
    "import numpy as np\n",
    "import datetime as dt\n",
    "from nltk.stem import WordNetLemmatizer \n",
    "from nltk.corpus import stopwords\n",
    "import urllib.request\n",
    "import urllib.parse\n",
    "import urllib.error\n",
    "from bs4 import BeautifulSoup\n",
    "import ssl\n",
    "import json\n",
    "import ast\n",
    "import os\n",
    "from urllib.request import Request, urlopen"
   ]
  },
  {
   "cell_type": "code",
   "execution_count": 2,
   "metadata": {
    "scrolled": true
   },
   "outputs": [],
   "source": [
    "lemmatizer = WordNetLemmatizer()"
   ]
  },
  {
   "cell_type": "code",
   "execution_count": 3,
   "metadata": {
    "scrolled": true
   },
   "outputs": [],
   "source": [
    "validated_food_file_cleaned = pd.read_csv('validated_food_file_cleaned.csv')\n",
    "food_category_df = pd.read_csv('parsed_food_descr_food_category.csv')"
   ]
  },
  {
   "cell_type": "code",
   "execution_count": 4,
   "metadata": {
    "scrolled": true
   },
   "outputs": [],
   "source": [
    "stopword_list = stopwords.words('english')\n",
    "stopword_list = [re.sub('\\W','',word.lower()) for word in stopword_list]"
   ]
  },
  {
   "cell_type": "code",
   "execution_count": 5,
   "metadata": {
    "scrolled": true
   },
   "outputs": [],
   "source": [
    "def strip_accents(text):\n",
    "\n",
    "    try:\n",
    "        text = unicode(text, 'utf-8')\n",
    "    except NameError: # unicode is a default on python 3 \n",
    "        pass\n",
    "\n",
    "    text = unicodedata.normalize('NFD', text)\\\n",
    "           .encode('ascii', 'ignore')\\\n",
    "           .decode(\"utf-8\")\n",
    "\n",
    "    return str(text)"
   ]
  },
  {
   "cell_type": "code",
   "execution_count": 6,
   "metadata": {
    "scrolled": true
   },
   "outputs": [],
   "source": [
    "# For ignoring SSL certificate errors\n",
    "\n",
    "ctx = ssl.create_default_context()\n",
    "ctx.check_hostname = False\n",
    "ctx.verify_mode = ssl.CERT_NONE"
   ]
  },
  {
   "cell_type": "code",
   "execution_count": 7,
   "metadata": {
    "scrolled": true
   },
   "outputs": [],
   "source": [
    "# Input from user\n",
    "url = 'https://genius.com/A-boogie-wit-da-hoodie-love-drugs-and-sex-lyrics'"
   ]
  },
  {
   "cell_type": "code",
   "execution_count": 8,
   "metadata": {
    "scrolled": true
   },
   "outputs": [],
   "source": [
    "# Making the website believe that you are accessing it using a mozilla browser\n",
    "req = Request(url, headers = { 'User-Agent' : 'Mozilla/5.0' })\n",
    "webpage = urlopen(req).read()"
   ]
  },
  {
   "cell_type": "code",
   "execution_count": 9,
   "metadata": {
    "scrolled": true
   },
   "outputs": [],
   "source": [
    "# Creating a BeautifulSoup object of the html page for easy extraction of data.\n",
    "\n",
    "soup = BeautifulSoup(webpage, 'html.parser')\n",
    "html = soup.prettify('utf-8')\n",
    "song_json = {}\n",
    "song_json[\"Lyrics\"] = [];"
   ]
  },
  {
   "cell_type": "code",
   "execution_count": 10,
   "metadata": {
    "scrolled": true
   },
   "outputs": [],
   "source": [
    "#Extract Title of the song\n",
    "for title in soup.findAll('title'):\n",
    "  song_json[\"Title\"] = title.text.strip()"
   ]
  },
  {
   "cell_type": "code",
   "execution_count": 11,
   "metadata": {},
   "outputs": [
    {
     "data": {
      "text/plain": [
       "{'Lyrics': [],\n",
       " 'Title': 'A\\xa0Boogie wit da Hoodie – Love Drugs and Sex Lyrics | Genius Lyrics'}"
      ]
     },
     "execution_count": 11,
     "metadata": {},
     "output_type": "execute_result"
    }
   ],
   "source": [
    "song_json"
   ]
  },
  {
   "cell_type": "code",
   "execution_count": 14,
   "metadata": {
    "scrolled": true
   },
   "outputs": [],
   "source": [
    "song = song_json[\"Title\"].split('|')[0].split('–')[1].lower().replace('lyrics','').strip()"
   ]
  },
  {
   "cell_type": "code",
   "execution_count": 15,
   "metadata": {
    "scrolled": true
   },
   "outputs": [
    {
     "data": {
      "text/plain": [
       "'a\\xa0boogie wit da hoodie'"
      ]
     },
     "execution_count": 15,
     "metadata": {},
     "output_type": "execute_result"
    }
   ],
   "source": [
    "song_json[\"Title\"].split('|')[0].split('–')[0].lower().strip()"
   ]
  },
  {
   "cell_type": "code",
   "execution_count": 16,
   "metadata": {
    "scrolled": true
   },
   "outputs": [
    {
     "name": "stdout",
     "output_type": "stream",
     "text": [
      "<span class=\"metadata_unit-info metadata_unit-info--text_only\">December 21, 2018</span>\n"
     ]
    }
   ],
   "source": [
    "# Extract the release date of the song\n",
    "for span in soup.findAll('span', attrs = {'class': 'metadata_unit-info metadata_unit-info--text_only'}):\n",
    "    print(span)\n",
    "    song_json[\"Release date\"] = span.text.strip()"
   ]
  },
  {
   "cell_type": "code",
   "execution_count": 17,
   "metadata": {},
   "outputs": [
    {
     "name": "stdout",
     "output_type": "stream",
     "text": [
      "<span class=\"metadata_unit-info metadata_unit-info--text_only\">December 21, 2018</span>\n"
     ]
    }
   ],
   "source": [
    "# Extract the release date of the song\n",
    "for span in soup.findAll('span', attrs = {'class': 'metadata_unit-info metadata_unit-info--text_only'}):\n",
    "    print(span)\n",
    "    song_json[\"Release date\"] = span.text.strip()"
   ]
  },
  {
   "cell_type": "code",
   "execution_count": 18,
   "metadata": {},
   "outputs": [
    {
     "data": {
      "text/plain": [
       "1"
      ]
     },
     "execution_count": 18,
     "metadata": {},
     "output_type": "execute_result"
    }
   ],
   "source": [
    "len(soup.findAll('span', attrs = {'class': 'metadata_unit-info metadata_unit-info--text_only'}))"
   ]
  },
  {
   "cell_type": "code",
   "execution_count": 19,
   "metadata": {},
   "outputs": [],
   "source": [
    "release_date = song_json[\"Release date\"]"
   ]
  },
  {
   "cell_type": "code",
   "execution_count": 20,
   "metadata": {},
   "outputs": [
    {
     "data": {
      "text/plain": [
       "17"
      ]
     },
     "execution_count": 20,
     "metadata": {},
     "output_type": "execute_result"
    }
   ],
   "source": [
    "len(release_date)"
   ]
  },
  {
   "cell_type": "code",
   "execution_count": 21,
   "metadata": {
    "scrolled": true
   },
   "outputs": [
    {
     "ename": "ValueError",
     "evalue": "time data 'December 21, 2018' does not match format '%Y'",
     "output_type": "error",
     "traceback": [
      "\u001b[0;31m---------------------------------------------------------------------------\u001b[0m",
      "\u001b[0;31mValueError\u001b[0m                                Traceback (most recent call last)",
      "\u001b[0;32m<ipython-input-21-a9024612e41f>\u001b[0m in \u001b[0;36m<module>\u001b[0;34m\u001b[0m\n\u001b[1;32m      1\u001b[0m \u001b[0mrelease_date\u001b[0m \u001b[0;34m=\u001b[0m \u001b[0msong_json\u001b[0m\u001b[0;34m[\u001b[0m\u001b[0;34m\"Release date\"\u001b[0m\u001b[0;34m]\u001b[0m\u001b[0;34m\u001b[0m\u001b[0;34m\u001b[0m\u001b[0m\n\u001b[1;32m      2\u001b[0m \u001b[0;31m#release_date_formatted = dt.datetime.strptime(release_date, '%B %d, %Y').strftime('%Y-%m-%d')\u001b[0m\u001b[0;34m\u001b[0m\u001b[0;34m\u001b[0m\u001b[0;34m\u001b[0m\u001b[0m\n\u001b[0;32m----> 3\u001b[0;31m \u001b[0mrelease_date_formatted\u001b[0m \u001b[0;34m=\u001b[0m \u001b[0mdt\u001b[0m\u001b[0;34m.\u001b[0m\u001b[0mdatetime\u001b[0m\u001b[0;34m.\u001b[0m\u001b[0mstrptime\u001b[0m\u001b[0;34m(\u001b[0m\u001b[0mrelease_date\u001b[0m\u001b[0;34m,\u001b[0m \u001b[0;34m'%Y'\u001b[0m\u001b[0;34m)\u001b[0m\u001b[0;34m.\u001b[0m\u001b[0mstrftime\u001b[0m\u001b[0;34m(\u001b[0m\u001b[0;34m'%Y-%m-%d'\u001b[0m\u001b[0;34m)\u001b[0m\u001b[0;34m\u001b[0m\u001b[0;34m\u001b[0m\u001b[0m\n\u001b[0m\u001b[1;32m      4\u001b[0m \u001b[0mrelease_year\u001b[0m \u001b[0;34m=\u001b[0m \u001b[0mdt\u001b[0m\u001b[0;34m.\u001b[0m\u001b[0mdatetime\u001b[0m\u001b[0;34m.\u001b[0m\u001b[0mstrptime\u001b[0m\u001b[0;34m(\u001b[0m\u001b[0mrelease_date\u001b[0m\u001b[0;34m,\u001b[0m \u001b[0;34m'%B %d, %Y'\u001b[0m\u001b[0;34m)\u001b[0m\u001b[0;34m.\u001b[0m\u001b[0myear\u001b[0m\u001b[0;34m\u001b[0m\u001b[0;34m\u001b[0m\u001b[0m\n\u001b[1;32m      5\u001b[0m \u001b[0mrelease_month\u001b[0m \u001b[0;34m=\u001b[0m \u001b[0mdt\u001b[0m\u001b[0;34m.\u001b[0m\u001b[0mdatetime\u001b[0m\u001b[0;34m.\u001b[0m\u001b[0mstrptime\u001b[0m\u001b[0;34m(\u001b[0m\u001b[0mrelease_date\u001b[0m\u001b[0;34m,\u001b[0m \u001b[0;34m'%B %d, %Y'\u001b[0m\u001b[0;34m)\u001b[0m\u001b[0;34m.\u001b[0m\u001b[0mmonth\u001b[0m\u001b[0;34m\u001b[0m\u001b[0;34m\u001b[0m\u001b[0m\n",
      "\u001b[0;32m/Library/Frameworks/Python.framework/Versions/3.8/lib/python3.8/_strptime.py\u001b[0m in \u001b[0;36m_strptime_datetime\u001b[0;34m(cls, data_string, format)\u001b[0m\n\u001b[1;32m    566\u001b[0m     \"\"\"Return a class cls instance based on the input string and the\n\u001b[1;32m    567\u001b[0m     format string.\"\"\"\n\u001b[0;32m--> 568\u001b[0;31m     \u001b[0mtt\u001b[0m\u001b[0;34m,\u001b[0m \u001b[0mfraction\u001b[0m\u001b[0;34m,\u001b[0m \u001b[0mgmtoff_fraction\u001b[0m \u001b[0;34m=\u001b[0m \u001b[0m_strptime\u001b[0m\u001b[0;34m(\u001b[0m\u001b[0mdata_string\u001b[0m\u001b[0;34m,\u001b[0m \u001b[0mformat\u001b[0m\u001b[0;34m)\u001b[0m\u001b[0;34m\u001b[0m\u001b[0;34m\u001b[0m\u001b[0m\n\u001b[0m\u001b[1;32m    569\u001b[0m     \u001b[0mtzname\u001b[0m\u001b[0;34m,\u001b[0m \u001b[0mgmtoff\u001b[0m \u001b[0;34m=\u001b[0m \u001b[0mtt\u001b[0m\u001b[0;34m[\u001b[0m\u001b[0;34m-\u001b[0m\u001b[0;36m2\u001b[0m\u001b[0;34m:\u001b[0m\u001b[0;34m]\u001b[0m\u001b[0;34m\u001b[0m\u001b[0;34m\u001b[0m\u001b[0m\n\u001b[1;32m    570\u001b[0m     \u001b[0margs\u001b[0m \u001b[0;34m=\u001b[0m \u001b[0mtt\u001b[0m\u001b[0;34m[\u001b[0m\u001b[0;34m:\u001b[0m\u001b[0;36m6\u001b[0m\u001b[0;34m]\u001b[0m \u001b[0;34m+\u001b[0m \u001b[0;34m(\u001b[0m\u001b[0mfraction\u001b[0m\u001b[0;34m,\u001b[0m\u001b[0;34m)\u001b[0m\u001b[0;34m\u001b[0m\u001b[0;34m\u001b[0m\u001b[0m\n",
      "\u001b[0;32m/Library/Frameworks/Python.framework/Versions/3.8/lib/python3.8/_strptime.py\u001b[0m in \u001b[0;36m_strptime\u001b[0;34m(data_string, format)\u001b[0m\n\u001b[1;32m    347\u001b[0m     \u001b[0mfound\u001b[0m \u001b[0;34m=\u001b[0m \u001b[0mformat_regex\u001b[0m\u001b[0;34m.\u001b[0m\u001b[0mmatch\u001b[0m\u001b[0;34m(\u001b[0m\u001b[0mdata_string\u001b[0m\u001b[0;34m)\u001b[0m\u001b[0;34m\u001b[0m\u001b[0;34m\u001b[0m\u001b[0m\n\u001b[1;32m    348\u001b[0m     \u001b[0;32mif\u001b[0m \u001b[0;32mnot\u001b[0m \u001b[0mfound\u001b[0m\u001b[0;34m:\u001b[0m\u001b[0;34m\u001b[0m\u001b[0;34m\u001b[0m\u001b[0m\n\u001b[0;32m--> 349\u001b[0;31m         raise ValueError(\"time data %r does not match format %r\" %\n\u001b[0m\u001b[1;32m    350\u001b[0m                          (data_string, format))\n\u001b[1;32m    351\u001b[0m     \u001b[0;32mif\u001b[0m \u001b[0mlen\u001b[0m\u001b[0;34m(\u001b[0m\u001b[0mdata_string\u001b[0m\u001b[0;34m)\u001b[0m \u001b[0;34m!=\u001b[0m \u001b[0mfound\u001b[0m\u001b[0;34m.\u001b[0m\u001b[0mend\u001b[0m\u001b[0;34m(\u001b[0m\u001b[0;34m)\u001b[0m\u001b[0;34m:\u001b[0m\u001b[0;34m\u001b[0m\u001b[0;34m\u001b[0m\u001b[0m\n",
      "\u001b[0;31mValueError\u001b[0m: time data 'December 21, 2018' does not match format '%Y'"
     ]
    }
   ],
   "source": [
    "release_date = song_json[\"Release date\"]\n",
    "#release_date_formatted = dt.datetime.strptime(release_date, '%B %d, %Y').strftime('%Y-%m-%d')\n",
    "release_date_formatted = dt.datetime.strptime(release_date, '%Y').strftime('%Y-%m-%d')\n",
    "release_year = dt.datetime.strptime(release_date, '%B %d, %Y').year\n",
    "release_month = dt.datetime.strptime(release_date, '%B %d, %Y').month"
   ]
  },
  {
   "cell_type": "code",
   "execution_count": 22,
   "metadata": {},
   "outputs": [
    {
     "ename": "NameError",
     "evalue": "name 'release_date_formatted' is not defined",
     "output_type": "error",
     "traceback": [
      "\u001b[0;31m---------------------------------------------------------------------------\u001b[0m",
      "\u001b[0;31mNameError\u001b[0m                                 Traceback (most recent call last)",
      "\u001b[0;32m<ipython-input-22-bf444a235902>\u001b[0m in \u001b[0;36m<module>\u001b[0;34m\u001b[0m\n\u001b[0;32m----> 1\u001b[0;31m \u001b[0mrelease_date_formatted\u001b[0m\u001b[0;34m\u001b[0m\u001b[0;34m\u001b[0m\u001b[0m\n\u001b[0m",
      "\u001b[0;31mNameError\u001b[0m: name 'release_date_formatted' is not defined"
     ]
    }
   ],
   "source": [
    "release_date_formatted"
   ]
  },
  {
   "cell_type": "code",
   "execution_count": 108,
   "metadata": {
    "scrolled": true
   },
   "outputs": [],
   "source": [
    "#Extract the Lyrics of the song\n",
    "for div in soup.findAll('div', attrs = {'class': 'lyrics'}):\n",
    "  song_json[\"Lyrics\"].append(div.text.strip().split(\"\\n\"));"
   ]
  },
  {
   "cell_type": "code",
   "execution_count": 109,
   "metadata": {},
   "outputs": [
    {
     "data": {
      "text/plain": [
       "[['[Instrumental]']]"
      ]
     },
     "execution_count": 109,
     "metadata": {},
     "output_type": "execute_result"
    }
   ],
   "source": [
    "song_json[\"Lyrics\"]"
   ]
  },
  {
   "cell_type": "code",
   "execution_count": 19,
   "metadata": {
    "scrolled": true
   },
   "outputs": [],
   "source": [
    "#filename = '/Users/michaellee/Desktop/python_lyrics_project/granata_lyrics/free_beer/loyal_to_the_leaves'\n",
    "#lyrics_file = open(filename, 'r')\n",
    "#lyrics_content = lyrics_file.read()\n",
    "#lyrics_file.close()"
   ]
  },
  {
   "cell_type": "code",
   "execution_count": 20,
   "metadata": {
    "scrolled": true
   },
   "outputs": [],
   "source": [
    "artist_lyric_words = {}"
   ]
  },
  {
   "cell_type": "code",
   "execution_count": 21,
   "metadata": {
    "scrolled": true
   },
   "outputs": [],
   "source": [
    "fil = '/Users/michaellee/Desktop/python_lyrics_project/analyzed_song_urls.txt'\n",
    "open_file = open(fil,'r')\n",
    "open_file_lines = open_file.readlines()\n",
    "open_file.close()"
   ]
  },
  {
   "cell_type": "code",
   "execution_count": 22,
   "metadata": {
    "scrolled": true
   },
   "outputs": [
    {
     "data": {
      "text/plain": [
       "['yeetyeetyeet']"
      ]
     },
     "execution_count": 22,
     "metadata": {},
     "output_type": "execute_result"
    }
   ],
   "source": [
    "open_file_lines"
   ]
  },
  {
   "cell_type": "code",
   "execution_count": 23,
   "metadata": {
    "scrolled": true
   },
   "outputs": [],
   "source": [
    "open_file = open(fil,'a')\n",
    "open_file.write('yeet')\n",
    "open_file.close()"
   ]
  },
  {
   "cell_type": "code",
   "execution_count": 24,
   "metadata": {
    "scrolled": true
   },
   "outputs": [],
   "source": [
    "for line in song_json[\"Lyrics\"][0]:\n",
    "    if len(line) == 0:\n",
    "        verse_artists_unique = []\n",
    "        continue\n",
    "    if line[0] == '[':\n",
    "        verse_artists_unique = []\n",
    "        line = line.strip('[]')\n",
    "        line = line.split(':')\n",
    "        if len(line) == 1:\n",
    "            verse_artists = song_json[\"Title\"].split('|')[0].split('–')[0].lower().strip()\n",
    "            verse_artists = verse_artists.replace('tyler, the creator','tyler the creator')\n",
    "            verse_artists_unique.append(verse_artists)\n",
    "            continue\n",
    "        else:\n",
    "            verse_artists = line[1]\n",
    "            verse_artists = verse_artists.lower()\n",
    "            verse_artists = strip_accents(verse_artists)\n",
    "            verse_artists = verse_artists.replace('both','')\n",
    "            verse_artists = verse_artists.replace('tyler, the creator','tyler the creator')\n",
    "            verse_artists = verse_artists.split(',')\n",
    "            for artists in verse_artists:\n",
    "                artists = artists.replace('(','')\n",
    "                artists = artists.replace(')','')\n",
    "                if '&' in artists:\n",
    "                    artists = artists.split('&')\n",
    "                if '+' in artists:\n",
    "                    artists = artists.split('+')\n",
    "                if type(artists) == str:\n",
    "                    artists = artists.strip()\n",
    "                    verse_artists_unique.append(artists)\n",
    "                if type(artists) == list:\n",
    "                    for artist in artists:\n",
    "                        artist = artist.strip()\n",
    "                        verse_artists_unique.append(artist)\n",
    "            verse_artists_unique = list(set(verse_artists_unique))\n",
    "            continue\n",
    "    \n",
    "    words = line.split()\n",
    "    for word in words:\n",
    "        word = re.sub('\\W','',word.lower())\n",
    "        word = lemmatizer.lemmatize(word)\n",
    "        word = strip_accents(word)\n",
    "        for artist in verse_artists_unique:\n",
    "            if artist in artist_lyric_words:\n",
    "                artist_lyric_words[artist].append(word)\n",
    "            else:\n",
    "                artist_lyric_words[artist] = []\n",
    "                artist_lyric_words[artist].append(word)"
   ]
  },
  {
   "cell_type": "code",
   "execution_count": 25,
   "metadata": {
    "scrolled": true
   },
   "outputs": [],
   "source": [
    "artist_lyric_words_count = {}\n",
    "artist_lyric_words_count_excl_stopwords = {}"
   ]
  },
  {
   "cell_type": "code",
   "execution_count": 26,
   "metadata": {
    "scrolled": true
   },
   "outputs": [],
   "source": [
    "for artist in artist_lyric_words.keys():\n",
    "    artist_lyric_words_count[artist] = len(artist_lyric_words[artist])\n",
    "    artist_lyric_words_count_excl_stopwords[artist] = len([word for word in artist_lyric_words[artist] if word not in stopword_list])\n",
    "        "
   ]
  },
  {
   "cell_type": "code",
   "execution_count": 27,
   "metadata": {
    "scrolled": true
   },
   "outputs": [
    {
     "data": {
      "text/plain": [
       "{'frank ocean': 320, 'tyler the creator': 399}"
      ]
     },
     "execution_count": 27,
     "metadata": {},
     "output_type": "execute_result"
    }
   ],
   "source": [
    "artist_lyric_words_count"
   ]
  },
  {
   "cell_type": "code",
   "execution_count": 28,
   "metadata": {
    "scrolled": true
   },
   "outputs": [
    {
     "data": {
      "text/plain": [
       "{'frank ocean': 161, 'tyler the creator': 198}"
      ]
     },
     "execution_count": 28,
     "metadata": {},
     "output_type": "execute_result"
    }
   ],
   "source": [
    "artist_lyric_words_count_excl_stopwords"
   ]
  },
  {
   "cell_type": "code",
   "execution_count": 29,
   "metadata": {
    "scrolled": true
   },
   "outputs": [],
   "source": [
    "artist_lyrics_content_one_word_dict = {}\n",
    "artist_lyrics_content_two_word_dict = {}"
   ]
  },
  {
   "cell_type": "code",
   "execution_count": 30,
   "metadata": {
    "scrolled": true
   },
   "outputs": [],
   "source": [
    "for artist in artist_lyric_words.keys():  \n",
    "    for word_num in range(artist_lyric_words_count[artist]-1):\n",
    "        if word_num < artist_lyric_words_count[artist]:\n",
    "            one_word = artist_lyric_words[artist][word_num]\n",
    "            if artist in artist_lyrics_content_one_word_dict:\n",
    "                if one_word in artist_lyrics_content_one_word_dict[artist]:\n",
    "                    artist_lyrics_content_one_word_dict[artist][one_word] += 1\n",
    "                else:\n",
    "                    artist_lyrics_content_one_word_dict[artist][one_word] = 1\n",
    "            else:\n",
    "                artist_lyrics_content_one_word_dict[artist] = {}\n",
    "                artist_lyrics_content_one_word_dict[artist][one_word] = 1\n",
    "\n",
    "            two_word = artist_lyric_words[artist][word_num] + ' ' + artist_lyric_words[artist][word_num+1]\n",
    "            if artist in artist_lyrics_content_two_word_dict:\n",
    "                if two_word in artist_lyrics_content_two_word_dict[artist]:\n",
    "                    artist_lyrics_content_two_word_dict[artist][two_word] += 1\n",
    "                else:\n",
    "                    artist_lyrics_content_two_word_dict[artist][two_word] = 1\n",
    "            else:\n",
    "                artist_lyrics_content_two_word_dict[artist] = {}\n",
    "                artist_lyrics_content_two_word_dict[artist][two_word] = 1"
   ]
  },
  {
   "cell_type": "code",
   "execution_count": 31,
   "metadata": {
    "scrolled": true
   },
   "outputs": [],
   "source": [
    "#artist_lyrics_content_one_word_dict"
   ]
  },
  {
   "cell_type": "code",
   "execution_count": 32,
   "metadata": {
    "scrolled": true
   },
   "outputs": [],
   "source": [
    "#artist_lyrics_content_two_word_dict"
   ]
  },
  {
   "cell_type": "code",
   "execution_count": 33,
   "metadata": {
    "scrolled": true
   },
   "outputs": [],
   "source": [
    "artist_lyric_word_count_df = pd.DataFrame(columns=['word',\n",
    "                                                  'word_count',\n",
    "                                                  'artist'])"
   ]
  },
  {
   "cell_type": "code",
   "execution_count": 34,
   "metadata": {
    "scrolled": true
   },
   "outputs": [],
   "source": [
    "for artist in artist_lyrics_content_one_word_dict.keys():\n",
    "    artist_lyrics_content_one_word_df = pd.DataFrame.from_dict(artist_lyrics_content_one_word_dict[artist], orient='index')\n",
    "    artist_lyrics_content_one_word_df = artist_lyrics_content_one_word_df.reset_index()\n",
    "    artist_lyrics_content_one_word_df['artist'] = artist\n",
    "    artist_lyrics_content_one_word_df.columns = ['word','word_count','artist']\n",
    "    artist_lyric_word_count_df = pd.concat([artist_lyric_word_count_df,artist_lyrics_content_one_word_df],axis=0,ignore_index=True)\n",
    "    "
   ]
  },
  {
   "cell_type": "code",
   "execution_count": 35,
   "metadata": {
    "scrolled": true
   },
   "outputs": [],
   "source": [
    "for artist in artist_lyrics_content_two_word_dict.keys():\n",
    "    artist_lyrics_content_two_word_df = pd.DataFrame.from_dict(artist_lyrics_content_two_word_dict[artist], orient='index')\n",
    "    artist_lyrics_content_two_word_df = artist_lyrics_content_two_word_df.reset_index()\n",
    "    artist_lyrics_content_two_word_df['artist'] = artist\n",
    "    artist_lyrics_content_two_word_df.columns = ['word','word_count','artist']\n",
    "    artist_lyric_word_count_df = pd.concat([artist_lyric_word_count_df,artist_lyrics_content_two_word_df],axis=0,ignore_index=True)\n",
    "    "
   ]
  },
  {
   "cell_type": "code",
   "execution_count": 36,
   "metadata": {
    "scrolled": true
   },
   "outputs": [],
   "source": [
    "artist_food_words_df = pd.merge(artist_lyric_word_count_df,validated_food_file_cleaned[['food_description','food_word_net_effect_value']],how='inner',left_on='word',right_on='food_description')\n",
    "artist_food_words_df = artist_food_words_df.drop(labels='food_description',axis=1)\n",
    "artist_food_words_df = artist_food_words_df.rename(columns={'food_word_net_effect_value':'food_word_value'})\n",
    "artist_food_words_df['food_word_total'] = artist_food_words_df['word_count'] * artist_food_words_df['food_word_value']\n",
    "artist_food_words_df = artist_food_words_df.rename(columns={'word':'food_word',\n",
    "                                                           'word_count':'food_word_count'})\n",
    "artist_food_words_df['song'] = song\n",
    "artist_food_words_df['release_date'] = release_date_formatted\n",
    "artist_food_words_df['release_year'] = release_year\n",
    "artist_food_words_df['release_month'] = release_month\n",
    "\n",
    "artist_food_words_df = pd.merge(artist_food_words_df,food_category_df,how='left',left_on='food_word',right_on='food_description')\n",
    "artist_food_words_df = artist_food_words_df.drop(labels=['food_description','food_category_id'],axis=1)\n"
   ]
  },
  {
   "cell_type": "code",
   "execution_count": 37,
   "metadata": {
    "scrolled": true
   },
   "outputs": [
    {
     "data": {
      "text/html": [
       "<div>\n",
       "<style scoped>\n",
       "    .dataframe tbody tr th:only-of-type {\n",
       "        vertical-align: middle;\n",
       "    }\n",
       "\n",
       "    .dataframe tbody tr th {\n",
       "        vertical-align: top;\n",
       "    }\n",
       "\n",
       "    .dataframe thead th {\n",
       "        text-align: right;\n",
       "    }\n",
       "</style>\n",
       "<table border=\"1\" class=\"dataframe\">\n",
       "  <thead>\n",
       "    <tr style=\"text-align: right;\">\n",
       "      <th></th>\n",
       "      <th>food_word</th>\n",
       "      <th>food_word_count</th>\n",
       "      <th>artist</th>\n",
       "      <th>food_word_value</th>\n",
       "      <th>food_word_total</th>\n",
       "      <th>song</th>\n",
       "      <th>release_date</th>\n",
       "      <th>release_year</th>\n",
       "      <th>release_month</th>\n",
       "      <th>food_category_description</th>\n",
       "    </tr>\n",
       "  </thead>\n",
       "  <tbody>\n",
       "    <tr>\n",
       "      <th>0</th>\n",
       "      <td>nut</td>\n",
       "      <td>1</td>\n",
       "      <td>frank ocean</td>\n",
       "      <td>1</td>\n",
       "      <td>1</td>\n",
       "      <td>she</td>\n",
       "      <td>2011-05-10</td>\n",
       "      <td>2011</td>\n",
       "      <td>5</td>\n",
       "      <td>Nut and Seed Products</td>\n",
       "    </tr>\n",
       "  </tbody>\n",
       "</table>\n",
       "</div>"
      ],
      "text/plain": [
       "  food_word food_word_count       artist  food_word_value food_word_total  \\\n",
       "0       nut               1  frank ocean                1               1   \n",
       "\n",
       "  song release_date  release_year  release_month food_category_description  \n",
       "0  she   2011-05-10          2011              5     Nut and Seed Products  "
      ]
     },
     "execution_count": 37,
     "metadata": {},
     "output_type": "execute_result"
    }
   ],
   "source": [
    "artist_food_words_df"
   ]
  },
  {
   "cell_type": "code",
   "execution_count": 973,
   "metadata": {
    "scrolled": true
   },
   "outputs": [],
   "source": [
    "artist_food_words_count = {}\n",
    "artist_food_words_perc_all_words = {}\n",
    "artist_food_words_perc_all_words_excl_sw = {}\n",
    "\n",
    "for artist in list(artist_lyric_words_count.keys()):\n",
    "    artist_food_words_count[artist] = sum(artist_food_words_df.loc[artist_food_words_df.artist == artist]['food_word_total'])\n",
    "    artist_food_words_perc_all_words[artist] = artist_food_words_count[artist] / artist_lyric_words_count[artist]\n",
    "    artist_food_words_perc_all_words_excl_sw[artist] = artist_food_words_count[artist] / artist_lyric_words_count_excl_stopwords[artist]"
   ]
  },
  {
   "cell_type": "code",
   "execution_count": 974,
   "metadata": {
    "scrolled": true
   },
   "outputs": [
    {
     "data": {
      "text/plain": [
       "{'a\\xa0tribe called quest': 0, 'q-tip': 2}"
      ]
     },
     "execution_count": 974,
     "metadata": {},
     "output_type": "execute_result"
    }
   ],
   "source": [
    "artist_food_words_count"
   ]
  },
  {
   "cell_type": "code",
   "execution_count": 975,
   "metadata": {
    "scrolled": true
   },
   "outputs": [],
   "source": [
    "artist_lyric_words_df = pd.DataFrame.from_dict(artist_lyric_words_count,orient='index')\n",
    "artist_lyric_words_df.columns = ['lyrics_word_count']\n",
    "artist_lyric_words_excl_sw_df = pd.DataFrame.from_dict(artist_lyric_words_count_excl_stopwords,orient='index')\n",
    "artist_lyric_words_excl_sw_df.columns = ['lyrics_word_count_excl_sw']\n",
    "artist_food_words_count_df = pd.DataFrame.from_dict(artist_food_words_count,orient='index')\n",
    "artist_food_words_count_df.columns = ['food_words_count']\n",
    "artist_food_words_perc_all_words_df = pd.DataFrame.from_dict(artist_food_words_perc_all_words,orient='index')\n",
    "artist_food_words_perc_all_words_df.columns = ['food_words_perc_all_lyric_words']\n",
    "artist_food_words_perc_all_words_excl_sw_df = pd.DataFrame.from_dict(artist_food_words_perc_all_words_excl_sw,orient='index')\n",
    "artist_food_words_perc_all_words_excl_sw_df.columns = ['food_words_perc_lyric_words_excl_sw']\n",
    "\n",
    "song_agg_stats = pd.concat([artist_lyric_words_df,\n",
    "                            artist_lyric_words_excl_sw_df,\n",
    "                            artist_food_words_count_df,\n",
    "                            artist_food_words_perc_all_words_df,\n",
    "                           artist_food_words_perc_all_words_excl_sw_df],axis=1)\n",
    "song_agg_stats = song_agg_stats.replace(np.nan,0)\n",
    "song_agg_stats = song_agg_stats.reset_index()\n",
    "song_agg_stats = song_agg_stats.rename(columns={'index':'artist'})\n",
    "song_agg_stats['song'] = song\n",
    "song_agg_stats['release_date'] = release_date_formatted\n",
    "song_agg_stats['release_year'] = release_year\n",
    "song_agg_stats['release_month'] = release_month\n",
    "\n"
   ]
  },
  {
   "cell_type": "code",
   "execution_count": 976,
   "metadata": {
    "scrolled": true
   },
   "outputs": [
    {
     "data": {
      "text/html": [
       "<div>\n",
       "<style scoped>\n",
       "    .dataframe tbody tr th:only-of-type {\n",
       "        vertical-align: middle;\n",
       "    }\n",
       "\n",
       "    .dataframe tbody tr th {\n",
       "        vertical-align: top;\n",
       "    }\n",
       "\n",
       "    .dataframe thead th {\n",
       "        text-align: right;\n",
       "    }\n",
       "</style>\n",
       "<table border=\"1\" class=\"dataframe\">\n",
       "  <thead>\n",
       "    <tr style=\"text-align: right;\">\n",
       "      <th></th>\n",
       "      <th>artist</th>\n",
       "      <th>lyrics_word_count</th>\n",
       "      <th>lyrics_word_count_excl_sw</th>\n",
       "      <th>food_words_count</th>\n",
       "      <th>food_words_perc_all_lyric_words</th>\n",
       "      <th>food_words_perc_lyric_words_excl_sw</th>\n",
       "      <th>song</th>\n",
       "      <th>release_date</th>\n",
       "      <th>release_year</th>\n",
       "      <th>release_month</th>\n",
       "    </tr>\n",
       "  </thead>\n",
       "  <tbody>\n",
       "    <tr>\n",
       "      <th>0</th>\n",
       "      <td>a tribe called quest</td>\n",
       "      <td>53</td>\n",
       "      <td>28</td>\n",
       "      <td>0</td>\n",
       "      <td>0.00000</td>\n",
       "      <td>0.000000</td>\n",
       "      <td>sucka nigga</td>\n",
       "      <td>1993-11-09</td>\n",
       "      <td>1993</td>\n",
       "      <td>11</td>\n",
       "    </tr>\n",
       "    <tr>\n",
       "      <th>1</th>\n",
       "      <td>q-tip</td>\n",
       "      <td>542</td>\n",
       "      <td>288</td>\n",
       "      <td>2</td>\n",
       "      <td>0.00369</td>\n",
       "      <td>0.006944</td>\n",
       "      <td>sucka nigga</td>\n",
       "      <td>1993-11-09</td>\n",
       "      <td>1993</td>\n",
       "      <td>11</td>\n",
       "    </tr>\n",
       "  </tbody>\n",
       "</table>\n",
       "</div>"
      ],
      "text/plain": [
       "                 artist  lyrics_word_count  lyrics_word_count_excl_sw  \\\n",
       "0  a tribe called quest                 53                         28   \n",
       "1                 q-tip                542                        288   \n",
       "\n",
       "   food_words_count  food_words_perc_all_lyric_words  \\\n",
       "0                 0                          0.00000   \n",
       "1                 2                          0.00369   \n",
       "\n",
       "   food_words_perc_lyric_words_excl_sw         song release_date  \\\n",
       "0                             0.000000  sucka nigga   1993-11-09   \n",
       "1                             0.006944  sucka nigga   1993-11-09   \n",
       "\n",
       "   release_year  release_month  \n",
       "0          1993             11  \n",
       "1          1993             11  "
      ]
     },
     "execution_count": 976,
     "metadata": {},
     "output_type": "execute_result"
    }
   ],
   "source": [
    "song_agg_stats"
   ]
  },
  {
   "cell_type": "code",
   "execution_count": 519,
   "metadata": {
    "scrolled": true
   },
   "outputs": [],
   "source": [
    "#artist_agg_stats_df = pd.DataFrame(columns=['artist',\n",
    "#                                          'song',\n",
    "#                                          'release_date',\n",
    "#                                          'release_year',\n",
    "#                                          'release_month',\n",
    "#                                          'lyrics_word_count',\n",
    "#                                          'lyrics_word_count_excl_sw',\n",
    "#                                         'food_words_count',\n",
    "#                                         'food_words_perc_all_words',\n",
    "#                                         'food_words_perc_excl_sw'])\n",
    "#artist_food_word_stats_df = pd.DataFrame(columns=['food_word',\n",
    "#                                               'food_word_count',\n",
    "#                                               'artist',\n",
    "#                                               'song',\n",
    "#                                               'release_date',\n",
    "#                                               'release_year',\n",
    "#                                               'release_month',\n",
    "#                                               'food_category_description'])"
   ]
  },
  {
   "cell_type": "code",
   "execution_count": 520,
   "metadata": {
    "scrolled": true
   },
   "outputs": [],
   "source": [
    "artist_agg_stats_df = pd.concat([artist_agg_stats_df,song_agg_stats_df],axis=0)\n",
    "artist_food_word_stats_df = pd.concat([artist_food_word_stats_df,song_food_word_stats_df],axis=0)"
   ]
  },
  {
   "cell_type": "code",
   "execution_count": 521,
   "metadata": {
    "scrolled": true
   },
   "outputs": [
    {
     "data": {
      "text/html": [
       "<div>\n",
       "<style scoped>\n",
       "    .dataframe tbody tr th:only-of-type {\n",
       "        vertical-align: middle;\n",
       "    }\n",
       "\n",
       "    .dataframe tbody tr th {\n",
       "        vertical-align: top;\n",
       "    }\n",
       "\n",
       "    .dataframe thead th {\n",
       "        text-align: right;\n",
       "    }\n",
       "</style>\n",
       "<table border=\"1\" class=\"dataframe\">\n",
       "  <thead>\n",
       "    <tr style=\"text-align: right;\">\n",
       "      <th></th>\n",
       "      <th>artist</th>\n",
       "      <th>song</th>\n",
       "      <th>release_date</th>\n",
       "      <th>release_year</th>\n",
       "      <th>release_month</th>\n",
       "      <th>lyrics_word_count</th>\n",
       "      <th>lyrics_word_count_excl_sw</th>\n",
       "      <th>food_words_count</th>\n",
       "      <th>food_words_perc_all_words</th>\n",
       "      <th>food_words_perc_excl_sw</th>\n",
       "    </tr>\n",
       "  </thead>\n",
       "  <tbody>\n",
       "    <tr>\n",
       "      <th>0</th>\n",
       "      <td>j. cole</td>\n",
       "      <td>for whom the bell tolls</td>\n",
       "      <td>2016-12-09</td>\n",
       "      <td>2016</td>\n",
       "      <td>12</td>\n",
       "      <td>180</td>\n",
       "      <td>99</td>\n",
       "      <td>0</td>\n",
       "      <td>0.000000</td>\n",
       "      <td>0.000000</td>\n",
       "    </tr>\n",
       "    <tr>\n",
       "      <th>0</th>\n",
       "      <td>j. cole</td>\n",
       "      <td>foldin clothes</td>\n",
       "      <td>2016-12-09</td>\n",
       "      <td>2016</td>\n",
       "      <td>12</td>\n",
       "      <td>553</td>\n",
       "      <td>295</td>\n",
       "      <td>9</td>\n",
       "      <td>0.016275</td>\n",
       "      <td>0.030508</td>\n",
       "    </tr>\n",
       "    <tr>\n",
       "      <th>0</th>\n",
       "      <td>j. cole</td>\n",
       "      <td>immortal</td>\n",
       "      <td>2016-12-09</td>\n",
       "      <td>2016</td>\n",
       "      <td>12</td>\n",
       "      <td>520</td>\n",
       "      <td>298</td>\n",
       "      <td>3</td>\n",
       "      <td>0.005769</td>\n",
       "      <td>0.010067</td>\n",
       "    </tr>\n",
       "    <tr>\n",
       "      <th>0</th>\n",
       "      <td>j. cole</td>\n",
       "      <td>deja vu</td>\n",
       "      <td>2016-12-09</td>\n",
       "      <td>2016</td>\n",
       "      <td>12</td>\n",
       "      <td>830</td>\n",
       "      <td>444</td>\n",
       "      <td>2</td>\n",
       "      <td>0.002410</td>\n",
       "      <td>0.004505</td>\n",
       "    </tr>\n",
       "    <tr>\n",
       "      <th>0</th>\n",
       "      <td>j. cole</td>\n",
       "      <td>ville mentality</td>\n",
       "      <td>2016-12-08</td>\n",
       "      <td>2016</td>\n",
       "      <td>12</td>\n",
       "      <td>337</td>\n",
       "      <td>177</td>\n",
       "      <td>0</td>\n",
       "      <td>0.000000</td>\n",
       "      <td>0.000000</td>\n",
       "    </tr>\n",
       "  </tbody>\n",
       "</table>\n",
       "</div>"
      ],
      "text/plain": [
       "    artist                     song release_date release_year release_month  \\\n",
       "0  j. cole  for whom the bell tolls   2016-12-09         2016            12   \n",
       "0  j. cole           foldin clothes   2016-12-09         2016            12   \n",
       "0  j. cole                 immortal   2016-12-09         2016            12   \n",
       "0  j. cole                  deja vu   2016-12-09         2016            12   \n",
       "0  j. cole          ville mentality   2016-12-08         2016            12   \n",
       "\n",
       "  lyrics_word_count lyrics_word_count_excl_sw food_words_count  \\\n",
       "0               180                        99                0   \n",
       "0               553                       295                9   \n",
       "0               520                       298                3   \n",
       "0               830                       444                2   \n",
       "0               337                       177                0   \n",
       "\n",
       "   food_words_perc_all_words  food_words_perc_excl_sw  \n",
       "0                   0.000000                 0.000000  \n",
       "0                   0.016275                 0.030508  \n",
       "0                   0.005769                 0.010067  \n",
       "0                   0.002410                 0.004505  \n",
       "0                   0.000000                 0.000000  "
      ]
     },
     "execution_count": 521,
     "metadata": {},
     "output_type": "execute_result"
    }
   ],
   "source": [
    "artist_agg_stats_df"
   ]
  },
  {
   "cell_type": "code",
   "execution_count": 522,
   "metadata": {
    "scrolled": true
   },
   "outputs": [
    {
     "data": {
      "text/html": [
       "<div>\n",
       "<style scoped>\n",
       "    .dataframe tbody tr th:only-of-type {\n",
       "        vertical-align: middle;\n",
       "    }\n",
       "\n",
       "    .dataframe tbody tr th {\n",
       "        vertical-align: top;\n",
       "    }\n",
       "\n",
       "    .dataframe thead th {\n",
       "        text-align: right;\n",
       "    }\n",
       "</style>\n",
       "<table border=\"1\" class=\"dataframe\">\n",
       "  <thead>\n",
       "    <tr style=\"text-align: right;\">\n",
       "      <th></th>\n",
       "      <th>food_word</th>\n",
       "      <th>food_word_count</th>\n",
       "      <th>artist</th>\n",
       "      <th>song</th>\n",
       "      <th>release_date</th>\n",
       "      <th>release_year</th>\n",
       "      <th>release_month</th>\n",
       "      <th>food_category_description</th>\n",
       "    </tr>\n",
       "  </thead>\n",
       "  <tbody>\n",
       "    <tr>\n",
       "      <th>0</th>\n",
       "      <td>breakfast</td>\n",
       "      <td>1</td>\n",
       "      <td>j. cole</td>\n",
       "      <td>foldin clothes</td>\n",
       "      <td>2016-12-09</td>\n",
       "      <td>2016</td>\n",
       "      <td>12</td>\n",
       "      <td>Baked Products</td>\n",
       "    </tr>\n",
       "    <tr>\n",
       "      <th>1</th>\n",
       "      <td>raisin</td>\n",
       "      <td>1</td>\n",
       "      <td>j. cole</td>\n",
       "      <td>foldin clothes</td>\n",
       "      <td>2016-12-09</td>\n",
       "      <td>2016</td>\n",
       "      <td>12</td>\n",
       "      <td>Baked Products</td>\n",
       "    </tr>\n",
       "    <tr>\n",
       "      <th>2</th>\n",
       "      <td>bran</td>\n",
       "      <td>1</td>\n",
       "      <td>j. cole</td>\n",
       "      <td>foldin clothes</td>\n",
       "      <td>2016-12-09</td>\n",
       "      <td>2016</td>\n",
       "      <td>12</td>\n",
       "      <td>NaN</td>\n",
       "    </tr>\n",
       "    <tr>\n",
       "      <th>3</th>\n",
       "      <td>banana</td>\n",
       "      <td>1</td>\n",
       "      <td>j. cole</td>\n",
       "      <td>foldin clothes</td>\n",
       "      <td>2016-12-09</td>\n",
       "      <td>2016</td>\n",
       "      <td>12</td>\n",
       "      <td>Fruits and Fruit Juices</td>\n",
       "    </tr>\n",
       "    <tr>\n",
       "      <th>4</th>\n",
       "      <td>almond</td>\n",
       "      <td>2</td>\n",
       "      <td>j. cole</td>\n",
       "      <td>foldin clothes</td>\n",
       "      <td>2016-12-09</td>\n",
       "      <td>2016</td>\n",
       "      <td>12</td>\n",
       "      <td>Nut and Seed Products</td>\n",
       "    </tr>\n",
       "    <tr>\n",
       "      <th>5</th>\n",
       "      <td>milk</td>\n",
       "      <td>2</td>\n",
       "      <td>j. cole</td>\n",
       "      <td>foldin clothes</td>\n",
       "      <td>2016-12-09</td>\n",
       "      <td>2016</td>\n",
       "      <td>12</td>\n",
       "      <td>Dairy and Egg Products</td>\n",
       "    </tr>\n",
       "    <tr>\n",
       "      <th>6</th>\n",
       "      <td>drinking</td>\n",
       "      <td>1</td>\n",
       "      <td>j. cole</td>\n",
       "      <td>foldin clothes</td>\n",
       "      <td>2016-12-09</td>\n",
       "      <td>2016</td>\n",
       "      <td>12</td>\n",
       "      <td>Beverages</td>\n",
       "    </tr>\n",
       "    <tr>\n",
       "      <th>7</th>\n",
       "      <td>raisin bran</td>\n",
       "      <td>1</td>\n",
       "      <td>j. cole</td>\n",
       "      <td>foldin clothes</td>\n",
       "      <td>2016-12-09</td>\n",
       "      <td>2016</td>\n",
       "      <td>12</td>\n",
       "      <td>NaN</td>\n",
       "    </tr>\n",
       "    <tr>\n",
       "      <th>8</th>\n",
       "      <td>almond milk</td>\n",
       "      <td>2</td>\n",
       "      <td>j. cole</td>\n",
       "      <td>foldin clothes</td>\n",
       "      <td>2016-12-09</td>\n",
       "      <td>2016</td>\n",
       "      <td>12</td>\n",
       "      <td>Beverages</td>\n",
       "    </tr>\n",
       "    <tr>\n",
       "      <th>0</th>\n",
       "      <td>cream</td>\n",
       "      <td>1</td>\n",
       "      <td>j. cole</td>\n",
       "      <td>immortal</td>\n",
       "      <td>2016-12-09</td>\n",
       "      <td>2016</td>\n",
       "      <td>12</td>\n",
       "      <td>Dairy and Egg Products</td>\n",
       "    </tr>\n",
       "    <tr>\n",
       "      <th>1</th>\n",
       "      <td>fruit</td>\n",
       "      <td>1</td>\n",
       "      <td>j. cole</td>\n",
       "      <td>immortal</td>\n",
       "      <td>2016-12-09</td>\n",
       "      <td>2016</td>\n",
       "      <td>12</td>\n",
       "      <td>Baby Foods</td>\n",
       "    </tr>\n",
       "    <tr>\n",
       "      <th>2</th>\n",
       "      <td>ripe</td>\n",
       "      <td>1</td>\n",
       "      <td>j. cole</td>\n",
       "      <td>immortal</td>\n",
       "      <td>2016-12-09</td>\n",
       "      <td>2016</td>\n",
       "      <td>12</td>\n",
       "      <td>Fruits and Fruit Juices</td>\n",
       "    </tr>\n",
       "    <tr>\n",
       "      <th>0</th>\n",
       "      <td>drink</td>\n",
       "      <td>2</td>\n",
       "      <td>j. cole</td>\n",
       "      <td>deja vu</td>\n",
       "      <td>2016-12-09</td>\n",
       "      <td>2016</td>\n",
       "      <td>12</td>\n",
       "      <td>NaN</td>\n",
       "    </tr>\n",
       "  </tbody>\n",
       "</table>\n",
       "</div>"
      ],
      "text/plain": [
       "     food_word food_word_count   artist            song release_date  \\\n",
       "0    breakfast               1  j. cole  foldin clothes   2016-12-09   \n",
       "1       raisin               1  j. cole  foldin clothes   2016-12-09   \n",
       "2         bran               1  j. cole  foldin clothes   2016-12-09   \n",
       "3       banana               1  j. cole  foldin clothes   2016-12-09   \n",
       "4       almond               2  j. cole  foldin clothes   2016-12-09   \n",
       "5         milk               2  j. cole  foldin clothes   2016-12-09   \n",
       "6     drinking               1  j. cole  foldin clothes   2016-12-09   \n",
       "7  raisin bran               1  j. cole  foldin clothes   2016-12-09   \n",
       "8  almond milk               2  j. cole  foldin clothes   2016-12-09   \n",
       "0        cream               1  j. cole        immortal   2016-12-09   \n",
       "1        fruit               1  j. cole        immortal   2016-12-09   \n",
       "2         ripe               1  j. cole        immortal   2016-12-09   \n",
       "0        drink               2  j. cole         deja vu   2016-12-09   \n",
       "\n",
       "  release_year release_month food_category_description  \n",
       "0         2016            12            Baked Products  \n",
       "1         2016            12            Baked Products  \n",
       "2         2016            12                       NaN  \n",
       "3         2016            12   Fruits and Fruit Juices  \n",
       "4         2016            12     Nut and Seed Products  \n",
       "5         2016            12    Dairy and Egg Products  \n",
       "6         2016            12                 Beverages  \n",
       "7         2016            12                       NaN  \n",
       "8         2016            12                 Beverages  \n",
       "0         2016            12    Dairy and Egg Products  \n",
       "1         2016            12                Baby Foods  \n",
       "2         2016            12   Fruits and Fruit Juices  \n",
       "0         2016            12                       NaN  "
      ]
     },
     "execution_count": 522,
     "metadata": {},
     "output_type": "execute_result"
    }
   ],
   "source": [
    "artist_food_word_stats_df"
   ]
  },
  {
   "cell_type": "code",
   "execution_count": null,
   "metadata": {
    "scrolled": true
   },
   "outputs": [],
   "source": []
  }
 ],
 "metadata": {
  "kernelspec": {
   "display_name": "Python 3",
   "language": "python",
   "name": "python3"
  },
  "language_info": {
   "codemirror_mode": {
    "name": "ipython",
    "version": 3
   },
   "file_extension": ".py",
   "mimetype": "text/x-python",
   "name": "python",
   "nbconvert_exporter": "python",
   "pygments_lexer": "ipython3",
   "version": "3.8.1"
  }
 },
 "nbformat": 4,
 "nbformat_minor": 4
}
