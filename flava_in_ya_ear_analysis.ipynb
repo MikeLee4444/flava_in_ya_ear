{
 "cells": [
  {
   "cell_type": "code",
   "execution_count": 5,
   "metadata": {},
   "outputs": [],
   "source": [
    "import nltk\n",
    "import re\n",
    "import string\n",
    "#import unicodedata\n",
    "import pandas as pd\n",
    "import numpy as np\n",
    "import datetime as dt\n",
    "import plotly\n",
    "import plotly.express as px\n",
    "import plotly.graph_objects as go\n",
    "from plotly.subplots import make_subplots\n",
    "import plotly.io as pio\n",
    "import psutil as ps\n",
    "#from plotly.offline import iplot, init_notebook_mode\n",
    "#init_notebook_mode(connected=True)\n",
    "from scipy import stats\n",
    "#import ipywidgets as widgets\n",
    "#from ipywidgets import interact, interact_manual\n",
    "from nltk.stem import WordNetLemmatizer \n",
    "#from nltk.corpus import stopwords\n",
    "#import urllib.request\n",
    "#import urllib.parse\n",
    "#import urllib.error\n",
    "#from bs4 import BeautifulSoup\n",
    "#import ssl\n",
    "#import json\n",
    "#import ast\n",
    "#import os\n",
    "#from urllib.request import Request, urlopen"
   ]
  },
  {
   "cell_type": "markdown",
   "metadata": {},
   "source": [
    "## Helper Functions"
   ]
  },
  {
   "cell_type": "code",
   "execution_count": 6,
   "metadata": {},
   "outputs": [],
   "source": [
    "def count_unique():\n",
    "    list_of_values = list(x)\n",
    "    set_of_values = set(list_of_values)\n",
    "    num_unique_values = len(set_of_values)\n",
    "    return num_unique_values"
   ]
  },
  {
   "cell_type": "code",
   "execution_count": 7,
   "metadata": {},
   "outputs": [],
   "source": [
    "def unique_values(series):\n",
    "    return str(set(list(series)))[1:-1]"
   ]
  },
  {
   "cell_type": "markdown",
   "metadata": {},
   "source": [
    "## Load Data from CSV"
   ]
  },
  {
   "cell_type": "code",
   "execution_count": 8,
   "metadata": {},
   "outputs": [],
   "source": [
    "food_word_details_df = pd.read_csv('food_words_detailed.csv')\n",
    "artist_regions_df = pd.read_csv('artist_regions.csv')"
   ]
  },
  {
   "cell_type": "code",
   "execution_count": 9,
   "metadata": {},
   "outputs": [],
   "source": [
    "artist_regions_df = artist_regions_df.replace(np.nan,'None')"
   ]
  },
  {
   "cell_type": "code",
   "execution_count": 10,
   "metadata": {},
   "outputs": [],
   "source": [
    "artist_food_word_stats_df = pd.read_csv('artist_food_word_stats.csv')"
   ]
  },
  {
   "cell_type": "code",
   "execution_count": 11,
   "metadata": {},
   "outputs": [],
   "source": [
    "food_word_columns = list(artist_food_word_stats_df.columns)"
   ]
  },
  {
   "cell_type": "code",
   "execution_count": 12,
   "metadata": {},
   "outputs": [],
   "source": [
    "artist_agg_stats_df = pd.read_csv('artist_agg_stats.csv')"
   ]
  },
  {
   "cell_type": "code",
   "execution_count": 13,
   "metadata": {},
   "outputs": [],
   "source": [
    "artist_agg_stats_columns = list(artist_agg_stats_df.columns)"
   ]
  },
  {
   "cell_type": "code",
   "execution_count": 14,
   "metadata": {},
   "outputs": [],
   "source": [
    "for file_num in range(2,25):\n",
    "    artist_food_words = pd.read_csv('artist_food_word_stats{0}.csv'.format(file_num))\n",
    "    artist_agg_stats = pd.read_csv('artist_agg_stats{0}.csv'.format(file_num))\n",
    "    \n",
    "    artist_food_word_stats_df = pd.concat([artist_food_word_stats_df,\n",
    "                                           artist_food_words],\n",
    "                                           axis=0,\n",
    "                                           ignore_index=True,\n",
    "                                         keys=food_word_columns)\n",
    "    \n",
    "    artist_agg_stats_df = pd.concat([artist_agg_stats_df,\n",
    "                                     artist_agg_stats],\n",
    "                                     axis=0,\n",
    "                                     ignore_index=True,\n",
    "                                   keys=artist_agg_stats_columns)\n",
    "    \n",
    "    "
   ]
  },
  {
   "cell_type": "markdown",
   "metadata": {},
   "source": [
    "## Clean/Enrich Artist/Food Data\n",
    "#### Create list of valid artists\n",
    "#### Replace ASCII characters from artists and songs with a space\n",
    "#### Delete punctuation characters\n",
    "#### Standardize artists (e.g. replace 'notorious big' with 'the notorious big')\n",
    "#### Standardize foods (e.g. replace 'creme' with 'cream')\n",
    "#### Drop rows with NaN values in the artist column\n",
    "#### Drop non-interesting food words\n",
    "#### Add region data to artists\n",
    "#### Add food labels to foods"
   ]
  },
  {
   "cell_type": "code",
   "execution_count": 15,
   "metadata": {},
   "outputs": [],
   "source": [
    "valid_artists = ['the notorious big','2pac','nicki minaj','eminem','kendrick lamar','dr dre','nas','j cole','drake','rihanna','post malone','qtip','phife dawg','kid cudi','lil wayne','kanye west','jayz','beyonce','travis scott','juice wrld','dababy','cardi b','meek mill','rick ross','lizzo','21 savage','xxxtentacion','chris brown','kodak black','childish gambino','a boogie wit da hoodie','young thug','swae lee','slim jxmmi','dj khaled','offset','takeoff','quavo','tyler the creator','future','blueface','nipsey hussle','megan thee stallion','lil uzi vert','6ix9ine','trippie redd','sheck wes','lil baby','youngboy never broke again','geazy','lil pump','logic','sza','gucci mane','yg','gunna','ty dolla sign','tyga','asap rocky','asap ferg','her','big sean','french montana','playboi carti','2 chainz','chance the rapper','kyle','yo gotti','machine gun kelly','lil yachty','desiigner','kevin gates','fetty wap','tory lanez','frank ocean','jeezy','dram','wiz khalifa','schoolboy q','the game','macklemore','trey songz','iggy azalea','rich homie quan','flo rida','wale','jidenna','ludacris','pharrell williams','tierra whack','santigold','smino','amine','ti','bobby shmurda','bob','snoop dogg','juicy j','chief keef','ace hood','action bronson','mac miller','tpain','waka flocka flame','lupe fiasco','nelly','50 cent','beastie boys','timbaland','tee grizzley','black thought','birdman','andre 3000','big boi','the dream','plies','soulja boy tell em','fabolous','jadakiss','akon','david banner','camron','juelz santana','jim jones','chamillionaire','project pat','dj paul','skepta','e40','chingy','joey badass','royce da 59','nate dogg','denzel curry','atmosphere','aesop rock','pusha t','dmx','tech n9ne','ghostface killah','busta rhymes','method man','warren g','missy elliott','run dmc','icet','ski mask the slump god','twista','rich brian','rakim','ol dirty bastard','big l','big pun','gang starr','geto boys','xzibit','mf doom','coolio','fat joe','tlc','redman','vince staples','syd','raekwon','rza','gza','inspectah deck','scarface','afroman','ll cool j','mc hammer','grandmaster melle mel','kurtis blow','kool moe d','grandmaster caz','slick rick','krsone','too short','big daddy kane','public enemy','kool g rap','lauryn hill','wyclef jean','common','danny brown','lil kim','noname','solange','princess nokia','lil dicky','roddy rich','immortal technique','jay rock','talib kweli','doja cat','lil jon','queen latifah','ja rule','anderson paak','diddy','heavy d','doug e fresh','eve','rich the kid','mase','mac dre','remy ma','del the funky homosapien','mia','trina','andre nickatina','will smith','jaden smith','willow smith','lil peep','kevin abstract','matt champion','merlyn wood','dom mclennon','earl sweatshirt','casey veggies','mobb deep','de la soul','saltnpepa','bun b','pimp c','digable planets','cypress hill','jurassic 5','lloyd banks','currensy','ice cube','granata','kelis','yasiin bey','mike jones']"
   ]
  },
  {
   "cell_type": "code",
   "execution_count": 16,
   "metadata": {},
   "outputs": [],
   "source": [
    "artist_food_word_stats_df['artist_clean'] = artist_food_word_stats_df['artist'].apply(lambda x: re.sub(r'[^\\x00-\\x7f]',r' ', str(x)))\n",
    "artist_food_word_stats_df['artist_clean'] = artist_food_word_stats_df['artist_clean'].apply(lambda x: re.sub(r'\\$',r's', str(x)))\n",
    "artist_food_word_stats_df['artist_clean'] = artist_food_word_stats_df['artist_clean'].apply(lambda x: str(x).translate(str.maketrans('', '', string.punctuation)))\n",
    "artist_food_word_stats_df['artist_clean'] = artist_food_word_stats_df['artist_clean'].apply(lambda x: 'the notorious big' if 'notorious big' in str(x) else str(x))\n",
    "artist_food_word_stats_df['artist_clean'] = artist_food_word_stats_df['artist_clean'].apply(lambda x: 'the notorious big' if 'biggie smalls' in str(x) else str(x))\n",
    "artist_food_word_stats_df['artist_clean'] = artist_food_word_stats_df['artist_clean'].apply(lambda x: '2pac' if 'tupac' in str(x) else str(x))\n",
    "artist_food_word_stats_df['artist_clean'] = artist_food_word_stats_df['artist_clean'].apply(lambda x: 'soulja boy tell em' if 'soulja boy' in str(x) else str(x))\n",
    "artist_food_word_stats_df['artist_clean'] = artist_food_word_stats_df['artist_clean'].apply(lambda x: 'youngboy never broke again' if 'nba youngboy' in str(x) else str(x))\n",
    "artist_food_word_stats_df['artist_clean'] = artist_food_word_stats_df['artist_clean'].apply(lambda x: 'the game' if str(x) == 'the game' else str(x))\n",
    "artist_food_word_stats_df['artist_clean'] = artist_food_word_stats_df['artist_clean'].apply(lambda x: 'macklemore' if 'macklemore' in str(x) else str(x))\n",
    "artist_food_word_stats_df['artist_clean'] = artist_food_word_stats_df['artist_clean'].apply(lambda x: 'pharrell williams' if 'pharrell' in str(x) else str(x))\n",
    "artist_food_word_stats_df['artist_clean'] = artist_food_word_stats_df['artist_clean'].apply(lambda x: 'snoop dogg' if 'snoop dogg' in str(x) else str(x))\n",
    "artist_food_word_stats_df['artist_clean'] = artist_food_word_stats_df['artist_clean'].apply(lambda x: 'snoop dogg' if 'snoop lion' in str(x) else str(x))\n",
    "artist_food_word_stats_df['artist_clean'] = artist_food_word_stats_df['artist_clean'].apply(lambda x: 'run dmc' if str(x) == 'run' else str(x))\n",
    "artist_food_word_stats_df['artist_clean'] = artist_food_word_stats_df['artist_clean'].apply(lambda x: 'run dmc' if str(x) == 'dmc' else str(x))\n",
    "artist_food_word_stats_df['artist_clean'] = artist_food_word_stats_df['artist_clean'].apply(lambda x: 'run dmc' if str(x) == 'rundmc' else str(x))\n",
    "artist_food_word_stats_df['artist_clean'] = artist_food_word_stats_df['artist_clean'].apply(lambda x: 'grandmaster melle mel' if 'melle mel' in str(x) else str(x))\n",
    "artist_food_word_stats_df['artist_clean'] = artist_food_word_stats_df['artist_clean'].apply(lambda x: 'public enemy' if str(x) == 'chuck d' else str(x))\n",
    "artist_food_word_stats_df['artist_clean'] = artist_food_word_stats_df['artist_clean'].apply(lambda x: 'public enemy' if str(x) == 'flava flav' else str(x))\n",
    "artist_food_word_stats_df['artist_clean'] = artist_food_word_stats_df['artist_clean'].apply(lambda x: 'diddy' if 'diddy' in str(x) else str(x))\n",
    "artist_food_word_stats_df['artist_clean'] = artist_food_word_stats_df['artist_clean'].apply(lambda x: 'diddy' if str(x) == 'puff daddy' else str(x))\n",
    "artist_food_word_stats_df['artist_clean'] = artist_food_word_stats_df['artist_clean'].apply(lambda x: 'doug e fresh' if 'doug e fresh' in str(x) else str(x))\n",
    "artist_food_word_stats_df['artist_clean'] = artist_food_word_stats_df['artist_clean'].apply(lambda x: 'de la soul' if 'posdnuos' in str(x) else str(x))\n",
    "artist_food_word_stats_df['artist_clean'] = artist_food_word_stats_df['artist_clean'].apply(lambda x: 'de la soul' if 'maseo' in str(x) else str(x))\n",
    "artist_food_word_stats_df['artist_clean'] = artist_food_word_stats_df['artist_clean'].apply(lambda x: 'de la soul' if 'trugoy' in str(x) else str(x))\n",
    "artist_food_word_stats_df['artist_clean'] = artist_food_word_stats_df['artist_clean'].apply(lambda x: 'saltnpepa' if str(x) == 'salt' else str(x))\n",
    "artist_food_word_stats_df['artist_clean'] = artist_food_word_stats_df['artist_clean'].apply(lambda x: 'saltnpepa' if str(x) == 'pepa' else str(x))\n",
    "artist_food_word_stats_df['artist_clean'] = artist_food_word_stats_df['artist_clean'].apply(lambda x: 'digable planets' if str(x) == 'ladybug' else str(x))\n",
    "artist_food_word_stats_df['artist_clean'] = artist_food_word_stats_df['artist_clean'].apply(lambda x: 'digable planets' if str(x) == 'doodlebug' else str(x))\n",
    "artist_food_word_stats_df['artist_clean'] = artist_food_word_stats_df['artist_clean'].apply(lambda x: 'digable planets' if str(x) == 'butterfly' else str(x))\n",
    "artist_food_word_stats_df['artist_clean'] = artist_food_word_stats_df['artist_clean'].apply(lambda x: 'cypress hill' if str(x) == 'breal' else str(x))\n",
    "artist_food_word_stats_df['artist_clean'] = artist_food_word_stats_df['artist_clean'].apply(lambda x: 'cypress hill' if str(x) == 'dj muggs' else str(x))\n",
    "artist_food_word_stats_df['artist_clean'] = artist_food_word_stats_df['artist_clean'].apply(lambda x: 'cypress hill' if str(x) == 'sen dog' else str(x))\n",
    "artist_food_word_stats_df['artist_clean'] = artist_food_word_stats_df['artist_clean'].apply(lambda x: 'jurassic 5' if str(x) == 'chali 2na' else str(x))\n",
    "artist_food_word_stats_df['artist_clean'] = artist_food_word_stats_df['artist_clean'].apply(lambda x: 'jurassic 5' if str(x) == 'akil' else str(x))\n",
    "artist_food_word_stats_df['artist_clean'] = artist_food_word_stats_df['artist_clean'].apply(lambda x: 'jurassic 5' if str(x) == 'zaakir' else str(x))\n",
    "artist_food_word_stats_df['artist_clean'] = artist_food_word_stats_df['artist_clean'].apply(lambda x: 'jurassic 5' if str(x) == 'marc 7seven' else str(x))\n",
    "artist_food_word_stats_df['artist_clean'] = artist_food_word_stats_df['artist_clean'].apply(lambda x: 'missy elliott' if str(x) == 'missy elliot' else str(x))\n",
    "artist_food_word_stats_df['artist_clean'] = artist_food_word_stats_df['artist_clean'].apply(lambda x: 'syd' if str(x) == 'the internet' else str(x))\n",
    "artist_food_word_stats_df['artist_clean'] = artist_food_word_stats_df['artist_clean'].apply(lambda x: 'mc hammer' if str(x) == 'hammer' else str(x))\n",
    "artist_food_word_stats_df['artist_clean'] = artist_food_word_stats_df['artist_clean'].apply(lambda x: 'atmosphere' if str(x) == 'slug' else str(x))\n",
    "artist_food_word_stats_df['artist_clean'] = artist_food_word_stats_df['artist_clean'].apply(lambda x: 'yasiin bey' if str(x) == 'mos def' else str(x))\n",
    "artist_food_word_stats_df['food_word'] = artist_food_word_stats_df['food_word'].apply(lambda x: 'm&m' if str(x) == 'mm' else str(x))\n",
    "artist_food_word_stats_df['food_word'] = artist_food_word_stats_df['food_word'].apply(lambda x: 'cream' if str(x) == 'creme' else str(x))\n",
    "artist_food_word_stats_df['food_word'] = artist_food_word_stats_df['food_word'].apply(lambda x: 'bubble gum' if str(x) == 'bubblegum' else str(x))\n",
    "artist_food_word_stats_df['food_word'] = artist_food_word_stats_df['food_word'].apply(lambda x: 'barbeque' if str(x) == 'barbecue' else str(x))\n",
    "artist_food_word_stats_df['food_word'] = artist_food_word_stats_df['food_word'].apply(lambda x: 'barbeque' if str(x) == 'bbq' else str(x))\n",
    "artist_food_word_stats_df['food_word'] = artist_food_word_stats_df['food_word'].apply(lambda x: 'cheesecake' if str(x) == 'cheese cake' else str(x))\n",
    "artist_food_word_stats_df['food_word'] = artist_food_word_stats_df['food_word'].apply(lambda x: 'donut' if str(x) == 'doughnut' else str(x))\n",
    "artist_food_word_stats_df['valid_artist'] = artist_food_word_stats_df['artist_clean'].apply(lambda x: x in valid_artists)\n",
    "artist_food_word_stats_df = artist_food_word_stats_df.loc[artist_food_word_stats_df.valid_artist == True]\n",
    "artist_food_word_stats_df = artist_food_word_stats_df.dropna(subset=['artist_clean'])\n",
    "artist_agg_stats_df['artist_clean'] = artist_agg_stats_df['artist'].apply(lambda x: re.sub(r'[^\\x00-\\x7f]',r' ', str(x)))\n",
    "artist_agg_stats_df['artist_clean'] = artist_agg_stats_df['artist_clean'].apply(lambda x: re.sub(r'\\$',r's', str(x)))\n",
    "artist_agg_stats_df['artist_clean'] = artist_agg_stats_df['artist_clean'].apply(lambda x: str(x).translate(str.maketrans('', '', string.punctuation)))\n",
    "artist_agg_stats_df['artist_clean'] = artist_agg_stats_df['artist_clean'].apply(lambda x: 'the notorious big' if 'notorious big' in str(x) else str(x))\n",
    "artist_agg_stats_df['artist_clean'] = artist_agg_stats_df['artist_clean'].apply(lambda x: 'the notorious big' if 'biggie smalls' in str(x) else str(x))\n",
    "artist_agg_stats_df['artist_clean'] = artist_agg_stats_df['artist_clean'].apply(lambda x: '2pac' if 'tupac' in str(x) else str(x))\n",
    "artist_agg_stats_df['artist_clean'] = artist_agg_stats_df['artist_clean'].apply(lambda x: 'soulja boy tell em' if 'soulja boy' in str(x) else str(x))\n",
    "artist_agg_stats_df['artist_clean'] = artist_agg_stats_df['artist_clean'].apply(lambda x: 'youngboy never broke again' if 'nba youngboy' in str(x) else str(x))\n",
    "artist_agg_stats_df['artist_clean'] = artist_agg_stats_df['artist_clean'].apply(lambda x: 'the game' if str(x) == 'game' else str(x))\n",
    "artist_agg_stats_df['artist_clean'] = artist_agg_stats_df['artist_clean'].apply(lambda x: 'macklemore' if 'macklemore' in str(x) else str(x))\n",
    "artist_agg_stats_df['artist_clean'] = artist_agg_stats_df['artist_clean'].apply(lambda x: 'pharrell williams' if 'pharrell' in str(x) else str(x))\n",
    "artist_agg_stats_df['artist_clean'] = artist_agg_stats_df['artist_clean'].apply(lambda x: 'snoop dogg' if 'snoop dogg' in str(x) else str(x))\n",
    "artist_agg_stats_df['artist_clean'] = artist_agg_stats_df['artist_clean'].apply(lambda x: 'snoop dogg' if 'snoop lion' in str(x) else str(x))\n",
    "artist_agg_stats_df['artist_clean'] = artist_agg_stats_df['artist_clean'].apply(lambda x: 'run dmc' if str(x) == 'run' else str(x))\n",
    "artist_agg_stats_df['artist_clean'] = artist_agg_stats_df['artist_clean'].apply(lambda x: 'run dmc' if str(x) == 'dmc' else str(x))\n",
    "artist_agg_stats_df['artist_clean'] = artist_agg_stats_df['artist_clean'].apply(lambda x: 'run dmc' if str(x) == 'rundmc' else str(x))\n",
    "artist_agg_stats_df['artist_clean'] = artist_agg_stats_df['artist_clean'].apply(lambda x: 'grandmaster melle mel' if 'melle mel' in str(x) else str(x))\n",
    "artist_agg_stats_df['artist_clean'] = artist_agg_stats_df['artist_clean'].apply(lambda x: 'public enemy' if str(x) == 'chuck d' else str(x))\n",
    "artist_agg_stats_df['artist_clean'] = artist_agg_stats_df['artist_clean'].apply(lambda x: 'public enemy' if str(x) == 'flava flav' else str(x))\n",
    "artist_agg_stats_df['artist_clean'] = artist_agg_stats_df['artist_clean'].apply(lambda x: 'diddy' if 'diddy' in str(x) else str(x))\n",
    "artist_agg_stats_df['artist_clean'] = artist_agg_stats_df['artist_clean'].apply(lambda x: 'diddy' if str(x) == 'puff daddy' else str(x))\n",
    "artist_agg_stats_df['artist_clean'] = artist_agg_stats_df['artist_clean'].apply(lambda x: 'doug e fresh' if 'doug e fresh' in str(x) else str(x))\n",
    "artist_agg_stats_df['artist_clean'] = artist_agg_stats_df['artist_clean'].apply(lambda x: 'de la soul' if 'posdnuos' in str(x) else str(x))\n",
    "artist_agg_stats_df['artist_clean'] = artist_agg_stats_df['artist_clean'].apply(lambda x: 'de la soul' if 'trugoy' in str(x) else str(x))\n",
    "artist_agg_stats_df['artist_clean'] = artist_agg_stats_df['artist_clean'].apply(lambda x: 'de la soul' if 'maseo' in str(x) else str(x))\n",
    "artist_agg_stats_df['artist_clean'] = artist_agg_stats_df['artist_clean'].apply(lambda x: 'saltnpepa' if str(x) == 'salt' else str(x))\n",
    "artist_agg_stats_df['artist_clean'] = artist_agg_stats_df['artist_clean'].apply(lambda x: 'saltnpepa' if str(x) == 'pepa' else str(x))\n",
    "artist_agg_stats_df['artist_clean'] = artist_agg_stats_df['artist_clean'].apply(lambda x: 'digable planets' if str(x) == 'ladybug' else str(x))\n",
    "artist_agg_stats_df['artist_clean'] = artist_agg_stats_df['artist_clean'].apply(lambda x: 'digable planets' if str(x) == 'doodlebug' else str(x))\n",
    "artist_agg_stats_df['artist_clean'] = artist_agg_stats_df['artist_clean'].apply(lambda x: 'digable planets' if str(x) == 'butterfly' else str(x))\n",
    "artist_agg_stats_df['artist_clean'] = artist_agg_stats_df['artist_clean'].apply(lambda x: 'cypress hill' if str(x) == 'sen dog' else str(x))\n",
    "artist_agg_stats_df['artist_clean'] = artist_agg_stats_df['artist_clean'].apply(lambda x: 'cypress hill' if str(x) == 'breal' else str(x))\n",
    "artist_agg_stats_df['artist_clean'] = artist_agg_stats_df['artist_clean'].apply(lambda x: 'cypress hill' if str(x) == 'dj muggs' else str(x))\n",
    "artist_agg_stats_df['artist_clean'] = artist_agg_stats_df['artist_clean'].apply(lambda x: 'jurassic 5' if str(x) == 'chali 2na' else str(x))\n",
    "artist_agg_stats_df['artist_clean'] = artist_agg_stats_df['artist_clean'].apply(lambda x: 'jurassic 5' if str(x) == 'akil' else str(x))\n",
    "artist_agg_stats_df['artist_clean'] = artist_agg_stats_df['artist_clean'].apply(lambda x: 'jurassic 5' if str(x) == 'zaakir' else str(x))\n",
    "artist_agg_stats_df['artist_clean'] = artist_agg_stats_df['artist_clean'].apply(lambda x: 'jurassic 5' if str(x) == 'marc 7even' else str(x))\n",
    "artist_agg_stats_df['artist_clean'] = artist_agg_stats_df['artist_clean'].apply(lambda x: 'missy elliot' if str(x) == 'missy elliott' else str(x))\n",
    "artist_agg_stats_df['artist_clean'] = artist_agg_stats_df['artist_clean'].apply(lambda x: 'syd' if str(x) == 'the internet' else str(x))\n",
    "artist_agg_stats_df['artist_clean'] = artist_agg_stats_df['artist_clean'].apply(lambda x: 'mc hammer' if str(x) == 'hammer' else str(x))\n",
    "artist_agg_stats_df['artist_clean'] = artist_agg_stats_df['artist_clean'].apply(lambda x: 'atmosphere' if str(x) == 'slug' else str(x))\n",
    "artist_agg_stats_df['artist_clean'] = artist_agg_stats_df['artist_clean'].apply(lambda x: 'yasiin bey' if str(x) == 'mos def' else str(x))\n",
    "artist_agg_stats_df = artist_agg_stats_df.dropna(subset=['artist_clean'])\n",
    "artist_agg_stats_df['valid_artist'] = artist_agg_stats_df['artist_clean'].apply(lambda x: x in valid_artists)\n",
    "artist_agg_stats_df = artist_agg_stats_df.loc[artist_agg_stats_df.valid_artist == True]"
   ]
  },
  {
   "cell_type": "code",
   "execution_count": 17,
   "metadata": {},
   "outputs": [],
   "source": [
    "## Drop duplicate songs from the food words and aggregated datasets\n",
    "artist_food_word_stats_df = artist_food_word_stats_df.sort_values(by=['artist_clean',\n",
    "                                                                      'song',\n",
    "                                                                      'release_year']).drop_duplicates(['artist_clean',\n",
    "                                                                                                       'song',\n",
    "                                                                                                       'food_word'],keep='last')\n",
    "artist_agg_stats_df = artist_agg_stats_df.sort_values(by=['artist_clean',\n",
    "                                                          'song',\n",
    "                                                          'release_year']).drop_duplicates(['artist_clean',\n",
    "                                                                                            'song'],keep='last')\n"
   ]
  },
  {
   "cell_type": "code",
   "execution_count": 18,
   "metadata": {},
   "outputs": [],
   "source": [
    "## For the artist food words df...\n",
    "## Ignore non-interesting food words\n",
    "food_words_to_ignore_list = ['drink', 'drinking', 'rose', 'cooking', 'pit', 'food', 'restaurant', 'boost', 'herbal', 'vegan', 'vegetarian', 'pan','flavor','iced','meal','roasting','stewed']\n",
    "artist_food_word_stats_df['ignore_food_word'] = artist_food_word_stats_df['food_word'].apply(lambda x: x in food_words_to_ignore_list)\n",
    "artist_food_word_stats_df = artist_food_word_stats_df.loc[artist_food_word_stats_df.ignore_food_word == False]\n",
    "## Add food labels\n",
    "artist_food_word_stats_df = pd.merge(artist_food_word_stats_df,food_word_details_df,left_on='food_word',right_on='food_description',how='left')\n",
    "artist_food_word_stats_df = artist_food_word_stats_df.drop(columns=['food_description','food_description_word_length','food_words_included','food_word_net_effect_value'],axis=1)\n",
    "## Add artist regions\n",
    "artist_food_word_stats_df = pd.merge(artist_food_word_stats_df,artist_regions_df,left_on='artist_clean',right_on='artist',how='left')\n",
    "artist_food_word_stats_df = artist_food_word_stats_df.rename(columns={'artist_x':'artist'})\n",
    "artist_food_word_stats_df = artist_food_word_stats_df.drop(labels='artist_y',axis=1)"
   ]
  },
  {
   "cell_type": "code",
   "execution_count": 19,
   "metadata": {},
   "outputs": [],
   "source": [
    "## For the artist aggregated df...\n",
    "## Add artist regions\n",
    "artist_agg_stats_df = pd.merge(artist_agg_stats_df,artist_regions_df,left_on='artist_clean',right_on='artist',how='left')\n",
    "artist_agg_stats_df = artist_agg_stats_df.rename(columns={'artist_x':'artist'})\n",
    "artist_agg_stats_df = artist_agg_stats_df.drop(labels='artist_y',axis=1)\n"
   ]
  },
  {
   "cell_type": "markdown",
   "metadata": {},
   "source": [
    "# Top Food Words"
   ]
  },
  {
   "cell_type": "code",
   "execution_count": 20,
   "metadata": {},
   "outputs": [],
   "source": [
    "top_food_words_df = artist_food_word_stats_df.groupby('food_word')[['food_word_count','artist_clean']].agg({'food_word_count':sum,'artist_clean':pd.Series.nunique})\n",
    "top_food_words_df = top_food_words_df.reset_index()\n",
    "top_food_words_df.columns = ['food_word','sum_of_food_word_count','count_of_unique_artists']"
   ]
  },
  {
   "cell_type": "code",
   "execution_count": 21,
   "metadata": {},
   "outputs": [],
   "source": [
    "## Sort by frequency of food word or count of distinct artists\n",
    "top_food_words_df = top_food_words_df.sort_values(by='sum_of_food_word_count',ascending=False)\n",
    "## Top X food words based on metric chosen above\n",
    "top_food_words_plot_df = top_food_words_df[:25]"
   ]
  },
  {
   "cell_type": "code",
   "execution_count": 25,
   "metadata": {},
   "outputs": [
    {
     "data": {
      "image/png": "[encoded data removed]"
     },
     "metadata": {},
     "output_type": "display_data"
    }
   ],
   "source": [
    "# Create figure with secondary y-axis\n",
    "fig = make_subplots(specs=[[{\"secondary_y\": True}]])\n",
    "\n",
    "# Add traces\n",
    "fig.add_trace(\n",
    "    go.Bar(x=top_food_words_plot_df['food_word'],\n",
    "               y=top_food_words_plot_df['sum_of_food_word_count'],\n",
    "               name=\"Frequently Used\"),\n",
    "    secondary_y=False,\n",
    ")\n",
    "\n",
    "fig.add_trace(\n",
    "    go.Scatter(x=top_food_words_plot_df['food_word'],\n",
    "               y=top_food_words_plot_df['count_of_unique_artists'],\n",
    "               name=\"Widely Used\"),\n",
    "    secondary_y=True,\n",
    ")\n",
    "\n",
    "# Add figure title\n",
    "fig.update_layout(\n",
    "    title={\n",
    "        'text': \"Most Frequently Used vs. Most Widely Used Food Words in Hip Hop\",\n",
    "        'y':0.94,\n",
    "        'x':0.5,\n",
    "        'xanchor': 'center',\n",
    "        'yanchor': 'top'}\n",
    ")\n",
    "\n",
    "# Set x-axis title\n",
    "fig.update_xaxes(title_text=\"Food Word\")\n",
    "\n",
    "# Set y-axes titles\n",
    "fig.update_yaxes(title_text=\"Count of Food Word Occurences\", secondary_y=False)\n",
    "fig.update_yaxes(title_font=dict(size=12))\n",
    "fig.update_yaxes(title_text=\"Count of Distinct Artist Who Have Used Food Word\", secondary_y=True)\n",
    "fig.update_yaxes(range=[0,250], secondary_y=True)\n",
    "fig.update_layout(legend=dict(\n",
    "    orientation=\"h\",\n",
    "    yanchor=\"bottom\",\n",
    "    y=1.02,\n",
    "    xanchor=\"right\",\n",
    "    x=0.6\n",
    "))\n",
    "\n",
    "fig.show(renderer=\"png\")\n",
    "#iplot(fig)\n",
    "#pio.write_image(fig, 'fig1.png')\n",
    "#pio.renderers\n",
    "#pio.write_html(fig, file='figure.html', auto_open=True)"
   ]
  },
  {
   "cell_type": "markdown",
   "metadata": {},
   "source": [
    "# Top Plant-Based Food Words"
   ]
  },
  {
   "cell_type": "code",
   "execution_count": 26,
   "metadata": {},
   "outputs": [],
   "source": [
    "top_plant_based_food_words_df = artist_food_word_stats_df.loc[artist_food_word_stats_df.plant_based == 1].groupby('food_word')[['food_word_count','artist_clean']].agg({'food_word_count':sum,'artist_clean':pd.Series.nunique})\n",
    "top_plant_based_food_words_df = top_plant_based_food_words_df.reset_index()\n",
    "top_plant_based_food_words_df.columns = ['food_word','sum_of_food_word_count','count_of_unique_artists']"
   ]
  },
  {
   "cell_type": "code",
   "execution_count": 27,
   "metadata": {},
   "outputs": [],
   "source": [
    "## Sort by frequency of food word or count of distinct artists\n",
    "top_plant_based_food_words_df = top_plant_based_food_words_df.sort_values(by='sum_of_food_word_count',ascending=False)\n",
    "## Top X food words based on metric chosen above\n",
    "top_plant_based_food_words_plot_df = top_plant_based_food_words_df[:25]"
   ]
  },
  {
   "cell_type": "code",
   "execution_count": 31,
   "metadata": {},
   "outputs": [
    {
     "data": {
      "image/png": "[encoded data removed]"
     },
     "metadata": {},
     "output_type": "display_data"
    }
   ],
   "source": [
    "# Create figure with secondary y-axis\n",
    "fig = make_subplots(specs=[[{\"secondary_y\": True}]])\n",
    "\n",
    "# Add traces\n",
    "fig.add_trace(\n",
    "    go.Bar(x=top_plant_based_food_words_plot_df['food_word'],\n",
    "               y=top_plant_based_food_words_plot_df['sum_of_food_word_count'],\n",
    "               name=\"Frequently Used\"),\n",
    "    secondary_y=False,\n",
    ")\n",
    "\n",
    "fig.add_trace(\n",
    "    go.Scatter(x=top_plant_based_food_words_plot_df['food_word'],\n",
    "               y=top_plant_based_food_words_plot_df['count_of_unique_artists'],\n",
    "               name=\"Widely Used\"),\n",
    "    secondary_y=True,\n",
    ")\n",
    "\n",
    "# Add figure title\n",
    "fig.update_layout(\n",
    "    title={\n",
    "        'text': \"Most Frequently Used vs. Most Widely Used Plant-Based Food Words in Hip Hop\",\n",
    "        'y':0.94,\n",
    "        'x':0.5,\n",
    "        'xanchor': 'center',\n",
    "        'yanchor': 'top'}\n",
    ")\n",
    "\n",
    "# Set x-axis title\n",
    "fig.update_xaxes(title_text=\"Food Word\")\n",
    "\n",
    "# Set y-axes titles\n",
    "fig.update_yaxes(title_text=\"Count of Food Word Occurences\", secondary_y=False)\n",
    "fig.update_yaxes(title_font=dict(size=12))\n",
    "fig.update_yaxes(title_text=\"Count of Distinct Artist Who Have Used Food Word\", secondary_y=True)\n",
    "fig.update_yaxes(range=[0,250], secondary_y=True)\n",
    "fig.update_layout(legend=dict(\n",
    "    orientation=\"h\",\n",
    "    yanchor=\"bottom\",\n",
    "    y=1.02,\n",
    "    xanchor=\"right\",\n",
    "    x=0.6\n",
    "))\n",
    "\n",
    "fig.show(renderer=\"png\")\n",
    "#pio.write_html(fig, file='figure.html', auto_open=True)"
   ]
  },
  {
   "cell_type": "markdown",
   "metadata": {},
   "source": [
    "# Top Meat Food Words"
   ]
  },
  {
   "cell_type": "code",
   "execution_count": 43,
   "metadata": {},
   "outputs": [],
   "source": [
    "top_meat_food_words_df = artist_food_word_stats_df.loc[artist_food_word_stats_df.meat == 1].groupby('food_word')[['food_word_count','artist_clean']].agg({'food_word_count':sum,'artist_clean':pd.Series.nunique})\n",
    "top_meat_food_words_df = top_meat_food_words_df.reset_index()\n",
    "top_meat_food_words_df.columns = ['food_word','sum_of_food_word_count','count_of_unique_artists']"
   ]
  },
  {
   "cell_type": "code",
   "execution_count": 44,
   "metadata": {},
   "outputs": [],
   "source": [
    "## Sort by frequency of food word or count of distinct artists\n",
    "top_meat_food_words_df = top_meat_food_words_df.sort_values(by='sum_of_food_word_count',ascending=False)\n",
    "## Top X food words based on metric chosen above\n",
    "top_meat_food_words_plot_df = top_meat_food_words_df[:25]"
   ]
  },
  {
   "cell_type": "code",
   "execution_count": 45,
   "metadata": {},
   "outputs": [
    {
     "data": {
      "application/vnd.plotly.v1+json": {
       "config": {
        "plotlyServerURL": "https://plot.ly"
       },
       "data": [
        {
         "name": "Frequently Used",
         "type": "bar",
         "x": [
          "beef",
          "chicken",
          "fish",
          "meat",
          "lamb",
          "goose",
          "steak",
          "goat",
          "ham",
          "rabbit",
          "lobster",
          "shrimp",
          "rib",
          "crab",
          "burger",
          "bacon",
          "pork",
          "turkey",
          "lox",
          "sushi",
          "barbeque",
          "roast",
          "snail",
          "rump",
          "ostrich"
         ],
         "xaxis": "x",
         "y": [
          4080,
          2559,
          1720,
          896,
          887,
          830,
          798,
          639,
          620,
          520,
          461,
          445,
          420,
          412,
          321,
          316,
          285,
          255,
          219,
          213,
          200,
          168,
          143,
          143,
          132
         ],
         "yaxis": "y"
        },
        {
         "name": "Widely Used",
         "type": "scatter",
         "x": [
          "beef",
          "chicken",
          "fish",
          "meat",
          "lamb",
          "goose",
          "steak",
          "goat",
          "ham",
          "rabbit",
          "lobster",
          "shrimp",
          "rib",
          "crab",
          "burger",
          "bacon",
          "pork",
          "turkey",
          "lox",
          "sushi",
          "barbeque",
          "roast",
          "snail",
          "rump",
          "ostrich"
         ],
         "xaxis": "x",
         "y": [
          205,
          202,
          190,
          166,
          133,
          157,
          165,
          114,
          129,
          133,
          124,
          122,
          126,
          112,
          109,
          122,
          101,
          98,
          42,
          89,
          89,
          74,
          61,
          58,
          59
         ],
         "yaxis": "y2"
        }
       ],
       "layout": {
        "legend": {
         "orientation": "h",
         "x": 0.6,
         "xanchor": "right",
         "y": 1.02,
         "yanchor": "bottom"
        },
        "template": {
         "data": {
          "bar": [
           {
            "error_x": {
             "color": "#2a3f5f"
            },
            "error_y": {
             "color": "#2a3f5f"
            },
            "marker": {
             "line": {
              "color": "#E5ECF6",
              "width": 0.5
             }
            },
            "type": "bar"
           }
          ],
          "barpolar": [
           {
            "marker": {
             "line": {
              "color": "#E5ECF6",
              "width": 0.5
             }
            },
            "type": "barpolar"
           }
          ],
          "carpet": [
           {
            "aaxis": {
             "endlinecolor": "#2a3f5f",
             "gridcolor": "white",
             "linecolor": "white",
             "minorgridcolor": "white",
             "startlinecolor": "#2a3f5f"
            },
            "baxis": {
             "endlinecolor": "#2a3f5f",
             "gridcolor": "white",
             "linecolor": "white",
             "minorgridcolor": "white",
             "startlinecolor": "#2a3f5f"
            },
            "type": "carpet"
           }
          ],
          "choropleth": [
           {
            "colorbar": {
             "outlinewidth": 0,
             "ticks": ""
            },
            "type": "choropleth"
           }
          ],
          "contour": [
           {
            "colorbar": {
             "outlinewidth": 0,
             "ticks": ""
            },
            "colorscale": [
             [
              0,
              "#0d0887"
             ],
             [
              0.1111111111111111,
              "#46039f"
             ],
             [
              0.2222222222222222,
              "#7201a8"
             ],
             [
              0.3333333333333333,
              "#9c179e"
             ],
             [
              0.4444444444444444,
              "#bd3786"
             ],
             [
              0.5555555555555556,
              "#d8576b"
             ],
             [
              0.6666666666666666,
              "#ed7953"
             ],
             [
              0.7777777777777778,
              "#fb9f3a"
             ],
             [
              0.8888888888888888,
              "#fdca26"
             ],
             [
              1,
              "#f0f921"
             ]
            ],
            "type": "contour"
           }
          ],
          "contourcarpet": [
           {
            "colorbar": {
             "outlinewidth": 0,
             "ticks": ""
            },
            "type": "contourcarpet"
           }
          ],
          "heatmap": [
           {
            "colorbar": {
             "outlinewidth": 0,
             "ticks": ""
            },
            "colorscale": [
             [
              0,
              "#0d0887"
             ],
             [
              0.1111111111111111,
              "#46039f"
             ],
             [
              0.2222222222222222,
              "#7201a8"
             ],
             [
              0.3333333333333333,
              "#9c179e"
             ],
             [
              0.4444444444444444,
              "#bd3786"
             ],
             [
              0.5555555555555556,
              "#d8576b"
             ],
             [
              0.6666666666666666,
              "#ed7953"
             ],
             [
              0.7777777777777778,
              "#fb9f3a"
             ],
             [
              0.8888888888888888,
              "#fdca26"
             ],
             [
              1,
              "#f0f921"
             ]
            ],
            "type": "heatmap"
           }
          ],
          "heatmapgl": [
           {
            "colorbar": {
             "outlinewidth": 0,
             "ticks": ""
            },
            "colorscale": [
             [
              0,
              "#0d0887"
             ],
             [
              0.1111111111111111,
              "#46039f"
             ],
             [
              0.2222222222222222,
              "#7201a8"
             ],
             [
              0.3333333333333333,
              "#9c179e"
             ],
             [
              0.4444444444444444,
              "#bd3786"
             ],
             [
              0.5555555555555556,
              "#d8576b"
             ],
             [
              0.6666666666666666,
              "#ed7953"
             ],
             [
              0.7777777777777778,
              "#fb9f3a"
             ],
             [
              0.8888888888888888,
              "#fdca26"
             ],
             [
              1,
              "#f0f921"
             ]
            ],
            "type": "heatmapgl"
           }
          ],
          "histogram": [
           {
            "marker": {
             "colorbar": {
              "outlinewidth": 0,
              "ticks": ""
             }
            },
            "type": "histogram"
           }
          ],
          "histogram2d": [
           {
            "colorbar": {
             "outlinewidth": 0,
             "ticks": ""
            },
            "colorscale": [
             [
              0,
              "#0d0887"
             ],
             [
              0.1111111111111111,
              "#46039f"
             ],
             [
              0.2222222222222222,
              "#7201a8"
             ],
             [
              0.3333333333333333,
              "#9c179e"
             ],
             [
              0.4444444444444444,
              "#bd3786"
             ],
             [
              0.5555555555555556,
              "#d8576b"
             ],
             [
              0.6666666666666666,
              "#ed7953"
             ],
             [
              0.7777777777777778,
              "#fb9f3a"
             ],
             [
              0.8888888888888888,
              "#fdca26"
             ],
             [
              1,
              "#f0f921"
             ]
            ],
            "type": "histogram2d"
           }
          ],
          "histogram2dcontour": [
           {
            "colorbar": {
             "outlinewidth": 0,
             "ticks": ""
            },
            "colorscale": [
             [
              0,
              "#0d0887"
             ],
             [
              0.1111111111111111,
              "#46039f"
             ],
             [
              0.2222222222222222,
              "#7201a8"
             ],
             [
              0.3333333333333333,
              "#9c179e"
             ],
             [
              0.4444444444444444,
              "#bd3786"
             ],
             [
              0.5555555555555556,
              "#d8576b"
             ],
             [
              0.6666666666666666,
              "#ed7953"
             ],
             [
              0.7777777777777778,
              "#fb9f3a"
             ],
             [
              0.8888888888888888,
              "#fdca26"
             ],
             [
              1,
              "#f0f921"
             ]
            ],
            "type": "histogram2dcontour"
           }
          ],
          "mesh3d": [
           {
            "colorbar": {
             "outlinewidth": 0,
             "ticks": ""
            },
            "type": "mesh3d"
           }
          ],
          "parcoords": [
           {
            "line": {
             "colorbar": {
              "outlinewidth": 0,
              "ticks": ""
             }
            },
            "type": "parcoords"
           }
          ],
          "pie": [
           {
            "automargin": true,
            "type": "pie"
           }
          ],
          "scatter": [
           {
            "marker": {
             "colorbar": {
              "outlinewidth": 0,
              "ticks": ""
             }
            },
            "type": "scatter"
           }
          ],
          "scatter3d": [
           {
            "line": {
             "colorbar": {
              "outlinewidth": 0,
              "ticks": ""
             }
            },
            "marker": {
             "colorbar": {
              "outlinewidth": 0,
              "ticks": ""
             }
            },
            "type": "scatter3d"
           }
          ],
          "scattercarpet": [
           {
            "marker": {
             "colorbar": {
              "outlinewidth": 0,
              "ticks": ""
             }
            },
            "type": "scattercarpet"
           }
          ],
          "scattergeo": [
           {
            "marker": {
             "colorbar": {
              "outlinewidth": 0,
              "ticks": ""
             }
            },
            "type": "scattergeo"
           }
          ],
          "scattergl": [
           {
            "marker": {
             "colorbar": {
              "outlinewidth": 0,
              "ticks": ""
             }
            },
            "type": "scattergl"
           }
          ],
          "scattermapbox": [
           {
            "marker": {
             "colorbar": {
              "outlinewidth": 0,
              "ticks": ""
             }
            },
            "type": "scattermapbox"
           }
          ],
          "scatterpolar": [
           {
            "marker": {
             "colorbar": {
              "outlinewidth": 0,
              "ticks": ""
             }
            },
            "type": "scatterpolar"
           }
          ],
          "scatterpolargl": [
           {
            "marker": {
             "colorbar": {
              "outlinewidth": 0,
              "ticks": ""
             }
            },
            "type": "scatterpolargl"
           }
          ],
          "scatterternary": [
           {
            "marker": {
             "colorbar": {
              "outlinewidth": 0,
              "ticks": ""
             }
            },
            "type": "scatterternary"
           }
          ],
          "surface": [
           {
            "colorbar": {
             "outlinewidth": 0,
             "ticks": ""
            },
            "colorscale": [
             [
              0,
              "#0d0887"
             ],
             [
              0.1111111111111111,
              "#46039f"
             ],
             [
              0.2222222222222222,
              "#7201a8"
             ],
             [
              0.3333333333333333,
              "#9c179e"
             ],
             [
              0.4444444444444444,
              "#bd3786"
             ],
             [
              0.5555555555555556,
              "#d8576b"
             ],
             [
              0.6666666666666666,
              "#ed7953"
             ],
             [
              0.7777777777777778,
              "#fb9f3a"
             ],
             [
              0.8888888888888888,
              "#fdca26"
             ],
             [
              1,
              "#f0f921"
             ]
            ],
            "type": "surface"
           }
          ],
          "table": [
           {
            "cells": {
             "fill": {
              "color": "#EBF0F8"
             },
             "line": {
              "color": "white"
             }
            },
            "header": {
             "fill": {
              "color": "#C8D4E3"
             },
             "line": {
              "color": "white"
             }
            },
            "type": "table"
           }
          ]
         },
         "layout": {
          "annotationdefaults": {
           "arrowcolor": "#2a3f5f",
           "arrowhead": 0,
           "arrowwidth": 1
          },
          "coloraxis": {
           "colorbar": {
            "outlinewidth": 0,
            "ticks": ""
           }
          },
          "colorscale": {
           "diverging": [
            [
             0,
             "#8e0152"
            ],
            [
             0.1,
             "#c51b7d"
            ],
            [
             0.2,
             "#de77ae"
            ],
            [
             0.3,
             "#f1b6da"
            ],
            [
             0.4,
             "#fde0ef"
            ],
            [
             0.5,
             "#f7f7f7"
            ],
            [
             0.6,
             "#e6f5d0"
            ],
            [
             0.7,
             "#b8e186"
            ],
            [
             0.8,
             "#7fbc41"
            ],
            [
             0.9,
             "#4d9221"
            ],
            [
             1,
             "#276419"
            ]
           ],
           "sequential": [
            [
             0,
             "#0d0887"
            ],
            [
             0.1111111111111111,
             "#46039f"
            ],
            [
             0.2222222222222222,
             "#7201a8"
            ],
            [
             0.3333333333333333,
             "#9c179e"
            ],
            [
             0.4444444444444444,
             "#bd3786"
            ],
            [
             0.5555555555555556,
             "#d8576b"
            ],
            [
             0.6666666666666666,
             "#ed7953"
            ],
            [
             0.7777777777777778,
             "#fb9f3a"
            ],
            [
             0.8888888888888888,
             "#fdca26"
            ],
            [
             1,
             "#f0f921"
            ]
           ],
           "sequentialminus": [
            [
             0,
             "#0d0887"
            ],
            [
             0.1111111111111111,
             "#46039f"
            ],
            [
             0.2222222222222222,
             "#7201a8"
            ],
            [
             0.3333333333333333,
             "#9c179e"
            ],
            [
             0.4444444444444444,
             "#bd3786"
            ],
            [
             0.5555555555555556,
             "#d8576b"
            ],
            [
             0.6666666666666666,
             "#ed7953"
            ],
            [
             0.7777777777777778,
             "#fb9f3a"
            ],
            [
             0.8888888888888888,
             "#fdca26"
            ],
            [
             1,
             "#f0f921"
            ]
           ]
          },
          "colorway": [
           "#636efa",
           "#EF553B",
           "#00cc96",
           "#ab63fa",
           "#FFA15A",
           "#19d3f3",
           "#FF6692",
           "#B6E880",
           "#FF97FF",
           "#FECB52"
          ],
          "font": {
           "color": "#2a3f5f"
          },
          "geo": {
           "bgcolor": "white",
           "lakecolor": "white",
           "landcolor": "#E5ECF6",
           "showlakes": true,
           "showland": true,
           "subunitcolor": "white"
          },
          "hoverlabel": {
           "align": "left"
          },
          "hovermode": "closest",
          "mapbox": {
           "style": "light"
          },
          "paper_bgcolor": "white",
          "plot_bgcolor": "#E5ECF6",
          "polar": {
           "angularaxis": {
            "gridcolor": "white",
            "linecolor": "white",
            "ticks": ""
           },
           "bgcolor": "#E5ECF6",
           "radialaxis": {
            "gridcolor": "white",
            "linecolor": "white",
            "ticks": ""
           }
          },
          "scene": {
           "xaxis": {
            "backgroundcolor": "#E5ECF6",
            "gridcolor": "white",
            "gridwidth": 2,
            "linecolor": "white",
            "showbackground": true,
            "ticks": "",
            "zerolinecolor": "white"
           },
           "yaxis": {
            "backgroundcolor": "#E5ECF6",
            "gridcolor": "white",
            "gridwidth": 2,
            "linecolor": "white",
            "showbackground": true,
            "ticks": "",
            "zerolinecolor": "white"
           },
           "zaxis": {
            "backgroundcolor": "#E5ECF6",
            "gridcolor": "white",
            "gridwidth": 2,
            "linecolor": "white",
            "showbackground": true,
            "ticks": "",
            "zerolinecolor": "white"
           }
          },
          "shapedefaults": {
           "line": {
            "color": "#2a3f5f"
           }
          },
          "ternary": {
           "aaxis": {
            "gridcolor": "white",
            "linecolor": "white",
            "ticks": ""
           },
           "baxis": {
            "gridcolor": "white",
            "linecolor": "white",
            "ticks": ""
           },
           "bgcolor": "#E5ECF6",
           "caxis": {
            "gridcolor": "white",
            "linecolor": "white",
            "ticks": ""
           }
          },
          "title": {
           "x": 0.05
          },
          "xaxis": {
           "automargin": true,
           "gridcolor": "white",
           "linecolor": "white",
           "ticks": "",
           "title": {
            "standoff": 15
           },
           "zerolinecolor": "white",
           "zerolinewidth": 2
          },
          "yaxis": {
           "automargin": true,
           "gridcolor": "white",
           "linecolor": "white",
           "ticks": "",
           "title": {
            "standoff": 15
           },
           "zerolinecolor": "white",
           "zerolinewidth": 2
          }
         }
        },
        "title": {
         "text": "Most Frequently Used vs. Most Widely Used Meat Food Words in Hip Hop",
         "x": 0.5,
         "xanchor": "center",
         "y": 0.94,
         "yanchor": "top"
        },
        "xaxis": {
         "anchor": "y",
         "domain": [
          0,
          0.94
         ],
         "title": {
          "text": "Food Word"
         }
        },
        "yaxis": {
         "anchor": "x",
         "domain": [
          0,
          1
         ],
         "title": {
          "text": "Count of Food Word Occurences"
         }
        },
        "yaxis2": {
         "anchor": "x",
         "overlaying": "y",
         "range": [
          0,
          250
         ],
         "side": "right",
         "title": {
          "text": "Count of Distinct Artist Who Have Used Food Word"
         }
        }
       }
      },
      "text/html": [
       "<div>\n",
       "        \n",
       "        \n",
       "            <div id=\"a42296e3-dcc3-4553-879d-0239b78c306c\" class=\"plotly-graph-div\" style=\"height:525px; width:100%;\"></div>\n",
       "            <script type=\"text/javascript\">\n",
       "                require([\"plotly\"], function(Plotly) {\n",
       "                    window.PLOTLYENV=window.PLOTLYENV || {};\n",
       "                    \n",
       "                if (document.getElementById(\"a42296e3-dcc3-4553-879d-0239b78c306c\")) {\n",
       "                    Plotly.newPlot(\n",
       "                        'a42296e3-dcc3-4553-879d-0239b78c306c',\n",
       "                        [{\"name\": \"Frequently Used\", \"type\": \"bar\", \"x\": [\"beef\", \"chicken\", \"fish\", \"meat\", \"lamb\", \"goose\", \"steak\", \"goat\", \"ham\", \"rabbit\", \"lobster\", \"shrimp\", \"rib\", \"crab\", \"burger\", \"bacon\", \"pork\", \"turkey\", \"lox\", \"sushi\", \"barbeque\", \"roast\", \"snail\", \"rump\", \"ostrich\"], \"xaxis\": \"x\", \"y\": [4080, 2559, 1720, 896, 887, 830, 798, 639, 620, 520, 461, 445, 420, 412, 321, 316, 285, 255, 219, 213, 200, 168, 143, 143, 132], \"yaxis\": \"y\"}, {\"name\": \"Widely Used\", \"type\": \"scatter\", \"x\": [\"beef\", \"chicken\", \"fish\", \"meat\", \"lamb\", \"goose\", \"steak\", \"goat\", \"ham\", \"rabbit\", \"lobster\", \"shrimp\", \"rib\", \"crab\", \"burger\", \"bacon\", \"pork\", \"turkey\", \"lox\", \"sushi\", \"barbeque\", \"roast\", \"snail\", \"rump\", \"ostrich\"], \"xaxis\": \"x\", \"y\": [205, 202, 190, 166, 133, 157, 165, 114, 129, 133, 124, 122, 126, 112, 109, 122, 101, 98, 42, 89, 89, 74, 61, 58, 59], \"yaxis\": \"y2\"}],\n",
       "                        {\"legend\": {\"orientation\": \"h\", \"x\": 0.6, \"xanchor\": \"right\", \"y\": 1.02, \"yanchor\": \"bottom\"}, \"template\": {\"data\": {\"bar\": [{\"error_x\": {\"color\": \"#2a3f5f\"}, \"error_y\": {\"color\": \"#2a3f5f\"}, \"marker\": {\"line\": {\"color\": \"#E5ECF6\", \"width\": 0.5}}, \"type\": \"bar\"}], \"barpolar\": [{\"marker\": {\"line\": {\"color\": \"#E5ECF6\", \"width\": 0.5}}, \"type\": \"barpolar\"}], \"carpet\": [{\"aaxis\": {\"endlinecolor\": \"#2a3f5f\", \"gridcolor\": \"white\", \"linecolor\": \"white\", \"minorgridcolor\": \"white\", \"startlinecolor\": \"#2a3f5f\"}, \"baxis\": {\"endlinecolor\": \"#2a3f5f\", \"gridcolor\": \"white\", \"linecolor\": \"white\", \"minorgridcolor\": \"white\", \"startlinecolor\": \"#2a3f5f\"}, \"type\": \"carpet\"}], \"choropleth\": [{\"colorbar\": {\"outlinewidth\": 0, \"ticks\": \"\"}, \"type\": \"choropleth\"}], \"contour\": [{\"colorbar\": {\"outlinewidth\": 0, \"ticks\": \"\"}, \"colorscale\": [[0.0, \"#0d0887\"], [0.1111111111111111, \"#46039f\"], [0.2222222222222222, \"#7201a8\"], [0.3333333333333333, \"#9c179e\"], [0.4444444444444444, \"#bd3786\"], [0.5555555555555556, \"#d8576b\"], [0.6666666666666666, \"#ed7953\"], [0.7777777777777778, \"#fb9f3a\"], [0.8888888888888888, \"#fdca26\"], [1.0, \"#f0f921\"]], \"type\": \"contour\"}], \"contourcarpet\": [{\"colorbar\": {\"outlinewidth\": 0, \"ticks\": \"\"}, \"type\": \"contourcarpet\"}], \"heatmap\": [{\"colorbar\": {\"outlinewidth\": 0, \"ticks\": \"\"}, \"colorscale\": [[0.0, \"#0d0887\"], [0.1111111111111111, \"#46039f\"], [0.2222222222222222, \"#7201a8\"], [0.3333333333333333, \"#9c179e\"], [0.4444444444444444, \"#bd3786\"], [0.5555555555555556, \"#d8576b\"], [0.6666666666666666, \"#ed7953\"], [0.7777777777777778, \"#fb9f3a\"], [0.8888888888888888, \"#fdca26\"], [1.0, \"#f0f921\"]], \"type\": \"heatmap\"}], \"heatmapgl\": [{\"colorbar\": {\"outlinewidth\": 0, \"ticks\": \"\"}, \"colorscale\": [[0.0, \"#0d0887\"], [0.1111111111111111, \"#46039f\"], [0.2222222222222222, \"#7201a8\"], [0.3333333333333333, \"#9c179e\"], [0.4444444444444444, \"#bd3786\"], [0.5555555555555556, \"#d8576b\"], [0.6666666666666666, \"#ed7953\"], [0.7777777777777778, \"#fb9f3a\"], [0.8888888888888888, \"#fdca26\"], [1.0, \"#f0f921\"]], \"type\": \"heatmapgl\"}], \"histogram\": [{\"marker\": {\"colorbar\": {\"outlinewidth\": 0, \"ticks\": \"\"}}, \"type\": \"histogram\"}], \"histogram2d\": [{\"colorbar\": {\"outlinewidth\": 0, \"ticks\": \"\"}, \"colorscale\": [[0.0, \"#0d0887\"], [0.1111111111111111, \"#46039f\"], [0.2222222222222222, \"#7201a8\"], [0.3333333333333333, \"#9c179e\"], [0.4444444444444444, \"#bd3786\"], [0.5555555555555556, \"#d8576b\"], [0.6666666666666666, \"#ed7953\"], [0.7777777777777778, \"#fb9f3a\"], [0.8888888888888888, \"#fdca26\"], [1.0, \"#f0f921\"]], \"type\": \"histogram2d\"}], \"histogram2dcontour\": [{\"colorbar\": {\"outlinewidth\": 0, \"ticks\": \"\"}, \"colorscale\": [[0.0, \"#0d0887\"], [0.1111111111111111, \"#46039f\"], [0.2222222222222222, \"#7201a8\"], [0.3333333333333333, \"#9c179e\"], [0.4444444444444444, \"#bd3786\"], [0.5555555555555556, \"#d8576b\"], [0.6666666666666666, \"#ed7953\"], [0.7777777777777778, \"#fb9f3a\"], [0.8888888888888888, \"#fdca26\"], [1.0, \"#f0f921\"]], \"type\": \"histogram2dcontour\"}], \"mesh3d\": [{\"colorbar\": {\"outlinewidth\": 0, \"ticks\": \"\"}, \"type\": \"mesh3d\"}], \"parcoords\": [{\"line\": {\"colorbar\": {\"outlinewidth\": 0, \"ticks\": \"\"}}, \"type\": \"parcoords\"}], \"pie\": [{\"automargin\": true, \"type\": \"pie\"}], \"scatter\": [{\"marker\": {\"colorbar\": {\"outlinewidth\": 0, \"ticks\": \"\"}}, \"type\": \"scatter\"}], \"scatter3d\": [{\"line\": {\"colorbar\": {\"outlinewidth\": 0, \"ticks\": \"\"}}, \"marker\": {\"colorbar\": {\"outlinewidth\": 0, \"ticks\": \"\"}}, \"type\": \"scatter3d\"}], \"scattercarpet\": [{\"marker\": {\"colorbar\": {\"outlinewidth\": 0, \"ticks\": \"\"}}, \"type\": \"scattercarpet\"}], \"scattergeo\": [{\"marker\": {\"colorbar\": {\"outlinewidth\": 0, \"ticks\": \"\"}}, \"type\": \"scattergeo\"}], \"scattergl\": [{\"marker\": {\"colorbar\": {\"outlinewidth\": 0, \"ticks\": \"\"}}, \"type\": \"scattergl\"}], \"scattermapbox\": [{\"marker\": {\"colorbar\": {\"outlinewidth\": 0, \"ticks\": \"\"}}, \"type\": \"scattermapbox\"}], \"scatterpolar\": [{\"marker\": {\"colorbar\": {\"outlinewidth\": 0, \"ticks\": \"\"}}, \"type\": \"scatterpolar\"}], \"scatterpolargl\": [{\"marker\": {\"colorbar\": {\"outlinewidth\": 0, \"ticks\": \"\"}}, \"type\": \"scatterpolargl\"}], \"scatterternary\": [{\"marker\": {\"colorbar\": {\"outlinewidth\": 0, \"ticks\": \"\"}}, \"type\": \"scatterternary\"}], \"surface\": [{\"colorbar\": {\"outlinewidth\": 0, \"ticks\": \"\"}, \"colorscale\": [[0.0, \"#0d0887\"], [0.1111111111111111, \"#46039f\"], [0.2222222222222222, \"#7201a8\"], [0.3333333333333333, \"#9c179e\"], [0.4444444444444444, \"#bd3786\"], [0.5555555555555556, \"#d8576b\"], [0.6666666666666666, \"#ed7953\"], [0.7777777777777778, \"#fb9f3a\"], [0.8888888888888888, \"#fdca26\"], [1.0, \"#f0f921\"]], \"type\": \"surface\"}], \"table\": [{\"cells\": {\"fill\": {\"color\": \"#EBF0F8\"}, \"line\": {\"color\": \"white\"}}, \"header\": {\"fill\": {\"color\": \"#C8D4E3\"}, \"line\": {\"color\": \"white\"}}, \"type\": \"table\"}]}, \"layout\": {\"annotationdefaults\": {\"arrowcolor\": \"#2a3f5f\", \"arrowhead\": 0, \"arrowwidth\": 1}, \"coloraxis\": {\"colorbar\": {\"outlinewidth\": 0, \"ticks\": \"\"}}, \"colorscale\": {\"diverging\": [[0, \"#8e0152\"], [0.1, \"#c51b7d\"], [0.2, \"#de77ae\"], [0.3, \"#f1b6da\"], [0.4, \"#fde0ef\"], [0.5, \"#f7f7f7\"], [0.6, \"#e6f5d0\"], [0.7, \"#b8e186\"], [0.8, \"#7fbc41\"], [0.9, \"#4d9221\"], [1, \"#276419\"]], \"sequential\": [[0.0, \"#0d0887\"], [0.1111111111111111, \"#46039f\"], [0.2222222222222222, \"#7201a8\"], [0.3333333333333333, \"#9c179e\"], [0.4444444444444444, \"#bd3786\"], [0.5555555555555556, \"#d8576b\"], [0.6666666666666666, \"#ed7953\"], [0.7777777777777778, \"#fb9f3a\"], [0.8888888888888888, \"#fdca26\"], [1.0, \"#f0f921\"]], \"sequentialminus\": [[0.0, \"#0d0887\"], [0.1111111111111111, \"#46039f\"], [0.2222222222222222, \"#7201a8\"], [0.3333333333333333, \"#9c179e\"], [0.4444444444444444, \"#bd3786\"], [0.5555555555555556, \"#d8576b\"], [0.6666666666666666, \"#ed7953\"], [0.7777777777777778, \"#fb9f3a\"], [0.8888888888888888, \"#fdca26\"], [1.0, \"#f0f921\"]]}, \"colorway\": [\"#636efa\", \"#EF553B\", \"#00cc96\", \"#ab63fa\", \"#FFA15A\", \"#19d3f3\", \"#FF6692\", \"#B6E880\", \"#FF97FF\", \"#FECB52\"], \"font\": {\"color\": \"#2a3f5f\"}, \"geo\": {\"bgcolor\": \"white\", \"lakecolor\": \"white\", \"landcolor\": \"#E5ECF6\", \"showlakes\": true, \"showland\": true, \"subunitcolor\": \"white\"}, \"hoverlabel\": {\"align\": \"left\"}, \"hovermode\": \"closest\", \"mapbox\": {\"style\": \"light\"}, \"paper_bgcolor\": \"white\", \"plot_bgcolor\": \"#E5ECF6\", \"polar\": {\"angularaxis\": {\"gridcolor\": \"white\", \"linecolor\": \"white\", \"ticks\": \"\"}, \"bgcolor\": \"#E5ECF6\", \"radialaxis\": {\"gridcolor\": \"white\", \"linecolor\": \"white\", \"ticks\": \"\"}}, \"scene\": {\"xaxis\": {\"backgroundcolor\": \"#E5ECF6\", \"gridcolor\": \"white\", \"gridwidth\": 2, \"linecolor\": \"white\", \"showbackground\": true, \"ticks\": \"\", \"zerolinecolor\": \"white\"}, \"yaxis\": {\"backgroundcolor\": \"#E5ECF6\", \"gridcolor\": \"white\", \"gridwidth\": 2, \"linecolor\": \"white\", \"showbackground\": true, \"ticks\": \"\", \"zerolinecolor\": \"white\"}, \"zaxis\": {\"backgroundcolor\": \"#E5ECF6\", \"gridcolor\": \"white\", \"gridwidth\": 2, \"linecolor\": \"white\", \"showbackground\": true, \"ticks\": \"\", \"zerolinecolor\": \"white\"}}, \"shapedefaults\": {\"line\": {\"color\": \"#2a3f5f\"}}, \"ternary\": {\"aaxis\": {\"gridcolor\": \"white\", \"linecolor\": \"white\", \"ticks\": \"\"}, \"baxis\": {\"gridcolor\": \"white\", \"linecolor\": \"white\", \"ticks\": \"\"}, \"bgcolor\": \"#E5ECF6\", \"caxis\": {\"gridcolor\": \"white\", \"linecolor\": \"white\", \"ticks\": \"\"}}, \"title\": {\"x\": 0.05}, \"xaxis\": {\"automargin\": true, \"gridcolor\": \"white\", \"linecolor\": \"white\", \"ticks\": \"\", \"title\": {\"standoff\": 15}, \"zerolinecolor\": \"white\", \"zerolinewidth\": 2}, \"yaxis\": {\"automargin\": true, \"gridcolor\": \"white\", \"linecolor\": \"white\", \"ticks\": \"\", \"title\": {\"standoff\": 15}, \"zerolinecolor\": \"white\", \"zerolinewidth\": 2}}}, \"title\": {\"text\": \"Most Frequently Used vs. Most Widely Used Meat Food Words in Hip Hop\", \"x\": 0.5, \"xanchor\": \"center\", \"y\": 0.94, \"yanchor\": \"top\"}, \"xaxis\": {\"anchor\": \"y\", \"domain\": [0.0, 0.94], \"title\": {\"text\": \"Food Word\"}}, \"yaxis\": {\"anchor\": \"x\", \"domain\": [0.0, 1.0], \"title\": {\"text\": \"Count of Food Word Occurences\"}}, \"yaxis2\": {\"anchor\": \"x\", \"overlaying\": \"y\", \"range\": [0, 250], \"side\": \"right\", \"title\": {\"text\": \"Count of Distinct Artist Who Have Used Food Word\"}}},\n",
       "                        {\"responsive\": true}\n",
       "                    ).then(function(){\n",
       "                            \n",
       "var gd = document.getElementById('a42296e3-dcc3-4553-879d-0239b78c306c');\n",
       "var x = new MutationObserver(function (mutations, observer) {{\n",
       "        var display = window.getComputedStyle(gd).display;\n",
       "        if (!display || display === 'none') {{\n",
       "            console.log([gd, 'removed!']);\n",
       "            Plotly.purge(gd);\n",
       "            observer.disconnect();\n",
       "        }}\n",
       "}});\n",
       "\n",
       "// Listen for the removal of the full notebook cells\n",
       "var notebookContainer = gd.closest('#notebook-container');\n",
       "if (notebookContainer) {{\n",
       "    x.observe(notebookContainer, {childList: true});\n",
       "}}\n",
       "\n",
       "// Listen for the clearing of the current output cell\n",
       "var outputEl = gd.closest('.output');\n",
       "if (outputEl) {{\n",
       "    x.observe(outputEl, {childList: true});\n",
       "}}\n",
       "\n",
       "                        })\n",
       "                };\n",
       "                });\n",
       "            </script>\n",
       "        </div>"
      ]
     },
     "metadata": {},
     "output_type": "display_data"
    }
   ],
   "source": [
    "# Create figure with secondary y-axis\n",
    "fig = make_subplots(specs=[[{\"secondary_y\": True}]])\n",
    "\n",
    "# Add traces\n",
    "fig.add_trace(\n",
    "    go.Bar(x=top_meat_food_words_plot_df['food_word'],\n",
    "               y=top_meat_food_words_plot_df['sum_of_food_word_count'],\n",
    "               name=\"Frequently Used\"),\n",
    "    secondary_y=False,\n",
    ")\n",
    "\n",
    "fig.add_trace(\n",
    "    go.Scatter(x=top_meat_food_words_plot_df['food_word'],\n",
    "               y=top_meat_food_words_plot_df['count_of_unique_artists'],\n",
    "               name=\"Widely Used\"),\n",
    "    secondary_y=True,\n",
    ")\n",
    "\n",
    "# Add figure title\n",
    "fig.update_layout(\n",
    "    title={\n",
    "        'text': \"Most Frequently Used vs. Most Widely Used Meat Food Words in Hip Hop\",\n",
    "        'y':0.94,\n",
    "        'x':0.5,\n",
    "        'xanchor': 'center',\n",
    "        'yanchor': 'top'}\n",
    ")\n",
    "\n",
    "# Set x-axis title\n",
    "fig.update_xaxes(title_text=\"Food Word\")\n",
    "\n",
    "# Set y-axes titles\n",
    "fig.update_yaxes(title_text=\"Count of Food Word Occurences\", secondary_y=False)\n",
    "fig.update_yaxes(title_text=\"Count of Distinct Artist Who Have Used Food Word\", secondary_y=True)\n",
    "fig.update_yaxes(range=[0,250], secondary_y=True)\n",
    "fig.update_layout(legend=dict(\n",
    "    orientation=\"h\",\n",
    "    yanchor=\"bottom\",\n",
    "    y=1.02,\n",
    "    xanchor=\"right\",\n",
    "    x=0.6\n",
    "))\n",
    "\n",
    "fig.show()\n",
    "#pio.write_html(fig, file='figure.html', auto_open=True)"
   ]
  },
  {
   "cell_type": "markdown",
   "metadata": {},
   "source": [
    "# Top Sweets Food Words"
   ]
  },
  {
   "cell_type": "code",
   "execution_count": 46,
   "metadata": {},
   "outputs": [],
   "source": [
    "top_sweets_food_words_df = artist_food_word_stats_df[artist_food_word_stats_df.sweets == 1].groupby(['food_word'])[['food_word_count','artist_clean']].agg({'food_word_count':sum,'artist_clean':pd.Series.nunique})\n",
    "top_sweets_food_words_df = top_sweets_food_words_df.reset_index()\n",
    "top_sweets_food_words_df.columns = ['food_word','sum_of_food_word_count','count_of_unique_artists']"
   ]
  },
  {
   "cell_type": "code",
   "execution_count": 47,
   "metadata": {},
   "outputs": [],
   "source": [
    "## Sort by frequency of food word or count of distinct artists\n",
    "top_sweets_food_words_df = top_sweets_food_words_df.sort_values(by='sum_of_food_word_count',ascending=False)\n",
    "## Top X food words based on metric chosen above\n",
    "top_sweets_food_words_plot_df = top_sweets_food_words_df[:25]"
   ]
  },
  {
   "cell_type": "code",
   "execution_count": 48,
   "metadata": {},
   "outputs": [
    {
     "data": {
      "application/vnd.plotly.v1+json": {
       "config": {
        "plotlyServerURL": "https://plot.ly"
       },
       "data": [
        {
         "name": "Frequently Used",
         "type": "bar",
         "x": [
          "cake",
          "cream",
          "honey",
          "candy",
          "pie",
          "sugar",
          "cookie",
          "chocolate",
          "jelly",
          "donut",
          "vanilla",
          "coco",
          "cocoa",
          "bubble gum",
          "dessert",
          "skittle",
          "lollipop",
          "caramel",
          "gelato",
          "pudding",
          "icing",
          "milkshake",
          "oreo",
          "kitkat",
          "apple pie"
         ],
         "xaxis": "x",
         "y": [
          3826,
          2421,
          2135,
          2089,
          1325,
          920,
          721,
          709,
          386,
          378,
          337,
          301,
          254,
          226,
          168,
          167,
          166,
          135,
          128,
          116,
          97,
          94,
          88,
          86,
          83
         ],
         "yaxis": "y"
        },
        {
         "name": "Widely Used",
         "type": "scatter",
         "x": [
          "cake",
          "cream",
          "honey",
          "candy",
          "pie",
          "sugar",
          "cookie",
          "chocolate",
          "jelly",
          "donut",
          "vanilla",
          "coco",
          "cocoa",
          "bubble gum",
          "dessert",
          "skittle",
          "lollipop",
          "caramel",
          "gelato",
          "pudding",
          "icing",
          "milkshake",
          "oreo",
          "kitkat",
          "apple pie"
         ],
         "xaxis": "x",
         "y": [
          203,
          199,
          206,
          193,
          182,
          169,
          129,
          142,
          123,
          125,
          104,
          95,
          70,
          80,
          69,
          56,
          64,
          64,
          33,
          61,
          53,
          31,
          49,
          41,
          44
         ],
         "yaxis": "y2"
        }
       ],
       "layout": {
        "legend": {
         "orientation": "h",
         "x": 0.6,
         "xanchor": "right",
         "y": 1.02,
         "yanchor": "bottom"
        },
        "template": {
         "data": {
          "bar": [
           {
            "error_x": {
             "color": "#2a3f5f"
            },
            "error_y": {
             "color": "#2a3f5f"
            },
            "marker": {
             "line": {
              "color": "#E5ECF6",
              "width": 0.5
             }
            },
            "type": "bar"
           }
          ],
          "barpolar": [
           {
            "marker": {
             "line": {
              "color": "#E5ECF6",
              "width": 0.5
             }
            },
            "type": "barpolar"
           }
          ],
          "carpet": [
           {
            "aaxis": {
             "endlinecolor": "#2a3f5f",
             "gridcolor": "white",
             "linecolor": "white",
             "minorgridcolor": "white",
             "startlinecolor": "#2a3f5f"
            },
            "baxis": {
             "endlinecolor": "#2a3f5f",
             "gridcolor": "white",
             "linecolor": "white",
             "minorgridcolor": "white",
             "startlinecolor": "#2a3f5f"
            },
            "type": "carpet"
           }
          ],
          "choropleth": [
           {
            "colorbar": {
             "outlinewidth": 0,
             "ticks": ""
            },
            "type": "choropleth"
           }
          ],
          "contour": [
           {
            "colorbar": {
             "outlinewidth": 0,
             "ticks": ""
            },
            "colorscale": [
             [
              0,
              "#0d0887"
             ],
             [
              0.1111111111111111,
              "#46039f"
             ],
             [
              0.2222222222222222,
              "#7201a8"
             ],
             [
              0.3333333333333333,
              "#9c179e"
             ],
             [
              0.4444444444444444,
              "#bd3786"
             ],
             [
              0.5555555555555556,
              "#d8576b"
             ],
             [
              0.6666666666666666,
              "#ed7953"
             ],
             [
              0.7777777777777778,
              "#fb9f3a"
             ],
             [
              0.8888888888888888,
              "#fdca26"
             ],
             [
              1,
              "#f0f921"
             ]
            ],
            "type": "contour"
           }
          ],
          "contourcarpet": [
           {
            "colorbar": {
             "outlinewidth": 0,
             "ticks": ""
            },
            "type": "contourcarpet"
           }
          ],
          "heatmap": [
           {
            "colorbar": {
             "outlinewidth": 0,
             "ticks": ""
            },
            "colorscale": [
             [
              0,
              "#0d0887"
             ],
             [
              0.1111111111111111,
              "#46039f"
             ],
             [
              0.2222222222222222,
              "#7201a8"
             ],
             [
              0.3333333333333333,
              "#9c179e"
             ],
             [
              0.4444444444444444,
              "#bd3786"
             ],
             [
              0.5555555555555556,
              "#d8576b"
             ],
             [
              0.6666666666666666,
              "#ed7953"
             ],
             [
              0.7777777777777778,
              "#fb9f3a"
             ],
             [
              0.8888888888888888,
              "#fdca26"
             ],
             [
              1,
              "#f0f921"
             ]
            ],
            "type": "heatmap"
           }
          ],
          "heatmapgl": [
           {
            "colorbar": {
             "outlinewidth": 0,
             "ticks": ""
            },
            "colorscale": [
             [
              0,
              "#0d0887"
             ],
             [
              0.1111111111111111,
              "#46039f"
             ],
             [
              0.2222222222222222,
              "#7201a8"
             ],
             [
              0.3333333333333333,
              "#9c179e"
             ],
             [
              0.4444444444444444,
              "#bd3786"
             ],
             [
              0.5555555555555556,
              "#d8576b"
             ],
             [
              0.6666666666666666,
              "#ed7953"
             ],
             [
              0.7777777777777778,
              "#fb9f3a"
             ],
             [
              0.8888888888888888,
              "#fdca26"
             ],
             [
              1,
              "#f0f921"
             ]
            ],
            "type": "heatmapgl"
           }
          ],
          "histogram": [
           {
            "marker": {
             "colorbar": {
              "outlinewidth": 0,
              "ticks": ""
             }
            },
            "type": "histogram"
           }
          ],
          "histogram2d": [
           {
            "colorbar": {
             "outlinewidth": 0,
             "ticks": ""
            },
            "colorscale": [
             [
              0,
              "#0d0887"
             ],
             [
              0.1111111111111111,
              "#46039f"
             ],
             [
              0.2222222222222222,
              "#7201a8"
             ],
             [
              0.3333333333333333,
              "#9c179e"
             ],
             [
              0.4444444444444444,
              "#bd3786"
             ],
             [
              0.5555555555555556,
              "#d8576b"
             ],
             [
              0.6666666666666666,
              "#ed7953"
             ],
             [
              0.7777777777777778,
              "#fb9f3a"
             ],
             [
              0.8888888888888888,
              "#fdca26"
             ],
             [
              1,
              "#f0f921"
             ]
            ],
            "type": "histogram2d"
           }
          ],
          "histogram2dcontour": [
           {
            "colorbar": {
             "outlinewidth": 0,
             "ticks": ""
            },
            "colorscale": [
             [
              0,
              "#0d0887"
             ],
             [
              0.1111111111111111,
              "#46039f"
             ],
             [
              0.2222222222222222,
              "#7201a8"
             ],
             [
              0.3333333333333333,
              "#9c179e"
             ],
             [
              0.4444444444444444,
              "#bd3786"
             ],
             [
              0.5555555555555556,
              "#d8576b"
             ],
             [
              0.6666666666666666,
              "#ed7953"
             ],
             [
              0.7777777777777778,
              "#fb9f3a"
             ],
             [
              0.8888888888888888,
              "#fdca26"
             ],
             [
              1,
              "#f0f921"
             ]
            ],
            "type": "histogram2dcontour"
           }
          ],
          "mesh3d": [
           {
            "colorbar": {
             "outlinewidth": 0,
             "ticks": ""
            },
            "type": "mesh3d"
           }
          ],
          "parcoords": [
           {
            "line": {
             "colorbar": {
              "outlinewidth": 0,
              "ticks": ""
             }
            },
            "type": "parcoords"
           }
          ],
          "pie": [
           {
            "automargin": true,
            "type": "pie"
           }
          ],
          "scatter": [
           {
            "marker": {
             "colorbar": {
              "outlinewidth": 0,
              "ticks": ""
             }
            },
            "type": "scatter"
           }
          ],
          "scatter3d": [
           {
            "line": {
             "colorbar": {
              "outlinewidth": 0,
              "ticks": ""
             }
            },
            "marker": {
             "colorbar": {
              "outlinewidth": 0,
              "ticks": ""
             }
            },
            "type": "scatter3d"
           }
          ],
          "scattercarpet": [
           {
            "marker": {
             "colorbar": {
              "outlinewidth": 0,
              "ticks": ""
             }
            },
            "type": "scattercarpet"
           }
          ],
          "scattergeo": [
           {
            "marker": {
             "colorbar": {
              "outlinewidth": 0,
              "ticks": ""
             }
            },
            "type": "scattergeo"
           }
          ],
          "scattergl": [
           {
            "marker": {
             "colorbar": {
              "outlinewidth": 0,
              "ticks": ""
             }
            },
            "type": "scattergl"
           }
          ],
          "scattermapbox": [
           {
            "marker": {
             "colorbar": {
              "outlinewidth": 0,
              "ticks": ""
             }
            },
            "type": "scattermapbox"
           }
          ],
          "scatterpolar": [
           {
            "marker": {
             "colorbar": {
              "outlinewidth": 0,
              "ticks": ""
             }
            },
            "type": "scatterpolar"
           }
          ],
          "scatterpolargl": [
           {
            "marker": {
             "colorbar": {
              "outlinewidth": 0,
              "ticks": ""
             }
            },
            "type": "scatterpolargl"
           }
          ],
          "scatterternary": [
           {
            "marker": {
             "colorbar": {
              "outlinewidth": 0,
              "ticks": ""
             }
            },
            "type": "scatterternary"
           }
          ],
          "surface": [
           {
            "colorbar": {
             "outlinewidth": 0,
             "ticks": ""
            },
            "colorscale": [
             [
              0,
              "#0d0887"
             ],
             [
              0.1111111111111111,
              "#46039f"
             ],
             [
              0.2222222222222222,
              "#7201a8"
             ],
             [
              0.3333333333333333,
              "#9c179e"
             ],
             [
              0.4444444444444444,
              "#bd3786"
             ],
             [
              0.5555555555555556,
              "#d8576b"
             ],
             [
              0.6666666666666666,
              "#ed7953"
             ],
             [
              0.7777777777777778,
              "#fb9f3a"
             ],
             [
              0.8888888888888888,
              "#fdca26"
             ],
             [
              1,
              "#f0f921"
             ]
            ],
            "type": "surface"
           }
          ],
          "table": [
           {
            "cells": {
             "fill": {
              "color": "#EBF0F8"
             },
             "line": {
              "color": "white"
             }
            },
            "header": {
             "fill": {
              "color": "#C8D4E3"
             },
             "line": {
              "color": "white"
             }
            },
            "type": "table"
           }
          ]
         },
         "layout": {
          "annotationdefaults": {
           "arrowcolor": "#2a3f5f",
           "arrowhead": 0,
           "arrowwidth": 1
          },
          "coloraxis": {
           "colorbar": {
            "outlinewidth": 0,
            "ticks": ""
           }
          },
          "colorscale": {
           "diverging": [
            [
             0,
             "#8e0152"
            ],
            [
             0.1,
             "#c51b7d"
            ],
            [
             0.2,
             "#de77ae"
            ],
            [
             0.3,
             "#f1b6da"
            ],
            [
             0.4,
             "#fde0ef"
            ],
            [
             0.5,
             "#f7f7f7"
            ],
            [
             0.6,
             "#e6f5d0"
            ],
            [
             0.7,
             "#b8e186"
            ],
            [
             0.8,
             "#7fbc41"
            ],
            [
             0.9,
             "#4d9221"
            ],
            [
             1,
             "#276419"
            ]
           ],
           "sequential": [
            [
             0,
             "#0d0887"
            ],
            [
             0.1111111111111111,
             "#46039f"
            ],
            [
             0.2222222222222222,
             "#7201a8"
            ],
            [
             0.3333333333333333,
             "#9c179e"
            ],
            [
             0.4444444444444444,
             "#bd3786"
            ],
            [
             0.5555555555555556,
             "#d8576b"
            ],
            [
             0.6666666666666666,
             "#ed7953"
            ],
            [
             0.7777777777777778,
             "#fb9f3a"
            ],
            [
             0.8888888888888888,
             "#fdca26"
            ],
            [
             1,
             "#f0f921"
            ]
           ],
           "sequentialminus": [
            [
             0,
             "#0d0887"
            ],
            [
             0.1111111111111111,
             "#46039f"
            ],
            [
             0.2222222222222222,
             "#7201a8"
            ],
            [
             0.3333333333333333,
             "#9c179e"
            ],
            [
             0.4444444444444444,
             "#bd3786"
            ],
            [
             0.5555555555555556,
             "#d8576b"
            ],
            [
             0.6666666666666666,
             "#ed7953"
            ],
            [
             0.7777777777777778,
             "#fb9f3a"
            ],
            [
             0.8888888888888888,
             "#fdca26"
            ],
            [
             1,
             "#f0f921"
            ]
           ]
          },
          "colorway": [
           "#636efa",
           "#EF553B",
           "#00cc96",
           "#ab63fa",
           "#FFA15A",
           "#19d3f3",
           "#FF6692",
           "#B6E880",
           "#FF97FF",
           "#FECB52"
          ],
          "font": {
           "color": "#2a3f5f"
          },
          "geo": {
           "bgcolor": "white",
           "lakecolor": "white",
           "landcolor": "#E5ECF6",
           "showlakes": true,
           "showland": true,
           "subunitcolor": "white"
          },
          "hoverlabel": {
           "align": "left"
          },
          "hovermode": "closest",
          "mapbox": {
           "style": "light"
          },
          "paper_bgcolor": "white",
          "plot_bgcolor": "#E5ECF6",
          "polar": {
           "angularaxis": {
            "gridcolor": "white",
            "linecolor": "white",
            "ticks": ""
           },
           "bgcolor": "#E5ECF6",
           "radialaxis": {
            "gridcolor": "white",
            "linecolor": "white",
            "ticks": ""
           }
          },
          "scene": {
           "xaxis": {
            "backgroundcolor": "#E5ECF6",
            "gridcolor": "white",
            "gridwidth": 2,
            "linecolor": "white",
            "showbackground": true,
            "ticks": "",
            "zerolinecolor": "white"
           },
           "yaxis": {
            "backgroundcolor": "#E5ECF6",
            "gridcolor": "white",
            "gridwidth": 2,
            "linecolor": "white",
            "showbackground": true,
            "ticks": "",
            "zerolinecolor": "white"
           },
           "zaxis": {
            "backgroundcolor": "#E5ECF6",
            "gridcolor": "white",
            "gridwidth": 2,
            "linecolor": "white",
            "showbackground": true,
            "ticks": "",
            "zerolinecolor": "white"
           }
          },
          "shapedefaults": {
           "line": {
            "color": "#2a3f5f"
           }
          },
          "ternary": {
           "aaxis": {
            "gridcolor": "white",
            "linecolor": "white",
            "ticks": ""
           },
           "baxis": {
            "gridcolor": "white",
            "linecolor": "white",
            "ticks": ""
           },
           "bgcolor": "#E5ECF6",
           "caxis": {
            "gridcolor": "white",
            "linecolor": "white",
            "ticks": ""
           }
          },
          "title": {
           "x": 0.05
          },
          "xaxis": {
           "automargin": true,
           "gridcolor": "white",
           "linecolor": "white",
           "ticks": "",
           "title": {
            "standoff": 15
           },
           "zerolinecolor": "white",
           "zerolinewidth": 2
          },
          "yaxis": {
           "automargin": true,
           "gridcolor": "white",
           "linecolor": "white",
           "ticks": "",
           "title": {
            "standoff": 15
           },
           "zerolinecolor": "white",
           "zerolinewidth": 2
          }
         }
        },
        "title": {
         "text": "Most Frequently Used vs. Most Widely Used Sweets Food Words in Hip Hop",
         "x": 0.5,
         "xanchor": "center",
         "y": 0.94,
         "yanchor": "top"
        },
        "xaxis": {
         "anchor": "y",
         "domain": [
          0,
          0.94
         ],
         "title": {
          "text": "Food Word"
         }
        },
        "yaxis": {
         "anchor": "x",
         "domain": [
          0,
          1
         ],
         "title": {
          "text": "Count of Food Word Occurences"
         }
        },
        "yaxis2": {
         "anchor": "x",
         "overlaying": "y",
         "range": [
          0,
          250
         ],
         "side": "right",
         "title": {
          "text": "Count of Distinct Artist Who Have Used Food Word"
         }
        }
       }
      },
      "text/html": [
       "<div>\n",
       "        \n",
       "        \n",
       "            <div id=\"21a94583-ea4d-4ab1-998d-8c206221f1fd\" class=\"plotly-graph-div\" style=\"height:525px; width:100%;\"></div>\n",
       "            <script type=\"text/javascript\">\n",
       "                require([\"plotly\"], function(Plotly) {\n",
       "                    window.PLOTLYENV=window.PLOTLYENV || {};\n",
       "                    \n",
       "                if (document.getElementById(\"21a94583-ea4d-4ab1-998d-8c206221f1fd\")) {\n",
       "                    Plotly.newPlot(\n",
       "                        '21a94583-ea4d-4ab1-998d-8c206221f1fd',\n",
       "                        [{\"name\": \"Frequently Used\", \"type\": \"bar\", \"x\": [\"cake\", \"cream\", \"honey\", \"candy\", \"pie\", \"sugar\", \"cookie\", \"chocolate\", \"jelly\", \"donut\", \"vanilla\", \"coco\", \"cocoa\", \"bubble gum\", \"dessert\", \"skittle\", \"lollipop\", \"caramel\", \"gelato\", \"pudding\", \"icing\", \"milkshake\", \"oreo\", \"kitkat\", \"apple pie\"], \"xaxis\": \"x\", \"y\": [3826, 2421, 2135, 2089, 1325, 920, 721, 709, 386, 378, 337, 301, 254, 226, 168, 167, 166, 135, 128, 116, 97, 94, 88, 86, 83], \"yaxis\": \"y\"}, {\"name\": \"Widely Used\", \"type\": \"scatter\", \"x\": [\"cake\", \"cream\", \"honey\", \"candy\", \"pie\", \"sugar\", \"cookie\", \"chocolate\", \"jelly\", \"donut\", \"vanilla\", \"coco\", \"cocoa\", \"bubble gum\", \"dessert\", \"skittle\", \"lollipop\", \"caramel\", \"gelato\", \"pudding\", \"icing\", \"milkshake\", \"oreo\", \"kitkat\", \"apple pie\"], \"xaxis\": \"x\", \"y\": [203, 199, 206, 193, 182, 169, 129, 142, 123, 125, 104, 95, 70, 80, 69, 56, 64, 64, 33, 61, 53, 31, 49, 41, 44], \"yaxis\": \"y2\"}],\n",
       "                        {\"legend\": {\"orientation\": \"h\", \"x\": 0.6, \"xanchor\": \"right\", \"y\": 1.02, \"yanchor\": \"bottom\"}, \"template\": {\"data\": {\"bar\": [{\"error_x\": {\"color\": \"#2a3f5f\"}, \"error_y\": {\"color\": \"#2a3f5f\"}, \"marker\": {\"line\": {\"color\": \"#E5ECF6\", \"width\": 0.5}}, \"type\": \"bar\"}], \"barpolar\": [{\"marker\": {\"line\": {\"color\": \"#E5ECF6\", \"width\": 0.5}}, \"type\": \"barpolar\"}], \"carpet\": [{\"aaxis\": {\"endlinecolor\": \"#2a3f5f\", \"gridcolor\": \"white\", \"linecolor\": \"white\", \"minorgridcolor\": \"white\", \"startlinecolor\": \"#2a3f5f\"}, \"baxis\": {\"endlinecolor\": \"#2a3f5f\", \"gridcolor\": \"white\", \"linecolor\": \"white\", \"minorgridcolor\": \"white\", \"startlinecolor\": \"#2a3f5f\"}, \"type\": \"carpet\"}], \"choropleth\": [{\"colorbar\": {\"outlinewidth\": 0, \"ticks\": \"\"}, \"type\": \"choropleth\"}], \"contour\": [{\"colorbar\": {\"outlinewidth\": 0, \"ticks\": \"\"}, \"colorscale\": [[0.0, \"#0d0887\"], [0.1111111111111111, \"#46039f\"], [0.2222222222222222, \"#7201a8\"], [0.3333333333333333, \"#9c179e\"], [0.4444444444444444, \"#bd3786\"], [0.5555555555555556, \"#d8576b\"], [0.6666666666666666, \"#ed7953\"], [0.7777777777777778, \"#fb9f3a\"], [0.8888888888888888, \"#fdca26\"], [1.0, \"#f0f921\"]], \"type\": \"contour\"}], \"contourcarpet\": [{\"colorbar\": {\"outlinewidth\": 0, \"ticks\": \"\"}, \"type\": \"contourcarpet\"}], \"heatmap\": [{\"colorbar\": {\"outlinewidth\": 0, \"ticks\": \"\"}, \"colorscale\": [[0.0, \"#0d0887\"], [0.1111111111111111, \"#46039f\"], [0.2222222222222222, \"#7201a8\"], [0.3333333333333333, \"#9c179e\"], [0.4444444444444444, \"#bd3786\"], [0.5555555555555556, \"#d8576b\"], [0.6666666666666666, \"#ed7953\"], [0.7777777777777778, \"#fb9f3a\"], [0.8888888888888888, \"#fdca26\"], [1.0, \"#f0f921\"]], \"type\": \"heatmap\"}], \"heatmapgl\": [{\"colorbar\": {\"outlinewidth\": 0, \"ticks\": \"\"}, \"colorscale\": [[0.0, \"#0d0887\"], [0.1111111111111111, \"#46039f\"], [0.2222222222222222, \"#7201a8\"], [0.3333333333333333, \"#9c179e\"], [0.4444444444444444, \"#bd3786\"], [0.5555555555555556, \"#d8576b\"], [0.6666666666666666, \"#ed7953\"], [0.7777777777777778, \"#fb9f3a\"], [0.8888888888888888, \"#fdca26\"], [1.0, \"#f0f921\"]], \"type\": \"heatmapgl\"}], \"histogram\": [{\"marker\": {\"colorbar\": {\"outlinewidth\": 0, \"ticks\": \"\"}}, \"type\": \"histogram\"}], \"histogram2d\": [{\"colorbar\": {\"outlinewidth\": 0, \"ticks\": \"\"}, \"colorscale\": [[0.0, \"#0d0887\"], [0.1111111111111111, \"#46039f\"], [0.2222222222222222, \"#7201a8\"], [0.3333333333333333, \"#9c179e\"], [0.4444444444444444, \"#bd3786\"], [0.5555555555555556, \"#d8576b\"], [0.6666666666666666, \"#ed7953\"], [0.7777777777777778, \"#fb9f3a\"], [0.8888888888888888, \"#fdca26\"], [1.0, \"#f0f921\"]], \"type\": \"histogram2d\"}], \"histogram2dcontour\": [{\"colorbar\": {\"outlinewidth\": 0, \"ticks\": \"\"}, \"colorscale\": [[0.0, \"#0d0887\"], [0.1111111111111111, \"#46039f\"], [0.2222222222222222, \"#7201a8\"], [0.3333333333333333, \"#9c179e\"], [0.4444444444444444, \"#bd3786\"], [0.5555555555555556, \"#d8576b\"], [0.6666666666666666, \"#ed7953\"], [0.7777777777777778, \"#fb9f3a\"], [0.8888888888888888, \"#fdca26\"], [1.0, \"#f0f921\"]], \"type\": \"histogram2dcontour\"}], \"mesh3d\": [{\"colorbar\": {\"outlinewidth\": 0, \"ticks\": \"\"}, \"type\": \"mesh3d\"}], \"parcoords\": [{\"line\": {\"colorbar\": {\"outlinewidth\": 0, \"ticks\": \"\"}}, \"type\": \"parcoords\"}], \"pie\": [{\"automargin\": true, \"type\": \"pie\"}], \"scatter\": [{\"marker\": {\"colorbar\": {\"outlinewidth\": 0, \"ticks\": \"\"}}, \"type\": \"scatter\"}], \"scatter3d\": [{\"line\": {\"colorbar\": {\"outlinewidth\": 0, \"ticks\": \"\"}}, \"marker\": {\"colorbar\": {\"outlinewidth\": 0, \"ticks\": \"\"}}, \"type\": \"scatter3d\"}], \"scattercarpet\": [{\"marker\": {\"colorbar\": {\"outlinewidth\": 0, \"ticks\": \"\"}}, \"type\": \"scattercarpet\"}], \"scattergeo\": [{\"marker\": {\"colorbar\": {\"outlinewidth\": 0, \"ticks\": \"\"}}, \"type\": \"scattergeo\"}], \"scattergl\": [{\"marker\": {\"colorbar\": {\"outlinewidth\": 0, \"ticks\": \"\"}}, \"type\": \"scattergl\"}], \"scattermapbox\": [{\"marker\": {\"colorbar\": {\"outlinewidth\": 0, \"ticks\": \"\"}}, \"type\": \"scattermapbox\"}], \"scatterpolar\": [{\"marker\": {\"colorbar\": {\"outlinewidth\": 0, \"ticks\": \"\"}}, \"type\": \"scatterpolar\"}], \"scatterpolargl\": [{\"marker\": {\"colorbar\": {\"outlinewidth\": 0, \"ticks\": \"\"}}, \"type\": \"scatterpolargl\"}], \"scatterternary\": [{\"marker\": {\"colorbar\": {\"outlinewidth\": 0, \"ticks\": \"\"}}, \"type\": \"scatterternary\"}], \"surface\": [{\"colorbar\": {\"outlinewidth\": 0, \"ticks\": \"\"}, \"colorscale\": [[0.0, \"#0d0887\"], [0.1111111111111111, \"#46039f\"], [0.2222222222222222, \"#7201a8\"], [0.3333333333333333, \"#9c179e\"], [0.4444444444444444, \"#bd3786\"], [0.5555555555555556, \"#d8576b\"], [0.6666666666666666, \"#ed7953\"], [0.7777777777777778, \"#fb9f3a\"], [0.8888888888888888, \"#fdca26\"], [1.0, \"#f0f921\"]], \"type\": \"surface\"}], \"table\": [{\"cells\": {\"fill\": {\"color\": \"#EBF0F8\"}, \"line\": {\"color\": \"white\"}}, \"header\": {\"fill\": {\"color\": \"#C8D4E3\"}, \"line\": {\"color\": \"white\"}}, \"type\": \"table\"}]}, \"layout\": {\"annotationdefaults\": {\"arrowcolor\": \"#2a3f5f\", \"arrowhead\": 0, \"arrowwidth\": 1}, \"coloraxis\": {\"colorbar\": {\"outlinewidth\": 0, \"ticks\": \"\"}}, \"colorscale\": {\"diverging\": [[0, \"#8e0152\"], [0.1, \"#c51b7d\"], [0.2, \"#de77ae\"], [0.3, \"#f1b6da\"], [0.4, \"#fde0ef\"], [0.5, \"#f7f7f7\"], [0.6, \"#e6f5d0\"], [0.7, \"#b8e186\"], [0.8, \"#7fbc41\"], [0.9, \"#4d9221\"], [1, \"#276419\"]], \"sequential\": [[0.0, \"#0d0887\"], [0.1111111111111111, \"#46039f\"], [0.2222222222222222, \"#7201a8\"], [0.3333333333333333, \"#9c179e\"], [0.4444444444444444, \"#bd3786\"], [0.5555555555555556, \"#d8576b\"], [0.6666666666666666, \"#ed7953\"], [0.7777777777777778, \"#fb9f3a\"], [0.8888888888888888, \"#fdca26\"], [1.0, \"#f0f921\"]], \"sequentialminus\": [[0.0, \"#0d0887\"], [0.1111111111111111, \"#46039f\"], [0.2222222222222222, \"#7201a8\"], [0.3333333333333333, \"#9c179e\"], [0.4444444444444444, \"#bd3786\"], [0.5555555555555556, \"#d8576b\"], [0.6666666666666666, \"#ed7953\"], [0.7777777777777778, \"#fb9f3a\"], [0.8888888888888888, \"#fdca26\"], [1.0, \"#f0f921\"]]}, \"colorway\": [\"#636efa\", \"#EF553B\", \"#00cc96\", \"#ab63fa\", \"#FFA15A\", \"#19d3f3\", \"#FF6692\", \"#B6E880\", \"#FF97FF\", \"#FECB52\"], \"font\": {\"color\": \"#2a3f5f\"}, \"geo\": {\"bgcolor\": \"white\", \"lakecolor\": \"white\", \"landcolor\": \"#E5ECF6\", \"showlakes\": true, \"showland\": true, \"subunitcolor\": \"white\"}, \"hoverlabel\": {\"align\": \"left\"}, \"hovermode\": \"closest\", \"mapbox\": {\"style\": \"light\"}, \"paper_bgcolor\": \"white\", \"plot_bgcolor\": \"#E5ECF6\", \"polar\": {\"angularaxis\": {\"gridcolor\": \"white\", \"linecolor\": \"white\", \"ticks\": \"\"}, \"bgcolor\": \"#E5ECF6\", \"radialaxis\": {\"gridcolor\": \"white\", \"linecolor\": \"white\", \"ticks\": \"\"}}, \"scene\": {\"xaxis\": {\"backgroundcolor\": \"#E5ECF6\", \"gridcolor\": \"white\", \"gridwidth\": 2, \"linecolor\": \"white\", \"showbackground\": true, \"ticks\": \"\", \"zerolinecolor\": \"white\"}, \"yaxis\": {\"backgroundcolor\": \"#E5ECF6\", \"gridcolor\": \"white\", \"gridwidth\": 2, \"linecolor\": \"white\", \"showbackground\": true, \"ticks\": \"\", \"zerolinecolor\": \"white\"}, \"zaxis\": {\"backgroundcolor\": \"#E5ECF6\", \"gridcolor\": \"white\", \"gridwidth\": 2, \"linecolor\": \"white\", \"showbackground\": true, \"ticks\": \"\", \"zerolinecolor\": \"white\"}}, \"shapedefaults\": {\"line\": {\"color\": \"#2a3f5f\"}}, \"ternary\": {\"aaxis\": {\"gridcolor\": \"white\", \"linecolor\": \"white\", \"ticks\": \"\"}, \"baxis\": {\"gridcolor\": \"white\", \"linecolor\": \"white\", \"ticks\": \"\"}, \"bgcolor\": \"#E5ECF6\", \"caxis\": {\"gridcolor\": \"white\", \"linecolor\": \"white\", \"ticks\": \"\"}}, \"title\": {\"x\": 0.05}, \"xaxis\": {\"automargin\": true, \"gridcolor\": \"white\", \"linecolor\": \"white\", \"ticks\": \"\", \"title\": {\"standoff\": 15}, \"zerolinecolor\": \"white\", \"zerolinewidth\": 2}, \"yaxis\": {\"automargin\": true, \"gridcolor\": \"white\", \"linecolor\": \"white\", \"ticks\": \"\", \"title\": {\"standoff\": 15}, \"zerolinecolor\": \"white\", \"zerolinewidth\": 2}}}, \"title\": {\"text\": \"Most Frequently Used vs. Most Widely Used Sweets Food Words in Hip Hop\", \"x\": 0.5, \"xanchor\": \"center\", \"y\": 0.94, \"yanchor\": \"top\"}, \"xaxis\": {\"anchor\": \"y\", \"domain\": [0.0, 0.94], \"title\": {\"text\": \"Food Word\"}}, \"yaxis\": {\"anchor\": \"x\", \"domain\": [0.0, 1.0], \"title\": {\"text\": \"Count of Food Word Occurences\"}}, \"yaxis2\": {\"anchor\": \"x\", \"overlaying\": \"y\", \"range\": [0, 250], \"side\": \"right\", \"title\": {\"text\": \"Count of Distinct Artist Who Have Used Food Word\"}}},\n",
       "                        {\"responsive\": true}\n",
       "                    ).then(function(){\n",
       "                            \n",
       "var gd = document.getElementById('21a94583-ea4d-4ab1-998d-8c206221f1fd');\n",
       "var x = new MutationObserver(function (mutations, observer) {{\n",
       "        var display = window.getComputedStyle(gd).display;\n",
       "        if (!display || display === 'none') {{\n",
       "            console.log([gd, 'removed!']);\n",
       "            Plotly.purge(gd);\n",
       "            observer.disconnect();\n",
       "        }}\n",
       "}});\n",
       "\n",
       "// Listen for the removal of the full notebook cells\n",
       "var notebookContainer = gd.closest('#notebook-container');\n",
       "if (notebookContainer) {{\n",
       "    x.observe(notebookContainer, {childList: true});\n",
       "}}\n",
       "\n",
       "// Listen for the clearing of the current output cell\n",
       "var outputEl = gd.closest('.output');\n",
       "if (outputEl) {{\n",
       "    x.observe(outputEl, {childList: true});\n",
       "}}\n",
       "\n",
       "                        })\n",
       "                };\n",
       "                });\n",
       "            </script>\n",
       "        </div>"
      ]
     },
     "metadata": {},
     "output_type": "display_data"
    }
   ],
   "source": [
    "# Create figure with secondary y-axis\n",
    "fig = make_subplots(specs=[[{\"secondary_y\": True}]])\n",
    "\n",
    "# Add traces\n",
    "fig.add_trace(\n",
    "    go.Bar(x=top_sweets_food_words_plot_df['food_word'],\n",
    "               y=top_sweets_food_words_plot_df['sum_of_food_word_count'],\n",
    "               name=\"Frequently Used\"),\n",
    "    secondary_y=False,\n",
    ")\n",
    "\n",
    "fig.add_trace(\n",
    "    go.Scatter(x=top_sweets_food_words_plot_df['food_word'],\n",
    "               y=top_sweets_food_words_plot_df['count_of_unique_artists'],\n",
    "               name=\"Widely Used\"),\n",
    "    secondary_y=True,\n",
    ")\n",
    "\n",
    "# Add figure title\n",
    "fig.update_layout(\n",
    "    title={\n",
    "        'text': \"Most Frequently Used vs. Most Widely Used Sweets Food Words in Hip Hop\",\n",
    "        'y':0.94,\n",
    "        'x':0.5,\n",
    "        'xanchor': 'center',\n",
    "        'yanchor': 'top'}\n",
    ")\n",
    "\n",
    "# Set x-axis title\n",
    "fig.update_xaxes(title_text=\"Food Word\")\n",
    "\n",
    "# Set y-axes titles\n",
    "fig.update_yaxes(title_text=\"Count of Food Word Occurences\", secondary_y=False)\n",
    "fig.update_yaxes(title_text=\"Count of Distinct Artist Who Have Used Food Word\", secondary_y=True)\n",
    "fig.update_yaxes(range=[0,250], secondary_y=True)\n",
    "fig.update_layout(legend=dict(\n",
    "    orientation=\"h\",\n",
    "    yanchor=\"bottom\",\n",
    "    y=1.02,\n",
    "    xanchor=\"right\",\n",
    "    x=0.6\n",
    "))\n",
    "\n",
    "fig.show()"
   ]
  },
  {
   "cell_type": "markdown",
   "metadata": {},
   "source": [
    "# Artist - Food Word Exploration"
   ]
  },
  {
   "cell_type": "code",
   "execution_count": 156,
   "metadata": {},
   "outputs": [],
   "source": [
    "## Calculate lyric word count & lyric word count excluding stopwords for all artists\n",
    "## Calculate unique song count for all artists\n",
    "all_artists_lyric_words_count = sum(artist_agg_stats_df['lyrics_word_count'])\n",
    "all_artists_lyric_words_excl_sw_count = sum(artist_agg_stats_df['lyrics_word_count_excl_sw'])\n",
    "all_artists_unique_songs_count = artist_agg_stats_df['song'].nunique()"
   ]
  },
  {
   "cell_type": "code",
   "execution_count": 157,
   "metadata": {},
   "outputs": [],
   "source": [
    "## Calculate lyric word counts and unique song counts by artist\n",
    "artist_lyric_and_song_counts = artist_agg_stats_df.groupby(['artist_clean','country','region','state','city']).agg({'lyrics_word_count':sum,\n",
    "                                                                                'lyrics_word_count_excl_sw':sum,\n",
    "                                                                                'song':pd.Series.nunique})\n",
    "artist_lyric_and_song_counts = artist_lyric_and_song_counts.reset_index()\n",
    "artist_lyric_and_song_counts.columns = ['artist_clean','country','region','state','city','total_lyric_words','total_lyric_words_excl_sw','unique_song_count']\n"
   ]
  },
  {
   "cell_type": "code",
   "execution_count": 158,
   "metadata": {},
   "outputs": [],
   "source": [
    "## Calculate food word baseline probabilities\n",
    "food_word_baseline_df = artist_food_word_stats_df.groupby('food_word').agg({'food_word_count':sum,'song':pd.Series.nunique})\n",
    "food_word_baseline_df = food_word_baseline_df.reset_index()\n",
    "food_word_baseline_df.columns = ['food_word','total_food_word_occurrence_count','food_word_unique_song_count']\n",
    "food_word_baseline_df['food_word_baseline_prob_all_lyric_words'] = food_word_baseline_df['total_food_word_occurrence_count'] / all_artists_lyric_words_count\n",
    "food_word_baseline_df['food_word_baseline_prob_lyric_words_excl_sw'] = food_word_baseline_df['total_food_word_occurrence_count'] / all_artists_lyric_words_excl_sw_count\n",
    "food_word_baseline_df['food_word_baseline_prob_num_songs'] = food_word_baseline_df['food_word_unique_song_count'] / all_artists_unique_songs_count\n"
   ]
  },
  {
   "cell_type": "code",
   "execution_count": 159,
   "metadata": {},
   "outputs": [],
   "source": [
    "## Calculate artist food word probabilities\n",
    "artist_food_word_probs_df = artist_food_word_stats_df.groupby(['artist_clean','food_word','country','region','state','city']).agg({'food_word_count':sum,'song':[pd.Series.nunique,unique_values]})\n",
    "artist_food_word_probs_df = artist_food_word_probs_df.reset_index()\n",
    "artist_food_word_probs_df.columns = ['artist_clean','food_word','country','region','state','city','artist_food_word_count','artist_food_word_unique_song_count','artist_food_word_unique_songs']\n",
    "## Merge artist total lyric and song counts with artist food word counts\n",
    "artist_food_word_probs_df = pd.merge(artist_food_word_probs_df,artist_lyric_and_song_counts,on='artist_clean',how='left')\n",
    "artist_food_word_probs_df['artist_food_word_prob_all_lyric_words'] = artist_food_word_probs_df['artist_food_word_count'] / artist_food_word_probs_df['total_lyric_words']\n",
    "artist_food_word_probs_df['artist_food_word_prob_lyric_words_excl_sw'] = artist_food_word_probs_df['artist_food_word_count'] / artist_food_word_probs_df['total_lyric_words_excl_sw']\n",
    "artist_food_word_probs_df['artist_food_word_prob_num_songs'] = artist_food_word_probs_df['artist_food_word_unique_song_count'] / artist_food_word_probs_df['unique_song_count']\n",
    "### Merge food word baselines with artist food word probabilities\n",
    "artist_food_word_probs_df = pd.merge(artist_food_word_probs_df,food_word_baseline_df,on='food_word',how='left')\n",
    "artist_food_word_probs_df['artist_food_word_index_all_lyric_words'] = artist_food_word_probs_df['artist_food_word_prob_all_lyric_words'] / artist_food_word_probs_df['food_word_baseline_prob_all_lyric_words']\n",
    "artist_food_word_probs_df['artist_food_word_index_lyric_words_excl_sw'] = artist_food_word_probs_df['artist_food_word_prob_lyric_words_excl_sw'] / artist_food_word_probs_df['food_word_baseline_prob_lyric_words_excl_sw']\n",
    "artist_food_word_probs_df['artist_food_word_index_num_songs'] = artist_food_word_probs_df['artist_food_word_prob_num_songs'] / artist_food_word_probs_df['food_word_baseline_prob_num_songs']\n",
    "### De-duplicate artist region data\n",
    "artist_food_word_probs_df = artist_food_word_probs_df.drop(labels=['country_y','region_y','state_y','city_y'],axis=1)\n",
    "artist_food_word_probs_df = artist_food_word_probs_df.rename(columns={'country_x':'country','region_x':'region','state_x':'state','city_x':'city'})"
   ]
  },
  {
   "cell_type": "code",
   "execution_count": 160,
   "metadata": {},
   "outputs": [],
   "source": [
    "## Calculate total food word count, unique food word count by artist and merge with aggregate song lyric songs\n",
    "artist_total_food_words_df = artist_food_word_probs_df.groupby(['artist_clean','country','region','state','city']).agg({'artist_food_word_count':sum,'food_word':pd.Series.nunique})\n",
    "artist_total_food_words_df = artist_total_food_words_df.reset_index()\n",
    "artist_total_food_words_df.columns = ['artist_clean','country','region','state','city','total_food_word_count','unique_food_word_count']\n",
    "artist_total_food_words_df = pd.merge(artist_total_food_words_df,artist_lyric_and_song_counts[['artist_clean','total_lyric_words','total_lyric_words_excl_sw','unique_song_count']],on='artist_clean',how='left')\n",
    "artist_total_food_words_df = artist_total_food_words_df.rename(columns={'unique_song_count':'total_song_count'})\n",
    "## Calculate number of songs that include at least one mention of a food word\n",
    "artist_songs_with_food_words_df = artist_agg_stats_df.loc[artist_agg_stats_df.food_words_count>0].groupby('artist_clean').agg({'song':pd.Series.nunique})\n",
    "artist_songs_with_food_words_df = artist_songs_with_food_words_df.reset_index()\n",
    "artist_songs_with_food_words_df.columns = ['artist_clean','total_songs_with_food_words']\n",
    "## Calculate percentage of lyrics that are food and percentage of songs that include a food word\n",
    "artist_total_food_words_df = pd.merge(artist_total_food_words_df,artist_songs_with_food_words_df,on='artist_clean',how='left')\n",
    "artist_total_food_words_df['food_words_lyrics_prob'] = artist_total_food_words_df['total_food_word_count'] / artist_total_food_words_df['total_lyric_words']\n",
    "artist_total_food_words_df['food_words_lyrics_excl_sw_prob'] = artist_total_food_words_df['total_food_word_count'] / artist_total_food_words_df['total_lyric_words_excl_sw']\n",
    "artist_total_food_words_df['food_words_song_prob'] = artist_total_food_words_df['total_songs_with_food_words'] / artist_total_food_words_df['total_song_count']\n"
   ]
  },
  {
   "cell_type": "markdown",
   "metadata": {},
   "source": [
    "# Top Artists Based on Food Word Usage - Percentage of Lyrics"
   ]
  },
  {
   "cell_type": "code",
   "execution_count": 161,
   "metadata": {},
   "outputs": [],
   "source": [
    "results_limit = 25\n",
    "sort_values_by = 'food_words_lyrics_prob'\n",
    "#sort_values_by = 'total_food_word_count'"
   ]
  },
  {
   "cell_type": "code",
   "execution_count": 162,
   "metadata": {},
   "outputs": [
    {
     "data": {
      "application/vnd.plotly.v1+json": {
       "config": {
        "plotlyServerURL": "https://plot.ly"
       },
       "data": [
        {
         "name": "Count of Total Food Word Mentions",
         "type": "bar",
         "x": [
          "action bronson",
          "granata",
          "ski mask the slump god",
          "smino",
          "ghostface killah",
          "noname",
          "e40",
          "andre nickatina",
          "mf doom",
          "2 chainz",
          "ice cube",
          "doja cat",
          "camron",
          "aesop rock",
          "princess nokia",
          "kool g rap",
          "offset",
          "raekwon",
          "blueface",
          "lil dicky",
          "tierra whack",
          "takeoff",
          "danny brown",
          "lizzo",
          "tyler the creator"
         ],
         "xaxis": "x",
         "y": [
          1679,
          288,
          1514,
          614,
          1520,
          182,
          3160,
          758,
          821,
          1641,
          1371,
          503,
          658,
          1277,
          238,
          606,
          1493,
          1319,
          339,
          504,
          88,
          753,
          709,
          254,
          817
         ],
         "yaxis": "y"
        },
        {
         "name": "Percentage of Lyrics Comprised of Food Words",
         "type": "scatter",
         "x": [
          "action bronson",
          "granata",
          "ski mask the slump god",
          "smino",
          "ghostface killah",
          "noname",
          "e40",
          "andre nickatina",
          "mf doom",
          "2 chainz",
          "ice cube",
          "doja cat",
          "camron",
          "aesop rock",
          "princess nokia",
          "kool g rap",
          "offset",
          "raekwon",
          "blueface",
          "lil dicky",
          "tierra whack",
          "takeoff",
          "danny brown",
          "lizzo",
          "tyler the creator"
         ],
         "xaxis": "x",
         "y": [
          2.1775500940276244,
          1.8981084821722796,
          1.8141948162438737,
          1.535729471498962,
          1.3366750208855471,
          1.320850569707526,
          1.1952040546162865,
          1.1876596211397146,
          1.1633344196789142,
          1.09312549960032,
          1.0693727282654477,
          1.0690754516471839,
          1.0450748070264604,
          1.0242877310061602,
          1.024140453547915,
          0.9896139525769155,
          0.9665182039463464,
          0.9538617298235466,
          0.9536669761161279,
          0.9509075129240405,
          0.942083288727117,
          0.938610158928015,
          0.9295069286941018,
          0.9269734681216014,
          0.9199828840393667
         ],
         "yaxis": "y2"
        }
       ],
       "layout": {
        "legend": {
         "orientation": "h",
         "x": 0.6,
         "xanchor": "right",
         "y": 1.02,
         "yanchor": "bottom"
        },
        "template": {
         "data": {
          "bar": [
           {
            "error_x": {
             "color": "#2a3f5f"
            },
            "error_y": {
             "color": "#2a3f5f"
            },
            "marker": {
             "line": {
              "color": "#E5ECF6",
              "width": 0.5
             }
            },
            "type": "bar"
           }
          ],
          "barpolar": [
           {
            "marker": {
             "line": {
              "color": "#E5ECF6",
              "width": 0.5
             }
            },
            "type": "barpolar"
           }
          ],
          "carpet": [
           {
            "aaxis": {
             "endlinecolor": "#2a3f5f",
             "gridcolor": "white",
             "linecolor": "white",
             "minorgridcolor": "white",
             "startlinecolor": "#2a3f5f"
            },
            "baxis": {
             "endlinecolor": "#2a3f5f",
             "gridcolor": "white",
             "linecolor": "white",
             "minorgridcolor": "white",
             "startlinecolor": "#2a3f5f"
            },
            "type": "carpet"
           }
          ],
          "choropleth": [
           {
            "colorbar": {
             "outlinewidth": 0,
             "ticks": ""
            },
            "type": "choropleth"
           }
          ],
          "contour": [
           {
            "colorbar": {
             "outlinewidth": 0,
             "ticks": ""
            },
            "colorscale": [
             [
              0,
              "#0d0887"
             ],
             [
              0.1111111111111111,
              "#46039f"
             ],
             [
              0.2222222222222222,
              "#7201a8"
             ],
             [
              0.3333333333333333,
              "#9c179e"
             ],
             [
              0.4444444444444444,
              "#bd3786"
             ],
             [
              0.5555555555555556,
              "#d8576b"
             ],
             [
              0.6666666666666666,
              "#ed7953"
             ],
             [
              0.7777777777777778,
              "#fb9f3a"
             ],
             [
              0.8888888888888888,
              "#fdca26"
             ],
             [
              1,
              "#f0f921"
             ]
            ],
            "type": "contour"
           }
          ],
          "contourcarpet": [
           {
            "colorbar": {
             "outlinewidth": 0,
             "ticks": ""
            },
            "type": "contourcarpet"
           }
          ],
          "heatmap": [
           {
            "colorbar": {
             "outlinewidth": 0,
             "ticks": ""
            },
            "colorscale": [
             [
              0,
              "#0d0887"
             ],
             [
              0.1111111111111111,
              "#46039f"
             ],
             [
              0.2222222222222222,
              "#7201a8"
             ],
             [
              0.3333333333333333,
              "#9c179e"
             ],
             [
              0.4444444444444444,
              "#bd3786"
             ],
             [
              0.5555555555555556,
              "#d8576b"
             ],
             [
              0.6666666666666666,
              "#ed7953"
             ],
             [
              0.7777777777777778,
              "#fb9f3a"
             ],
             [
              0.8888888888888888,
              "#fdca26"
             ],
             [
              1,
              "#f0f921"
             ]
            ],
            "type": "heatmap"
           }
          ],
          "heatmapgl": [
           {
            "colorbar": {
             "outlinewidth": 0,
             "ticks": ""
            },
            "colorscale": [
             [
              0,
              "#0d0887"
             ],
             [
              0.1111111111111111,
              "#46039f"
             ],
             [
              0.2222222222222222,
              "#7201a8"
             ],
             [
              0.3333333333333333,
              "#9c179e"
             ],
             [
              0.4444444444444444,
              "#bd3786"
             ],
             [
              0.5555555555555556,
              "#d8576b"
             ],
             [
              0.6666666666666666,
              "#ed7953"
             ],
             [
              0.7777777777777778,
              "#fb9f3a"
             ],
             [
              0.8888888888888888,
              "#fdca26"
             ],
             [
              1,
              "#f0f921"
             ]
            ],
            "type": "heatmapgl"
           }
          ],
          "histogram": [
           {
            "marker": {
             "colorbar": {
              "outlinewidth": 0,
              "ticks": ""
             }
            },
            "type": "histogram"
           }
          ],
          "histogram2d": [
           {
            "colorbar": {
             "outlinewidth": 0,
             "ticks": ""
            },
            "colorscale": [
             [
              0,
              "#0d0887"
             ],
             [
              0.1111111111111111,
              "#46039f"
             ],
             [
              0.2222222222222222,
              "#7201a8"
             ],
             [
              0.3333333333333333,
              "#9c179e"
             ],
             [
              0.4444444444444444,
              "#bd3786"
             ],
             [
              0.5555555555555556,
              "#d8576b"
             ],
             [
              0.6666666666666666,
              "#ed7953"
             ],
             [
              0.7777777777777778,
              "#fb9f3a"
             ],
             [
              0.8888888888888888,
              "#fdca26"
             ],
             [
              1,
              "#f0f921"
             ]
            ],
            "type": "histogram2d"
           }
          ],
          "histogram2dcontour": [
           {
            "colorbar": {
             "outlinewidth": 0,
             "ticks": ""
            },
            "colorscale": [
             [
              0,
              "#0d0887"
             ],
             [
              0.1111111111111111,
              "#46039f"
             ],
             [
              0.2222222222222222,
              "#7201a8"
             ],
             [
              0.3333333333333333,
              "#9c179e"
             ],
             [
              0.4444444444444444,
              "#bd3786"
             ],
             [
              0.5555555555555556,
              "#d8576b"
             ],
             [
              0.6666666666666666,
              "#ed7953"
             ],
             [
              0.7777777777777778,
              "#fb9f3a"
             ],
             [
              0.8888888888888888,
              "#fdca26"
             ],
             [
              1,
              "#f0f921"
             ]
            ],
            "type": "histogram2dcontour"
           }
          ],
          "mesh3d": [
           {
            "colorbar": {
             "outlinewidth": 0,
             "ticks": ""
            },
            "type": "mesh3d"
           }
          ],
          "parcoords": [
           {
            "line": {
             "colorbar": {
              "outlinewidth": 0,
              "ticks": ""
             }
            },
            "type": "parcoords"
           }
          ],
          "pie": [
           {
            "automargin": true,
            "type": "pie"
           }
          ],
          "scatter": [
           {
            "marker": {
             "colorbar": {
              "outlinewidth": 0,
              "ticks": ""
             }
            },
            "type": "scatter"
           }
          ],
          "scatter3d": [
           {
            "line": {
             "colorbar": {
              "outlinewidth": 0,
              "ticks": ""
             }
            },
            "marker": {
             "colorbar": {
              "outlinewidth": 0,
              "ticks": ""
             }
            },
            "type": "scatter3d"
           }
          ],
          "scattercarpet": [
           {
            "marker": {
             "colorbar": {
              "outlinewidth": 0,
              "ticks": ""
             }
            },
            "type": "scattercarpet"
           }
          ],
          "scattergeo": [
           {
            "marker": {
             "colorbar": {
              "outlinewidth": 0,
              "ticks": ""
             }
            },
            "type": "scattergeo"
           }
          ],
          "scattergl": [
           {
            "marker": {
             "colorbar": {
              "outlinewidth": 0,
              "ticks": ""
             }
            },
            "type": "scattergl"
           }
          ],
          "scattermapbox": [
           {
            "marker": {
             "colorbar": {
              "outlinewidth": 0,
              "ticks": ""
             }
            },
            "type": "scattermapbox"
           }
          ],
          "scatterpolar": [
           {
            "marker": {
             "colorbar": {
              "outlinewidth": 0,
              "ticks": ""
             }
            },
            "type": "scatterpolar"
           }
          ],
          "scatterpolargl": [
           {
            "marker": {
             "colorbar": {
              "outlinewidth": 0,
              "ticks": ""
             }
            },
            "type": "scatterpolargl"
           }
          ],
          "scatterternary": [
           {
            "marker": {
             "colorbar": {
              "outlinewidth": 0,
              "ticks": ""
             }
            },
            "type": "scatterternary"
           }
          ],
          "surface": [
           {
            "colorbar": {
             "outlinewidth": 0,
             "ticks": ""
            },
            "colorscale": [
             [
              0,
              "#0d0887"
             ],
             [
              0.1111111111111111,
              "#46039f"
             ],
             [
              0.2222222222222222,
              "#7201a8"
             ],
             [
              0.3333333333333333,
              "#9c179e"
             ],
             [
              0.4444444444444444,
              "#bd3786"
             ],
             [
              0.5555555555555556,
              "#d8576b"
             ],
             [
              0.6666666666666666,
              "#ed7953"
             ],
             [
              0.7777777777777778,
              "#fb9f3a"
             ],
             [
              0.8888888888888888,
              "#fdca26"
             ],
             [
              1,
              "#f0f921"
             ]
            ],
            "type": "surface"
           }
          ],
          "table": [
           {
            "cells": {
             "fill": {
              "color": "#EBF0F8"
             },
             "line": {
              "color": "white"
             }
            },
            "header": {
             "fill": {
              "color": "#C8D4E3"
             },
             "line": {
              "color": "white"
             }
            },
            "type": "table"
           }
          ]
         },
         "layout": {
          "annotationdefaults": {
           "arrowcolor": "#2a3f5f",
           "arrowhead": 0,
           "arrowwidth": 1
          },
          "coloraxis": {
           "colorbar": {
            "outlinewidth": 0,
            "ticks": ""
           }
          },
          "colorscale": {
           "diverging": [
            [
             0,
             "#8e0152"
            ],
            [
             0.1,
             "#c51b7d"
            ],
            [
             0.2,
             "#de77ae"
            ],
            [
             0.3,
             "#f1b6da"
            ],
            [
             0.4,
             "#fde0ef"
            ],
            [
             0.5,
             "#f7f7f7"
            ],
            [
             0.6,
             "#e6f5d0"
            ],
            [
             0.7,
             "#b8e186"
            ],
            [
             0.8,
             "#7fbc41"
            ],
            [
             0.9,
             "#4d9221"
            ],
            [
             1,
             "#276419"
            ]
           ],
           "sequential": [
            [
             0,
             "#0d0887"
            ],
            [
             0.1111111111111111,
             "#46039f"
            ],
            [
             0.2222222222222222,
             "#7201a8"
            ],
            [
             0.3333333333333333,
             "#9c179e"
            ],
            [
             0.4444444444444444,
             "#bd3786"
            ],
            [
             0.5555555555555556,
             "#d8576b"
            ],
            [
             0.6666666666666666,
             "#ed7953"
            ],
            [
             0.7777777777777778,
             "#fb9f3a"
            ],
            [
             0.8888888888888888,
             "#fdca26"
            ],
            [
             1,
             "#f0f921"
            ]
           ],
           "sequentialminus": [
            [
             0,
             "#0d0887"
            ],
            [
             0.1111111111111111,
             "#46039f"
            ],
            [
             0.2222222222222222,
             "#7201a8"
            ],
            [
             0.3333333333333333,
             "#9c179e"
            ],
            [
             0.4444444444444444,
             "#bd3786"
            ],
            [
             0.5555555555555556,
             "#d8576b"
            ],
            [
             0.6666666666666666,
             "#ed7953"
            ],
            [
             0.7777777777777778,
             "#fb9f3a"
            ],
            [
             0.8888888888888888,
             "#fdca26"
            ],
            [
             1,
             "#f0f921"
            ]
           ]
          },
          "colorway": [
           "#636efa",
           "#EF553B",
           "#00cc96",
           "#ab63fa",
           "#FFA15A",
           "#19d3f3",
           "#FF6692",
           "#B6E880",
           "#FF97FF",
           "#FECB52"
          ],
          "font": {
           "color": "#2a3f5f"
          },
          "geo": {
           "bgcolor": "white",
           "lakecolor": "white",
           "landcolor": "#E5ECF6",
           "showlakes": true,
           "showland": true,
           "subunitcolor": "white"
          },
          "hoverlabel": {
           "align": "left"
          },
          "hovermode": "closest",
          "mapbox": {
           "style": "light"
          },
          "paper_bgcolor": "white",
          "plot_bgcolor": "#E5ECF6",
          "polar": {
           "angularaxis": {
            "gridcolor": "white",
            "linecolor": "white",
            "ticks": ""
           },
           "bgcolor": "#E5ECF6",
           "radialaxis": {
            "gridcolor": "white",
            "linecolor": "white",
            "ticks": ""
           }
          },
          "scene": {
           "xaxis": {
            "backgroundcolor": "#E5ECF6",
            "gridcolor": "white",
            "gridwidth": 2,
            "linecolor": "white",
            "showbackground": true,
            "ticks": "",
            "zerolinecolor": "white"
           },
           "yaxis": {
            "backgroundcolor": "#E5ECF6",
            "gridcolor": "white",
            "gridwidth": 2,
            "linecolor": "white",
            "showbackground": true,
            "ticks": "",
            "zerolinecolor": "white"
           },
           "zaxis": {
            "backgroundcolor": "#E5ECF6",
            "gridcolor": "white",
            "gridwidth": 2,
            "linecolor": "white",
            "showbackground": true,
            "ticks": "",
            "zerolinecolor": "white"
           }
          },
          "shapedefaults": {
           "line": {
            "color": "#2a3f5f"
           }
          },
          "ternary": {
           "aaxis": {
            "gridcolor": "white",
            "linecolor": "white",
            "ticks": ""
           },
           "baxis": {
            "gridcolor": "white",
            "linecolor": "white",
            "ticks": ""
           },
           "bgcolor": "#E5ECF6",
           "caxis": {
            "gridcolor": "white",
            "linecolor": "white",
            "ticks": ""
           }
          },
          "title": {
           "x": 0.05
          },
          "xaxis": {
           "automargin": true,
           "gridcolor": "white",
           "linecolor": "white",
           "ticks": "",
           "title": {
            "standoff": 15
           },
           "zerolinecolor": "white",
           "zerolinewidth": 2
          },
          "yaxis": {
           "automargin": true,
           "gridcolor": "white",
           "linecolor": "white",
           "ticks": "",
           "title": {
            "standoff": 15
           },
           "zerolinecolor": "white",
           "zerolinewidth": 2
          }
         }
        },
        "title": {
         "text": "Top 25 Artists by Percentage of Lyrics Comprised of Food Words",
         "x": 0.45,
         "xanchor": "center",
         "y": 0.9,
         "yanchor": "top"
        },
        "xaxis": {
         "anchor": "y",
         "domain": [
          0,
          0.94
         ],
         "title": {
          "text": "Artist"
         }
        },
        "yaxis": {
         "anchor": "x",
         "domain": [
          0,
          1
         ],
         "title": {
          "text": "Total Food Word Count"
         }
        },
        "yaxis2": {
         "anchor": "x",
         "overlaying": "y",
         "side": "right",
         "title": {
          "text": "Percentage of Lyrics Comrpised of Food Words"
         }
        }
       }
      },
      "text/html": [
       "<div>\n",
       "        \n",
       "        \n",
       "            <div id=\"adf874ba-59a6-49de-aba5-e932d93cbee4\" class=\"plotly-graph-div\" style=\"height:525px; width:100%;\"></div>\n",
       "            <script type=\"text/javascript\">\n",
       "                require([\"plotly\"], function(Plotly) {\n",
       "                    window.PLOTLYENV=window.PLOTLYENV || {};\n",
       "                    \n",
       "                if (document.getElementById(\"adf874ba-59a6-49de-aba5-e932d93cbee4\")) {\n",
       "                    Plotly.newPlot(\n",
       "                        'adf874ba-59a6-49de-aba5-e932d93cbee4',\n",
       "                        [{\"name\": \"Count of Total Food Word Mentions\", \"type\": \"bar\", \"x\": [\"action bronson\", \"granata\", \"ski mask the slump god\", \"smino\", \"ghostface killah\", \"noname\", \"e40\", \"andre nickatina\", \"mf doom\", \"2 chainz\", \"ice cube\", \"doja cat\", \"camron\", \"aesop rock\", \"princess nokia\", \"kool g rap\", \"offset\", \"raekwon\", \"blueface\", \"lil dicky\", \"tierra whack\", \"takeoff\", \"danny brown\", \"lizzo\", \"tyler the creator\"], \"xaxis\": \"x\", \"y\": [1679, 288, 1514, 614, 1520, 182, 3160, 758, 821, 1641, 1371, 503, 658, 1277, 238, 606, 1493, 1319, 339, 504, 88, 753, 709, 254, 817], \"yaxis\": \"y\"}, {\"name\": \"Percentage of Lyrics Comprised of Food Words\", \"type\": \"scatter\", \"x\": [\"action bronson\", \"granata\", \"ski mask the slump god\", \"smino\", \"ghostface killah\", \"noname\", \"e40\", \"andre nickatina\", \"mf doom\", \"2 chainz\", \"ice cube\", \"doja cat\", \"camron\", \"aesop rock\", \"princess nokia\", \"kool g rap\", \"offset\", \"raekwon\", \"blueface\", \"lil dicky\", \"tierra whack\", \"takeoff\", \"danny brown\", \"lizzo\", \"tyler the creator\"], \"xaxis\": \"x\", \"y\": [2.1775500940276244, 1.8981084821722796, 1.8141948162438737, 1.535729471498962, 1.3366750208855471, 1.320850569707526, 1.1952040546162865, 1.1876596211397146, 1.1633344196789142, 1.09312549960032, 1.0693727282654477, 1.0690754516471839, 1.0450748070264604, 1.0242877310061602, 1.024140453547915, 0.9896139525769155, 0.9665182039463464, 0.9538617298235466, 0.9536669761161279, 0.9509075129240405, 0.942083288727117, 0.938610158928015, 0.9295069286941018, 0.9269734681216014, 0.9199828840393667], \"yaxis\": \"y2\"}],\n",
       "                        {\"legend\": {\"orientation\": \"h\", \"x\": 0.6, \"xanchor\": \"right\", \"y\": 1.02, \"yanchor\": \"bottom\"}, \"template\": {\"data\": {\"bar\": [{\"error_x\": {\"color\": \"#2a3f5f\"}, \"error_y\": {\"color\": \"#2a3f5f\"}, \"marker\": {\"line\": {\"color\": \"#E5ECF6\", \"width\": 0.5}}, \"type\": \"bar\"}], \"barpolar\": [{\"marker\": {\"line\": {\"color\": \"#E5ECF6\", \"width\": 0.5}}, \"type\": \"barpolar\"}], \"carpet\": [{\"aaxis\": {\"endlinecolor\": \"#2a3f5f\", \"gridcolor\": \"white\", \"linecolor\": \"white\", \"minorgridcolor\": \"white\", \"startlinecolor\": \"#2a3f5f\"}, \"baxis\": {\"endlinecolor\": \"#2a3f5f\", \"gridcolor\": \"white\", \"linecolor\": \"white\", \"minorgridcolor\": \"white\", \"startlinecolor\": \"#2a3f5f\"}, \"type\": \"carpet\"}], \"choropleth\": [{\"colorbar\": {\"outlinewidth\": 0, \"ticks\": \"\"}, \"type\": \"choropleth\"}], \"contour\": [{\"colorbar\": {\"outlinewidth\": 0, \"ticks\": \"\"}, \"colorscale\": [[0.0, \"#0d0887\"], [0.1111111111111111, \"#46039f\"], [0.2222222222222222, \"#7201a8\"], [0.3333333333333333, \"#9c179e\"], [0.4444444444444444, \"#bd3786\"], [0.5555555555555556, \"#d8576b\"], [0.6666666666666666, \"#ed7953\"], [0.7777777777777778, \"#fb9f3a\"], [0.8888888888888888, \"#fdca26\"], [1.0, \"#f0f921\"]], \"type\": \"contour\"}], \"contourcarpet\": [{\"colorbar\": {\"outlinewidth\": 0, \"ticks\": \"\"}, \"type\": \"contourcarpet\"}], \"heatmap\": [{\"colorbar\": {\"outlinewidth\": 0, \"ticks\": \"\"}, \"colorscale\": [[0.0, \"#0d0887\"], [0.1111111111111111, \"#46039f\"], [0.2222222222222222, \"#7201a8\"], [0.3333333333333333, \"#9c179e\"], [0.4444444444444444, \"#bd3786\"], [0.5555555555555556, \"#d8576b\"], [0.6666666666666666, \"#ed7953\"], [0.7777777777777778, \"#fb9f3a\"], [0.8888888888888888, \"#fdca26\"], [1.0, \"#f0f921\"]], \"type\": \"heatmap\"}], \"heatmapgl\": [{\"colorbar\": {\"outlinewidth\": 0, \"ticks\": \"\"}, \"colorscale\": [[0.0, \"#0d0887\"], [0.1111111111111111, \"#46039f\"], [0.2222222222222222, \"#7201a8\"], [0.3333333333333333, \"#9c179e\"], [0.4444444444444444, \"#bd3786\"], [0.5555555555555556, \"#d8576b\"], [0.6666666666666666, \"#ed7953\"], [0.7777777777777778, \"#fb9f3a\"], [0.8888888888888888, \"#fdca26\"], [1.0, \"#f0f921\"]], \"type\": \"heatmapgl\"}], \"histogram\": [{\"marker\": {\"colorbar\": {\"outlinewidth\": 0, \"ticks\": \"\"}}, \"type\": \"histogram\"}], \"histogram2d\": [{\"colorbar\": {\"outlinewidth\": 0, \"ticks\": \"\"}, \"colorscale\": [[0.0, \"#0d0887\"], [0.1111111111111111, \"#46039f\"], [0.2222222222222222, \"#7201a8\"], [0.3333333333333333, \"#9c179e\"], [0.4444444444444444, \"#bd3786\"], [0.5555555555555556, \"#d8576b\"], [0.6666666666666666, \"#ed7953\"], [0.7777777777777778, \"#fb9f3a\"], [0.8888888888888888, \"#fdca26\"], [1.0, \"#f0f921\"]], \"type\": \"histogram2d\"}], \"histogram2dcontour\": [{\"colorbar\": {\"outlinewidth\": 0, \"ticks\": \"\"}, \"colorscale\": [[0.0, \"#0d0887\"], [0.1111111111111111, \"#46039f\"], [0.2222222222222222, \"#7201a8\"], [0.3333333333333333, \"#9c179e\"], [0.4444444444444444, \"#bd3786\"], [0.5555555555555556, \"#d8576b\"], [0.6666666666666666, \"#ed7953\"], [0.7777777777777778, \"#fb9f3a\"], [0.8888888888888888, \"#fdca26\"], [1.0, \"#f0f921\"]], \"type\": \"histogram2dcontour\"}], \"mesh3d\": [{\"colorbar\": {\"outlinewidth\": 0, \"ticks\": \"\"}, \"type\": \"mesh3d\"}], \"parcoords\": [{\"line\": {\"colorbar\": {\"outlinewidth\": 0, \"ticks\": \"\"}}, \"type\": \"parcoords\"}], \"pie\": [{\"automargin\": true, \"type\": \"pie\"}], \"scatter\": [{\"marker\": {\"colorbar\": {\"outlinewidth\": 0, \"ticks\": \"\"}}, \"type\": \"scatter\"}], \"scatter3d\": [{\"line\": {\"colorbar\": {\"outlinewidth\": 0, \"ticks\": \"\"}}, \"marker\": {\"colorbar\": {\"outlinewidth\": 0, \"ticks\": \"\"}}, \"type\": \"scatter3d\"}], \"scattercarpet\": [{\"marker\": {\"colorbar\": {\"outlinewidth\": 0, \"ticks\": \"\"}}, \"type\": \"scattercarpet\"}], \"scattergeo\": [{\"marker\": {\"colorbar\": {\"outlinewidth\": 0, \"ticks\": \"\"}}, \"type\": \"scattergeo\"}], \"scattergl\": [{\"marker\": {\"colorbar\": {\"outlinewidth\": 0, \"ticks\": \"\"}}, \"type\": \"scattergl\"}], \"scattermapbox\": [{\"marker\": {\"colorbar\": {\"outlinewidth\": 0, \"ticks\": \"\"}}, \"type\": \"scattermapbox\"}], \"scatterpolar\": [{\"marker\": {\"colorbar\": {\"outlinewidth\": 0, \"ticks\": \"\"}}, \"type\": \"scatterpolar\"}], \"scatterpolargl\": [{\"marker\": {\"colorbar\": {\"outlinewidth\": 0, \"ticks\": \"\"}}, \"type\": \"scatterpolargl\"}], \"scatterternary\": [{\"marker\": {\"colorbar\": {\"outlinewidth\": 0, \"ticks\": \"\"}}, \"type\": \"scatterternary\"}], \"surface\": [{\"colorbar\": {\"outlinewidth\": 0, \"ticks\": \"\"}, \"colorscale\": [[0.0, \"#0d0887\"], [0.1111111111111111, \"#46039f\"], [0.2222222222222222, \"#7201a8\"], [0.3333333333333333, \"#9c179e\"], [0.4444444444444444, \"#bd3786\"], [0.5555555555555556, \"#d8576b\"], [0.6666666666666666, \"#ed7953\"], [0.7777777777777778, \"#fb9f3a\"], [0.8888888888888888, \"#fdca26\"], [1.0, \"#f0f921\"]], \"type\": \"surface\"}], \"table\": [{\"cells\": {\"fill\": {\"color\": \"#EBF0F8\"}, \"line\": {\"color\": \"white\"}}, \"header\": {\"fill\": {\"color\": \"#C8D4E3\"}, \"line\": {\"color\": \"white\"}}, \"type\": \"table\"}]}, \"layout\": {\"annotationdefaults\": {\"arrowcolor\": \"#2a3f5f\", \"arrowhead\": 0, \"arrowwidth\": 1}, \"coloraxis\": {\"colorbar\": {\"outlinewidth\": 0, \"ticks\": \"\"}}, \"colorscale\": {\"diverging\": [[0, \"#8e0152\"], [0.1, \"#c51b7d\"], [0.2, \"#de77ae\"], [0.3, \"#f1b6da\"], [0.4, \"#fde0ef\"], [0.5, \"#f7f7f7\"], [0.6, \"#e6f5d0\"], [0.7, \"#b8e186\"], [0.8, \"#7fbc41\"], [0.9, \"#4d9221\"], [1, \"#276419\"]], \"sequential\": [[0.0, \"#0d0887\"], [0.1111111111111111, \"#46039f\"], [0.2222222222222222, \"#7201a8\"], [0.3333333333333333, \"#9c179e\"], [0.4444444444444444, \"#bd3786\"], [0.5555555555555556, \"#d8576b\"], [0.6666666666666666, \"#ed7953\"], [0.7777777777777778, \"#fb9f3a\"], [0.8888888888888888, \"#fdca26\"], [1.0, \"#f0f921\"]], \"sequentialminus\": [[0.0, \"#0d0887\"], [0.1111111111111111, \"#46039f\"], [0.2222222222222222, \"#7201a8\"], [0.3333333333333333, \"#9c179e\"], [0.4444444444444444, \"#bd3786\"], [0.5555555555555556, \"#d8576b\"], [0.6666666666666666, \"#ed7953\"], [0.7777777777777778, \"#fb9f3a\"], [0.8888888888888888, \"#fdca26\"], [1.0, \"#f0f921\"]]}, \"colorway\": [\"#636efa\", \"#EF553B\", \"#00cc96\", \"#ab63fa\", \"#FFA15A\", \"#19d3f3\", \"#FF6692\", \"#B6E880\", \"#FF97FF\", \"#FECB52\"], \"font\": {\"color\": \"#2a3f5f\"}, \"geo\": {\"bgcolor\": \"white\", \"lakecolor\": \"white\", \"landcolor\": \"#E5ECF6\", \"showlakes\": true, \"showland\": true, \"subunitcolor\": \"white\"}, \"hoverlabel\": {\"align\": \"left\"}, \"hovermode\": \"closest\", \"mapbox\": {\"style\": \"light\"}, \"paper_bgcolor\": \"white\", \"plot_bgcolor\": \"#E5ECF6\", \"polar\": {\"angularaxis\": {\"gridcolor\": \"white\", \"linecolor\": \"white\", \"ticks\": \"\"}, \"bgcolor\": \"#E5ECF6\", \"radialaxis\": {\"gridcolor\": \"white\", \"linecolor\": \"white\", \"ticks\": \"\"}}, \"scene\": {\"xaxis\": {\"backgroundcolor\": \"#E5ECF6\", \"gridcolor\": \"white\", \"gridwidth\": 2, \"linecolor\": \"white\", \"showbackground\": true, \"ticks\": \"\", \"zerolinecolor\": \"white\"}, \"yaxis\": {\"backgroundcolor\": \"#E5ECF6\", \"gridcolor\": \"white\", \"gridwidth\": 2, \"linecolor\": \"white\", \"showbackground\": true, \"ticks\": \"\", \"zerolinecolor\": \"white\"}, \"zaxis\": {\"backgroundcolor\": \"#E5ECF6\", \"gridcolor\": \"white\", \"gridwidth\": 2, \"linecolor\": \"white\", \"showbackground\": true, \"ticks\": \"\", \"zerolinecolor\": \"white\"}}, \"shapedefaults\": {\"line\": {\"color\": \"#2a3f5f\"}}, \"ternary\": {\"aaxis\": {\"gridcolor\": \"white\", \"linecolor\": \"white\", \"ticks\": \"\"}, \"baxis\": {\"gridcolor\": \"white\", \"linecolor\": \"white\", \"ticks\": \"\"}, \"bgcolor\": \"#E5ECF6\", \"caxis\": {\"gridcolor\": \"white\", \"linecolor\": \"white\", \"ticks\": \"\"}}, \"title\": {\"x\": 0.05}, \"xaxis\": {\"automargin\": true, \"gridcolor\": \"white\", \"linecolor\": \"white\", \"ticks\": \"\", \"title\": {\"standoff\": 15}, \"zerolinecolor\": \"white\", \"zerolinewidth\": 2}, \"yaxis\": {\"automargin\": true, \"gridcolor\": \"white\", \"linecolor\": \"white\", \"ticks\": \"\", \"title\": {\"standoff\": 15}, \"zerolinecolor\": \"white\", \"zerolinewidth\": 2}}}, \"title\": {\"text\": \"Top 25 Artists by Percentage of Lyrics Comprised of Food Words\", \"x\": 0.45, \"xanchor\": \"center\", \"y\": 0.9, \"yanchor\": \"top\"}, \"xaxis\": {\"anchor\": \"y\", \"domain\": [0.0, 0.94], \"title\": {\"text\": \"Artist\"}}, \"yaxis\": {\"anchor\": \"x\", \"domain\": [0.0, 1.0], \"title\": {\"text\": \"Total Food Word Count\"}}, \"yaxis2\": {\"anchor\": \"x\", \"overlaying\": \"y\", \"side\": \"right\", \"title\": {\"text\": \"Percentage of Lyrics Comrpised of Food Words\"}}},\n",
       "                        {\"responsive\": true}\n",
       "                    ).then(function(){\n",
       "                            \n",
       "var gd = document.getElementById('adf874ba-59a6-49de-aba5-e932d93cbee4');\n",
       "var x = new MutationObserver(function (mutations, observer) {{\n",
       "        var display = window.getComputedStyle(gd).display;\n",
       "        if (!display || display === 'none') {{\n",
       "            console.log([gd, 'removed!']);\n",
       "            Plotly.purge(gd);\n",
       "            observer.disconnect();\n",
       "        }}\n",
       "}});\n",
       "\n",
       "// Listen for the removal of the full notebook cells\n",
       "var notebookContainer = gd.closest('#notebook-container');\n",
       "if (notebookContainer) {{\n",
       "    x.observe(notebookContainer, {childList: true});\n",
       "}}\n",
       "\n",
       "// Listen for the clearing of the current output cell\n",
       "var outputEl = gd.closest('.output');\n",
       "if (outputEl) {{\n",
       "    x.observe(outputEl, {childList: true});\n",
       "}}\n",
       "\n",
       "                        })\n",
       "                };\n",
       "                });\n",
       "            </script>\n",
       "        </div>"
      ]
     },
     "metadata": {},
     "output_type": "display_data"
    }
   ],
   "source": [
    "artist_food_lyrics_plot_df = artist_total_food_words_df.sort_values(by=sort_values_by,ascending=False)[:results_limit]\n",
    "\n",
    "# Create figure with secondary y-axis\n",
    "fig = make_subplots(specs=[[{\"secondary_y\": True}]])\n",
    "\n",
    "# Add traces\n",
    "fig.add_trace(\n",
    "    go.Bar(x=artist_food_lyrics_plot_df['artist_clean'],\n",
    "               y=artist_food_lyrics_plot_df['total_food_word_count'],\n",
    "               name=\"Count of Total Food Word Mentions\"),\n",
    "    secondary_y=False,\n",
    ")\n",
    "\n",
    "fig.add_trace(\n",
    "    go.Scatter(x=artist_food_lyrics_plot_df['artist_clean'],\n",
    "               y=artist_food_lyrics_plot_df['food_words_lyrics_prob']*100,\n",
    "               name=\"Percentage of Lyrics Comprised of Food Words\"),\n",
    "    secondary_y=True,\n",
    ")\n",
    "\n",
    "# Add figure title\n",
    "fig.update_layout(\n",
    "    title={\n",
    "        'text': \"Top {0} Artists by Percentage of Lyrics Comprised of Food Words\".format(results_limit),\n",
    "        'y':0.94,\n",
    "        'x':0.5,\n",
    "        'xanchor': 'center',\n",
    "        'yanchor': 'top'}\n",
    ")\n",
    "\n",
    "# Set x-axis title\n",
    "fig.update_xaxes(title_text=\"Artist\")\n",
    "\n",
    "# Set y-axes titles\n",
    "fig.update_yaxes(title_text=\"Total Food Word Count\", secondary_y=False)\n",
    "fig.update_yaxes(title_text=\"Percentage of Lyrics Comrpised of Food Words\", secondary_y=True)\n",
    "fig.update_layout(legend=dict(\n",
    "    orientation=\"h\",\n",
    "    yanchor=\"bottom\",\n",
    "    y=1.02,\n",
    "    xanchor=\"right\",\n",
    "    x=0.6\n",
    "))\n",
    "\n",
    "fig.show()"
   ]
  },
  {
   "cell_type": "markdown",
   "metadata": {},
   "source": [
    "# Top Artists Based on Food Word Usage - Percentage of Songs"
   ]
  },
  {
   "cell_type": "code",
   "execution_count": 163,
   "metadata": {},
   "outputs": [],
   "source": [
    "results_limit = 25\n",
    "sort_values_by = 'food_words_song_prob'\n",
    "#sort_values_by = 'total_songs_with_food_words'"
   ]
  },
  {
   "cell_type": "code",
   "execution_count": 164,
   "metadata": {},
   "outputs": [
    {
     "data": {
      "application/vnd.plotly.v1+json": {
       "config": {
        "plotlyServerURL": "https://plot.ly"
       },
       "data": [
        {
         "name": "Count of Songs in Which Food Words are Used",
         "type": "bar",
         "x": [
          "granata",
          "action bronson",
          "digable planets",
          "lil dicky",
          "smino",
          "saltnpepa",
          "big l",
          "andre nickatina",
          "e40",
          "noname",
          "aesop rock",
          "kool g rap",
          "camron",
          "chamillionaire",
          "danny brown",
          "raekwon",
          "ski mask the slump god",
          "ll cool j",
          "offset",
          "gunna",
          "nas",
          "young thug",
          "ice cube",
          "jurassic 5",
          "earl sweatshirt"
         ],
         "xaxis": "x",
         "y": [
          37,
          264,
          35,
          76,
          105,
          75,
          126,
          142,
          597,
          47,
          242,
          148,
          186,
          428,
          207,
          445,
          263,
          214,
          448,
          248,
          466,
          939,
          282,
          71,
          133
         ],
         "yaxis": "y"
        },
        {
         "name": "Percentage of Songs in Which Food Words are Used",
         "type": "scatter",
         "x": [
          "granata",
          "action bronson",
          "digable planets",
          "lil dicky",
          "smino",
          "saltnpepa",
          "big l",
          "andre nickatina",
          "e40",
          "noname",
          "aesop rock",
          "kool g rap",
          "camron",
          "chamillionaire",
          "danny brown",
          "raekwon",
          "ski mask the slump god",
          "ll cool j",
          "offset",
          "gunna",
          "nas",
          "young thug",
          "ice cube",
          "jurassic 5",
          "earl sweatshirt"
         ],
         "xaxis": "x",
         "y": [
          88.09523809523809,
          86.55737704918033,
          85.36585365853658,
          82.6086956521739,
          82.03125,
          81.52173913043478,
          81.29032258064515,
          80.68181818181817,
          77.83572359843546,
          77.04918032786885,
          76.82539682539684,
          76.68393782383419,
          75,
          74.56445993031359,
          74.46043165467626,
          73.19078947368422,
          73.05555555555556,
          71.09634551495017,
          70.99841521394612,
          70.45454545454545,
          69.65620328849027,
          69.2988929889299,
          69.11764705882352,
          68.93203883495146,
          68.2051282051282
         ],
         "yaxis": "y2"
        }
       ],
       "layout": {
        "legend": {
         "orientation": "h",
         "x": 0.6,
         "xanchor": "right",
         "y": 1.02,
         "yanchor": "bottom"
        },
        "template": {
         "data": {
          "bar": [
           {
            "error_x": {
             "color": "#2a3f5f"
            },
            "error_y": {
             "color": "#2a3f5f"
            },
            "marker": {
             "line": {
              "color": "#E5ECF6",
              "width": 0.5
             }
            },
            "type": "bar"
           }
          ],
          "barpolar": [
           {
            "marker": {
             "line": {
              "color": "#E5ECF6",
              "width": 0.5
             }
            },
            "type": "barpolar"
           }
          ],
          "carpet": [
           {
            "aaxis": {
             "endlinecolor": "#2a3f5f",
             "gridcolor": "white",
             "linecolor": "white",
             "minorgridcolor": "white",
             "startlinecolor": "#2a3f5f"
            },
            "baxis": {
             "endlinecolor": "#2a3f5f",
             "gridcolor": "white",
             "linecolor": "white",
             "minorgridcolor": "white",
             "startlinecolor": "#2a3f5f"
            },
            "type": "carpet"
           }
          ],
          "choropleth": [
           {
            "colorbar": {
             "outlinewidth": 0,
             "ticks": ""
            },
            "type": "choropleth"
           }
          ],
          "contour": [
           {
            "colorbar": {
             "outlinewidth": 0,
             "ticks": ""
            },
            "colorscale": [
             [
              0,
              "#0d0887"
             ],
             [
              0.1111111111111111,
              "#46039f"
             ],
             [
              0.2222222222222222,
              "#7201a8"
             ],
             [
              0.3333333333333333,
              "#9c179e"
             ],
             [
              0.4444444444444444,
              "#bd3786"
             ],
             [
              0.5555555555555556,
              "#d8576b"
             ],
             [
              0.6666666666666666,
              "#ed7953"
             ],
             [
              0.7777777777777778,
              "#fb9f3a"
             ],
             [
              0.8888888888888888,
              "#fdca26"
             ],
             [
              1,
              "#f0f921"
             ]
            ],
            "type": "contour"
           }
          ],
          "contourcarpet": [
           {
            "colorbar": {
             "outlinewidth": 0,
             "ticks": ""
            },
            "type": "contourcarpet"
           }
          ],
          "heatmap": [
           {
            "colorbar": {
             "outlinewidth": 0,
             "ticks": ""
            },
            "colorscale": [
             [
              0,
              "#0d0887"
             ],
             [
              0.1111111111111111,
              "#46039f"
             ],
             [
              0.2222222222222222,
              "#7201a8"
             ],
             [
              0.3333333333333333,
              "#9c179e"
             ],
             [
              0.4444444444444444,
              "#bd3786"
             ],
             [
              0.5555555555555556,
              "#d8576b"
             ],
             [
              0.6666666666666666,
              "#ed7953"
             ],
             [
              0.7777777777777778,
              "#fb9f3a"
             ],
             [
              0.8888888888888888,
              "#fdca26"
             ],
             [
              1,
              "#f0f921"
             ]
            ],
            "type": "heatmap"
           }
          ],
          "heatmapgl": [
           {
            "colorbar": {
             "outlinewidth": 0,
             "ticks": ""
            },
            "colorscale": [
             [
              0,
              "#0d0887"
             ],
             [
              0.1111111111111111,
              "#46039f"
             ],
             [
              0.2222222222222222,
              "#7201a8"
             ],
             [
              0.3333333333333333,
              "#9c179e"
             ],
             [
              0.4444444444444444,
              "#bd3786"
             ],
             [
              0.5555555555555556,
              "#d8576b"
             ],
             [
              0.6666666666666666,
              "#ed7953"
             ],
             [
              0.7777777777777778,
              "#fb9f3a"
             ],
             [
              0.8888888888888888,
              "#fdca26"
             ],
             [
              1,
              "#f0f921"
             ]
            ],
            "type": "heatmapgl"
           }
          ],
          "histogram": [
           {
            "marker": {
             "colorbar": {
              "outlinewidth": 0,
              "ticks": ""
             }
            },
            "type": "histogram"
           }
          ],
          "histogram2d": [
           {
            "colorbar": {
             "outlinewidth": 0,
             "ticks": ""
            },
            "colorscale": [
             [
              0,
              "#0d0887"
             ],
             [
              0.1111111111111111,
              "#46039f"
             ],
             [
              0.2222222222222222,
              "#7201a8"
             ],
             [
              0.3333333333333333,
              "#9c179e"
             ],
             [
              0.4444444444444444,
              "#bd3786"
             ],
             [
              0.5555555555555556,
              "#d8576b"
             ],
             [
              0.6666666666666666,
              "#ed7953"
             ],
             [
              0.7777777777777778,
              "#fb9f3a"
             ],
             [
              0.8888888888888888,
              "#fdca26"
             ],
             [
              1,
              "#f0f921"
             ]
            ],
            "type": "histogram2d"
           }
          ],
          "histogram2dcontour": [
           {
            "colorbar": {
             "outlinewidth": 0,
             "ticks": ""
            },
            "colorscale": [
             [
              0,
              "#0d0887"
             ],
             [
              0.1111111111111111,
              "#46039f"
             ],
             [
              0.2222222222222222,
              "#7201a8"
             ],
             [
              0.3333333333333333,
              "#9c179e"
             ],
             [
              0.4444444444444444,
              "#bd3786"
             ],
             [
              0.5555555555555556,
              "#d8576b"
             ],
             [
              0.6666666666666666,
              "#ed7953"
             ],
             [
              0.7777777777777778,
              "#fb9f3a"
             ],
             [
              0.8888888888888888,
              "#fdca26"
             ],
             [
              1,
              "#f0f921"
             ]
            ],
            "type": "histogram2dcontour"
           }
          ],
          "mesh3d": [
           {
            "colorbar": {
             "outlinewidth": 0,
             "ticks": ""
            },
            "type": "mesh3d"
           }
          ],
          "parcoords": [
           {
            "line": {
             "colorbar": {
              "outlinewidth": 0,
              "ticks": ""
             }
            },
            "type": "parcoords"
           }
          ],
          "pie": [
           {
            "automargin": true,
            "type": "pie"
           }
          ],
          "scatter": [
           {
            "marker": {
             "colorbar": {
              "outlinewidth": 0,
              "ticks": ""
             }
            },
            "type": "scatter"
           }
          ],
          "scatter3d": [
           {
            "line": {
             "colorbar": {
              "outlinewidth": 0,
              "ticks": ""
             }
            },
            "marker": {
             "colorbar": {
              "outlinewidth": 0,
              "ticks": ""
             }
            },
            "type": "scatter3d"
           }
          ],
          "scattercarpet": [
           {
            "marker": {
             "colorbar": {
              "outlinewidth": 0,
              "ticks": ""
             }
            },
            "type": "scattercarpet"
           }
          ],
          "scattergeo": [
           {
            "marker": {
             "colorbar": {
              "outlinewidth": 0,
              "ticks": ""
             }
            },
            "type": "scattergeo"
           }
          ],
          "scattergl": [
           {
            "marker": {
             "colorbar": {
              "outlinewidth": 0,
              "ticks": ""
             }
            },
            "type": "scattergl"
           }
          ],
          "scattermapbox": [
           {
            "marker": {
             "colorbar": {
              "outlinewidth": 0,
              "ticks": ""
             }
            },
            "type": "scattermapbox"
           }
          ],
          "scatterpolar": [
           {
            "marker": {
             "colorbar": {
              "outlinewidth": 0,
              "ticks": ""
             }
            },
            "type": "scatterpolar"
           }
          ],
          "scatterpolargl": [
           {
            "marker": {
             "colorbar": {
              "outlinewidth": 0,
              "ticks": ""
             }
            },
            "type": "scatterpolargl"
           }
          ],
          "scatterternary": [
           {
            "marker": {
             "colorbar": {
              "outlinewidth": 0,
              "ticks": ""
             }
            },
            "type": "scatterternary"
           }
          ],
          "surface": [
           {
            "colorbar": {
             "outlinewidth": 0,
             "ticks": ""
            },
            "colorscale": [
             [
              0,
              "#0d0887"
             ],
             [
              0.1111111111111111,
              "#46039f"
             ],
             [
              0.2222222222222222,
              "#7201a8"
             ],
             [
              0.3333333333333333,
              "#9c179e"
             ],
             [
              0.4444444444444444,
              "#bd3786"
             ],
             [
              0.5555555555555556,
              "#d8576b"
             ],
             [
              0.6666666666666666,
              "#ed7953"
             ],
             [
              0.7777777777777778,
              "#fb9f3a"
             ],
             [
              0.8888888888888888,
              "#fdca26"
             ],
             [
              1,
              "#f0f921"
             ]
            ],
            "type": "surface"
           }
          ],
          "table": [
           {
            "cells": {
             "fill": {
              "color": "#EBF0F8"
             },
             "line": {
              "color": "white"
             }
            },
            "header": {
             "fill": {
              "color": "#C8D4E3"
             },
             "line": {
              "color": "white"
             }
            },
            "type": "table"
           }
          ]
         },
         "layout": {
          "annotationdefaults": {
           "arrowcolor": "#2a3f5f",
           "arrowhead": 0,
           "arrowwidth": 1
          },
          "coloraxis": {
           "colorbar": {
            "outlinewidth": 0,
            "ticks": ""
           }
          },
          "colorscale": {
           "diverging": [
            [
             0,
             "#8e0152"
            ],
            [
             0.1,
             "#c51b7d"
            ],
            [
             0.2,
             "#de77ae"
            ],
            [
             0.3,
             "#f1b6da"
            ],
            [
             0.4,
             "#fde0ef"
            ],
            [
             0.5,
             "#f7f7f7"
            ],
            [
             0.6,
             "#e6f5d0"
            ],
            [
             0.7,
             "#b8e186"
            ],
            [
             0.8,
             "#7fbc41"
            ],
            [
             0.9,
             "#4d9221"
            ],
            [
             1,
             "#276419"
            ]
           ],
           "sequential": [
            [
             0,
             "#0d0887"
            ],
            [
             0.1111111111111111,
             "#46039f"
            ],
            [
             0.2222222222222222,
             "#7201a8"
            ],
            [
             0.3333333333333333,
             "#9c179e"
            ],
            [
             0.4444444444444444,
             "#bd3786"
            ],
            [
             0.5555555555555556,
             "#d8576b"
            ],
            [
             0.6666666666666666,
             "#ed7953"
            ],
            [
             0.7777777777777778,
             "#fb9f3a"
            ],
            [
             0.8888888888888888,
             "#fdca26"
            ],
            [
             1,
             "#f0f921"
            ]
           ],
           "sequentialminus": [
            [
             0,
             "#0d0887"
            ],
            [
             0.1111111111111111,
             "#46039f"
            ],
            [
             0.2222222222222222,
             "#7201a8"
            ],
            [
             0.3333333333333333,
             "#9c179e"
            ],
            [
             0.4444444444444444,
             "#bd3786"
            ],
            [
             0.5555555555555556,
             "#d8576b"
            ],
            [
             0.6666666666666666,
             "#ed7953"
            ],
            [
             0.7777777777777778,
             "#fb9f3a"
            ],
            [
             0.8888888888888888,
             "#fdca26"
            ],
            [
             1,
             "#f0f921"
            ]
           ]
          },
          "colorway": [
           "#636efa",
           "#EF553B",
           "#00cc96",
           "#ab63fa",
           "#FFA15A",
           "#19d3f3",
           "#FF6692",
           "#B6E880",
           "#FF97FF",
           "#FECB52"
          ],
          "font": {
           "color": "#2a3f5f"
          },
          "geo": {
           "bgcolor": "white",
           "lakecolor": "white",
           "landcolor": "#E5ECF6",
           "showlakes": true,
           "showland": true,
           "subunitcolor": "white"
          },
          "hoverlabel": {
           "align": "left"
          },
          "hovermode": "closest",
          "mapbox": {
           "style": "light"
          },
          "paper_bgcolor": "white",
          "plot_bgcolor": "#E5ECF6",
          "polar": {
           "angularaxis": {
            "gridcolor": "white",
            "linecolor": "white",
            "ticks": ""
           },
           "bgcolor": "#E5ECF6",
           "radialaxis": {
            "gridcolor": "white",
            "linecolor": "white",
            "ticks": ""
           }
          },
          "scene": {
           "xaxis": {
            "backgroundcolor": "#E5ECF6",
            "gridcolor": "white",
            "gridwidth": 2,
            "linecolor": "white",
            "showbackground": true,
            "ticks": "",
            "zerolinecolor": "white"
           },
           "yaxis": {
            "backgroundcolor": "#E5ECF6",
            "gridcolor": "white",
            "gridwidth": 2,
            "linecolor": "white",
            "showbackground": true,
            "ticks": "",
            "zerolinecolor": "white"
           },
           "zaxis": {
            "backgroundcolor": "#E5ECF6",
            "gridcolor": "white",
            "gridwidth": 2,
            "linecolor": "white",
            "showbackground": true,
            "ticks": "",
            "zerolinecolor": "white"
           }
          },
          "shapedefaults": {
           "line": {
            "color": "#2a3f5f"
           }
          },
          "ternary": {
           "aaxis": {
            "gridcolor": "white",
            "linecolor": "white",
            "ticks": ""
           },
           "baxis": {
            "gridcolor": "white",
            "linecolor": "white",
            "ticks": ""
           },
           "bgcolor": "#E5ECF6",
           "caxis": {
            "gridcolor": "white",
            "linecolor": "white",
            "ticks": ""
           }
          },
          "title": {
           "x": 0.05
          },
          "xaxis": {
           "automargin": true,
           "gridcolor": "white",
           "linecolor": "white",
           "ticks": "",
           "title": {
            "standoff": 15
           },
           "zerolinecolor": "white",
           "zerolinewidth": 2
          },
          "yaxis": {
           "automargin": true,
           "gridcolor": "white",
           "linecolor": "white",
           "ticks": "",
           "title": {
            "standoff": 15
           },
           "zerolinecolor": "white",
           "zerolinewidth": 2
          }
         }
        },
        "title": {
         "text": "Top 25 Artists by Percentage of Songs in Which Food Words are Used",
         "x": 0.45,
         "xanchor": "center",
         "y": 0.9,
         "yanchor": "top"
        },
        "xaxis": {
         "anchor": "y",
         "domain": [
          0,
          0.94
         ],
         "title": {
          "text": "Artist"
         }
        },
        "yaxis": {
         "anchor": "x",
         "domain": [
          0,
          1
         ],
         "title": {
          "text": "Count of Songs in Which Food Words are Used"
         }
        },
        "yaxis2": {
         "anchor": "x",
         "overlaying": "y",
         "side": "right",
         "title": {
          "text": "Percentage of Songs in Which Food Words are Used"
         }
        }
       }
      },
      "text/html": [
       "<div>\n",
       "        \n",
       "        \n",
       "            <div id=\"a2cd0156-ef13-48ed-be12-2883d928f74c\" class=\"plotly-graph-div\" style=\"height:525px; width:100%;\"></div>\n",
       "            <script type=\"text/javascript\">\n",
       "                require([\"plotly\"], function(Plotly) {\n",
       "                    window.PLOTLYENV=window.PLOTLYENV || {};\n",
       "                    \n",
       "                if (document.getElementById(\"a2cd0156-ef13-48ed-be12-2883d928f74c\")) {\n",
       "                    Plotly.newPlot(\n",
       "                        'a2cd0156-ef13-48ed-be12-2883d928f74c',\n",
       "                        [{\"name\": \"Count of Songs in Which Food Words are Used\", \"type\": \"bar\", \"x\": [\"granata\", \"action bronson\", \"digable planets\", \"lil dicky\", \"smino\", \"saltnpepa\", \"big l\", \"andre nickatina\", \"e40\", \"noname\", \"aesop rock\", \"kool g rap\", \"camron\", \"chamillionaire\", \"danny brown\", \"raekwon\", \"ski mask the slump god\", \"ll cool j\", \"offset\", \"gunna\", \"nas\", \"young thug\", \"ice cube\", \"jurassic 5\", \"earl sweatshirt\"], \"xaxis\": \"x\", \"y\": [37.0, 264.0, 35.0, 76.0, 105.0, 75.0, 126.0, 142.0, 597.0, 47.0, 242.0, 148.0, 186.0, 428.0, 207.0, 445.0, 263.0, 214.0, 448.0, 248.0, 466.0, 939.0, 282.0, 71.0, 133.0], \"yaxis\": \"y\"}, {\"name\": \"Percentage of Songs in Which Food Words are Used\", \"type\": \"scatter\", \"x\": [\"granata\", \"action bronson\", \"digable planets\", \"lil dicky\", \"smino\", \"saltnpepa\", \"big l\", \"andre nickatina\", \"e40\", \"noname\", \"aesop rock\", \"kool g rap\", \"camron\", \"chamillionaire\", \"danny brown\", \"raekwon\", \"ski mask the slump god\", \"ll cool j\", \"offset\", \"gunna\", \"nas\", \"young thug\", \"ice cube\", \"jurassic 5\", \"earl sweatshirt\"], \"xaxis\": \"x\", \"y\": [88.09523809523809, 86.55737704918033, 85.36585365853658, 82.6086956521739, 82.03125, 81.52173913043478, 81.29032258064515, 80.68181818181817, 77.83572359843546, 77.04918032786885, 76.82539682539684, 76.68393782383419, 75.0, 74.56445993031359, 74.46043165467626, 73.19078947368422, 73.05555555555556, 71.09634551495017, 70.99841521394612, 70.45454545454545, 69.65620328849027, 69.2988929889299, 69.11764705882352, 68.93203883495146, 68.2051282051282], \"yaxis\": \"y2\"}],\n",
       "                        {\"legend\": {\"orientation\": \"h\", \"x\": 0.6, \"xanchor\": \"right\", \"y\": 1.02, \"yanchor\": \"bottom\"}, \"template\": {\"data\": {\"bar\": [{\"error_x\": {\"color\": \"#2a3f5f\"}, \"error_y\": {\"color\": \"#2a3f5f\"}, \"marker\": {\"line\": {\"color\": \"#E5ECF6\", \"width\": 0.5}}, \"type\": \"bar\"}], \"barpolar\": [{\"marker\": {\"line\": {\"color\": \"#E5ECF6\", \"width\": 0.5}}, \"type\": \"barpolar\"}], \"carpet\": [{\"aaxis\": {\"endlinecolor\": \"#2a3f5f\", \"gridcolor\": \"white\", \"linecolor\": \"white\", \"minorgridcolor\": \"white\", \"startlinecolor\": \"#2a3f5f\"}, \"baxis\": {\"endlinecolor\": \"#2a3f5f\", \"gridcolor\": \"white\", \"linecolor\": \"white\", \"minorgridcolor\": \"white\", \"startlinecolor\": \"#2a3f5f\"}, \"type\": \"carpet\"}], \"choropleth\": [{\"colorbar\": {\"outlinewidth\": 0, \"ticks\": \"\"}, \"type\": \"choropleth\"}], \"contour\": [{\"colorbar\": {\"outlinewidth\": 0, \"ticks\": \"\"}, \"colorscale\": [[0.0, \"#0d0887\"], [0.1111111111111111, \"#46039f\"], [0.2222222222222222, \"#7201a8\"], [0.3333333333333333, \"#9c179e\"], [0.4444444444444444, \"#bd3786\"], [0.5555555555555556, \"#d8576b\"], [0.6666666666666666, \"#ed7953\"], [0.7777777777777778, \"#fb9f3a\"], [0.8888888888888888, \"#fdca26\"], [1.0, \"#f0f921\"]], \"type\": \"contour\"}], \"contourcarpet\": [{\"colorbar\": {\"outlinewidth\": 0, \"ticks\": \"\"}, \"type\": \"contourcarpet\"}], \"heatmap\": [{\"colorbar\": {\"outlinewidth\": 0, \"ticks\": \"\"}, \"colorscale\": [[0.0, \"#0d0887\"], [0.1111111111111111, \"#46039f\"], [0.2222222222222222, \"#7201a8\"], [0.3333333333333333, \"#9c179e\"], [0.4444444444444444, \"#bd3786\"], [0.5555555555555556, \"#d8576b\"], [0.6666666666666666, \"#ed7953\"], [0.7777777777777778, \"#fb9f3a\"], [0.8888888888888888, \"#fdca26\"], [1.0, \"#f0f921\"]], \"type\": \"heatmap\"}], \"heatmapgl\": [{\"colorbar\": {\"outlinewidth\": 0, \"ticks\": \"\"}, \"colorscale\": [[0.0, \"#0d0887\"], [0.1111111111111111, \"#46039f\"], [0.2222222222222222, \"#7201a8\"], [0.3333333333333333, \"#9c179e\"], [0.4444444444444444, \"#bd3786\"], [0.5555555555555556, \"#d8576b\"], [0.6666666666666666, \"#ed7953\"], [0.7777777777777778, \"#fb9f3a\"], [0.8888888888888888, \"#fdca26\"], [1.0, \"#f0f921\"]], \"type\": \"heatmapgl\"}], \"histogram\": [{\"marker\": {\"colorbar\": {\"outlinewidth\": 0, \"ticks\": \"\"}}, \"type\": \"histogram\"}], \"histogram2d\": [{\"colorbar\": {\"outlinewidth\": 0, \"ticks\": \"\"}, \"colorscale\": [[0.0, \"#0d0887\"], [0.1111111111111111, \"#46039f\"], [0.2222222222222222, \"#7201a8\"], [0.3333333333333333, \"#9c179e\"], [0.4444444444444444, \"#bd3786\"], [0.5555555555555556, \"#d8576b\"], [0.6666666666666666, \"#ed7953\"], [0.7777777777777778, \"#fb9f3a\"], [0.8888888888888888, \"#fdca26\"], [1.0, \"#f0f921\"]], \"type\": \"histogram2d\"}], \"histogram2dcontour\": [{\"colorbar\": {\"outlinewidth\": 0, \"ticks\": \"\"}, \"colorscale\": [[0.0, \"#0d0887\"], [0.1111111111111111, \"#46039f\"], [0.2222222222222222, \"#7201a8\"], [0.3333333333333333, \"#9c179e\"], [0.4444444444444444, \"#bd3786\"], [0.5555555555555556, \"#d8576b\"], [0.6666666666666666, \"#ed7953\"], [0.7777777777777778, \"#fb9f3a\"], [0.8888888888888888, \"#fdca26\"], [1.0, \"#f0f921\"]], \"type\": \"histogram2dcontour\"}], \"mesh3d\": [{\"colorbar\": {\"outlinewidth\": 0, \"ticks\": \"\"}, \"type\": \"mesh3d\"}], \"parcoords\": [{\"line\": {\"colorbar\": {\"outlinewidth\": 0, \"ticks\": \"\"}}, \"type\": \"parcoords\"}], \"pie\": [{\"automargin\": true, \"type\": \"pie\"}], \"scatter\": [{\"marker\": {\"colorbar\": {\"outlinewidth\": 0, \"ticks\": \"\"}}, \"type\": \"scatter\"}], \"scatter3d\": [{\"line\": {\"colorbar\": {\"outlinewidth\": 0, \"ticks\": \"\"}}, \"marker\": {\"colorbar\": {\"outlinewidth\": 0, \"ticks\": \"\"}}, \"type\": \"scatter3d\"}], \"scattercarpet\": [{\"marker\": {\"colorbar\": {\"outlinewidth\": 0, \"ticks\": \"\"}}, \"type\": \"scattercarpet\"}], \"scattergeo\": [{\"marker\": {\"colorbar\": {\"outlinewidth\": 0, \"ticks\": \"\"}}, \"type\": \"scattergeo\"}], \"scattergl\": [{\"marker\": {\"colorbar\": {\"outlinewidth\": 0, \"ticks\": \"\"}}, \"type\": \"scattergl\"}], \"scattermapbox\": [{\"marker\": {\"colorbar\": {\"outlinewidth\": 0, \"ticks\": \"\"}}, \"type\": \"scattermapbox\"}], \"scatterpolar\": [{\"marker\": {\"colorbar\": {\"outlinewidth\": 0, \"ticks\": \"\"}}, \"type\": \"scatterpolar\"}], \"scatterpolargl\": [{\"marker\": {\"colorbar\": {\"outlinewidth\": 0, \"ticks\": \"\"}}, \"type\": \"scatterpolargl\"}], \"scatterternary\": [{\"marker\": {\"colorbar\": {\"outlinewidth\": 0, \"ticks\": \"\"}}, \"type\": \"scatterternary\"}], \"surface\": [{\"colorbar\": {\"outlinewidth\": 0, \"ticks\": \"\"}, \"colorscale\": [[0.0, \"#0d0887\"], [0.1111111111111111, \"#46039f\"], [0.2222222222222222, \"#7201a8\"], [0.3333333333333333, \"#9c179e\"], [0.4444444444444444, \"#bd3786\"], [0.5555555555555556, \"#d8576b\"], [0.6666666666666666, \"#ed7953\"], [0.7777777777777778, \"#fb9f3a\"], [0.8888888888888888, \"#fdca26\"], [1.0, \"#f0f921\"]], \"type\": \"surface\"}], \"table\": [{\"cells\": {\"fill\": {\"color\": \"#EBF0F8\"}, \"line\": {\"color\": \"white\"}}, \"header\": {\"fill\": {\"color\": \"#C8D4E3\"}, \"line\": {\"color\": \"white\"}}, \"type\": \"table\"}]}, \"layout\": {\"annotationdefaults\": {\"arrowcolor\": \"#2a3f5f\", \"arrowhead\": 0, \"arrowwidth\": 1}, \"coloraxis\": {\"colorbar\": {\"outlinewidth\": 0, \"ticks\": \"\"}}, \"colorscale\": {\"diverging\": [[0, \"#8e0152\"], [0.1, \"#c51b7d\"], [0.2, \"#de77ae\"], [0.3, \"#f1b6da\"], [0.4, \"#fde0ef\"], [0.5, \"#f7f7f7\"], [0.6, \"#e6f5d0\"], [0.7, \"#b8e186\"], [0.8, \"#7fbc41\"], [0.9, \"#4d9221\"], [1, \"#276419\"]], \"sequential\": [[0.0, \"#0d0887\"], [0.1111111111111111, \"#46039f\"], [0.2222222222222222, \"#7201a8\"], [0.3333333333333333, \"#9c179e\"], [0.4444444444444444, \"#bd3786\"], [0.5555555555555556, \"#d8576b\"], [0.6666666666666666, \"#ed7953\"], [0.7777777777777778, \"#fb9f3a\"], [0.8888888888888888, \"#fdca26\"], [1.0, \"#f0f921\"]], \"sequentialminus\": [[0.0, \"#0d0887\"], [0.1111111111111111, \"#46039f\"], [0.2222222222222222, \"#7201a8\"], [0.3333333333333333, \"#9c179e\"], [0.4444444444444444, \"#bd3786\"], [0.5555555555555556, \"#d8576b\"], [0.6666666666666666, \"#ed7953\"], [0.7777777777777778, \"#fb9f3a\"], [0.8888888888888888, \"#fdca26\"], [1.0, \"#f0f921\"]]}, \"colorway\": [\"#636efa\", \"#EF553B\", \"#00cc96\", \"#ab63fa\", \"#FFA15A\", \"#19d3f3\", \"#FF6692\", \"#B6E880\", \"#FF97FF\", \"#FECB52\"], \"font\": {\"color\": \"#2a3f5f\"}, \"geo\": {\"bgcolor\": \"white\", \"lakecolor\": \"white\", \"landcolor\": \"#E5ECF6\", \"showlakes\": true, \"showland\": true, \"subunitcolor\": \"white\"}, \"hoverlabel\": {\"align\": \"left\"}, \"hovermode\": \"closest\", \"mapbox\": {\"style\": \"light\"}, \"paper_bgcolor\": \"white\", \"plot_bgcolor\": \"#E5ECF6\", \"polar\": {\"angularaxis\": {\"gridcolor\": \"white\", \"linecolor\": \"white\", \"ticks\": \"\"}, \"bgcolor\": \"#E5ECF6\", \"radialaxis\": {\"gridcolor\": \"white\", \"linecolor\": \"white\", \"ticks\": \"\"}}, \"scene\": {\"xaxis\": {\"backgroundcolor\": \"#E5ECF6\", \"gridcolor\": \"white\", \"gridwidth\": 2, \"linecolor\": \"white\", \"showbackground\": true, \"ticks\": \"\", \"zerolinecolor\": \"white\"}, \"yaxis\": {\"backgroundcolor\": \"#E5ECF6\", \"gridcolor\": \"white\", \"gridwidth\": 2, \"linecolor\": \"white\", \"showbackground\": true, \"ticks\": \"\", \"zerolinecolor\": \"white\"}, \"zaxis\": {\"backgroundcolor\": \"#E5ECF6\", \"gridcolor\": \"white\", \"gridwidth\": 2, \"linecolor\": \"white\", \"showbackground\": true, \"ticks\": \"\", \"zerolinecolor\": \"white\"}}, \"shapedefaults\": {\"line\": {\"color\": \"#2a3f5f\"}}, \"ternary\": {\"aaxis\": {\"gridcolor\": \"white\", \"linecolor\": \"white\", \"ticks\": \"\"}, \"baxis\": {\"gridcolor\": \"white\", \"linecolor\": \"white\", \"ticks\": \"\"}, \"bgcolor\": \"#E5ECF6\", \"caxis\": {\"gridcolor\": \"white\", \"linecolor\": \"white\", \"ticks\": \"\"}}, \"title\": {\"x\": 0.05}, \"xaxis\": {\"automargin\": true, \"gridcolor\": \"white\", \"linecolor\": \"white\", \"ticks\": \"\", \"title\": {\"standoff\": 15}, \"zerolinecolor\": \"white\", \"zerolinewidth\": 2}, \"yaxis\": {\"automargin\": true, \"gridcolor\": \"white\", \"linecolor\": \"white\", \"ticks\": \"\", \"title\": {\"standoff\": 15}, \"zerolinecolor\": \"white\", \"zerolinewidth\": 2}}}, \"title\": {\"text\": \"Top 25 Artists by Percentage of Songs in Which Food Words are Used\", \"x\": 0.45, \"xanchor\": \"center\", \"y\": 0.9, \"yanchor\": \"top\"}, \"xaxis\": {\"anchor\": \"y\", \"domain\": [0.0, 0.94], \"title\": {\"text\": \"Artist\"}}, \"yaxis\": {\"anchor\": \"x\", \"domain\": [0.0, 1.0], \"title\": {\"text\": \"Count of Songs in Which Food Words are Used\"}}, \"yaxis2\": {\"anchor\": \"x\", \"overlaying\": \"y\", \"side\": \"right\", \"title\": {\"text\": \"Percentage of Songs in Which Food Words are Used\"}}},\n",
       "                        {\"responsive\": true}\n",
       "                    ).then(function(){\n",
       "                            \n",
       "var gd = document.getElementById('a2cd0156-ef13-48ed-be12-2883d928f74c');\n",
       "var x = new MutationObserver(function (mutations, observer) {{\n",
       "        var display = window.getComputedStyle(gd).display;\n",
       "        if (!display || display === 'none') {{\n",
       "            console.log([gd, 'removed!']);\n",
       "            Plotly.purge(gd);\n",
       "            observer.disconnect();\n",
       "        }}\n",
       "}});\n",
       "\n",
       "// Listen for the removal of the full notebook cells\n",
       "var notebookContainer = gd.closest('#notebook-container');\n",
       "if (notebookContainer) {{\n",
       "    x.observe(notebookContainer, {childList: true});\n",
       "}}\n",
       "\n",
       "// Listen for the clearing of the current output cell\n",
       "var outputEl = gd.closest('.output');\n",
       "if (outputEl) {{\n",
       "    x.observe(outputEl, {childList: true});\n",
       "}}\n",
       "\n",
       "                        })\n",
       "                };\n",
       "                });\n",
       "            </script>\n",
       "        </div>"
      ]
     },
     "metadata": {},
     "output_type": "display_data"
    }
   ],
   "source": [
    "artist_food_songs_plot_df = artist_total_food_words_df.sort_values(by=sort_values_by,ascending=False)[:results_limit]\n",
    "\n",
    "# Create figure with secondary y-axis\n",
    "fig = make_subplots(specs=[[{\"secondary_y\": True}]])\n",
    "\n",
    "# Add traces\n",
    "fig.add_trace(\n",
    "    go.Bar(x=artist_food_songs_plot_df['artist_clean'],\n",
    "               y=artist_food_songs_plot_df['total_songs_with_food_words'],\n",
    "               name=\"Count of Songs in Which Food Words are Used\"),\n",
    "    secondary_y=False,\n",
    ")\n",
    "\n",
    "fig.add_trace(\n",
    "    go.Scatter(x=artist_food_songs_plot_df['artist_clean'],\n",
    "               y=artist_food_songs_plot_df['food_words_song_prob']*100,\n",
    "               name=\"Percentage of Songs in Which Food Words are Used\"),\n",
    "    secondary_y=True,\n",
    ")\n",
    "\n",
    "# Add figure title\n",
    "fig.update_layout(\n",
    "    title={\n",
    "        'text': \"Top {0} Artists by Percentage of Songs in Which Food Words are Used\".format(results_limit),\n",
    "        'y':0.94,\n",
    "        'x':0.5,\n",
    "        'xanchor': 'center',\n",
    "        'yanchor': 'top'}\n",
    ")\n",
    "\n",
    "# Set x-axis title\n",
    "fig.update_xaxes(title_text=\"Artist\")\n",
    "\n",
    "# Set y-axes titles\n",
    "fig.update_yaxes(title_text=\"Count of Songs in Which Food Words are Used\", secondary_y=False)\n",
    "fig.update_yaxes(title_text=\"Percentage of Songs in Which Food Words are Used\", secondary_y=True)\n",
    "fig.update_layout(legend=dict(\n",
    "    orientation=\"h\",\n",
    "    yanchor=\"bottom\",\n",
    "    y=1.02,\n",
    "    xanchor=\"right\",\n",
    "    x=0.6\n",
    "))\n",
    "\n",
    "fig.show()"
   ]
  },
  {
   "cell_type": "markdown",
   "metadata": {},
   "source": [
    "# Most Distinct Food Words Mentioned"
   ]
  },
  {
   "cell_type": "code",
   "execution_count": 165,
   "metadata": {},
   "outputs": [],
   "source": [
    "results_limit = 25"
   ]
  },
  {
   "cell_type": "code",
   "execution_count": 166,
   "metadata": {},
   "outputs": [
    {
     "data": {
      "application/vnd.plotly.v1+json": {
       "config": {
        "plotlyServerURL": "https://plot.ly"
       },
       "data": [
        {
         "name": "Distinct Food Words Mentioned",
         "type": "bar",
         "x": [
          "lil wayne",
          "action bronson",
          "e40",
          "gucci mane",
          "ghostface killah",
          "young thug",
          "2 chainz",
          "aesop rock",
          "eminem",
          "tech n9ne",
          "lupe fiasco",
          "raekwon",
          "rick ross",
          "snoop dogg",
          "tyga",
          "chief keef",
          "fabolous",
          "nas",
          "currensy",
          "mac miller",
          "childish gambino",
          "danny brown",
          "the game",
          "rza",
          "lil yachty"
         ],
         "xaxis": "x",
         "y": [
          578,
          476,
          464,
          419,
          394,
          379,
          376,
          373,
          370,
          348,
          318,
          308,
          304,
          297,
          293,
          291,
          287,
          284,
          279,
          279,
          271,
          270,
          268,
          261,
          260
         ],
         "yaxis": "y"
        },
        {
         "name": "Count of Total Food Word Mentions",
         "type": "scatter",
         "x": [
          "lil wayne",
          "action bronson",
          "e40",
          "gucci mane",
          "ghostface killah",
          "young thug",
          "2 chainz",
          "aesop rock",
          "eminem",
          "tech n9ne",
          "lupe fiasco",
          "raekwon",
          "rick ross",
          "snoop dogg",
          "tyga",
          "chief keef",
          "fabolous",
          "nas",
          "currensy",
          "mac miller",
          "childish gambino",
          "danny brown",
          "the game",
          "rza",
          "lil yachty"
         ],
         "xaxis": "x",
         "y": [
          4087,
          1679,
          3160,
          3749,
          1520,
          3865,
          1641,
          1277,
          1973,
          1774,
          1161,
          1319,
          1535,
          1640,
          1397,
          1790,
          1077,
          1323,
          1198,
          919,
          688,
          709,
          1447,
          800,
          1120
         ],
         "yaxis": "y2"
        }
       ],
       "layout": {
        "legend": {
         "orientation": "h",
         "x": 0.6,
         "xanchor": "right",
         "y": 1.02,
         "yanchor": "bottom"
        },
        "template": {
         "data": {
          "bar": [
           {
            "error_x": {
             "color": "#2a3f5f"
            },
            "error_y": {
             "color": "#2a3f5f"
            },
            "marker": {
             "line": {
              "color": "#E5ECF6",
              "width": 0.5
             }
            },
            "type": "bar"
           }
          ],
          "barpolar": [
           {
            "marker": {
             "line": {
              "color": "#E5ECF6",
              "width": 0.5
             }
            },
            "type": "barpolar"
           }
          ],
          "carpet": [
           {
            "aaxis": {
             "endlinecolor": "#2a3f5f",
             "gridcolor": "white",
             "linecolor": "white",
             "minorgridcolor": "white",
             "startlinecolor": "#2a3f5f"
            },
            "baxis": {
             "endlinecolor": "#2a3f5f",
             "gridcolor": "white",
             "linecolor": "white",
             "minorgridcolor": "white",
             "startlinecolor": "#2a3f5f"
            },
            "type": "carpet"
           }
          ],
          "choropleth": [
           {
            "colorbar": {
             "outlinewidth": 0,
             "ticks": ""
            },
            "type": "choropleth"
           }
          ],
          "contour": [
           {
            "colorbar": {
             "outlinewidth": 0,
             "ticks": ""
            },
            "colorscale": [
             [
              0,
              "#0d0887"
             ],
             [
              0.1111111111111111,
              "#46039f"
             ],
             [
              0.2222222222222222,
              "#7201a8"
             ],
             [
              0.3333333333333333,
              "#9c179e"
             ],
             [
              0.4444444444444444,
              "#bd3786"
             ],
             [
              0.5555555555555556,
              "#d8576b"
             ],
             [
              0.6666666666666666,
              "#ed7953"
             ],
             [
              0.7777777777777778,
              "#fb9f3a"
             ],
             [
              0.8888888888888888,
              "#fdca26"
             ],
             [
              1,
              "#f0f921"
             ]
            ],
            "type": "contour"
           }
          ],
          "contourcarpet": [
           {
            "colorbar": {
             "outlinewidth": 0,
             "ticks": ""
            },
            "type": "contourcarpet"
           }
          ],
          "heatmap": [
           {
            "colorbar": {
             "outlinewidth": 0,
             "ticks": ""
            },
            "colorscale": [
             [
              0,
              "#0d0887"
             ],
             [
              0.1111111111111111,
              "#46039f"
             ],
             [
              0.2222222222222222,
              "#7201a8"
             ],
             [
              0.3333333333333333,
              "#9c179e"
             ],
             [
              0.4444444444444444,
              "#bd3786"
             ],
             [
              0.5555555555555556,
              "#d8576b"
             ],
             [
              0.6666666666666666,
              "#ed7953"
             ],
             [
              0.7777777777777778,
              "#fb9f3a"
             ],
             [
              0.8888888888888888,
              "#fdca26"
             ],
             [
              1,
              "#f0f921"
             ]
            ],
            "type": "heatmap"
           }
          ],
          "heatmapgl": [
           {
            "colorbar": {
             "outlinewidth": 0,
             "ticks": ""
            },
            "colorscale": [
             [
              0,
              "#0d0887"
             ],
             [
              0.1111111111111111,
              "#46039f"
             ],
             [
              0.2222222222222222,
              "#7201a8"
             ],
             [
              0.3333333333333333,
              "#9c179e"
             ],
             [
              0.4444444444444444,
              "#bd3786"
             ],
             [
              0.5555555555555556,
              "#d8576b"
             ],
             [
              0.6666666666666666,
              "#ed7953"
             ],
             [
              0.7777777777777778,
              "#fb9f3a"
             ],
             [
              0.8888888888888888,
              "#fdca26"
             ],
             [
              1,
              "#f0f921"
             ]
            ],
            "type": "heatmapgl"
           }
          ],
          "histogram": [
           {
            "marker": {
             "colorbar": {
              "outlinewidth": 0,
              "ticks": ""
             }
            },
            "type": "histogram"
           }
          ],
          "histogram2d": [
           {
            "colorbar": {
             "outlinewidth": 0,
             "ticks": ""
            },
            "colorscale": [
             [
              0,
              "#0d0887"
             ],
             [
              0.1111111111111111,
              "#46039f"
             ],
             [
              0.2222222222222222,
              "#7201a8"
             ],
             [
              0.3333333333333333,
              "#9c179e"
             ],
             [
              0.4444444444444444,
              "#bd3786"
             ],
             [
              0.5555555555555556,
              "#d8576b"
             ],
             [
              0.6666666666666666,
              "#ed7953"
             ],
             [
              0.7777777777777778,
              "#fb9f3a"
             ],
             [
              0.8888888888888888,
              "#fdca26"
             ],
             [
              1,
              "#f0f921"
             ]
            ],
            "type": "histogram2d"
           }
          ],
          "histogram2dcontour": [
           {
            "colorbar": {
             "outlinewidth": 0,
             "ticks": ""
            },
            "colorscale": [
             [
              0,
              "#0d0887"
             ],
             [
              0.1111111111111111,
              "#46039f"
             ],
             [
              0.2222222222222222,
              "#7201a8"
             ],
             [
              0.3333333333333333,
              "#9c179e"
             ],
             [
              0.4444444444444444,
              "#bd3786"
             ],
             [
              0.5555555555555556,
              "#d8576b"
             ],
             [
              0.6666666666666666,
              "#ed7953"
             ],
             [
              0.7777777777777778,
              "#fb9f3a"
             ],
             [
              0.8888888888888888,
              "#fdca26"
             ],
             [
              1,
              "#f0f921"
             ]
            ],
            "type": "histogram2dcontour"
           }
          ],
          "mesh3d": [
           {
            "colorbar": {
             "outlinewidth": 0,
             "ticks": ""
            },
            "type": "mesh3d"
           }
          ],
          "parcoords": [
           {
            "line": {
             "colorbar": {
              "outlinewidth": 0,
              "ticks": ""
             }
            },
            "type": "parcoords"
           }
          ],
          "pie": [
           {
            "automargin": true,
            "type": "pie"
           }
          ],
          "scatter": [
           {
            "marker": {
             "colorbar": {
              "outlinewidth": 0,
              "ticks": ""
             }
            },
            "type": "scatter"
           }
          ],
          "scatter3d": [
           {
            "line": {
             "colorbar": {
              "outlinewidth": 0,
              "ticks": ""
             }
            },
            "marker": {
             "colorbar": {
              "outlinewidth": 0,
              "ticks": ""
             }
            },
            "type": "scatter3d"
           }
          ],
          "scattercarpet": [
           {
            "marker": {
             "colorbar": {
              "outlinewidth": 0,
              "ticks": ""
             }
            },
            "type": "scattercarpet"
           }
          ],
          "scattergeo": [
           {
            "marker": {
             "colorbar": {
              "outlinewidth": 0,
              "ticks": ""
             }
            },
            "type": "scattergeo"
           }
          ],
          "scattergl": [
           {
            "marker": {
             "colorbar": {
              "outlinewidth": 0,
              "ticks": ""
             }
            },
            "type": "scattergl"
           }
          ],
          "scattermapbox": [
           {
            "marker": {
             "colorbar": {
              "outlinewidth": 0,
              "ticks": ""
             }
            },
            "type": "scattermapbox"
           }
          ],
          "scatterpolar": [
           {
            "marker": {
             "colorbar": {
              "outlinewidth": 0,
              "ticks": ""
             }
            },
            "type": "scatterpolar"
           }
          ],
          "scatterpolargl": [
           {
            "marker": {
             "colorbar": {
              "outlinewidth": 0,
              "ticks": ""
             }
            },
            "type": "scatterpolargl"
           }
          ],
          "scatterternary": [
           {
            "marker": {
             "colorbar": {
              "outlinewidth": 0,
              "ticks": ""
             }
            },
            "type": "scatterternary"
           }
          ],
          "surface": [
           {
            "colorbar": {
             "outlinewidth": 0,
             "ticks": ""
            },
            "colorscale": [
             [
              0,
              "#0d0887"
             ],
             [
              0.1111111111111111,
              "#46039f"
             ],
             [
              0.2222222222222222,
              "#7201a8"
             ],
             [
              0.3333333333333333,
              "#9c179e"
             ],
             [
              0.4444444444444444,
              "#bd3786"
             ],
             [
              0.5555555555555556,
              "#d8576b"
             ],
             [
              0.6666666666666666,
              "#ed7953"
             ],
             [
              0.7777777777777778,
              "#fb9f3a"
             ],
             [
              0.8888888888888888,
              "#fdca26"
             ],
             [
              1,
              "#f0f921"
             ]
            ],
            "type": "surface"
           }
          ],
          "table": [
           {
            "cells": {
             "fill": {
              "color": "#EBF0F8"
             },
             "line": {
              "color": "white"
             }
            },
            "header": {
             "fill": {
              "color": "#C8D4E3"
             },
             "line": {
              "color": "white"
             }
            },
            "type": "table"
           }
          ]
         },
         "layout": {
          "annotationdefaults": {
           "arrowcolor": "#2a3f5f",
           "arrowhead": 0,
           "arrowwidth": 1
          },
          "coloraxis": {
           "colorbar": {
            "outlinewidth": 0,
            "ticks": ""
           }
          },
          "colorscale": {
           "diverging": [
            [
             0,
             "#8e0152"
            ],
            [
             0.1,
             "#c51b7d"
            ],
            [
             0.2,
             "#de77ae"
            ],
            [
             0.3,
             "#f1b6da"
            ],
            [
             0.4,
             "#fde0ef"
            ],
            [
             0.5,
             "#f7f7f7"
            ],
            [
             0.6,
             "#e6f5d0"
            ],
            [
             0.7,
             "#b8e186"
            ],
            [
             0.8,
             "#7fbc41"
            ],
            [
             0.9,
             "#4d9221"
            ],
            [
             1,
             "#276419"
            ]
           ],
           "sequential": [
            [
             0,
             "#0d0887"
            ],
            [
             0.1111111111111111,
             "#46039f"
            ],
            [
             0.2222222222222222,
             "#7201a8"
            ],
            [
             0.3333333333333333,
             "#9c179e"
            ],
            [
             0.4444444444444444,
             "#bd3786"
            ],
            [
             0.5555555555555556,
             "#d8576b"
            ],
            [
             0.6666666666666666,
             "#ed7953"
            ],
            [
             0.7777777777777778,
             "#fb9f3a"
            ],
            [
             0.8888888888888888,
             "#fdca26"
            ],
            [
             1,
             "#f0f921"
            ]
           ],
           "sequentialminus": [
            [
             0,
             "#0d0887"
            ],
            [
             0.1111111111111111,
             "#46039f"
            ],
            [
             0.2222222222222222,
             "#7201a8"
            ],
            [
             0.3333333333333333,
             "#9c179e"
            ],
            [
             0.4444444444444444,
             "#bd3786"
            ],
            [
             0.5555555555555556,
             "#d8576b"
            ],
            [
             0.6666666666666666,
             "#ed7953"
            ],
            [
             0.7777777777777778,
             "#fb9f3a"
            ],
            [
             0.8888888888888888,
             "#fdca26"
            ],
            [
             1,
             "#f0f921"
            ]
           ]
          },
          "colorway": [
           "#636efa",
           "#EF553B",
           "#00cc96",
           "#ab63fa",
           "#FFA15A",
           "#19d3f3",
           "#FF6692",
           "#B6E880",
           "#FF97FF",
           "#FECB52"
          ],
          "font": {
           "color": "#2a3f5f"
          },
          "geo": {
           "bgcolor": "white",
           "lakecolor": "white",
           "landcolor": "#E5ECF6",
           "showlakes": true,
           "showland": true,
           "subunitcolor": "white"
          },
          "hoverlabel": {
           "align": "left"
          },
          "hovermode": "closest",
          "mapbox": {
           "style": "light"
          },
          "paper_bgcolor": "white",
          "plot_bgcolor": "#E5ECF6",
          "polar": {
           "angularaxis": {
            "gridcolor": "white",
            "linecolor": "white",
            "ticks": ""
           },
           "bgcolor": "#E5ECF6",
           "radialaxis": {
            "gridcolor": "white",
            "linecolor": "white",
            "ticks": ""
           }
          },
          "scene": {
           "xaxis": {
            "backgroundcolor": "#E5ECF6",
            "gridcolor": "white",
            "gridwidth": 2,
            "linecolor": "white",
            "showbackground": true,
            "ticks": "",
            "zerolinecolor": "white"
           },
           "yaxis": {
            "backgroundcolor": "#E5ECF6",
            "gridcolor": "white",
            "gridwidth": 2,
            "linecolor": "white",
            "showbackground": true,
            "ticks": "",
            "zerolinecolor": "white"
           },
           "zaxis": {
            "backgroundcolor": "#E5ECF6",
            "gridcolor": "white",
            "gridwidth": 2,
            "linecolor": "white",
            "showbackground": true,
            "ticks": "",
            "zerolinecolor": "white"
           }
          },
          "shapedefaults": {
           "line": {
            "color": "#2a3f5f"
           }
          },
          "ternary": {
           "aaxis": {
            "gridcolor": "white",
            "linecolor": "white",
            "ticks": ""
           },
           "baxis": {
            "gridcolor": "white",
            "linecolor": "white",
            "ticks": ""
           },
           "bgcolor": "#E5ECF6",
           "caxis": {
            "gridcolor": "white",
            "linecolor": "white",
            "ticks": ""
           }
          },
          "title": {
           "x": 0.05
          },
          "xaxis": {
           "automargin": true,
           "gridcolor": "white",
           "linecolor": "white",
           "ticks": "",
           "title": {
            "standoff": 15
           },
           "zerolinecolor": "white",
           "zerolinewidth": 2
          },
          "yaxis": {
           "automargin": true,
           "gridcolor": "white",
           "linecolor": "white",
           "ticks": "",
           "title": {
            "standoff": 15
           },
           "zerolinecolor": "white",
           "zerolinewidth": 2
          }
         }
        },
        "title": {
         "text": "Top 25 Artists by Distinct Food Words Mentioned",
         "x": 0.45,
         "xanchor": "center",
         "y": 0.9,
         "yanchor": "top"
        },
        "xaxis": {
         "anchor": "y",
         "domain": [
          0,
          0.94
         ],
         "title": {
          "text": "Artist"
         }
        },
        "yaxis": {
         "anchor": "x",
         "domain": [
          0,
          1
         ],
         "title": {
          "text": "Distinct Food Words Mentioned"
         }
        },
        "yaxis2": {
         "anchor": "x",
         "overlaying": "y",
         "side": "right",
         "title": {
          "text": "Count of Total Food Word Mentions"
         }
        }
       }
      },
      "text/html": [
       "<div>\n",
       "        \n",
       "        \n",
       "            <div id=\"dc609c9b-8499-42c2-94a8-86d9905319e7\" class=\"plotly-graph-div\" style=\"height:525px; width:100%;\"></div>\n",
       "            <script type=\"text/javascript\">\n",
       "                require([\"plotly\"], function(Plotly) {\n",
       "                    window.PLOTLYENV=window.PLOTLYENV || {};\n",
       "                    \n",
       "                if (document.getElementById(\"dc609c9b-8499-42c2-94a8-86d9905319e7\")) {\n",
       "                    Plotly.newPlot(\n",
       "                        'dc609c9b-8499-42c2-94a8-86d9905319e7',\n",
       "                        [{\"name\": \"Distinct Food Words Mentioned\", \"type\": \"bar\", \"x\": [\"lil wayne\", \"action bronson\", \"e40\", \"gucci mane\", \"ghostface killah\", \"young thug\", \"2 chainz\", \"aesop rock\", \"eminem\", \"tech n9ne\", \"lupe fiasco\", \"raekwon\", \"rick ross\", \"snoop dogg\", \"tyga\", \"chief keef\", \"fabolous\", \"nas\", \"currensy\", \"mac miller\", \"childish gambino\", \"danny brown\", \"the game\", \"rza\", \"lil yachty\"], \"xaxis\": \"x\", \"y\": [578, 476, 464, 419, 394, 379, 376, 373, 370, 348, 318, 308, 304, 297, 293, 291, 287, 284, 279, 279, 271, 270, 268, 261, 260], \"yaxis\": \"y\"}, {\"name\": \"Count of Total Food Word Mentions\", \"type\": \"scatter\", \"x\": [\"lil wayne\", \"action bronson\", \"e40\", \"gucci mane\", \"ghostface killah\", \"young thug\", \"2 chainz\", \"aesop rock\", \"eminem\", \"tech n9ne\", \"lupe fiasco\", \"raekwon\", \"rick ross\", \"snoop dogg\", \"tyga\", \"chief keef\", \"fabolous\", \"nas\", \"currensy\", \"mac miller\", \"childish gambino\", \"danny brown\", \"the game\", \"rza\", \"lil yachty\"], \"xaxis\": \"x\", \"y\": [4087, 1679, 3160, 3749, 1520, 3865, 1641, 1277, 1973, 1774, 1161, 1319, 1535, 1640, 1397, 1790, 1077, 1323, 1198, 919, 688, 709, 1447, 800, 1120], \"yaxis\": \"y2\"}],\n",
       "                        {\"legend\": {\"orientation\": \"h\", \"x\": 0.6, \"xanchor\": \"right\", \"y\": 1.02, \"yanchor\": \"bottom\"}, \"template\": {\"data\": {\"bar\": [{\"error_x\": {\"color\": \"#2a3f5f\"}, \"error_y\": {\"color\": \"#2a3f5f\"}, \"marker\": {\"line\": {\"color\": \"#E5ECF6\", \"width\": 0.5}}, \"type\": \"bar\"}], \"barpolar\": [{\"marker\": {\"line\": {\"color\": \"#E5ECF6\", \"width\": 0.5}}, \"type\": \"barpolar\"}], \"carpet\": [{\"aaxis\": {\"endlinecolor\": \"#2a3f5f\", \"gridcolor\": \"white\", \"linecolor\": \"white\", \"minorgridcolor\": \"white\", \"startlinecolor\": \"#2a3f5f\"}, \"baxis\": {\"endlinecolor\": \"#2a3f5f\", \"gridcolor\": \"white\", \"linecolor\": \"white\", \"minorgridcolor\": \"white\", \"startlinecolor\": \"#2a3f5f\"}, \"type\": \"carpet\"}], \"choropleth\": [{\"colorbar\": {\"outlinewidth\": 0, \"ticks\": \"\"}, \"type\": \"choropleth\"}], \"contour\": [{\"colorbar\": {\"outlinewidth\": 0, \"ticks\": \"\"}, \"colorscale\": [[0.0, \"#0d0887\"], [0.1111111111111111, \"#46039f\"], [0.2222222222222222, \"#7201a8\"], [0.3333333333333333, \"#9c179e\"], [0.4444444444444444, \"#bd3786\"], [0.5555555555555556, \"#d8576b\"], [0.6666666666666666, \"#ed7953\"], [0.7777777777777778, \"#fb9f3a\"], [0.8888888888888888, \"#fdca26\"], [1.0, \"#f0f921\"]], \"type\": \"contour\"}], \"contourcarpet\": [{\"colorbar\": {\"outlinewidth\": 0, \"ticks\": \"\"}, \"type\": \"contourcarpet\"}], \"heatmap\": [{\"colorbar\": {\"outlinewidth\": 0, \"ticks\": \"\"}, \"colorscale\": [[0.0, \"#0d0887\"], [0.1111111111111111, \"#46039f\"], [0.2222222222222222, \"#7201a8\"], [0.3333333333333333, \"#9c179e\"], [0.4444444444444444, \"#bd3786\"], [0.5555555555555556, \"#d8576b\"], [0.6666666666666666, \"#ed7953\"], [0.7777777777777778, \"#fb9f3a\"], [0.8888888888888888, \"#fdca26\"], [1.0, \"#f0f921\"]], \"type\": \"heatmap\"}], \"heatmapgl\": [{\"colorbar\": {\"outlinewidth\": 0, \"ticks\": \"\"}, \"colorscale\": [[0.0, \"#0d0887\"], [0.1111111111111111, \"#46039f\"], [0.2222222222222222, \"#7201a8\"], [0.3333333333333333, \"#9c179e\"], [0.4444444444444444, \"#bd3786\"], [0.5555555555555556, \"#d8576b\"], [0.6666666666666666, \"#ed7953\"], [0.7777777777777778, \"#fb9f3a\"], [0.8888888888888888, \"#fdca26\"], [1.0, \"#f0f921\"]], \"type\": \"heatmapgl\"}], \"histogram\": [{\"marker\": {\"colorbar\": {\"outlinewidth\": 0, \"ticks\": \"\"}}, \"type\": \"histogram\"}], \"histogram2d\": [{\"colorbar\": {\"outlinewidth\": 0, \"ticks\": \"\"}, \"colorscale\": [[0.0, \"#0d0887\"], [0.1111111111111111, \"#46039f\"], [0.2222222222222222, \"#7201a8\"], [0.3333333333333333, \"#9c179e\"], [0.4444444444444444, \"#bd3786\"], [0.5555555555555556, \"#d8576b\"], [0.6666666666666666, \"#ed7953\"], [0.7777777777777778, \"#fb9f3a\"], [0.8888888888888888, \"#fdca26\"], [1.0, \"#f0f921\"]], \"type\": \"histogram2d\"}], \"histogram2dcontour\": [{\"colorbar\": {\"outlinewidth\": 0, \"ticks\": \"\"}, \"colorscale\": [[0.0, \"#0d0887\"], [0.1111111111111111, \"#46039f\"], [0.2222222222222222, \"#7201a8\"], [0.3333333333333333, \"#9c179e\"], [0.4444444444444444, \"#bd3786\"], [0.5555555555555556, \"#d8576b\"], [0.6666666666666666, \"#ed7953\"], [0.7777777777777778, \"#fb9f3a\"], [0.8888888888888888, \"#fdca26\"], [1.0, \"#f0f921\"]], \"type\": \"histogram2dcontour\"}], \"mesh3d\": [{\"colorbar\": {\"outlinewidth\": 0, \"ticks\": \"\"}, \"type\": \"mesh3d\"}], \"parcoords\": [{\"line\": {\"colorbar\": {\"outlinewidth\": 0, \"ticks\": \"\"}}, \"type\": \"parcoords\"}], \"pie\": [{\"automargin\": true, \"type\": \"pie\"}], \"scatter\": [{\"marker\": {\"colorbar\": {\"outlinewidth\": 0, \"ticks\": \"\"}}, \"type\": \"scatter\"}], \"scatter3d\": [{\"line\": {\"colorbar\": {\"outlinewidth\": 0, \"ticks\": \"\"}}, \"marker\": {\"colorbar\": {\"outlinewidth\": 0, \"ticks\": \"\"}}, \"type\": \"scatter3d\"}], \"scattercarpet\": [{\"marker\": {\"colorbar\": {\"outlinewidth\": 0, \"ticks\": \"\"}}, \"type\": \"scattercarpet\"}], \"scattergeo\": [{\"marker\": {\"colorbar\": {\"outlinewidth\": 0, \"ticks\": \"\"}}, \"type\": \"scattergeo\"}], \"scattergl\": [{\"marker\": {\"colorbar\": {\"outlinewidth\": 0, \"ticks\": \"\"}}, \"type\": \"scattergl\"}], \"scattermapbox\": [{\"marker\": {\"colorbar\": {\"outlinewidth\": 0, \"ticks\": \"\"}}, \"type\": \"scattermapbox\"}], \"scatterpolar\": [{\"marker\": {\"colorbar\": {\"outlinewidth\": 0, \"ticks\": \"\"}}, \"type\": \"scatterpolar\"}], \"scatterpolargl\": [{\"marker\": {\"colorbar\": {\"outlinewidth\": 0, \"ticks\": \"\"}}, \"type\": \"scatterpolargl\"}], \"scatterternary\": [{\"marker\": {\"colorbar\": {\"outlinewidth\": 0, \"ticks\": \"\"}}, \"type\": \"scatterternary\"}], \"surface\": [{\"colorbar\": {\"outlinewidth\": 0, \"ticks\": \"\"}, \"colorscale\": [[0.0, \"#0d0887\"], [0.1111111111111111, \"#46039f\"], [0.2222222222222222, \"#7201a8\"], [0.3333333333333333, \"#9c179e\"], [0.4444444444444444, \"#bd3786\"], [0.5555555555555556, \"#d8576b\"], [0.6666666666666666, \"#ed7953\"], [0.7777777777777778, \"#fb9f3a\"], [0.8888888888888888, \"#fdca26\"], [1.0, \"#f0f921\"]], \"type\": \"surface\"}], \"table\": [{\"cells\": {\"fill\": {\"color\": \"#EBF0F8\"}, \"line\": {\"color\": \"white\"}}, \"header\": {\"fill\": {\"color\": \"#C8D4E3\"}, \"line\": {\"color\": \"white\"}}, \"type\": \"table\"}]}, \"layout\": {\"annotationdefaults\": {\"arrowcolor\": \"#2a3f5f\", \"arrowhead\": 0, \"arrowwidth\": 1}, \"coloraxis\": {\"colorbar\": {\"outlinewidth\": 0, \"ticks\": \"\"}}, \"colorscale\": {\"diverging\": [[0, \"#8e0152\"], [0.1, \"#c51b7d\"], [0.2, \"#de77ae\"], [0.3, \"#f1b6da\"], [0.4, \"#fde0ef\"], [0.5, \"#f7f7f7\"], [0.6, \"#e6f5d0\"], [0.7, \"#b8e186\"], [0.8, \"#7fbc41\"], [0.9, \"#4d9221\"], [1, \"#276419\"]], \"sequential\": [[0.0, \"#0d0887\"], [0.1111111111111111, \"#46039f\"], [0.2222222222222222, \"#7201a8\"], [0.3333333333333333, \"#9c179e\"], [0.4444444444444444, \"#bd3786\"], [0.5555555555555556, \"#d8576b\"], [0.6666666666666666, \"#ed7953\"], [0.7777777777777778, \"#fb9f3a\"], [0.8888888888888888, \"#fdca26\"], [1.0, \"#f0f921\"]], \"sequentialminus\": [[0.0, \"#0d0887\"], [0.1111111111111111, \"#46039f\"], [0.2222222222222222, \"#7201a8\"], [0.3333333333333333, \"#9c179e\"], [0.4444444444444444, \"#bd3786\"], [0.5555555555555556, \"#d8576b\"], [0.6666666666666666, \"#ed7953\"], [0.7777777777777778, \"#fb9f3a\"], [0.8888888888888888, \"#fdca26\"], [1.0, \"#f0f921\"]]}, \"colorway\": [\"#636efa\", \"#EF553B\", \"#00cc96\", \"#ab63fa\", \"#FFA15A\", \"#19d3f3\", \"#FF6692\", \"#B6E880\", \"#FF97FF\", \"#FECB52\"], \"font\": {\"color\": \"#2a3f5f\"}, \"geo\": {\"bgcolor\": \"white\", \"lakecolor\": \"white\", \"landcolor\": \"#E5ECF6\", \"showlakes\": true, \"showland\": true, \"subunitcolor\": \"white\"}, \"hoverlabel\": {\"align\": \"left\"}, \"hovermode\": \"closest\", \"mapbox\": {\"style\": \"light\"}, \"paper_bgcolor\": \"white\", \"plot_bgcolor\": \"#E5ECF6\", \"polar\": {\"angularaxis\": {\"gridcolor\": \"white\", \"linecolor\": \"white\", \"ticks\": \"\"}, \"bgcolor\": \"#E5ECF6\", \"radialaxis\": {\"gridcolor\": \"white\", \"linecolor\": \"white\", \"ticks\": \"\"}}, \"scene\": {\"xaxis\": {\"backgroundcolor\": \"#E5ECF6\", \"gridcolor\": \"white\", \"gridwidth\": 2, \"linecolor\": \"white\", \"showbackground\": true, \"ticks\": \"\", \"zerolinecolor\": \"white\"}, \"yaxis\": {\"backgroundcolor\": \"#E5ECF6\", \"gridcolor\": \"white\", \"gridwidth\": 2, \"linecolor\": \"white\", \"showbackground\": true, \"ticks\": \"\", \"zerolinecolor\": \"white\"}, \"zaxis\": {\"backgroundcolor\": \"#E5ECF6\", \"gridcolor\": \"white\", \"gridwidth\": 2, \"linecolor\": \"white\", \"showbackground\": true, \"ticks\": \"\", \"zerolinecolor\": \"white\"}}, \"shapedefaults\": {\"line\": {\"color\": \"#2a3f5f\"}}, \"ternary\": {\"aaxis\": {\"gridcolor\": \"white\", \"linecolor\": \"white\", \"ticks\": \"\"}, \"baxis\": {\"gridcolor\": \"white\", \"linecolor\": \"white\", \"ticks\": \"\"}, \"bgcolor\": \"#E5ECF6\", \"caxis\": {\"gridcolor\": \"white\", \"linecolor\": \"white\", \"ticks\": \"\"}}, \"title\": {\"x\": 0.05}, \"xaxis\": {\"automargin\": true, \"gridcolor\": \"white\", \"linecolor\": \"white\", \"ticks\": \"\", \"title\": {\"standoff\": 15}, \"zerolinecolor\": \"white\", \"zerolinewidth\": 2}, \"yaxis\": {\"automargin\": true, \"gridcolor\": \"white\", \"linecolor\": \"white\", \"ticks\": \"\", \"title\": {\"standoff\": 15}, \"zerolinecolor\": \"white\", \"zerolinewidth\": 2}}}, \"title\": {\"text\": \"Top 25 Artists by Distinct Food Words Mentioned\", \"x\": 0.45, \"xanchor\": \"center\", \"y\": 0.9, \"yanchor\": \"top\"}, \"xaxis\": {\"anchor\": \"y\", \"domain\": [0.0, 0.94], \"title\": {\"text\": \"Artist\"}}, \"yaxis\": {\"anchor\": \"x\", \"domain\": [0.0, 1.0], \"title\": {\"text\": \"Distinct Food Words Mentioned\"}}, \"yaxis2\": {\"anchor\": \"x\", \"overlaying\": \"y\", \"side\": \"right\", \"title\": {\"text\": \"Count of Total Food Word Mentions\"}}},\n",
       "                        {\"responsive\": true}\n",
       "                    ).then(function(){\n",
       "                            \n",
       "var gd = document.getElementById('dc609c9b-8499-42c2-94a8-86d9905319e7');\n",
       "var x = new MutationObserver(function (mutations, observer) {{\n",
       "        var display = window.getComputedStyle(gd).display;\n",
       "        if (!display || display === 'none') {{\n",
       "            console.log([gd, 'removed!']);\n",
       "            Plotly.purge(gd);\n",
       "            observer.disconnect();\n",
       "        }}\n",
       "}});\n",
       "\n",
       "// Listen for the removal of the full notebook cells\n",
       "var notebookContainer = gd.closest('#notebook-container');\n",
       "if (notebookContainer) {{\n",
       "    x.observe(notebookContainer, {childList: true});\n",
       "}}\n",
       "\n",
       "// Listen for the clearing of the current output cell\n",
       "var outputEl = gd.closest('.output');\n",
       "if (outputEl) {{\n",
       "    x.observe(outputEl, {childList: true});\n",
       "}}\n",
       "\n",
       "                        })\n",
       "                };\n",
       "                });\n",
       "            </script>\n",
       "        </div>"
      ]
     },
     "metadata": {},
     "output_type": "display_data"
    }
   ],
   "source": [
    "artist_distinct_food_words_plot_df = artist_total_food_words_df.sort_values(by='unique_food_word_count',ascending=False)[:results_limit]\n",
    "\n",
    "# Create figure with secondary y-axis\n",
    "fig = make_subplots(specs=[[{\"secondary_y\": True}]])\n",
    "\n",
    "# Add traces\n",
    "fig.add_trace(\n",
    "    go.Bar(x=artist_distinct_food_words_plot_df['artist_clean'],\n",
    "               y=artist_distinct_food_words_plot_df['unique_food_word_count'],\n",
    "               name=\"Distinct Food Words Mentioned\"),\n",
    "    secondary_y=False,\n",
    ")\n",
    "\n",
    "fig.add_trace(\n",
    "    go.Scatter(x=artist_distinct_food_words_plot_df['artist_clean'],\n",
    "               y=artist_distinct_food_words_plot_df['total_food_word_count'],\n",
    "               name=\"Count of Total Food Word Mentions\"),\n",
    "    secondary_y=True,\n",
    ")\n",
    "\n",
    "# Add figure title\n",
    "fig.update_layout(\n",
    "    title={\n",
    "        'text': \"Top {0} Artists by Distinct Food Words Mentioned\".format(results_limit),\n",
    "        'y':0.94,\n",
    "        'x':0.5,\n",
    "        'xanchor': 'center',\n",
    "        'yanchor': 'top'}\n",
    ")\n",
    "\n",
    "# Set x-axis title\n",
    "fig.update_xaxes(title_text=\"Artist\")\n",
    "\n",
    "# Set y-axes titles\n",
    "fig.update_yaxes(title_text=\"Distinct Food Words Mentioned\", secondary_y=False)\n",
    "fig.update_yaxes(title_text=\"Count of Total Food Word Mentions\", secondary_y=True)\n",
    "fig.update_layout(legend=dict(\n",
    "    orientation=\"h\",\n",
    "    yanchor=\"bottom\",\n",
    "    y=1.02,\n",
    "    xanchor=\"right\",\n",
    "    x=0.6\n",
    "))\n",
    "\n",
    "fig.show()"
   ]
  },
  {
   "cell_type": "code",
   "execution_count": 167,
   "metadata": {},
   "outputs": [
    {
     "data": {
      "text/html": [
       "<div>\n",
       "<style scoped>\n",
       "    .dataframe tbody tr th:only-of-type {\n",
       "        vertical-align: middle;\n",
       "    }\n",
       "\n",
       "    .dataframe tbody tr th {\n",
       "        vertical-align: top;\n",
       "    }\n",
       "\n",
       "    .dataframe thead th {\n",
       "        text-align: right;\n",
       "    }\n",
       "</style>\n",
       "<table border=\"1\" class=\"dataframe\">\n",
       "  <thead>\n",
       "    <tr style=\"text-align: right;\">\n",
       "      <th></th>\n",
       "      <th>artist_clean</th>\n",
       "      <th>country</th>\n",
       "      <th>region</th>\n",
       "      <th>state</th>\n",
       "      <th>city</th>\n",
       "      <th>total_food_word_count</th>\n",
       "      <th>unique_food_word_count</th>\n",
       "      <th>total_lyric_words</th>\n",
       "      <th>total_lyric_words_excl_sw</th>\n",
       "      <th>total_song_count</th>\n",
       "      <th>total_songs_with_food_words</th>\n",
       "      <th>food_words_lyrics_prob</th>\n",
       "      <th>food_words_lyrics_excl_sw_prob</th>\n",
       "      <th>food_words_song_prob</th>\n",
       "    </tr>\n",
       "  </thead>\n",
       "  <tbody>\n",
       "    <tr>\n",
       "      <th>0</th>\n",
       "      <td>2 chainz</td>\n",
       "      <td>US</td>\n",
       "      <td>South</td>\n",
       "      <td>GA</td>\n",
       "      <td>Atlanta</td>\n",
       "      <td>1641</td>\n",
       "      <td>376</td>\n",
       "      <td>150120.0</td>\n",
       "      <td>85797.0</td>\n",
       "      <td>672.0</td>\n",
       "      <td>417.0</td>\n",
       "      <td>0.010931</td>\n",
       "      <td>0.019127</td>\n",
       "      <td>0.620536</td>\n",
       "    </tr>\n",
       "    <tr>\n",
       "      <th>1</th>\n",
       "      <td>21 savage</td>\n",
       "      <td>US</td>\n",
       "      <td>South</td>\n",
       "      <td>GA</td>\n",
       "      <td>Atlanta</td>\n",
       "      <td>555</td>\n",
       "      <td>132</td>\n",
       "      <td>89761.0</td>\n",
       "      <td>54906.0</td>\n",
       "      <td>303.0</td>\n",
       "      <td>187.0</td>\n",
       "      <td>0.006183</td>\n",
       "      <td>0.010108</td>\n",
       "      <td>0.617162</td>\n",
       "    </tr>\n",
       "    <tr>\n",
       "      <th>2</th>\n",
       "      <td>2pac</td>\n",
       "      <td>US</td>\n",
       "      <td>West</td>\n",
       "      <td>CA</td>\n",
       "      <td>None</td>\n",
       "      <td>635</td>\n",
       "      <td>121</td>\n",
       "      <td>395452.0</td>\n",
       "      <td>216612.0</td>\n",
       "      <td>915.0</td>\n",
       "      <td>399.0</td>\n",
       "      <td>0.001606</td>\n",
       "      <td>0.002932</td>\n",
       "      <td>0.436066</td>\n",
       "    </tr>\n",
       "    <tr>\n",
       "      <th>3</th>\n",
       "      <td>50 cent</td>\n",
       "      <td>US</td>\n",
       "      <td>East</td>\n",
       "      <td>NY</td>\n",
       "      <td>Queens</td>\n",
       "      <td>1028</td>\n",
       "      <td>188</td>\n",
       "      <td>214120.0</td>\n",
       "      <td>119145.0</td>\n",
       "      <td>675.0</td>\n",
       "      <td>356.0</td>\n",
       "      <td>0.004801</td>\n",
       "      <td>0.008628</td>\n",
       "      <td>0.527407</td>\n",
       "    </tr>\n",
       "    <tr>\n",
       "      <th>4</th>\n",
       "      <td>6ix9ine</td>\n",
       "      <td>US</td>\n",
       "      <td>East</td>\n",
       "      <td>NY</td>\n",
       "      <td>Brooklyn</td>\n",
       "      <td>141</td>\n",
       "      <td>39</td>\n",
       "      <td>35540.0</td>\n",
       "      <td>20784.0</td>\n",
       "      <td>142.0</td>\n",
       "      <td>60.0</td>\n",
       "      <td>0.003967</td>\n",
       "      <td>0.006784</td>\n",
       "      <td>0.422535</td>\n",
       "    </tr>\n",
       "  </tbody>\n",
       "</table>\n",
       "</div>"
      ],
      "text/plain": [
       "  artist_clean country region state      city  total_food_word_count  \\\n",
       "0     2 chainz      US  South    GA   Atlanta                   1641   \n",
       "1    21 savage      US  South    GA   Atlanta                    555   \n",
       "2         2pac      US   West    CA      None                    635   \n",
       "3      50 cent      US   East    NY    Queens                   1028   \n",
       "4      6ix9ine      US   East    NY  Brooklyn                    141   \n",
       "\n",
       "   unique_food_word_count  total_lyric_words  total_lyric_words_excl_sw  \\\n",
       "0                     376           150120.0                    85797.0   \n",
       "1                     132            89761.0                    54906.0   \n",
       "2                     121           395452.0                   216612.0   \n",
       "3                     188           214120.0                   119145.0   \n",
       "4                      39            35540.0                    20784.0   \n",
       "\n",
       "   total_song_count  total_songs_with_food_words  food_words_lyrics_prob  \\\n",
       "0             672.0                        417.0                0.010931   \n",
       "1             303.0                        187.0                0.006183   \n",
       "2             915.0                        399.0                0.001606   \n",
       "3             675.0                        356.0                0.004801   \n",
       "4             142.0                         60.0                0.003967   \n",
       "\n",
       "   food_words_lyrics_excl_sw_prob  food_words_song_prob  \n",
       "0                        0.019127              0.620536  \n",
       "1                        0.010108              0.617162  \n",
       "2                        0.002932              0.436066  \n",
       "3                        0.008628              0.527407  \n",
       "4                        0.006784              0.422535  "
      ]
     },
     "execution_count": 167,
     "metadata": {},
     "output_type": "execute_result"
    }
   ],
   "source": [
    "artist_total_food_words_df[:5]"
   ]
  },
  {
   "cell_type": "code",
   "execution_count": 168,
   "metadata": {
    "scrolled": false
   },
   "outputs": [
    {
     "data": {
      "application/vnd.plotly.v1+json": {
       "config": {
        "plotlyServerURL": "https://plot.ly"
       },
       "data": [
        {
         "customdata": [
          [
           "2 chainz"
          ],
          [
           "21 savage"
          ],
          [
           "2pac"
          ],
          [
           "50 cent"
          ],
          [
           "6ix9ine"
          ],
          [
           "a boogie wit da hoodie"
          ],
          [
           "ace hood"
          ],
          [
           "action bronson"
          ],
          [
           "aesop rock"
          ],
          [
           "afroman"
          ],
          [
           "akon"
          ],
          [
           "amine"
          ],
          [
           "anderson paak"
          ],
          [
           "andre 3000"
          ],
          [
           "andre nickatina"
          ],
          [
           "asap ferg"
          ],
          [
           "asap rocky"
          ],
          [
           "atmosphere"
          ],
          [
           "beastie boys"
          ],
          [
           "beyonce"
          ],
          [
           "big boi"
          ],
          [
           "big daddy kane"
          ],
          [
           "big l"
          ],
          [
           "big pun"
          ],
          [
           "big sean"
          ],
          [
           "birdman"
          ],
          [
           "black thought"
          ],
          [
           "blueface"
          ],
          [
           "bob"
          ],
          [
           "bobby shmurda"
          ],
          [
           "bun b"
          ],
          [
           "busta rhymes"
          ],
          [
           "camron"
          ],
          [
           "cardi b"
          ],
          [
           "casey veggies"
          ],
          [
           "chamillionaire"
          ],
          [
           "chance the rapper"
          ],
          [
           "chief keef"
          ],
          [
           "childish gambino"
          ],
          [
           "chingy"
          ],
          [
           "chris brown"
          ],
          [
           "common"
          ],
          [
           "coolio"
          ],
          [
           "currensy"
          ],
          [
           "cypress hill"
          ],
          [
           "dababy"
          ],
          [
           "danny brown"
          ],
          [
           "david banner"
          ],
          [
           "de la soul"
          ],
          [
           "del the funky homosapien"
          ],
          [
           "denzel curry"
          ],
          [
           "desiigner"
          ],
          [
           "diddy"
          ],
          [
           "digable planets"
          ],
          [
           "dj khaled"
          ],
          [
           "dj paul"
          ],
          [
           "dmx"
          ],
          [
           "doja cat"
          ],
          [
           "dom mclennon"
          ],
          [
           "doug e fresh"
          ],
          [
           "dr dre"
          ],
          [
           "drake"
          ],
          [
           "dram"
          ],
          [
           "e40"
          ],
          [
           "earl sweatshirt"
          ],
          [
           "eminem"
          ],
          [
           "eve"
          ],
          [
           "fabolous"
          ],
          [
           "fat joe"
          ],
          [
           "fetty wap"
          ],
          [
           "flo rida"
          ],
          [
           "frank ocean"
          ],
          [
           "french montana"
          ],
          [
           "future"
          ],
          [
           "gang starr"
          ],
          [
           "geazy"
          ],
          [
           "geto boys"
          ],
          [
           "ghostface killah"
          ],
          [
           "granata"
          ],
          [
           "grandmaster caz"
          ],
          [
           "grandmaster melle mel"
          ],
          [
           "gucci mane"
          ],
          [
           "gunna"
          ],
          [
           "gza"
          ],
          [
           "heavy d"
          ],
          [
           "her"
          ],
          [
           "ice cube"
          ],
          [
           "icet"
          ],
          [
           "iggy azalea"
          ],
          [
           "immortal technique"
          ],
          [
           "inspectah deck"
          ],
          [
           "j cole"
          ],
          [
           "ja rule"
          ],
          [
           "jadakiss"
          ],
          [
           "jaden smith"
          ],
          [
           "jay rock"
          ],
          [
           "jayz"
          ],
          [
           "jeezy"
          ],
          [
           "jidenna"
          ],
          [
           "jim jones"
          ],
          [
           "joey badass"
          ],
          [
           "juelz santana"
          ],
          [
           "juice wrld"
          ],
          [
           "juicy j"
          ],
          [
           "jurassic 5"
          ],
          [
           "kanye west"
          ],
          [
           "kelis"
          ],
          [
           "kendrick lamar"
          ],
          [
           "kevin abstract"
          ],
          [
           "kevin gates"
          ],
          [
           "kid cudi"
          ],
          [
           "kodak black"
          ],
          [
           "kool g rap"
          ],
          [
           "krsone"
          ],
          [
           "kurtis blow"
          ],
          [
           "kyle"
          ],
          [
           "lauryn hill"
          ],
          [
           "lil baby"
          ],
          [
           "lil dicky"
          ],
          [
           "lil jon"
          ],
          [
           "lil kim"
          ],
          [
           "lil peep"
          ],
          [
           "lil pump"
          ],
          [
           "lil uzi vert"
          ],
          [
           "lil wayne"
          ],
          [
           "lil yachty"
          ],
          [
           "lizzo"
          ],
          [
           "ll cool j"
          ],
          [
           "lloyd banks"
          ],
          [
           "logic"
          ],
          [
           "ludacris"
          ],
          [
           "lupe fiasco"
          ],
          [
           "mac dre"
          ],
          [
           "mac miller"
          ],
          [
           "machine gun kelly"
          ],
          [
           "macklemore"
          ],
          [
           "mase"
          ],
          [
           "matt champion"
          ],
          [
           "mc hammer"
          ],
          [
           "meek mill"
          ],
          [
           "megan thee stallion"
          ],
          [
           "merlyn wood"
          ],
          [
           "method man"
          ],
          [
           "mf doom"
          ],
          [
           "mia"
          ],
          [
           "mike jones"
          ],
          [
           "missy elliott"
          ],
          [
           "mobb deep"
          ],
          [
           "nas"
          ],
          [
           "nate dogg"
          ],
          [
           "nelly"
          ],
          [
           "nicki minaj"
          ],
          [
           "nipsey hussle"
          ],
          [
           "noname"
          ],
          [
           "offset"
          ],
          [
           "ol dirty bastard"
          ],
          [
           "pharrell williams"
          ],
          [
           "phife dawg"
          ],
          [
           "pimp c"
          ],
          [
           "playboi carti"
          ],
          [
           "plies"
          ],
          [
           "post malone"
          ],
          [
           "princess nokia"
          ],
          [
           "project pat"
          ],
          [
           "public enemy"
          ],
          [
           "pusha t"
          ],
          [
           "qtip"
          ],
          [
           "quavo"
          ],
          [
           "queen latifah"
          ],
          [
           "raekwon"
          ],
          [
           "rakim"
          ],
          [
           "redman"
          ],
          [
           "remy ma"
          ],
          [
           "rich brian"
          ],
          [
           "rich homie quan"
          ],
          [
           "rich the kid"
          ],
          [
           "rick ross"
          ],
          [
           "rihanna"
          ],
          [
           "royce da 59"
          ],
          [
           "run dmc"
          ],
          [
           "rza"
          ],
          [
           "saltnpepa"
          ],
          [
           "santigold"
          ],
          [
           "scarface"
          ],
          [
           "schoolboy q"
          ],
          [
           "sheck wes"
          ],
          [
           "skepta"
          ],
          [
           "ski mask the slump god"
          ],
          [
           "slick rick"
          ],
          [
           "slim jxmmi"
          ],
          [
           "smino"
          ],
          [
           "snoop dogg"
          ],
          [
           "solange"
          ],
          [
           "soulja boy tell em"
          ],
          [
           "swae lee"
          ],
          [
           "syd"
          ],
          [
           "sza"
          ],
          [
           "takeoff"
          ],
          [
           "talib kweli"
          ],
          [
           "tech n9ne"
          ],
          [
           "tee grizzley"
          ],
          [
           "the dream"
          ],
          [
           "the game"
          ],
          [
           "the notorious big"
          ],
          [
           "ti"
          ],
          [
           "tierra whack"
          ],
          [
           "timbaland"
          ],
          [
           "tlc"
          ],
          [
           "too short"
          ],
          [
           "tory lanez"
          ],
          [
           "tpain"
          ],
          [
           "travis scott"
          ],
          [
           "trey songz"
          ],
          [
           "trina"
          ],
          [
           "trippie redd"
          ],
          [
           "twista"
          ],
          [
           "ty dolla sign"
          ],
          [
           "tyga"
          ],
          [
           "tyler the creator"
          ],
          [
           "vince staples"
          ],
          [
           "waka flocka flame"
          ],
          [
           "wale"
          ],
          [
           "warren g"
          ],
          [
           "will smith"
          ],
          [
           "willow smith"
          ],
          [
           "wiz khalifa"
          ],
          [
           "wyclef jean"
          ],
          [
           "xxxtentacion"
          ],
          [
           "xzibit"
          ],
          [
           "yasiin bey"
          ],
          [
           "yg"
          ],
          [
           "yo gotti"
          ],
          [
           "young thug"
          ],
          [
           "youngboy never broke again"
          ]
         ],
         "hovertemplate": "total_food_word_count=%{x}<br>unique_food_word_count=%{y}<br>artist_clean=%{customdata[0]}<extra></extra>",
         "legendgroup": "",
         "marker": {
          "color": "#636efa",
          "symbol": "circle"
         },
         "mode": "markers",
         "name": "",
         "orientation": "v",
         "showlegend": false,
         "type": "scatter",
         "x": [
          1641,
          555,
          635,
          1028,
          141,
          268,
          565,
          1679,
          1277,
          477,
          247,
          59,
          286,
          251,
          758,
          557,
          605,
          841,
          682,
          227,
          457,
          259,
          541,
          236,
          470,
          464,
          246,
          339,
          676,
          26,
          726,
          1042,
          658,
          297,
          481,
          1432,
          709,
          1790,
          688,
          160,
          1039,
          593,
          223,
          1198,
          602,
          557,
          709,
          170,
          676,
          391,
          554,
          230,
          465,
          156,
          82,
          152,
          430,
          503,
          33,
          47,
          285,
          718,
          147,
          3160,
          421,
          1973,
          159,
          1077,
          570,
          499,
          416,
          348,
          982,
          1946,
          153,
          520,
          182,
          1520,
          288,
          29,
          75,
          3749,
          969,
          231,
          236,
          43,
          1371,
          391,
          307,
          123,
          385,
          510,
          227,
          904,
          50,
          413,
          1162,
          912,
          74,
          562,
          503,
          510,
          1077,
          1618,
          249,
          870,
          188,
          909,
          121,
          982,
          208,
          1072,
          606,
          408,
          59,
          184,
          143,
          295,
          504,
          148,
          497,
          223,
          403,
          1603,
          4087,
          1120,
          254,
          978,
          987,
          419,
          684,
          1161,
          759,
          919,
          402,
          133,
          254,
          46,
          32,
          1173,
          226,
          69,
          878,
          821,
          301,
          489,
          316,
          275,
          1323,
          118,
          644,
          1162,
          342,
          182,
          1493,
          290,
          630,
          121,
          461,
          698,
          556,
          193,
          238,
          405,
          359,
          338,
          301,
          2271,
          81,
          1319,
          165,
          846,
          171,
          109,
          628,
          1322,
          1535,
          301,
          537,
          205,
          800,
          316,
          20,
          321,
          507,
          111,
          532,
          1514,
          182,
          89,
          614,
          1640,
          61,
          1842,
          188,
          68,
          51,
          753,
          703,
          1774,
          288,
          2,
          1447,
          732,
          810,
          88,
          250,
          25,
          612,
          875,
          504,
          854,
          457,
          407,
          585,
          692,
          552,
          1397,
          817,
          192,
          751,
          1038,
          227,
          142,
          3,
          1265,
          493,
          606,
          277,
          504,
          537,
          580,
          3865,
          273
         ],
         "xaxis": "x",
         "y": [
          376,
          132,
          121,
          188,
          39,
          69,
          171,
          476,
          373,
          104,
          78,
          37,
          91,
          119,
          221,
          150,
          198,
          255,
          214,
          54,
          189,
          125,
          102,
          85,
          152,
          112,
          111,
          60,
          226,
          16,
          171,
          255,
          202,
          81,
          95,
          236,
          216,
          291,
          271,
          56,
          208,
          180,
          79,
          279,
          110,
          108,
          270,
          65,
          190,
          157,
          148,
          62,
          149,
          52,
          49,
          66,
          98,
          138,
          28,
          27,
          87,
          207,
          68,
          464,
          162,
          370,
          62,
          287,
          156,
          95,
          126,
          122,
          190,
          225,
          68,
          151,
          68,
          394,
          143,
          17,
          30,
          419,
          146,
          104,
          82,
          16,
          205,
          75,
          77,
          64,
          123,
          146,
          69,
          194,
          26,
          161,
          244,
          217,
          38,
          154,
          163,
          155,
          176,
          224,
          86,
          212,
          44,
          237,
          35,
          189,
          94,
          211,
          167,
          161,
          32,
          73,
          64,
          74,
          208,
          59,
          152,
          51,
          68,
          231,
          578,
          260,
          98,
          259,
          216,
          109,
          220,
          318,
          233,
          279,
          177,
          80,
          82,
          31,
          23,
          232,
          80,
          47,
          237,
          254,
          93,
          57,
          127,
          90,
          284,
          45,
          119,
          257,
          115,
          98,
          232,
          108,
          134,
          74,
          104,
          99,
          116,
          57,
          96,
          125,
          109,
          133,
          146,
          237,
          49,
          308,
          61,
          256,
          93,
          63,
          151,
          162,
          304,
          35,
          204,
          84,
          261,
          59,
          11,
          100,
          185,
          43,
          146,
          250,
          80,
          29,
          201,
          297,
          19,
          178,
          57,
          29,
          35,
          180,
          218,
          348,
          88,
          2,
          268,
          160,
          185,
          43,
          66,
          15,
          150,
          221,
          149,
          161,
          141,
          106,
          126,
          184,
          126,
          293,
          255,
          93,
          148,
          236,
          82,
          60,
          2,
          175,
          143,
          81,
          110,
          126,
          115,
          128,
          379,
          50
         ],
         "yaxis": "y"
        }
       ],
       "layout": {
        "legend": {
         "tracegroupgap": 0
        },
        "margin": {
         "t": 60
        },
        "template": {
         "data": {
          "bar": [
           {
            "error_x": {
             "color": "#2a3f5f"
            },
            "error_y": {
             "color": "#2a3f5f"
            },
            "marker": {
             "line": {
              "color": "#E5ECF6",
              "width": 0.5
             }
            },
            "type": "bar"
           }
          ],
          "barpolar": [
           {
            "marker": {
             "line": {
              "color": "#E5ECF6",
              "width": 0.5
             }
            },
            "type": "barpolar"
           }
          ],
          "carpet": [
           {
            "aaxis": {
             "endlinecolor": "#2a3f5f",
             "gridcolor": "white",
             "linecolor": "white",
             "minorgridcolor": "white",
             "startlinecolor": "#2a3f5f"
            },
            "baxis": {
             "endlinecolor": "#2a3f5f",
             "gridcolor": "white",
             "linecolor": "white",
             "minorgridcolor": "white",
             "startlinecolor": "#2a3f5f"
            },
            "type": "carpet"
           }
          ],
          "choropleth": [
           {
            "colorbar": {
             "outlinewidth": 0,
             "ticks": ""
            },
            "type": "choropleth"
           }
          ],
          "contour": [
           {
            "colorbar": {
             "outlinewidth": 0,
             "ticks": ""
            },
            "colorscale": [
             [
              0,
              "#0d0887"
             ],
             [
              0.1111111111111111,
              "#46039f"
             ],
             [
              0.2222222222222222,
              "#7201a8"
             ],
             [
              0.3333333333333333,
              "#9c179e"
             ],
             [
              0.4444444444444444,
              "#bd3786"
             ],
             [
              0.5555555555555556,
              "#d8576b"
             ],
             [
              0.6666666666666666,
              "#ed7953"
             ],
             [
              0.7777777777777778,
              "#fb9f3a"
             ],
             [
              0.8888888888888888,
              "#fdca26"
             ],
             [
              1,
              "#f0f921"
             ]
            ],
            "type": "contour"
           }
          ],
          "contourcarpet": [
           {
            "colorbar": {
             "outlinewidth": 0,
             "ticks": ""
            },
            "type": "contourcarpet"
           }
          ],
          "heatmap": [
           {
            "colorbar": {
             "outlinewidth": 0,
             "ticks": ""
            },
            "colorscale": [
             [
              0,
              "#0d0887"
             ],
             [
              0.1111111111111111,
              "#46039f"
             ],
             [
              0.2222222222222222,
              "#7201a8"
             ],
             [
              0.3333333333333333,
              "#9c179e"
             ],
             [
              0.4444444444444444,
              "#bd3786"
             ],
             [
              0.5555555555555556,
              "#d8576b"
             ],
             [
              0.6666666666666666,
              "#ed7953"
             ],
             [
              0.7777777777777778,
              "#fb9f3a"
             ],
             [
              0.8888888888888888,
              "#fdca26"
             ],
             [
              1,
              "#f0f921"
             ]
            ],
            "type": "heatmap"
           }
          ],
          "heatmapgl": [
           {
            "colorbar": {
             "outlinewidth": 0,
             "ticks": ""
            },
            "colorscale": [
             [
              0,
              "#0d0887"
             ],
             [
              0.1111111111111111,
              "#46039f"
             ],
             [
              0.2222222222222222,
              "#7201a8"
             ],
             [
              0.3333333333333333,
              "#9c179e"
             ],
             [
              0.4444444444444444,
              "#bd3786"
             ],
             [
              0.5555555555555556,
              "#d8576b"
             ],
             [
              0.6666666666666666,
              "#ed7953"
             ],
             [
              0.7777777777777778,
              "#fb9f3a"
             ],
             [
              0.8888888888888888,
              "#fdca26"
             ],
             [
              1,
              "#f0f921"
             ]
            ],
            "type": "heatmapgl"
           }
          ],
          "histogram": [
           {
            "marker": {
             "colorbar": {
              "outlinewidth": 0,
              "ticks": ""
             }
            },
            "type": "histogram"
           }
          ],
          "histogram2d": [
           {
            "colorbar": {
             "outlinewidth": 0,
             "ticks": ""
            },
            "colorscale": [
             [
              0,
              "#0d0887"
             ],
             [
              0.1111111111111111,
              "#46039f"
             ],
             [
              0.2222222222222222,
              "#7201a8"
             ],
             [
              0.3333333333333333,
              "#9c179e"
             ],
             [
              0.4444444444444444,
              "#bd3786"
             ],
             [
              0.5555555555555556,
              "#d8576b"
             ],
             [
              0.6666666666666666,
              "#ed7953"
             ],
             [
              0.7777777777777778,
              "#fb9f3a"
             ],
             [
              0.8888888888888888,
              "#fdca26"
             ],
             [
              1,
              "#f0f921"
             ]
            ],
            "type": "histogram2d"
           }
          ],
          "histogram2dcontour": [
           {
            "colorbar": {
             "outlinewidth": 0,
             "ticks": ""
            },
            "colorscale": [
             [
              0,
              "#0d0887"
             ],
             [
              0.1111111111111111,
              "#46039f"
             ],
             [
              0.2222222222222222,
              "#7201a8"
             ],
             [
              0.3333333333333333,
              "#9c179e"
             ],
             [
              0.4444444444444444,
              "#bd3786"
             ],
             [
              0.5555555555555556,
              "#d8576b"
             ],
             [
              0.6666666666666666,
              "#ed7953"
             ],
             [
              0.7777777777777778,
              "#fb9f3a"
             ],
             [
              0.8888888888888888,
              "#fdca26"
             ],
             [
              1,
              "#f0f921"
             ]
            ],
            "type": "histogram2dcontour"
           }
          ],
          "mesh3d": [
           {
            "colorbar": {
             "outlinewidth": 0,
             "ticks": ""
            },
            "type": "mesh3d"
           }
          ],
          "parcoords": [
           {
            "line": {
             "colorbar": {
              "outlinewidth": 0,
              "ticks": ""
             }
            },
            "type": "parcoords"
           }
          ],
          "pie": [
           {
            "automargin": true,
            "type": "pie"
           }
          ],
          "scatter": [
           {
            "marker": {
             "colorbar": {
              "outlinewidth": 0,
              "ticks": ""
             }
            },
            "type": "scatter"
           }
          ],
          "scatter3d": [
           {
            "line": {
             "colorbar": {
              "outlinewidth": 0,
              "ticks": ""
             }
            },
            "marker": {
             "colorbar": {
              "outlinewidth": 0,
              "ticks": ""
             }
            },
            "type": "scatter3d"
           }
          ],
          "scattercarpet": [
           {
            "marker": {
             "colorbar": {
              "outlinewidth": 0,
              "ticks": ""
             }
            },
            "type": "scattercarpet"
           }
          ],
          "scattergeo": [
           {
            "marker": {
             "colorbar": {
              "outlinewidth": 0,
              "ticks": ""
             }
            },
            "type": "scattergeo"
           }
          ],
          "scattergl": [
           {
            "marker": {
             "colorbar": {
              "outlinewidth": 0,
              "ticks": ""
             }
            },
            "type": "scattergl"
           }
          ],
          "scattermapbox": [
           {
            "marker": {
             "colorbar": {
              "outlinewidth": 0,
              "ticks": ""
             }
            },
            "type": "scattermapbox"
           }
          ],
          "scatterpolar": [
           {
            "marker": {
             "colorbar": {
              "outlinewidth": 0,
              "ticks": ""
             }
            },
            "type": "scatterpolar"
           }
          ],
          "scatterpolargl": [
           {
            "marker": {
             "colorbar": {
              "outlinewidth": 0,
              "ticks": ""
             }
            },
            "type": "scatterpolargl"
           }
          ],
          "scatterternary": [
           {
            "marker": {
             "colorbar": {
              "outlinewidth": 0,
              "ticks": ""
             }
            },
            "type": "scatterternary"
           }
          ],
          "surface": [
           {
            "colorbar": {
             "outlinewidth": 0,
             "ticks": ""
            },
            "colorscale": [
             [
              0,
              "#0d0887"
             ],
             [
              0.1111111111111111,
              "#46039f"
             ],
             [
              0.2222222222222222,
              "#7201a8"
             ],
             [
              0.3333333333333333,
              "#9c179e"
             ],
             [
              0.4444444444444444,
              "#bd3786"
             ],
             [
              0.5555555555555556,
              "#d8576b"
             ],
             [
              0.6666666666666666,
              "#ed7953"
             ],
             [
              0.7777777777777778,
              "#fb9f3a"
             ],
             [
              0.8888888888888888,
              "#fdca26"
             ],
             [
              1,
              "#f0f921"
             ]
            ],
            "type": "surface"
           }
          ],
          "table": [
           {
            "cells": {
             "fill": {
              "color": "#EBF0F8"
             },
             "line": {
              "color": "white"
             }
            },
            "header": {
             "fill": {
              "color": "#C8D4E3"
             },
             "line": {
              "color": "white"
             }
            },
            "type": "table"
           }
          ]
         },
         "layout": {
          "annotationdefaults": {
           "arrowcolor": "#2a3f5f",
           "arrowhead": 0,
           "arrowwidth": 1
          },
          "coloraxis": {
           "colorbar": {
            "outlinewidth": 0,
            "ticks": ""
           }
          },
          "colorscale": {
           "diverging": [
            [
             0,
             "#8e0152"
            ],
            [
             0.1,
             "#c51b7d"
            ],
            [
             0.2,
             "#de77ae"
            ],
            [
             0.3,
             "#f1b6da"
            ],
            [
             0.4,
             "#fde0ef"
            ],
            [
             0.5,
             "#f7f7f7"
            ],
            [
             0.6,
             "#e6f5d0"
            ],
            [
             0.7,
             "#b8e186"
            ],
            [
             0.8,
             "#7fbc41"
            ],
            [
             0.9,
             "#4d9221"
            ],
            [
             1,
             "#276419"
            ]
           ],
           "sequential": [
            [
             0,
             "#0d0887"
            ],
            [
             0.1111111111111111,
             "#46039f"
            ],
            [
             0.2222222222222222,
             "#7201a8"
            ],
            [
             0.3333333333333333,
             "#9c179e"
            ],
            [
             0.4444444444444444,
             "#bd3786"
            ],
            [
             0.5555555555555556,
             "#d8576b"
            ],
            [
             0.6666666666666666,
             "#ed7953"
            ],
            [
             0.7777777777777778,
             "#fb9f3a"
            ],
            [
             0.8888888888888888,
             "#fdca26"
            ],
            [
             1,
             "#f0f921"
            ]
           ],
           "sequentialminus": [
            [
             0,
             "#0d0887"
            ],
            [
             0.1111111111111111,
             "#46039f"
            ],
            [
             0.2222222222222222,
             "#7201a8"
            ],
            [
             0.3333333333333333,
             "#9c179e"
            ],
            [
             0.4444444444444444,
             "#bd3786"
            ],
            [
             0.5555555555555556,
             "#d8576b"
            ],
            [
             0.6666666666666666,
             "#ed7953"
            ],
            [
             0.7777777777777778,
             "#fb9f3a"
            ],
            [
             0.8888888888888888,
             "#fdca26"
            ],
            [
             1,
             "#f0f921"
            ]
           ]
          },
          "colorway": [
           "#636efa",
           "#EF553B",
           "#00cc96",
           "#ab63fa",
           "#FFA15A",
           "#19d3f3",
           "#FF6692",
           "#B6E880",
           "#FF97FF",
           "#FECB52"
          ],
          "font": {
           "color": "#2a3f5f"
          },
          "geo": {
           "bgcolor": "white",
           "lakecolor": "white",
           "landcolor": "#E5ECF6",
           "showlakes": true,
           "showland": true,
           "subunitcolor": "white"
          },
          "hoverlabel": {
           "align": "left"
          },
          "hovermode": "closest",
          "mapbox": {
           "style": "light"
          },
          "paper_bgcolor": "white",
          "plot_bgcolor": "#E5ECF6",
          "polar": {
           "angularaxis": {
            "gridcolor": "white",
            "linecolor": "white",
            "ticks": ""
           },
           "bgcolor": "#E5ECF6",
           "radialaxis": {
            "gridcolor": "white",
            "linecolor": "white",
            "ticks": ""
           }
          },
          "scene": {
           "xaxis": {
            "backgroundcolor": "#E5ECF6",
            "gridcolor": "white",
            "gridwidth": 2,
            "linecolor": "white",
            "showbackground": true,
            "ticks": "",
            "zerolinecolor": "white"
           },
           "yaxis": {
            "backgroundcolor": "#E5ECF6",
            "gridcolor": "white",
            "gridwidth": 2,
            "linecolor": "white",
            "showbackground": true,
            "ticks": "",
            "zerolinecolor": "white"
           },
           "zaxis": {
            "backgroundcolor": "#E5ECF6",
            "gridcolor": "white",
            "gridwidth": 2,
            "linecolor": "white",
            "showbackground": true,
            "ticks": "",
            "zerolinecolor": "white"
           }
          },
          "shapedefaults": {
           "line": {
            "color": "#2a3f5f"
           }
          },
          "ternary": {
           "aaxis": {
            "gridcolor": "white",
            "linecolor": "white",
            "ticks": ""
           },
           "baxis": {
            "gridcolor": "white",
            "linecolor": "white",
            "ticks": ""
           },
           "bgcolor": "#E5ECF6",
           "caxis": {
            "gridcolor": "white",
            "linecolor": "white",
            "ticks": ""
           }
          },
          "title": {
           "x": 0.05
          },
          "xaxis": {
           "automargin": true,
           "gridcolor": "white",
           "linecolor": "white",
           "ticks": "",
           "title": {
            "standoff": 15
           },
           "zerolinecolor": "white",
           "zerolinewidth": 2
          },
          "yaxis": {
           "automargin": true,
           "gridcolor": "white",
           "linecolor": "white",
           "ticks": "",
           "title": {
            "standoff": 15
           },
           "zerolinecolor": "white",
           "zerolinewidth": 2
          }
         }
        },
        "title": {
         "text": "Gourmet vs. Gourmand: Unique Food Words vs. Total Food Words",
         "x": 0.5,
         "xanchor": "center",
         "y": 0.93,
         "yanchor": "top"
        },
        "xaxis": {
         "anchor": "y",
         "domain": [
          0,
          1
         ],
         "title": {
          "text": "total_food_word_count"
         }
        },
        "yaxis": {
         "anchor": "x",
         "domain": [
          0,
          1
         ],
         "title": {
          "text": "unique_food_word_count"
         }
        }
       }
      },
      "text/html": [
       "<div>\n",
       "        \n",
       "        \n",
       "            <div id=\"cc4f7408-435f-42b0-8fa3-ab1399f72afa\" class=\"plotly-graph-div\" style=\"height:525px; width:100%;\"></div>\n",
       "            <script type=\"text/javascript\">\n",
       "                require([\"plotly\"], function(Plotly) {\n",
       "                    window.PLOTLYENV=window.PLOTLYENV || {};\n",
       "                    \n",
       "                if (document.getElementById(\"cc4f7408-435f-42b0-8fa3-ab1399f72afa\")) {\n",
       "                    Plotly.newPlot(\n",
       "                        'cc4f7408-435f-42b0-8fa3-ab1399f72afa',\n",
       "                        [{\"customdata\": [[\"2 chainz\"], [\"21 savage\"], [\"2pac\"], [\"50 cent\"], [\"6ix9ine\"], [\"a boogie wit da hoodie\"], [\"ace hood\"], [\"action bronson\"], [\"aesop rock\"], [\"afroman\"], [\"akon\"], [\"amine\"], [\"anderson paak\"], [\"andre 3000\"], [\"andre nickatina\"], [\"asap ferg\"], [\"asap rocky\"], [\"atmosphere\"], [\"beastie boys\"], [\"beyonce\"], [\"big boi\"], [\"big daddy kane\"], [\"big l\"], [\"big pun\"], [\"big sean\"], [\"birdman\"], [\"black thought\"], [\"blueface\"], [\"bob\"], [\"bobby shmurda\"], [\"bun b\"], [\"busta rhymes\"], [\"camron\"], [\"cardi b\"], [\"casey veggies\"], [\"chamillionaire\"], [\"chance the rapper\"], [\"chief keef\"], [\"childish gambino\"], [\"chingy\"], [\"chris brown\"], [\"common\"], [\"coolio\"], [\"currensy\"], [\"cypress hill\"], [\"dababy\"], [\"danny brown\"], [\"david banner\"], [\"de la soul\"], [\"del the funky homosapien\"], [\"denzel curry\"], [\"desiigner\"], [\"diddy\"], [\"digable planets\"], [\"dj khaled\"], [\"dj paul\"], [\"dmx\"], [\"doja cat\"], [\"dom mclennon\"], [\"doug e fresh\"], [\"dr dre\"], [\"drake\"], [\"dram\"], [\"e40\"], [\"earl sweatshirt\"], [\"eminem\"], [\"eve\"], [\"fabolous\"], [\"fat joe\"], [\"fetty wap\"], [\"flo rida\"], [\"frank ocean\"], [\"french montana\"], [\"future\"], [\"gang starr\"], [\"geazy\"], [\"geto boys\"], [\"ghostface killah\"], [\"granata\"], [\"grandmaster caz\"], [\"grandmaster melle mel\"], [\"gucci mane\"], [\"gunna\"], [\"gza\"], [\"heavy d\"], [\"her\"], [\"ice cube\"], [\"icet\"], [\"iggy azalea\"], [\"immortal technique\"], [\"inspectah deck\"], [\"j cole\"], [\"ja rule\"], [\"jadakiss\"], [\"jaden smith\"], [\"jay rock\"], [\"jayz\"], [\"jeezy\"], [\"jidenna\"], [\"jim jones\"], [\"joey badass\"], [\"juelz santana\"], [\"juice wrld\"], [\"juicy j\"], [\"jurassic 5\"], [\"kanye west\"], [\"kelis\"], [\"kendrick lamar\"], [\"kevin abstract\"], [\"kevin gates\"], [\"kid cudi\"], [\"kodak black\"], [\"kool g rap\"], [\"krsone\"], [\"kurtis blow\"], [\"kyle\"], [\"lauryn hill\"], [\"lil baby\"], [\"lil dicky\"], [\"lil jon\"], [\"lil kim\"], [\"lil peep\"], [\"lil pump\"], [\"lil uzi vert\"], [\"lil wayne\"], [\"lil yachty\"], [\"lizzo\"], [\"ll cool j\"], [\"lloyd banks\"], [\"logic\"], [\"ludacris\"], [\"lupe fiasco\"], [\"mac dre\"], [\"mac miller\"], [\"machine gun kelly\"], [\"macklemore\"], [\"mase\"], [\"matt champion\"], [\"mc hammer\"], [\"meek mill\"], [\"megan thee stallion\"], [\"merlyn wood\"], [\"method man\"], [\"mf doom\"], [\"mia\"], [\"mike jones\"], [\"missy elliott\"], [\"mobb deep\"], [\"nas\"], [\"nate dogg\"], [\"nelly\"], [\"nicki minaj\"], [\"nipsey hussle\"], [\"noname\"], [\"offset\"], [\"ol dirty bastard\"], [\"pharrell williams\"], [\"phife dawg\"], [\"pimp c\"], [\"playboi carti\"], [\"plies\"], [\"post malone\"], [\"princess nokia\"], [\"project pat\"], [\"public enemy\"], [\"pusha t\"], [\"qtip\"], [\"quavo\"], [\"queen latifah\"], [\"raekwon\"], [\"rakim\"], [\"redman\"], [\"remy ma\"], [\"rich brian\"], [\"rich homie quan\"], [\"rich the kid\"], [\"rick ross\"], [\"rihanna\"], [\"royce da 59\"], [\"run dmc\"], [\"rza\"], [\"saltnpepa\"], [\"santigold\"], [\"scarface\"], [\"schoolboy q\"], [\"sheck wes\"], [\"skepta\"], [\"ski mask the slump god\"], [\"slick rick\"], [\"slim jxmmi\"], [\"smino\"], [\"snoop dogg\"], [\"solange\"], [\"soulja boy tell em\"], [\"swae lee\"], [\"syd\"], [\"sza\"], [\"takeoff\"], [\"talib kweli\"], [\"tech n9ne\"], [\"tee grizzley\"], [\"the dream\"], [\"the game\"], [\"the notorious big\"], [\"ti\"], [\"tierra whack\"], [\"timbaland\"], [\"tlc\"], [\"too short\"], [\"tory lanez\"], [\"tpain\"], [\"travis scott\"], [\"trey songz\"], [\"trina\"], [\"trippie redd\"], [\"twista\"], [\"ty dolla sign\"], [\"tyga\"], [\"tyler the creator\"], [\"vince staples\"], [\"waka flocka flame\"], [\"wale\"], [\"warren g\"], [\"will smith\"], [\"willow smith\"], [\"wiz khalifa\"], [\"wyclef jean\"], [\"xxxtentacion\"], [\"xzibit\"], [\"yasiin bey\"], [\"yg\"], [\"yo gotti\"], [\"young thug\"], [\"youngboy never broke again\"]], \"hovertemplate\": \"total_food_word_count=%{x}<br>unique_food_word_count=%{y}<br>artist_clean=%{customdata[0]}<extra></extra>\", \"legendgroup\": \"\", \"marker\": {\"color\": \"#636efa\", \"symbol\": \"circle\"}, \"mode\": \"markers\", \"name\": \"\", \"orientation\": \"v\", \"showlegend\": false, \"type\": \"scatter\", \"x\": [1641, 555, 635, 1028, 141, 268, 565, 1679, 1277, 477, 247, 59, 286, 251, 758, 557, 605, 841, 682, 227, 457, 259, 541, 236, 470, 464, 246, 339, 676, 26, 726, 1042, 658, 297, 481, 1432, 709, 1790, 688, 160, 1039, 593, 223, 1198, 602, 557, 709, 170, 676, 391, 554, 230, 465, 156, 82, 152, 430, 503, 33, 47, 285, 718, 147, 3160, 421, 1973, 159, 1077, 570, 499, 416, 348, 982, 1946, 153, 520, 182, 1520, 288, 29, 75, 3749, 969, 231, 236, 43, 1371, 391, 307, 123, 385, 510, 227, 904, 50, 413, 1162, 912, 74, 562, 503, 510, 1077, 1618, 249, 870, 188, 909, 121, 982, 208, 1072, 606, 408, 59, 184, 143, 295, 504, 148, 497, 223, 403, 1603, 4087, 1120, 254, 978, 987, 419, 684, 1161, 759, 919, 402, 133, 254, 46, 32, 1173, 226, 69, 878, 821, 301, 489, 316, 275, 1323, 118, 644, 1162, 342, 182, 1493, 290, 630, 121, 461, 698, 556, 193, 238, 405, 359, 338, 301, 2271, 81, 1319, 165, 846, 171, 109, 628, 1322, 1535, 301, 537, 205, 800, 316, 20, 321, 507, 111, 532, 1514, 182, 89, 614, 1640, 61, 1842, 188, 68, 51, 753, 703, 1774, 288, 2, 1447, 732, 810, 88, 250, 25, 612, 875, 504, 854, 457, 407, 585, 692, 552, 1397, 817, 192, 751, 1038, 227, 142, 3, 1265, 493, 606, 277, 504, 537, 580, 3865, 273], \"xaxis\": \"x\", \"y\": [376, 132, 121, 188, 39, 69, 171, 476, 373, 104, 78, 37, 91, 119, 221, 150, 198, 255, 214, 54, 189, 125, 102, 85, 152, 112, 111, 60, 226, 16, 171, 255, 202, 81, 95, 236, 216, 291, 271, 56, 208, 180, 79, 279, 110, 108, 270, 65, 190, 157, 148, 62, 149, 52, 49, 66, 98, 138, 28, 27, 87, 207, 68, 464, 162, 370, 62, 287, 156, 95, 126, 122, 190, 225, 68, 151, 68, 394, 143, 17, 30, 419, 146, 104, 82, 16, 205, 75, 77, 64, 123, 146, 69, 194, 26, 161, 244, 217, 38, 154, 163, 155, 176, 224, 86, 212, 44, 237, 35, 189, 94, 211, 167, 161, 32, 73, 64, 74, 208, 59, 152, 51, 68, 231, 578, 260, 98, 259, 216, 109, 220, 318, 233, 279, 177, 80, 82, 31, 23, 232, 80, 47, 237, 254, 93, 57, 127, 90, 284, 45, 119, 257, 115, 98, 232, 108, 134, 74, 104, 99, 116, 57, 96, 125, 109, 133, 146, 237, 49, 308, 61, 256, 93, 63, 151, 162, 304, 35, 204, 84, 261, 59, 11, 100, 185, 43, 146, 250, 80, 29, 201, 297, 19, 178, 57, 29, 35, 180, 218, 348, 88, 2, 268, 160, 185, 43, 66, 15, 150, 221, 149, 161, 141, 106, 126, 184, 126, 293, 255, 93, 148, 236, 82, 60, 2, 175, 143, 81, 110, 126, 115, 128, 379, 50], \"yaxis\": \"y\"}],\n",
       "                        {\"legend\": {\"tracegroupgap\": 0}, \"margin\": {\"t\": 60}, \"template\": {\"data\": {\"bar\": [{\"error_x\": {\"color\": \"#2a3f5f\"}, \"error_y\": {\"color\": \"#2a3f5f\"}, \"marker\": {\"line\": {\"color\": \"#E5ECF6\", \"width\": 0.5}}, \"type\": \"bar\"}], \"barpolar\": [{\"marker\": {\"line\": {\"color\": \"#E5ECF6\", \"width\": 0.5}}, \"type\": \"barpolar\"}], \"carpet\": [{\"aaxis\": {\"endlinecolor\": \"#2a3f5f\", \"gridcolor\": \"white\", \"linecolor\": \"white\", \"minorgridcolor\": \"white\", \"startlinecolor\": \"#2a3f5f\"}, \"baxis\": {\"endlinecolor\": \"#2a3f5f\", \"gridcolor\": \"white\", \"linecolor\": \"white\", \"minorgridcolor\": \"white\", \"startlinecolor\": \"#2a3f5f\"}, \"type\": \"carpet\"}], \"choropleth\": [{\"colorbar\": {\"outlinewidth\": 0, \"ticks\": \"\"}, \"type\": \"choropleth\"}], \"contour\": [{\"colorbar\": {\"outlinewidth\": 0, \"ticks\": \"\"}, \"colorscale\": [[0.0, \"#0d0887\"], [0.1111111111111111, \"#46039f\"], [0.2222222222222222, \"#7201a8\"], [0.3333333333333333, \"#9c179e\"], [0.4444444444444444, \"#bd3786\"], [0.5555555555555556, \"#d8576b\"], [0.6666666666666666, \"#ed7953\"], [0.7777777777777778, \"#fb9f3a\"], [0.8888888888888888, \"#fdca26\"], [1.0, \"#f0f921\"]], \"type\": \"contour\"}], \"contourcarpet\": [{\"colorbar\": {\"outlinewidth\": 0, \"ticks\": \"\"}, \"type\": \"contourcarpet\"}], \"heatmap\": [{\"colorbar\": {\"outlinewidth\": 0, \"ticks\": \"\"}, \"colorscale\": [[0.0, \"#0d0887\"], [0.1111111111111111, \"#46039f\"], [0.2222222222222222, \"#7201a8\"], [0.3333333333333333, \"#9c179e\"], [0.4444444444444444, \"#bd3786\"], [0.5555555555555556, \"#d8576b\"], [0.6666666666666666, \"#ed7953\"], [0.7777777777777778, \"#fb9f3a\"], [0.8888888888888888, \"#fdca26\"], [1.0, \"#f0f921\"]], \"type\": \"heatmap\"}], \"heatmapgl\": [{\"colorbar\": {\"outlinewidth\": 0, \"ticks\": \"\"}, \"colorscale\": [[0.0, \"#0d0887\"], [0.1111111111111111, \"#46039f\"], [0.2222222222222222, \"#7201a8\"], [0.3333333333333333, \"#9c179e\"], [0.4444444444444444, \"#bd3786\"], [0.5555555555555556, \"#d8576b\"], [0.6666666666666666, \"#ed7953\"], [0.7777777777777778, \"#fb9f3a\"], [0.8888888888888888, \"#fdca26\"], [1.0, \"#f0f921\"]], \"type\": \"heatmapgl\"}], \"histogram\": [{\"marker\": {\"colorbar\": {\"outlinewidth\": 0, \"ticks\": \"\"}}, \"type\": \"histogram\"}], \"histogram2d\": [{\"colorbar\": {\"outlinewidth\": 0, \"ticks\": \"\"}, \"colorscale\": [[0.0, \"#0d0887\"], [0.1111111111111111, \"#46039f\"], [0.2222222222222222, \"#7201a8\"], [0.3333333333333333, \"#9c179e\"], [0.4444444444444444, \"#bd3786\"], [0.5555555555555556, \"#d8576b\"], [0.6666666666666666, \"#ed7953\"], [0.7777777777777778, \"#fb9f3a\"], [0.8888888888888888, \"#fdca26\"], [1.0, \"#f0f921\"]], \"type\": \"histogram2d\"}], \"histogram2dcontour\": [{\"colorbar\": {\"outlinewidth\": 0, \"ticks\": \"\"}, \"colorscale\": [[0.0, \"#0d0887\"], [0.1111111111111111, \"#46039f\"], [0.2222222222222222, \"#7201a8\"], [0.3333333333333333, \"#9c179e\"], [0.4444444444444444, \"#bd3786\"], [0.5555555555555556, \"#d8576b\"], [0.6666666666666666, \"#ed7953\"], [0.7777777777777778, \"#fb9f3a\"], [0.8888888888888888, \"#fdca26\"], [1.0, \"#f0f921\"]], \"type\": \"histogram2dcontour\"}], \"mesh3d\": [{\"colorbar\": {\"outlinewidth\": 0, \"ticks\": \"\"}, \"type\": \"mesh3d\"}], \"parcoords\": [{\"line\": {\"colorbar\": {\"outlinewidth\": 0, \"ticks\": \"\"}}, \"type\": \"parcoords\"}], \"pie\": [{\"automargin\": true, \"type\": \"pie\"}], \"scatter\": [{\"marker\": {\"colorbar\": {\"outlinewidth\": 0, \"ticks\": \"\"}}, \"type\": \"scatter\"}], \"scatter3d\": [{\"line\": {\"colorbar\": {\"outlinewidth\": 0, \"ticks\": \"\"}}, \"marker\": {\"colorbar\": {\"outlinewidth\": 0, \"ticks\": \"\"}}, \"type\": \"scatter3d\"}], \"scattercarpet\": [{\"marker\": {\"colorbar\": {\"outlinewidth\": 0, \"ticks\": \"\"}}, \"type\": \"scattercarpet\"}], \"scattergeo\": [{\"marker\": {\"colorbar\": {\"outlinewidth\": 0, \"ticks\": \"\"}}, \"type\": \"scattergeo\"}], \"scattergl\": [{\"marker\": {\"colorbar\": {\"outlinewidth\": 0, \"ticks\": \"\"}}, \"type\": \"scattergl\"}], \"scattermapbox\": [{\"marker\": {\"colorbar\": {\"outlinewidth\": 0, \"ticks\": \"\"}}, \"type\": \"scattermapbox\"}], \"scatterpolar\": [{\"marker\": {\"colorbar\": {\"outlinewidth\": 0, \"ticks\": \"\"}}, \"type\": \"scatterpolar\"}], \"scatterpolargl\": [{\"marker\": {\"colorbar\": {\"outlinewidth\": 0, \"ticks\": \"\"}}, \"type\": \"scatterpolargl\"}], \"scatterternary\": [{\"marker\": {\"colorbar\": {\"outlinewidth\": 0, \"ticks\": \"\"}}, \"type\": \"scatterternary\"}], \"surface\": [{\"colorbar\": {\"outlinewidth\": 0, \"ticks\": \"\"}, \"colorscale\": [[0.0, \"#0d0887\"], [0.1111111111111111, \"#46039f\"], [0.2222222222222222, \"#7201a8\"], [0.3333333333333333, \"#9c179e\"], [0.4444444444444444, \"#bd3786\"], [0.5555555555555556, \"#d8576b\"], [0.6666666666666666, \"#ed7953\"], [0.7777777777777778, \"#fb9f3a\"], [0.8888888888888888, \"#fdca26\"], [1.0, \"#f0f921\"]], \"type\": \"surface\"}], \"table\": [{\"cells\": {\"fill\": {\"color\": \"#EBF0F8\"}, \"line\": {\"color\": \"white\"}}, \"header\": {\"fill\": {\"color\": \"#C8D4E3\"}, \"line\": {\"color\": \"white\"}}, \"type\": \"table\"}]}, \"layout\": {\"annotationdefaults\": {\"arrowcolor\": \"#2a3f5f\", \"arrowhead\": 0, \"arrowwidth\": 1}, \"coloraxis\": {\"colorbar\": {\"outlinewidth\": 0, \"ticks\": \"\"}}, \"colorscale\": {\"diverging\": [[0, \"#8e0152\"], [0.1, \"#c51b7d\"], [0.2, \"#de77ae\"], [0.3, \"#f1b6da\"], [0.4, \"#fde0ef\"], [0.5, \"#f7f7f7\"], [0.6, \"#e6f5d0\"], [0.7, \"#b8e186\"], [0.8, \"#7fbc41\"], [0.9, \"#4d9221\"], [1, \"#276419\"]], \"sequential\": [[0.0, \"#0d0887\"], [0.1111111111111111, \"#46039f\"], [0.2222222222222222, \"#7201a8\"], [0.3333333333333333, \"#9c179e\"], [0.4444444444444444, \"#bd3786\"], [0.5555555555555556, \"#d8576b\"], [0.6666666666666666, \"#ed7953\"], [0.7777777777777778, \"#fb9f3a\"], [0.8888888888888888, \"#fdca26\"], [1.0, \"#f0f921\"]], \"sequentialminus\": [[0.0, \"#0d0887\"], [0.1111111111111111, \"#46039f\"], [0.2222222222222222, \"#7201a8\"], [0.3333333333333333, \"#9c179e\"], [0.4444444444444444, \"#bd3786\"], [0.5555555555555556, \"#d8576b\"], [0.6666666666666666, \"#ed7953\"], [0.7777777777777778, \"#fb9f3a\"], [0.8888888888888888, \"#fdca26\"], [1.0, \"#f0f921\"]]}, \"colorway\": [\"#636efa\", \"#EF553B\", \"#00cc96\", \"#ab63fa\", \"#FFA15A\", \"#19d3f3\", \"#FF6692\", \"#B6E880\", \"#FF97FF\", \"#FECB52\"], \"font\": {\"color\": \"#2a3f5f\"}, \"geo\": {\"bgcolor\": \"white\", \"lakecolor\": \"white\", \"landcolor\": \"#E5ECF6\", \"showlakes\": true, \"showland\": true, \"subunitcolor\": \"white\"}, \"hoverlabel\": {\"align\": \"left\"}, \"hovermode\": \"closest\", \"mapbox\": {\"style\": \"light\"}, \"paper_bgcolor\": \"white\", \"plot_bgcolor\": \"#E5ECF6\", \"polar\": {\"angularaxis\": {\"gridcolor\": \"white\", \"linecolor\": \"white\", \"ticks\": \"\"}, \"bgcolor\": \"#E5ECF6\", \"radialaxis\": {\"gridcolor\": \"white\", \"linecolor\": \"white\", \"ticks\": \"\"}}, \"scene\": {\"xaxis\": {\"backgroundcolor\": \"#E5ECF6\", \"gridcolor\": \"white\", \"gridwidth\": 2, \"linecolor\": \"white\", \"showbackground\": true, \"ticks\": \"\", \"zerolinecolor\": \"white\"}, \"yaxis\": {\"backgroundcolor\": \"#E5ECF6\", \"gridcolor\": \"white\", \"gridwidth\": 2, \"linecolor\": \"white\", \"showbackground\": true, \"ticks\": \"\", \"zerolinecolor\": \"white\"}, \"zaxis\": {\"backgroundcolor\": \"#E5ECF6\", \"gridcolor\": \"white\", \"gridwidth\": 2, \"linecolor\": \"white\", \"showbackground\": true, \"ticks\": \"\", \"zerolinecolor\": \"white\"}}, \"shapedefaults\": {\"line\": {\"color\": \"#2a3f5f\"}}, \"ternary\": {\"aaxis\": {\"gridcolor\": \"white\", \"linecolor\": \"white\", \"ticks\": \"\"}, \"baxis\": {\"gridcolor\": \"white\", \"linecolor\": \"white\", \"ticks\": \"\"}, \"bgcolor\": \"#E5ECF6\", \"caxis\": {\"gridcolor\": \"white\", \"linecolor\": \"white\", \"ticks\": \"\"}}, \"title\": {\"x\": 0.05}, \"xaxis\": {\"automargin\": true, \"gridcolor\": \"white\", \"linecolor\": \"white\", \"ticks\": \"\", \"title\": {\"standoff\": 15}, \"zerolinecolor\": \"white\", \"zerolinewidth\": 2}, \"yaxis\": {\"automargin\": true, \"gridcolor\": \"white\", \"linecolor\": \"white\", \"ticks\": \"\", \"title\": {\"standoff\": 15}, \"zerolinecolor\": \"white\", \"zerolinewidth\": 2}}}, \"title\": {\"text\": \"Gourmet vs. Gourmand: Unique Food Words vs. Total Food Words\", \"x\": 0.5, \"xanchor\": \"center\", \"y\": 0.93, \"yanchor\": \"top\"}, \"xaxis\": {\"anchor\": \"y\", \"domain\": [0.0, 1.0], \"title\": {\"text\": \"total_food_word_count\"}}, \"yaxis\": {\"anchor\": \"x\", \"domain\": [0.0, 1.0], \"title\": {\"text\": \"unique_food_word_count\"}}},\n",
       "                        {\"responsive\": true}\n",
       "                    ).then(function(){\n",
       "                            \n",
       "var gd = document.getElementById('cc4f7408-435f-42b0-8fa3-ab1399f72afa');\n",
       "var x = new MutationObserver(function (mutations, observer) {{\n",
       "        var display = window.getComputedStyle(gd).display;\n",
       "        if (!display || display === 'none') {{\n",
       "            console.log([gd, 'removed!']);\n",
       "            Plotly.purge(gd);\n",
       "            observer.disconnect();\n",
       "        }}\n",
       "}});\n",
       "\n",
       "// Listen for the removal of the full notebook cells\n",
       "var notebookContainer = gd.closest('#notebook-container');\n",
       "if (notebookContainer) {{\n",
       "    x.observe(notebookContainer, {childList: true});\n",
       "}}\n",
       "\n",
       "// Listen for the clearing of the current output cell\n",
       "var outputEl = gd.closest('.output');\n",
       "if (outputEl) {{\n",
       "    x.observe(outputEl, {childList: true});\n",
       "}}\n",
       "\n",
       "                        })\n",
       "                };\n",
       "                });\n",
       "            </script>\n",
       "        </div>"
      ]
     },
     "metadata": {},
     "output_type": "display_data"
    }
   ],
   "source": [
    "fig = px.scatter(artist_total_food_words_df, \n",
    "                 x=\"total_food_word_count\", \n",
    "                 y=\"unique_food_word_count\",\n",
    "                hover_data=['artist_clean'])\n",
    "# Add figure title\n",
    "fig.update_layout(\n",
    "    title={\n",
    "        'text': \"Gourmet vs. Gourmand: Unique Food Words vs. Total Food Words\",\n",
    "        'y':0.94,\n",
    "        'x':0.5,\n",
    "        'xanchor': 'center',\n",
    "        'yanchor': 'top'})\n",
    "#fig.update_layout(xaxis_type=\"log\", yaxis_type=\"log\")\n",
    "#fig.update_layout(yaxis_type=\"log\")\n",
    "fig.show()"
   ]
  },
  {
   "cell_type": "markdown",
   "metadata": {},
   "source": [
    "# Top Food Words for Specific Artists"
   ]
  },
  {
   "cell_type": "code",
   "execution_count": 175,
   "metadata": {},
   "outputs": [],
   "source": [
    "artist = 'mike jones'\n",
    "artist_min_food_word_count = 3\n",
    "artist_min_food_word_unique_song_count = 3\n",
    "sort_results_by = 'artist_food_word_index_all_lyric_words'\n",
    "#sort_results_by = 'artist_food_word_index_num_songs'\n",
    "#sort_results_by = 'artist_food_word_count'\n",
    "results_limit = 10"
   ]
  },
  {
   "cell_type": "code",
   "execution_count": 176,
   "metadata": {},
   "outputs": [],
   "source": [
    "artist_food_word_plot_df = artist_food_word_probs_df.loc[(artist_food_word_probs_df.artist_clean == artist)\n",
    "                                                         & (artist_food_word_probs_df.artist_food_word_count>=artist_min_food_word_count)\n",
    "                                                        & (artist_food_word_probs_df.artist_food_word_unique_song_count>=artist_min_food_word_unique_song_count)]\n",
    "artist_food_word_plot_df = artist_food_word_plot_df.sort_values(by=sort_results_by,ascending=False)[:results_limit]"
   ]
  },
  {
   "cell_type": "code",
   "execution_count": 177,
   "metadata": {
    "scrolled": false
   },
   "outputs": [
    {
     "data": {
      "application/vnd.plotly.v1+json": {
       "config": {
        "plotlyServerURL": "https://plot.ly"
       },
       "data": [
        {
         "name": "Food Word Mentions in Lyrics vs. Average Artist",
         "type": "bar",
         "x": [
          "candy apple",
          "grain",
          "candy",
          "butter",
          "jelly",
          "dessert",
          "spinach",
          "syrup",
          "apple",
          "ice"
         ],
         "xaxis": "x",
         "y": [
          88.26344883210864,
          57.08363317864254,
          20.099657020510275,
          18.279920894651852,
          8.460486027948237,
          8.33098879282658,
          6.963214513407291,
          6.098501599977628,
          4.114975721263846,
          3.9849896392353807
         ],
         "yaxis": "y"
        },
        {
         "name": "Food Word Mentions in Unique Songs vs. Average Artist",
         "type": "bar",
         "x": [
          "candy apple",
          "grain",
          "candy",
          "butter",
          "jelly",
          "dessert",
          "spinach",
          "syrup",
          "apple",
          "ice"
         ],
         "xaxis": "x",
         "y": [
          30.327592329545453,
          21.87564036885246,
          10.311531268953432,
          7.285908067158067,
          7.89010532150776,
          6.739464962121212,
          5.245853808353808,
          3.729041131778884,
          1.8753293807641636,
          2.44976279788173
         ],
         "yaxis": "y"
        },
        {
         "name": "Artist Food Word Total Mentions",
         "type": "scatter",
         "x": [
          "candy apple",
          "grain",
          "candy",
          "butter",
          "jelly",
          "dessert",
          "spinach",
          "syrup",
          "apple",
          "ice"
         ],
         "xaxis": "x",
         "y": [
          7,
          81,
          90,
          46,
          7,
          3,
          3,
          14,
          8,
          82
         ],
         "yaxis": "y2"
        },
        {
         "name": "Artist Food Word Unique Song Count",
         "type": "scatter",
         "x": [
          "candy apple",
          "grain",
          "candy",
          "butter",
          "jelly",
          "dessert",
          "spinach",
          "syrup",
          "apple",
          "ice"
         ],
         "xaxis": "x",
         "y": [
          3,
          33,
          43,
          20,
          7,
          3,
          3,
          8,
          4,
          39
         ],
         "yaxis": "y2"
        }
       ],
       "layout": {
        "legend": {
         "orientation": "h",
         "x": 0.7,
         "xanchor": "right",
         "y": 1.02,
         "yanchor": "bottom"
        },
        "template": {
         "data": {
          "bar": [
           {
            "error_x": {
             "color": "#2a3f5f"
            },
            "error_y": {
             "color": "#2a3f5f"
            },
            "marker": {
             "line": {
              "color": "#E5ECF6",
              "width": 0.5
             }
            },
            "type": "bar"
           }
          ],
          "barpolar": [
           {
            "marker": {
             "line": {
              "color": "#E5ECF6",
              "width": 0.5
             }
            },
            "type": "barpolar"
           }
          ],
          "carpet": [
           {
            "aaxis": {
             "endlinecolor": "#2a3f5f",
             "gridcolor": "white",
             "linecolor": "white",
             "minorgridcolor": "white",
             "startlinecolor": "#2a3f5f"
            },
            "baxis": {
             "endlinecolor": "#2a3f5f",
             "gridcolor": "white",
             "linecolor": "white",
             "minorgridcolor": "white",
             "startlinecolor": "#2a3f5f"
            },
            "type": "carpet"
           }
          ],
          "choropleth": [
           {
            "colorbar": {
             "outlinewidth": 0,
             "ticks": ""
            },
            "type": "choropleth"
           }
          ],
          "contour": [
           {
            "colorbar": {
             "outlinewidth": 0,
             "ticks": ""
            },
            "colorscale": [
             [
              0,
              "#0d0887"
             ],
             [
              0.1111111111111111,
              "#46039f"
             ],
             [
              0.2222222222222222,
              "#7201a8"
             ],
             [
              0.3333333333333333,
              "#9c179e"
             ],
             [
              0.4444444444444444,
              "#bd3786"
             ],
             [
              0.5555555555555556,
              "#d8576b"
             ],
             [
              0.6666666666666666,
              "#ed7953"
             ],
             [
              0.7777777777777778,
              "#fb9f3a"
             ],
             [
              0.8888888888888888,
              "#fdca26"
             ],
             [
              1,
              "#f0f921"
             ]
            ],
            "type": "contour"
           }
          ],
          "contourcarpet": [
           {
            "colorbar": {
             "outlinewidth": 0,
             "ticks": ""
            },
            "type": "contourcarpet"
           }
          ],
          "heatmap": [
           {
            "colorbar": {
             "outlinewidth": 0,
             "ticks": ""
            },
            "colorscale": [
             [
              0,
              "#0d0887"
             ],
             [
              0.1111111111111111,
              "#46039f"
             ],
             [
              0.2222222222222222,
              "#7201a8"
             ],
             [
              0.3333333333333333,
              "#9c179e"
             ],
             [
              0.4444444444444444,
              "#bd3786"
             ],
             [
              0.5555555555555556,
              "#d8576b"
             ],
             [
              0.6666666666666666,
              "#ed7953"
             ],
             [
              0.7777777777777778,
              "#fb9f3a"
             ],
             [
              0.8888888888888888,
              "#fdca26"
             ],
             [
              1,
              "#f0f921"
             ]
            ],
            "type": "heatmap"
           }
          ],
          "heatmapgl": [
           {
            "colorbar": {
             "outlinewidth": 0,
             "ticks": ""
            },
            "colorscale": [
             [
              0,
              "#0d0887"
             ],
             [
              0.1111111111111111,
              "#46039f"
             ],
             [
              0.2222222222222222,
              "#7201a8"
             ],
             [
              0.3333333333333333,
              "#9c179e"
             ],
             [
              0.4444444444444444,
              "#bd3786"
             ],
             [
              0.5555555555555556,
              "#d8576b"
             ],
             [
              0.6666666666666666,
              "#ed7953"
             ],
             [
              0.7777777777777778,
              "#fb9f3a"
             ],
             [
              0.8888888888888888,
              "#fdca26"
             ],
             [
              1,
              "#f0f921"
             ]
            ],
            "type": "heatmapgl"
           }
          ],
          "histogram": [
           {
            "marker": {
             "colorbar": {
              "outlinewidth": 0,
              "ticks": ""
             }
            },
            "type": "histogram"
           }
          ],
          "histogram2d": [
           {
            "colorbar": {
             "outlinewidth": 0,
             "ticks": ""
            },
            "colorscale": [
             [
              0,
              "#0d0887"
             ],
             [
              0.1111111111111111,
              "#46039f"
             ],
             [
              0.2222222222222222,
              "#7201a8"
             ],
             [
              0.3333333333333333,
              "#9c179e"
             ],
             [
              0.4444444444444444,
              "#bd3786"
             ],
             [
              0.5555555555555556,
              "#d8576b"
             ],
             [
              0.6666666666666666,
              "#ed7953"
             ],
             [
              0.7777777777777778,
              "#fb9f3a"
             ],
             [
              0.8888888888888888,
              "#fdca26"
             ],
             [
              1,
              "#f0f921"
             ]
            ],
            "type": "histogram2d"
           }
          ],
          "histogram2dcontour": [
           {
            "colorbar": {
             "outlinewidth": 0,
             "ticks": ""
            },
            "colorscale": [
             [
              0,
              "#0d0887"
             ],
             [
              0.1111111111111111,
              "#46039f"
             ],
             [
              0.2222222222222222,
              "#7201a8"
             ],
             [
              0.3333333333333333,
              "#9c179e"
             ],
             [
              0.4444444444444444,
              "#bd3786"
             ],
             [
              0.5555555555555556,
              "#d8576b"
             ],
             [
              0.6666666666666666,
              "#ed7953"
             ],
             [
              0.7777777777777778,
              "#fb9f3a"
             ],
             [
              0.8888888888888888,
              "#fdca26"
             ],
             [
              1,
              "#f0f921"
             ]
            ],
            "type": "histogram2dcontour"
           }
          ],
          "mesh3d": [
           {
            "colorbar": {
             "outlinewidth": 0,
             "ticks": ""
            },
            "type": "mesh3d"
           }
          ],
          "parcoords": [
           {
            "line": {
             "colorbar": {
              "outlinewidth": 0,
              "ticks": ""
             }
            },
            "type": "parcoords"
           }
          ],
          "pie": [
           {
            "automargin": true,
            "type": "pie"
           }
          ],
          "scatter": [
           {
            "marker": {
             "colorbar": {
              "outlinewidth": 0,
              "ticks": ""
             }
            },
            "type": "scatter"
           }
          ],
          "scatter3d": [
           {
            "line": {
             "colorbar": {
              "outlinewidth": 0,
              "ticks": ""
             }
            },
            "marker": {
             "colorbar": {
              "outlinewidth": 0,
              "ticks": ""
             }
            },
            "type": "scatter3d"
           }
          ],
          "scattercarpet": [
           {
            "marker": {
             "colorbar": {
              "outlinewidth": 0,
              "ticks": ""
             }
            },
            "type": "scattercarpet"
           }
          ],
          "scattergeo": [
           {
            "marker": {
             "colorbar": {
              "outlinewidth": 0,
              "ticks": ""
             }
            },
            "type": "scattergeo"
           }
          ],
          "scattergl": [
           {
            "marker": {
             "colorbar": {
              "outlinewidth": 0,
              "ticks": ""
             }
            },
            "type": "scattergl"
           }
          ],
          "scattermapbox": [
           {
            "marker": {
             "colorbar": {
              "outlinewidth": 0,
              "ticks": ""
             }
            },
            "type": "scattermapbox"
           }
          ],
          "scatterpolar": [
           {
            "marker": {
             "colorbar": {
              "outlinewidth": 0,
              "ticks": ""
             }
            },
            "type": "scatterpolar"
           }
          ],
          "scatterpolargl": [
           {
            "marker": {
             "colorbar": {
              "outlinewidth": 0,
              "ticks": ""
             }
            },
            "type": "scatterpolargl"
           }
          ],
          "scatterternary": [
           {
            "marker": {
             "colorbar": {
              "outlinewidth": 0,
              "ticks": ""
             }
            },
            "type": "scatterternary"
           }
          ],
          "surface": [
           {
            "colorbar": {
             "outlinewidth": 0,
             "ticks": ""
            },
            "colorscale": [
             [
              0,
              "#0d0887"
             ],
             [
              0.1111111111111111,
              "#46039f"
             ],
             [
              0.2222222222222222,
              "#7201a8"
             ],
             [
              0.3333333333333333,
              "#9c179e"
             ],
             [
              0.4444444444444444,
              "#bd3786"
             ],
             [
              0.5555555555555556,
              "#d8576b"
             ],
             [
              0.6666666666666666,
              "#ed7953"
             ],
             [
              0.7777777777777778,
              "#fb9f3a"
             ],
             [
              0.8888888888888888,
              "#fdca26"
             ],
             [
              1,
              "#f0f921"
             ]
            ],
            "type": "surface"
           }
          ],
          "table": [
           {
            "cells": {
             "fill": {
              "color": "#EBF0F8"
             },
             "line": {
              "color": "white"
             }
            },
            "header": {
             "fill": {
              "color": "#C8D4E3"
             },
             "line": {
              "color": "white"
             }
            },
            "type": "table"
           }
          ]
         },
         "layout": {
          "annotationdefaults": {
           "arrowcolor": "#2a3f5f",
           "arrowhead": 0,
           "arrowwidth": 1
          },
          "coloraxis": {
           "colorbar": {
            "outlinewidth": 0,
            "ticks": ""
           }
          },
          "colorscale": {
           "diverging": [
            [
             0,
             "#8e0152"
            ],
            [
             0.1,
             "#c51b7d"
            ],
            [
             0.2,
             "#de77ae"
            ],
            [
             0.3,
             "#f1b6da"
            ],
            [
             0.4,
             "#fde0ef"
            ],
            [
             0.5,
             "#f7f7f7"
            ],
            [
             0.6,
             "#e6f5d0"
            ],
            [
             0.7,
             "#b8e186"
            ],
            [
             0.8,
             "#7fbc41"
            ],
            [
             0.9,
             "#4d9221"
            ],
            [
             1,
             "#276419"
            ]
           ],
           "sequential": [
            [
             0,
             "#0d0887"
            ],
            [
             0.1111111111111111,
             "#46039f"
            ],
            [
             0.2222222222222222,
             "#7201a8"
            ],
            [
             0.3333333333333333,
             "#9c179e"
            ],
            [
             0.4444444444444444,
             "#bd3786"
            ],
            [
             0.5555555555555556,
             "#d8576b"
            ],
            [
             0.6666666666666666,
             "#ed7953"
            ],
            [
             0.7777777777777778,
             "#fb9f3a"
            ],
            [
             0.8888888888888888,
             "#fdca26"
            ],
            [
             1,
             "#f0f921"
            ]
           ],
           "sequentialminus": [
            [
             0,
             "#0d0887"
            ],
            [
             0.1111111111111111,
             "#46039f"
            ],
            [
             0.2222222222222222,
             "#7201a8"
            ],
            [
             0.3333333333333333,
             "#9c179e"
            ],
            [
             0.4444444444444444,
             "#bd3786"
            ],
            [
             0.5555555555555556,
             "#d8576b"
            ],
            [
             0.6666666666666666,
             "#ed7953"
            ],
            [
             0.7777777777777778,
             "#fb9f3a"
            ],
            [
             0.8888888888888888,
             "#fdca26"
            ],
            [
             1,
             "#f0f921"
            ]
           ]
          },
          "colorway": [
           "#636efa",
           "#EF553B",
           "#00cc96",
           "#ab63fa",
           "#FFA15A",
           "#19d3f3",
           "#FF6692",
           "#B6E880",
           "#FF97FF",
           "#FECB52"
          ],
          "font": {
           "color": "#2a3f5f"
          },
          "geo": {
           "bgcolor": "white",
           "lakecolor": "white",
           "landcolor": "#E5ECF6",
           "showlakes": true,
           "showland": true,
           "subunitcolor": "white"
          },
          "hoverlabel": {
           "align": "left"
          },
          "hovermode": "closest",
          "mapbox": {
           "style": "light"
          },
          "paper_bgcolor": "white",
          "plot_bgcolor": "#E5ECF6",
          "polar": {
           "angularaxis": {
            "gridcolor": "white",
            "linecolor": "white",
            "ticks": ""
           },
           "bgcolor": "#E5ECF6",
           "radialaxis": {
            "gridcolor": "white",
            "linecolor": "white",
            "ticks": ""
           }
          },
          "scene": {
           "xaxis": {
            "backgroundcolor": "#E5ECF6",
            "gridcolor": "white",
            "gridwidth": 2,
            "linecolor": "white",
            "showbackground": true,
            "ticks": "",
            "zerolinecolor": "white"
           },
           "yaxis": {
            "backgroundcolor": "#E5ECF6",
            "gridcolor": "white",
            "gridwidth": 2,
            "linecolor": "white",
            "showbackground": true,
            "ticks": "",
            "zerolinecolor": "white"
           },
           "zaxis": {
            "backgroundcolor": "#E5ECF6",
            "gridcolor": "white",
            "gridwidth": 2,
            "linecolor": "white",
            "showbackground": true,
            "ticks": "",
            "zerolinecolor": "white"
           }
          },
          "shapedefaults": {
           "line": {
            "color": "#2a3f5f"
           }
          },
          "ternary": {
           "aaxis": {
            "gridcolor": "white",
            "linecolor": "white",
            "ticks": ""
           },
           "baxis": {
            "gridcolor": "white",
            "linecolor": "white",
            "ticks": ""
           },
           "bgcolor": "#E5ECF6",
           "caxis": {
            "gridcolor": "white",
            "linecolor": "white",
            "ticks": ""
           }
          },
          "title": {
           "x": 0.05
          },
          "xaxis": {
           "automargin": true,
           "gridcolor": "white",
           "linecolor": "white",
           "ticks": "",
           "title": {
            "standoff": 15
           },
           "zerolinecolor": "white",
           "zerolinewidth": 2
          },
          "yaxis": {
           "automargin": true,
           "gridcolor": "white",
           "linecolor": "white",
           "ticks": "",
           "title": {
            "standoff": 15
           },
           "zerolinecolor": "white",
           "zerolinewidth": 2
          }
         }
        },
        "title": {
         "text": "Top 10 Food Words: Mike Jones",
         "x": 0.45,
         "xanchor": "center",
         "y": 0.95,
         "yanchor": "top"
        },
        "xaxis": {
         "anchor": "y",
         "domain": [
          0,
          0.94
         ],
         "title": {
          "text": "Food Word"
         }
        },
        "yaxis": {
         "anchor": "x",
         "domain": [
          0,
          1
         ],
         "title": {
          "text": "Index vs. Average Artist"
         }
        },
        "yaxis2": {
         "anchor": "x",
         "overlaying": "y",
         "side": "right",
         "title": {
          "text": "Count of Food Word Mentions by Artist"
         }
        }
       }
      },
      "text/html": [
       "<div>\n",
       "        \n",
       "        \n",
       "            <div id=\"f86a2bbd-4c3f-4c7a-9423-e22421233abe\" class=\"plotly-graph-div\" style=\"height:525px; width:100%;\"></div>\n",
       "            <script type=\"text/javascript\">\n",
       "                require([\"plotly\"], function(Plotly) {\n",
       "                    window.PLOTLYENV=window.PLOTLYENV || {};\n",
       "                    \n",
       "                if (document.getElementById(\"f86a2bbd-4c3f-4c7a-9423-e22421233abe\")) {\n",
       "                    Plotly.newPlot(\n",
       "                        'f86a2bbd-4c3f-4c7a-9423-e22421233abe',\n",
       "                        [{\"name\": \"Food Word Mentions in Lyrics vs. Average Artist\", \"type\": \"bar\", \"x\": [\"candy apple\", \"grain\", \"candy\", \"butter\", \"jelly\", \"dessert\", \"spinach\", \"syrup\", \"apple\", \"ice\"], \"xaxis\": \"x\", \"y\": [88.26344883210864, 57.08363317864254, 20.099657020510275, 18.279920894651852, 8.460486027948237, 8.33098879282658, 6.963214513407291, 6.098501599977628, 4.114975721263846, 3.9849896392353807], \"yaxis\": \"y\"}, {\"name\": \"Food Word Mentions in Unique Songs vs. Average Artist\", \"type\": \"bar\", \"x\": [\"candy apple\", \"grain\", \"candy\", \"butter\", \"jelly\", \"dessert\", \"spinach\", \"syrup\", \"apple\", \"ice\"], \"xaxis\": \"x\", \"y\": [30.327592329545453, 21.87564036885246, 10.311531268953432, 7.285908067158067, 7.89010532150776, 6.739464962121212, 5.245853808353808, 3.729041131778884, 1.8753293807641636, 2.44976279788173], \"yaxis\": \"y\"}, {\"name\": \"Artist Food Word Total Mentions\", \"type\": \"scatter\", \"x\": [\"candy apple\", \"grain\", \"candy\", \"butter\", \"jelly\", \"dessert\", \"spinach\", \"syrup\", \"apple\", \"ice\"], \"xaxis\": \"x\", \"y\": [7, 81, 90, 46, 7, 3, 3, 14, 8, 82], \"yaxis\": \"y2\"}, {\"name\": \"Artist Food Word Unique Song Count\", \"type\": \"scatter\", \"x\": [\"candy apple\", \"grain\", \"candy\", \"butter\", \"jelly\", \"dessert\", \"spinach\", \"syrup\", \"apple\", \"ice\"], \"xaxis\": \"x\", \"y\": [3, 33, 43, 20, 7, 3, 3, 8, 4, 39], \"yaxis\": \"y2\"}],\n",
       "                        {\"legend\": {\"orientation\": \"h\", \"x\": 0.7, \"xanchor\": \"right\", \"y\": 1.02, \"yanchor\": \"bottom\"}, \"template\": {\"data\": {\"bar\": [{\"error_x\": {\"color\": \"#2a3f5f\"}, \"error_y\": {\"color\": \"#2a3f5f\"}, \"marker\": {\"line\": {\"color\": \"#E5ECF6\", \"width\": 0.5}}, \"type\": \"bar\"}], \"barpolar\": [{\"marker\": {\"line\": {\"color\": \"#E5ECF6\", \"width\": 0.5}}, \"type\": \"barpolar\"}], \"carpet\": [{\"aaxis\": {\"endlinecolor\": \"#2a3f5f\", \"gridcolor\": \"white\", \"linecolor\": \"white\", \"minorgridcolor\": \"white\", \"startlinecolor\": \"#2a3f5f\"}, \"baxis\": {\"endlinecolor\": \"#2a3f5f\", \"gridcolor\": \"white\", \"linecolor\": \"white\", \"minorgridcolor\": \"white\", \"startlinecolor\": \"#2a3f5f\"}, \"type\": \"carpet\"}], \"choropleth\": [{\"colorbar\": {\"outlinewidth\": 0, \"ticks\": \"\"}, \"type\": \"choropleth\"}], \"contour\": [{\"colorbar\": {\"outlinewidth\": 0, \"ticks\": \"\"}, \"colorscale\": [[0.0, \"#0d0887\"], [0.1111111111111111, \"#46039f\"], [0.2222222222222222, \"#7201a8\"], [0.3333333333333333, \"#9c179e\"], [0.4444444444444444, \"#bd3786\"], [0.5555555555555556, \"#d8576b\"], [0.6666666666666666, \"#ed7953\"], [0.7777777777777778, \"#fb9f3a\"], [0.8888888888888888, \"#fdca26\"], [1.0, \"#f0f921\"]], \"type\": \"contour\"}], \"contourcarpet\": [{\"colorbar\": {\"outlinewidth\": 0, \"ticks\": \"\"}, \"type\": \"contourcarpet\"}], \"heatmap\": [{\"colorbar\": {\"outlinewidth\": 0, \"ticks\": \"\"}, \"colorscale\": [[0.0, \"#0d0887\"], [0.1111111111111111, \"#46039f\"], [0.2222222222222222, \"#7201a8\"], [0.3333333333333333, \"#9c179e\"], [0.4444444444444444, \"#bd3786\"], [0.5555555555555556, \"#d8576b\"], [0.6666666666666666, \"#ed7953\"], [0.7777777777777778, \"#fb9f3a\"], [0.8888888888888888, \"#fdca26\"], [1.0, \"#f0f921\"]], \"type\": \"heatmap\"}], \"heatmapgl\": [{\"colorbar\": {\"outlinewidth\": 0, \"ticks\": \"\"}, \"colorscale\": [[0.0, \"#0d0887\"], [0.1111111111111111, \"#46039f\"], [0.2222222222222222, \"#7201a8\"], [0.3333333333333333, \"#9c179e\"], [0.4444444444444444, \"#bd3786\"], [0.5555555555555556, \"#d8576b\"], [0.6666666666666666, \"#ed7953\"], [0.7777777777777778, \"#fb9f3a\"], [0.8888888888888888, \"#fdca26\"], [1.0, \"#f0f921\"]], \"type\": \"heatmapgl\"}], \"histogram\": [{\"marker\": {\"colorbar\": {\"outlinewidth\": 0, \"ticks\": \"\"}}, \"type\": \"histogram\"}], \"histogram2d\": [{\"colorbar\": {\"outlinewidth\": 0, \"ticks\": \"\"}, \"colorscale\": [[0.0, \"#0d0887\"], [0.1111111111111111, \"#46039f\"], [0.2222222222222222, \"#7201a8\"], [0.3333333333333333, \"#9c179e\"], [0.4444444444444444, \"#bd3786\"], [0.5555555555555556, \"#d8576b\"], [0.6666666666666666, \"#ed7953\"], [0.7777777777777778, \"#fb9f3a\"], [0.8888888888888888, \"#fdca26\"], [1.0, \"#f0f921\"]], \"type\": \"histogram2d\"}], \"histogram2dcontour\": [{\"colorbar\": {\"outlinewidth\": 0, \"ticks\": \"\"}, \"colorscale\": [[0.0, \"#0d0887\"], [0.1111111111111111, \"#46039f\"], [0.2222222222222222, \"#7201a8\"], [0.3333333333333333, \"#9c179e\"], [0.4444444444444444, \"#bd3786\"], [0.5555555555555556, \"#d8576b\"], [0.6666666666666666, \"#ed7953\"], [0.7777777777777778, \"#fb9f3a\"], [0.8888888888888888, \"#fdca26\"], [1.0, \"#f0f921\"]], \"type\": \"histogram2dcontour\"}], \"mesh3d\": [{\"colorbar\": {\"outlinewidth\": 0, \"ticks\": \"\"}, \"type\": \"mesh3d\"}], \"parcoords\": [{\"line\": {\"colorbar\": {\"outlinewidth\": 0, \"ticks\": \"\"}}, \"type\": \"parcoords\"}], \"pie\": [{\"automargin\": true, \"type\": \"pie\"}], \"scatter\": [{\"marker\": {\"colorbar\": {\"outlinewidth\": 0, \"ticks\": \"\"}}, \"type\": \"scatter\"}], \"scatter3d\": [{\"line\": {\"colorbar\": {\"outlinewidth\": 0, \"ticks\": \"\"}}, \"marker\": {\"colorbar\": {\"outlinewidth\": 0, \"ticks\": \"\"}}, \"type\": \"scatter3d\"}], \"scattercarpet\": [{\"marker\": {\"colorbar\": {\"outlinewidth\": 0, \"ticks\": \"\"}}, \"type\": \"scattercarpet\"}], \"scattergeo\": [{\"marker\": {\"colorbar\": {\"outlinewidth\": 0, \"ticks\": \"\"}}, \"type\": \"scattergeo\"}], \"scattergl\": [{\"marker\": {\"colorbar\": {\"outlinewidth\": 0, \"ticks\": \"\"}}, \"type\": \"scattergl\"}], \"scattermapbox\": [{\"marker\": {\"colorbar\": {\"outlinewidth\": 0, \"ticks\": \"\"}}, \"type\": \"scattermapbox\"}], \"scatterpolar\": [{\"marker\": {\"colorbar\": {\"outlinewidth\": 0, \"ticks\": \"\"}}, \"type\": \"scatterpolar\"}], \"scatterpolargl\": [{\"marker\": {\"colorbar\": {\"outlinewidth\": 0, \"ticks\": \"\"}}, \"type\": \"scatterpolargl\"}], \"scatterternary\": [{\"marker\": {\"colorbar\": {\"outlinewidth\": 0, \"ticks\": \"\"}}, \"type\": \"scatterternary\"}], \"surface\": [{\"colorbar\": {\"outlinewidth\": 0, \"ticks\": \"\"}, \"colorscale\": [[0.0, \"#0d0887\"], [0.1111111111111111, \"#46039f\"], [0.2222222222222222, \"#7201a8\"], [0.3333333333333333, \"#9c179e\"], [0.4444444444444444, \"#bd3786\"], [0.5555555555555556, \"#d8576b\"], [0.6666666666666666, \"#ed7953\"], [0.7777777777777778, \"#fb9f3a\"], [0.8888888888888888, \"#fdca26\"], [1.0, \"#f0f921\"]], \"type\": \"surface\"}], \"table\": [{\"cells\": {\"fill\": {\"color\": \"#EBF0F8\"}, \"line\": {\"color\": \"white\"}}, \"header\": {\"fill\": {\"color\": \"#C8D4E3\"}, \"line\": {\"color\": \"white\"}}, \"type\": \"table\"}]}, \"layout\": {\"annotationdefaults\": {\"arrowcolor\": \"#2a3f5f\", \"arrowhead\": 0, \"arrowwidth\": 1}, \"coloraxis\": {\"colorbar\": {\"outlinewidth\": 0, \"ticks\": \"\"}}, \"colorscale\": {\"diverging\": [[0, \"#8e0152\"], [0.1, \"#c51b7d\"], [0.2, \"#de77ae\"], [0.3, \"#f1b6da\"], [0.4, \"#fde0ef\"], [0.5, \"#f7f7f7\"], [0.6, \"#e6f5d0\"], [0.7, \"#b8e186\"], [0.8, \"#7fbc41\"], [0.9, \"#4d9221\"], [1, \"#276419\"]], \"sequential\": [[0.0, \"#0d0887\"], [0.1111111111111111, \"#46039f\"], [0.2222222222222222, \"#7201a8\"], [0.3333333333333333, \"#9c179e\"], [0.4444444444444444, \"#bd3786\"], [0.5555555555555556, \"#d8576b\"], [0.6666666666666666, \"#ed7953\"], [0.7777777777777778, \"#fb9f3a\"], [0.8888888888888888, \"#fdca26\"], [1.0, \"#f0f921\"]], \"sequentialminus\": [[0.0, \"#0d0887\"], [0.1111111111111111, \"#46039f\"], [0.2222222222222222, \"#7201a8\"], [0.3333333333333333, \"#9c179e\"], [0.4444444444444444, \"#bd3786\"], [0.5555555555555556, \"#d8576b\"], [0.6666666666666666, \"#ed7953\"], [0.7777777777777778, \"#fb9f3a\"], [0.8888888888888888, \"#fdca26\"], [1.0, \"#f0f921\"]]}, \"colorway\": [\"#636efa\", \"#EF553B\", \"#00cc96\", \"#ab63fa\", \"#FFA15A\", \"#19d3f3\", \"#FF6692\", \"#B6E880\", \"#FF97FF\", \"#FECB52\"], \"font\": {\"color\": \"#2a3f5f\"}, \"geo\": {\"bgcolor\": \"white\", \"lakecolor\": \"white\", \"landcolor\": \"#E5ECF6\", \"showlakes\": true, \"showland\": true, \"subunitcolor\": \"white\"}, \"hoverlabel\": {\"align\": \"left\"}, \"hovermode\": \"closest\", \"mapbox\": {\"style\": \"light\"}, \"paper_bgcolor\": \"white\", \"plot_bgcolor\": \"#E5ECF6\", \"polar\": {\"angularaxis\": {\"gridcolor\": \"white\", \"linecolor\": \"white\", \"ticks\": \"\"}, \"bgcolor\": \"#E5ECF6\", \"radialaxis\": {\"gridcolor\": \"white\", \"linecolor\": \"white\", \"ticks\": \"\"}}, \"scene\": {\"xaxis\": {\"backgroundcolor\": \"#E5ECF6\", \"gridcolor\": \"white\", \"gridwidth\": 2, \"linecolor\": \"white\", \"showbackground\": true, \"ticks\": \"\", \"zerolinecolor\": \"white\"}, \"yaxis\": {\"backgroundcolor\": \"#E5ECF6\", \"gridcolor\": \"white\", \"gridwidth\": 2, \"linecolor\": \"white\", \"showbackground\": true, \"ticks\": \"\", \"zerolinecolor\": \"white\"}, \"zaxis\": {\"backgroundcolor\": \"#E5ECF6\", \"gridcolor\": \"white\", \"gridwidth\": 2, \"linecolor\": \"white\", \"showbackground\": true, \"ticks\": \"\", \"zerolinecolor\": \"white\"}}, \"shapedefaults\": {\"line\": {\"color\": \"#2a3f5f\"}}, \"ternary\": {\"aaxis\": {\"gridcolor\": \"white\", \"linecolor\": \"white\", \"ticks\": \"\"}, \"baxis\": {\"gridcolor\": \"white\", \"linecolor\": \"white\", \"ticks\": \"\"}, \"bgcolor\": \"#E5ECF6\", \"caxis\": {\"gridcolor\": \"white\", \"linecolor\": \"white\", \"ticks\": \"\"}}, \"title\": {\"x\": 0.05}, \"xaxis\": {\"automargin\": true, \"gridcolor\": \"white\", \"linecolor\": \"white\", \"ticks\": \"\", \"title\": {\"standoff\": 15}, \"zerolinecolor\": \"white\", \"zerolinewidth\": 2}, \"yaxis\": {\"automargin\": true, \"gridcolor\": \"white\", \"linecolor\": \"white\", \"ticks\": \"\", \"title\": {\"standoff\": 15}, \"zerolinecolor\": \"white\", \"zerolinewidth\": 2}}}, \"title\": {\"text\": \"Top 10 Food Words: Mike Jones\", \"x\": 0.45, \"xanchor\": \"center\", \"y\": 0.95, \"yanchor\": \"top\"}, \"xaxis\": {\"anchor\": \"y\", \"domain\": [0.0, 0.94], \"title\": {\"text\": \"Food Word\"}}, \"yaxis\": {\"anchor\": \"x\", \"domain\": [0.0, 1.0], \"title\": {\"text\": \"Index vs. Average Artist\"}}, \"yaxis2\": {\"anchor\": \"x\", \"overlaying\": \"y\", \"side\": \"right\", \"title\": {\"text\": \"Count of Food Word Mentions by Artist\"}}},\n",
       "                        {\"responsive\": true}\n",
       "                    ).then(function(){\n",
       "                            \n",
       "var gd = document.getElementById('f86a2bbd-4c3f-4c7a-9423-e22421233abe');\n",
       "var x = new MutationObserver(function (mutations, observer) {{\n",
       "        var display = window.getComputedStyle(gd).display;\n",
       "        if (!display || display === 'none') {{\n",
       "            console.log([gd, 'removed!']);\n",
       "            Plotly.purge(gd);\n",
       "            observer.disconnect();\n",
       "        }}\n",
       "}});\n",
       "\n",
       "// Listen for the removal of the full notebook cells\n",
       "var notebookContainer = gd.closest('#notebook-container');\n",
       "if (notebookContainer) {{\n",
       "    x.observe(notebookContainer, {childList: true});\n",
       "}}\n",
       "\n",
       "// Listen for the clearing of the current output cell\n",
       "var outputEl = gd.closest('.output');\n",
       "if (outputEl) {{\n",
       "    x.observe(outputEl, {childList: true});\n",
       "}}\n",
       "\n",
       "                        })\n",
       "                };\n",
       "                });\n",
       "            </script>\n",
       "        </div>"
      ]
     },
     "metadata": {},
     "output_type": "display_data"
    },
    {
     "data": {
      "text/html": [
       "<div>\n",
       "<style scoped>\n",
       "    .dataframe tbody tr th:only-of-type {\n",
       "        vertical-align: middle;\n",
       "    }\n",
       "\n",
       "    .dataframe tbody tr th {\n",
       "        vertical-align: top;\n",
       "    }\n",
       "\n",
       "    .dataframe thead th {\n",
       "        text-align: right;\n",
       "    }\n",
       "</style>\n",
       "<table border=\"1\" class=\"dataframe\">\n",
       "  <thead>\n",
       "    <tr style=\"text-align: right;\">\n",
       "      <th></th>\n",
       "      <th>artist</th>\n",
       "      <th>food_word</th>\n",
       "      <th>food_word_count</th>\n",
       "      <th>unique_song_count</th>\n",
       "      <th>index_lyrics</th>\n",
       "      <th>index_songs</th>\n",
       "    </tr>\n",
       "  </thead>\n",
       "  <tbody>\n",
       "    <tr>\n",
       "      <th>0</th>\n",
       "      <td>mike jones</td>\n",
       "      <td>candy apple</td>\n",
       "      <td>7</td>\n",
       "      <td>3</td>\n",
       "      <td>88.263449</td>\n",
       "      <td>30.327592</td>\n",
       "    </tr>\n",
       "    <tr>\n",
       "      <th>1</th>\n",
       "      <td>mike jones</td>\n",
       "      <td>grain</td>\n",
       "      <td>81</td>\n",
       "      <td>33</td>\n",
       "      <td>57.083633</td>\n",
       "      <td>21.875640</td>\n",
       "    </tr>\n",
       "    <tr>\n",
       "      <th>2</th>\n",
       "      <td>mike jones</td>\n",
       "      <td>candy</td>\n",
       "      <td>90</td>\n",
       "      <td>43</td>\n",
       "      <td>20.099657</td>\n",
       "      <td>10.311531</td>\n",
       "    </tr>\n",
       "    <tr>\n",
       "      <th>3</th>\n",
       "      <td>mike jones</td>\n",
       "      <td>butter</td>\n",
       "      <td>46</td>\n",
       "      <td>20</td>\n",
       "      <td>18.279921</td>\n",
       "      <td>7.285908</td>\n",
       "    </tr>\n",
       "    <tr>\n",
       "      <th>4</th>\n",
       "      <td>mike jones</td>\n",
       "      <td>jelly</td>\n",
       "      <td>7</td>\n",
       "      <td>7</td>\n",
       "      <td>8.460486</td>\n",
       "      <td>7.890105</td>\n",
       "    </tr>\n",
       "    <tr>\n",
       "      <th>5</th>\n",
       "      <td>mike jones</td>\n",
       "      <td>dessert</td>\n",
       "      <td>3</td>\n",
       "      <td>3</td>\n",
       "      <td>8.330989</td>\n",
       "      <td>6.739465</td>\n",
       "    </tr>\n",
       "    <tr>\n",
       "      <th>6</th>\n",
       "      <td>mike jones</td>\n",
       "      <td>spinach</td>\n",
       "      <td>3</td>\n",
       "      <td>3</td>\n",
       "      <td>6.963215</td>\n",
       "      <td>5.245854</td>\n",
       "    </tr>\n",
       "    <tr>\n",
       "      <th>7</th>\n",
       "      <td>mike jones</td>\n",
       "      <td>syrup</td>\n",
       "      <td>14</td>\n",
       "      <td>8</td>\n",
       "      <td>6.098502</td>\n",
       "      <td>3.729041</td>\n",
       "    </tr>\n",
       "    <tr>\n",
       "      <th>8</th>\n",
       "      <td>mike jones</td>\n",
       "      <td>apple</td>\n",
       "      <td>8</td>\n",
       "      <td>4</td>\n",
       "      <td>4.114976</td>\n",
       "      <td>1.875329</td>\n",
       "    </tr>\n",
       "    <tr>\n",
       "      <th>9</th>\n",
       "      <td>mike jones</td>\n",
       "      <td>ice</td>\n",
       "      <td>82</td>\n",
       "      <td>39</td>\n",
       "      <td>3.984990</td>\n",
       "      <td>2.449763</td>\n",
       "    </tr>\n",
       "  </tbody>\n",
       "</table>\n",
       "</div>"
      ],
      "text/plain": [
       "       artist    food_word  food_word_count  unique_song_count  index_lyrics  \\\n",
       "0  mike jones  candy apple                7                  3     88.263449   \n",
       "1  mike jones        grain               81                 33     57.083633   \n",
       "2  mike jones        candy               90                 43     20.099657   \n",
       "3  mike jones       butter               46                 20     18.279921   \n",
       "4  mike jones        jelly                7                  7      8.460486   \n",
       "5  mike jones      dessert                3                  3      8.330989   \n",
       "6  mike jones      spinach                3                  3      6.963215   \n",
       "7  mike jones        syrup               14                  8      6.098502   \n",
       "8  mike jones        apple                8                  4      4.114976   \n",
       "9  mike jones          ice               82                 39      3.984990   \n",
       "\n",
       "   index_songs  \n",
       "0    30.327592  \n",
       "1    21.875640  \n",
       "2    10.311531  \n",
       "3     7.285908  \n",
       "4     7.890105  \n",
       "5     6.739465  \n",
       "6     5.245854  \n",
       "7     3.729041  \n",
       "8     1.875329  \n",
       "9     2.449763  "
      ]
     },
     "execution_count": 177,
     "metadata": {},
     "output_type": "execute_result"
    }
   ],
   "source": [
    "# Create figure with secondary y-axis\n",
    "fig = make_subplots(specs=[[{\"secondary_y\": True}]])\n",
    "\n",
    "# Add traces\n",
    "fig.add_trace(\n",
    "    go.Bar(x=artist_food_word_plot_df['food_word'],\n",
    "               y=artist_food_word_plot_df['artist_food_word_index_all_lyric_words'],\n",
    "               name=\"Food Word Mentions in Lyrics vs. Average Artist\"),\n",
    "    secondary_y=False,\n",
    ")\n",
    "\n",
    "fig.add_trace(\n",
    "    go.Bar(x=artist_food_word_plot_df['food_word'],\n",
    "               y=artist_food_word_plot_df['artist_food_word_index_num_songs'],\n",
    "               name=\"Food Word Mentions in Unique Songs vs. Average Artist\"),\n",
    "    secondary_y=False,\n",
    ")\n",
    "\n",
    "fig.add_trace(\n",
    "    go.Scatter(x=artist_food_word_plot_df['food_word'],\n",
    "               y=artist_food_word_plot_df['artist_food_word_count'],\n",
    "               name=\"Artist Food Word Total Mentions\"),\n",
    "    secondary_y=True,\n",
    ")\n",
    "\n",
    "fig.add_trace(\n",
    "    go.Scatter(x=artist_food_word_plot_df['food_word'],\n",
    "               y=artist_food_word_plot_df['artist_food_word_unique_song_count'],\n",
    "               name=\"Artist Food Word Unique Song Count\"),\n",
    "    secondary_y=True,\n",
    ")\n",
    "\n",
    "# Add figure title\n",
    "fig.update_layout(\n",
    "    title={\n",
    "        'text': \"Top {0} Food Words: {1}\".format(results_limit,artist.title()),\n",
    "        'y':0.94,\n",
    "        'x':0.5,\n",
    "        'xanchor': 'center',\n",
    "        'yanchor': 'top'}\n",
    ")\n",
    "\n",
    "# Set x-axis title\n",
    "fig.update_xaxes(title_text=\"Food Word\")\n",
    "\n",
    "# Set y-axes titles\n",
    "fig.update_yaxes(title_text=\"Index vs. Average Artist\", secondary_y=False)\n",
    "fig.update_yaxes(title_text=\"Count of Food Word Mentions by Artist\", secondary_y=True)\n",
    "fig.update_layout(legend=dict(\n",
    "    orientation=\"h\",\n",
    "    yanchor=\"bottom\",\n",
    "    y=1.02,\n",
    "    xanchor=\"right\",\n",
    "    x=0.7\n",
    "))\n",
    "\n",
    "fig.show()\n",
    "df_below_plot = artist_food_word_plot_df[['artist_clean','food_word','artist_food_word_count','artist_food_word_unique_song_count','artist_food_word_index_all_lyric_words','artist_food_word_index_num_songs']].reset_index().drop(labels='index',axis=1)\n",
    "df_below_plot.columns=['artist','food_word','food_word_count','unique_song_count','index_lyrics','index_songs']\n",
    "df_below_plot"
   ]
  },
  {
   "cell_type": "markdown",
   "metadata": {},
   "source": [
    "## Top Songs for Artist & Food Word Combos"
   ]
  },
  {
   "cell_type": "code",
   "execution_count": 207,
   "metadata": {},
   "outputs": [],
   "source": [
    "artist_food_word = 'candy apple'\n",
    "results_limit = 10"
   ]
  },
  {
   "cell_type": "code",
   "execution_count": 208,
   "metadata": {},
   "outputs": [
    {
     "data": {
      "text/html": [
       "<div>\n",
       "<style scoped>\n",
       "    .dataframe tbody tr th:only-of-type {\n",
       "        vertical-align: middle;\n",
       "    }\n",
       "\n",
       "    .dataframe tbody tr th {\n",
       "        vertical-align: top;\n",
       "    }\n",
       "\n",
       "    .dataframe thead th {\n",
       "        text-align: right;\n",
       "    }\n",
       "</style>\n",
       "<table border=\"1\" class=\"dataframe\">\n",
       "  <thead>\n",
       "    <tr style=\"text-align: right;\">\n",
       "      <th></th>\n",
       "      <th>food_word</th>\n",
       "      <th>food_word_count</th>\n",
       "      <th>artist_clean</th>\n",
       "      <th>song</th>\n",
       "    </tr>\n",
       "  </thead>\n",
       "  <tbody>\n",
       "    <tr>\n",
       "      <th>0</th>\n",
       "      <td>candy apple</td>\n",
       "      <td>3</td>\n",
       "      <td>mike jones</td>\n",
       "      <td>hittin' switches</td>\n",
       "    </tr>\n",
       "    <tr>\n",
       "      <th>1</th>\n",
       "      <td>candy apple</td>\n",
       "      <td>3</td>\n",
       "      <td>mike jones</td>\n",
       "      <td>my 64</td>\n",
       "    </tr>\n",
       "    <tr>\n",
       "      <th>2</th>\n",
       "      <td>candy apple</td>\n",
       "      <td>1</td>\n",
       "      <td>mike jones</td>\n",
       "      <td>what ya know about</td>\n",
       "    </tr>\n",
       "  </tbody>\n",
       "</table>\n",
       "</div>"
      ],
      "text/plain": [
       "     food_word  food_word_count artist_clean                song\n",
       "0  candy apple                3   mike jones    hittin' switches\n",
       "1  candy apple                3   mike jones               my 64\n",
       "2  candy apple                1   mike jones  what ya know about"
      ]
     },
     "execution_count": 208,
     "metadata": {},
     "output_type": "execute_result"
    }
   ],
   "source": [
    "artist_food_word_stats_df.loc[(artist_food_word_stats_df.food_word == artist_food_word)\n",
    "                             & (artist_food_word_stats_df.artist_clean == artist)][['food_word','food_word_count','artist_clean','song']].sort_values(by='food_word_count',ascending=False)[:results_limit].reset_index().drop(labels='index',axis=1)"
   ]
  },
  {
   "cell_type": "markdown",
   "metadata": {},
   "source": [
    "# Top Artists for Specific Food Words"
   ]
  },
  {
   "cell_type": "code",
   "execution_count": 224,
   "metadata": {},
   "outputs": [],
   "source": [
    "food_word = 'pizza'\n",
    "artist_min_food_word_count =3\n",
    "artist_min_food_word_unique_song_count = 1\n",
    "sort_results_by = 'artist_food_word_index_all_lyric_words'\n",
    "#sort_results_by = 'artist_food_word_index_num_songs'\n",
    "#sort_results_by = 'artist_food_word_count'\n",
    "#sort_results_by = 'artist_min_food_word_unique_song_count'\n",
    "results_limit = 10"
   ]
  },
  {
   "cell_type": "code",
   "execution_count": 225,
   "metadata": {},
   "outputs": [],
   "source": [
    "food_word_top_artist_plot_df = artist_food_word_probs_df.loc[(artist_food_word_probs_df.food_word == food_word)\n",
    "                                                             & (artist_food_word_probs_df.artist_food_word_count>=artist_min_food_word_count)\n",
    "                                                            &(artist_food_word_probs_df.artist_food_word_unique_song_count>=artist_min_food_word_unique_song_count)]\n",
    "food_word_top_artist_plot_df = food_word_top_artist_plot_df.sort_values(by=sort_results_by,ascending=False)[:results_limit]"
   ]
  },
  {
   "cell_type": "code",
   "execution_count": 226,
   "metadata": {},
   "outputs": [
    {
     "data": {
      "application/vnd.plotly.v1+json": {
       "config": {
        "plotlyServerURL": "https://plot.ly"
       },
       "data": [
        {
         "name": "Mentions of Pizza in Lyrics vs. Average Artist",
         "type": "bar",
         "x": [
          "princess nokia",
          "tierra whack",
          "lupe fiasco",
          "digable planets",
          "smino",
          "ty dolla sign",
          "joey badass",
          "lil dicky",
          "megan thee stallion",
          "ski mask the slump god"
         ],
         "xaxis": "x",
         "y": [
          27.54443390431979,
          20.557919906942114,
          14.424822384155304,
          10.53786587558285,
          9.606139408756473,
          9.064549634829632,
          7.481446715161322,
          7.2461993830703095,
          6.582057578431749,
          5.369172703818212
         ],
         "yaxis": "y"
        },
        {
         "name": "Mentions of Pizza in Unique Songs vs. Average Artist",
         "type": "bar",
         "x": [
          "princess nokia",
          "tierra whack",
          "lupe fiasco",
          "digable planets",
          "smino",
          "ty dolla sign",
          "joey badass",
          "lil dicky",
          "megan thee stallion",
          "ski mask the slump god"
         ],
         "xaxis": "x",
         "y": [
          7.833654375343974,
          5.157155797101449,
          3.6919236131375026,
          15.094114528101802,
          4.834833559782608,
          0.2955390141605415,
          2.915706457725201,
          6.726724952741021,
          6.933990987699428,
          1.7190519323671498
         ],
         "yaxis": "y"
        },
        {
         "name": "Total Mentions of Pizza",
         "type": "scatter",
         "x": [
          "princess nokia",
          "tierra whack",
          "lupe fiasco",
          "digable planets",
          "smino",
          "ty dolla sign",
          "joey badass",
          "lil dicky",
          "megan thee stallion",
          "ski mask the slump god"
         ],
         "xaxis": "x",
         "y": [
          10,
          3,
          40,
          3,
          6,
          19,
          10,
          6,
          5,
          7
         ],
         "yaxis": "y2"
        },
        {
         "name": "Unique Count of Songs in Which Pizza is Mentioned",
         "type": "scatter",
         "x": [
          "princess nokia",
          "tierra whack",
          "lupe fiasco",
          "digable planets",
          "smino",
          "ty dolla sign",
          "joey badass",
          "lil dicky",
          "megan thee stallion",
          "ski mask the slump god"
         ],
         "xaxis": "x",
         "y": [
          3,
          1,
          8,
          3,
          3,
          1,
          4,
          3,
          4,
          3
         ],
         "yaxis": "y2"
        }
       ],
       "layout": {
        "legend": {
         "orientation": "h",
         "x": 0.7,
         "xanchor": "right",
         "y": 1.02,
         "yanchor": "bottom"
        },
        "template": {
         "data": {
          "bar": [
           {
            "error_x": {
             "color": "#2a3f5f"
            },
            "error_y": {
             "color": "#2a3f5f"
            },
            "marker": {
             "line": {
              "color": "#E5ECF6",
              "width": 0.5
             }
            },
            "type": "bar"
           }
          ],
          "barpolar": [
           {
            "marker": {
             "line": {
              "color": "#E5ECF6",
              "width": 0.5
             }
            },
            "type": "barpolar"
           }
          ],
          "carpet": [
           {
            "aaxis": {
             "endlinecolor": "#2a3f5f",
             "gridcolor": "white",
             "linecolor": "white",
             "minorgridcolor": "white",
             "startlinecolor": "#2a3f5f"
            },
            "baxis": {
             "endlinecolor": "#2a3f5f",
             "gridcolor": "white",
             "linecolor": "white",
             "minorgridcolor": "white",
             "startlinecolor": "#2a3f5f"
            },
            "type": "carpet"
           }
          ],
          "choropleth": [
           {
            "colorbar": {
             "outlinewidth": 0,
             "ticks": ""
            },
            "type": "choropleth"
           }
          ],
          "contour": [
           {
            "colorbar": {
             "outlinewidth": 0,
             "ticks": ""
            },
            "colorscale": [
             [
              0,
              "#0d0887"
             ],
             [
              0.1111111111111111,
              "#46039f"
             ],
             [
              0.2222222222222222,
              "#7201a8"
             ],
             [
              0.3333333333333333,
              "#9c179e"
             ],
             [
              0.4444444444444444,
              "#bd3786"
             ],
             [
              0.5555555555555556,
              "#d8576b"
             ],
             [
              0.6666666666666666,
              "#ed7953"
             ],
             [
              0.7777777777777778,
              "#fb9f3a"
             ],
             [
              0.8888888888888888,
              "#fdca26"
             ],
             [
              1,
              "#f0f921"
             ]
            ],
            "type": "contour"
           }
          ],
          "contourcarpet": [
           {
            "colorbar": {
             "outlinewidth": 0,
             "ticks": ""
            },
            "type": "contourcarpet"
           }
          ],
          "heatmap": [
           {
            "colorbar": {
             "outlinewidth": 0,
             "ticks": ""
            },
            "colorscale": [
             [
              0,
              "#0d0887"
             ],
             [
              0.1111111111111111,
              "#46039f"
             ],
             [
              0.2222222222222222,
              "#7201a8"
             ],
             [
              0.3333333333333333,
              "#9c179e"
             ],
             [
              0.4444444444444444,
              "#bd3786"
             ],
             [
              0.5555555555555556,
              "#d8576b"
             ],
             [
              0.6666666666666666,
              "#ed7953"
             ],
             [
              0.7777777777777778,
              "#fb9f3a"
             ],
             [
              0.8888888888888888,
              "#fdca26"
             ],
             [
              1,
              "#f0f921"
             ]
            ],
            "type": "heatmap"
           }
          ],
          "heatmapgl": [
           {
            "colorbar": {
             "outlinewidth": 0,
             "ticks": ""
            },
            "colorscale": [
             [
              0,
              "#0d0887"
             ],
             [
              0.1111111111111111,
              "#46039f"
             ],
             [
              0.2222222222222222,
              "#7201a8"
             ],
             [
              0.3333333333333333,
              "#9c179e"
             ],
             [
              0.4444444444444444,
              "#bd3786"
             ],
             [
              0.5555555555555556,
              "#d8576b"
             ],
             [
              0.6666666666666666,
              "#ed7953"
             ],
             [
              0.7777777777777778,
              "#fb9f3a"
             ],
             [
              0.8888888888888888,
              "#fdca26"
             ],
             [
              1,
              "#f0f921"
             ]
            ],
            "type": "heatmapgl"
           }
          ],
          "histogram": [
           {
            "marker": {
             "colorbar": {
              "outlinewidth": 0,
              "ticks": ""
             }
            },
            "type": "histogram"
           }
          ],
          "histogram2d": [
           {
            "colorbar": {
             "outlinewidth": 0,
             "ticks": ""
            },
            "colorscale": [
             [
              0,
              "#0d0887"
             ],
             [
              0.1111111111111111,
              "#46039f"
             ],
             [
              0.2222222222222222,
              "#7201a8"
             ],
             [
              0.3333333333333333,
              "#9c179e"
             ],
             [
              0.4444444444444444,
              "#bd3786"
             ],
             [
              0.5555555555555556,
              "#d8576b"
             ],
             [
              0.6666666666666666,
              "#ed7953"
             ],
             [
              0.7777777777777778,
              "#fb9f3a"
             ],
             [
              0.8888888888888888,
              "#fdca26"
             ],
             [
              1,
              "#f0f921"
             ]
            ],
            "type": "histogram2d"
           }
          ],
          "histogram2dcontour": [
           {
            "colorbar": {
             "outlinewidth": 0,
             "ticks": ""
            },
            "colorscale": [
             [
              0,
              "#0d0887"
             ],
             [
              0.1111111111111111,
              "#46039f"
             ],
             [
              0.2222222222222222,
              "#7201a8"
             ],
             [
              0.3333333333333333,
              "#9c179e"
             ],
             [
              0.4444444444444444,
              "#bd3786"
             ],
             [
              0.5555555555555556,
              "#d8576b"
             ],
             [
              0.6666666666666666,
              "#ed7953"
             ],
             [
              0.7777777777777778,
              "#fb9f3a"
             ],
             [
              0.8888888888888888,
              "#fdca26"
             ],
             [
              1,
              "#f0f921"
             ]
            ],
            "type": "histogram2dcontour"
           }
          ],
          "mesh3d": [
           {
            "colorbar": {
             "outlinewidth": 0,
             "ticks": ""
            },
            "type": "mesh3d"
           }
          ],
          "parcoords": [
           {
            "line": {
             "colorbar": {
              "outlinewidth": 0,
              "ticks": ""
             }
            },
            "type": "parcoords"
           }
          ],
          "pie": [
           {
            "automargin": true,
            "type": "pie"
           }
          ],
          "scatter": [
           {
            "marker": {
             "colorbar": {
              "outlinewidth": 0,
              "ticks": ""
             }
            },
            "type": "scatter"
           }
          ],
          "scatter3d": [
           {
            "line": {
             "colorbar": {
              "outlinewidth": 0,
              "ticks": ""
             }
            },
            "marker": {
             "colorbar": {
              "outlinewidth": 0,
              "ticks": ""
             }
            },
            "type": "scatter3d"
           }
          ],
          "scattercarpet": [
           {
            "marker": {
             "colorbar": {
              "outlinewidth": 0,
              "ticks": ""
             }
            },
            "type": "scattercarpet"
           }
          ],
          "scattergeo": [
           {
            "marker": {
             "colorbar": {
              "outlinewidth": 0,
              "ticks": ""
             }
            },
            "type": "scattergeo"
           }
          ],
          "scattergl": [
           {
            "marker": {
             "colorbar": {
              "outlinewidth": 0,
              "ticks": ""
             }
            },
            "type": "scattergl"
           }
          ],
          "scattermapbox": [
           {
            "marker": {
             "colorbar": {
              "outlinewidth": 0,
              "ticks": ""
             }
            },
            "type": "scattermapbox"
           }
          ],
          "scatterpolar": [
           {
            "marker": {
             "colorbar": {
              "outlinewidth": 0,
              "ticks": ""
             }
            },
            "type": "scatterpolar"
           }
          ],
          "scatterpolargl": [
           {
            "marker": {
             "colorbar": {
              "outlinewidth": 0,
              "ticks": ""
             }
            },
            "type": "scatterpolargl"
           }
          ],
          "scatterternary": [
           {
            "marker": {
             "colorbar": {
              "outlinewidth": 0,
              "ticks": ""
             }
            },
            "type": "scatterternary"
           }
          ],
          "surface": [
           {
            "colorbar": {
             "outlinewidth": 0,
             "ticks": ""
            },
            "colorscale": [
             [
              0,
              "#0d0887"
             ],
             [
              0.1111111111111111,
              "#46039f"
             ],
             [
              0.2222222222222222,
              "#7201a8"
             ],
             [
              0.3333333333333333,
              "#9c179e"
             ],
             [
              0.4444444444444444,
              "#bd3786"
             ],
             [
              0.5555555555555556,
              "#d8576b"
             ],
             [
              0.6666666666666666,
              "#ed7953"
             ],
             [
              0.7777777777777778,
              "#fb9f3a"
             ],
             [
              0.8888888888888888,
              "#fdca26"
             ],
             [
              1,
              "#f0f921"
             ]
            ],
            "type": "surface"
           }
          ],
          "table": [
           {
            "cells": {
             "fill": {
              "color": "#EBF0F8"
             },
             "line": {
              "color": "white"
             }
            },
            "header": {
             "fill": {
              "color": "#C8D4E3"
             },
             "line": {
              "color": "white"
             }
            },
            "type": "table"
           }
          ]
         },
         "layout": {
          "annotationdefaults": {
           "arrowcolor": "#2a3f5f",
           "arrowhead": 0,
           "arrowwidth": 1
          },
          "coloraxis": {
           "colorbar": {
            "outlinewidth": 0,
            "ticks": ""
           }
          },
          "colorscale": {
           "diverging": [
            [
             0,
             "#8e0152"
            ],
            [
             0.1,
             "#c51b7d"
            ],
            [
             0.2,
             "#de77ae"
            ],
            [
             0.3,
             "#f1b6da"
            ],
            [
             0.4,
             "#fde0ef"
            ],
            [
             0.5,
             "#f7f7f7"
            ],
            [
             0.6,
             "#e6f5d0"
            ],
            [
             0.7,
             "#b8e186"
            ],
            [
             0.8,
             "#7fbc41"
            ],
            [
             0.9,
             "#4d9221"
            ],
            [
             1,
             "#276419"
            ]
           ],
           "sequential": [
            [
             0,
             "#0d0887"
            ],
            [
             0.1111111111111111,
             "#46039f"
            ],
            [
             0.2222222222222222,
             "#7201a8"
            ],
            [
             0.3333333333333333,
             "#9c179e"
            ],
            [
             0.4444444444444444,
             "#bd3786"
            ],
            [
             0.5555555555555556,
             "#d8576b"
            ],
            [
             0.6666666666666666,
             "#ed7953"
            ],
            [
             0.7777777777777778,
             "#fb9f3a"
            ],
            [
             0.8888888888888888,
             "#fdca26"
            ],
            [
             1,
             "#f0f921"
            ]
           ],
           "sequentialminus": [
            [
             0,
             "#0d0887"
            ],
            [
             0.1111111111111111,
             "#46039f"
            ],
            [
             0.2222222222222222,
             "#7201a8"
            ],
            [
             0.3333333333333333,
             "#9c179e"
            ],
            [
             0.4444444444444444,
             "#bd3786"
            ],
            [
             0.5555555555555556,
             "#d8576b"
            ],
            [
             0.6666666666666666,
             "#ed7953"
            ],
            [
             0.7777777777777778,
             "#fb9f3a"
            ],
            [
             0.8888888888888888,
             "#fdca26"
            ],
            [
             1,
             "#f0f921"
            ]
           ]
          },
          "colorway": [
           "#636efa",
           "#EF553B",
           "#00cc96",
           "#ab63fa",
           "#FFA15A",
           "#19d3f3",
           "#FF6692",
           "#B6E880",
           "#FF97FF",
           "#FECB52"
          ],
          "font": {
           "color": "#2a3f5f"
          },
          "geo": {
           "bgcolor": "white",
           "lakecolor": "white",
           "landcolor": "#E5ECF6",
           "showlakes": true,
           "showland": true,
           "subunitcolor": "white"
          },
          "hoverlabel": {
           "align": "left"
          },
          "hovermode": "closest",
          "mapbox": {
           "style": "light"
          },
          "paper_bgcolor": "white",
          "plot_bgcolor": "#E5ECF6",
          "polar": {
           "angularaxis": {
            "gridcolor": "white",
            "linecolor": "white",
            "ticks": ""
           },
           "bgcolor": "#E5ECF6",
           "radialaxis": {
            "gridcolor": "white",
            "linecolor": "white",
            "ticks": ""
           }
          },
          "scene": {
           "xaxis": {
            "backgroundcolor": "#E5ECF6",
            "gridcolor": "white",
            "gridwidth": 2,
            "linecolor": "white",
            "showbackground": true,
            "ticks": "",
            "zerolinecolor": "white"
           },
           "yaxis": {
            "backgroundcolor": "#E5ECF6",
            "gridcolor": "white",
            "gridwidth": 2,
            "linecolor": "white",
            "showbackground": true,
            "ticks": "",
            "zerolinecolor": "white"
           },
           "zaxis": {
            "backgroundcolor": "#E5ECF6",
            "gridcolor": "white",
            "gridwidth": 2,
            "linecolor": "white",
            "showbackground": true,
            "ticks": "",
            "zerolinecolor": "white"
           }
          },
          "shapedefaults": {
           "line": {
            "color": "#2a3f5f"
           }
          },
          "ternary": {
           "aaxis": {
            "gridcolor": "white",
            "linecolor": "white",
            "ticks": ""
           },
           "baxis": {
            "gridcolor": "white",
            "linecolor": "white",
            "ticks": ""
           },
           "bgcolor": "#E5ECF6",
           "caxis": {
            "gridcolor": "white",
            "linecolor": "white",
            "ticks": ""
           }
          },
          "title": {
           "x": 0.05
          },
          "xaxis": {
           "automargin": true,
           "gridcolor": "white",
           "linecolor": "white",
           "ticks": "",
           "title": {
            "standoff": 15
           },
           "zerolinecolor": "white",
           "zerolinewidth": 2
          },
          "yaxis": {
           "automargin": true,
           "gridcolor": "white",
           "linecolor": "white",
           "ticks": "",
           "title": {
            "standoff": 15
           },
           "zerolinecolor": "white",
           "zerolinewidth": 2
          }
         }
        },
        "title": {
         "text": "Top 10 Artists: Pizza",
         "x": 0.45,
         "xanchor": "center",
         "y": 0.95,
         "yanchor": "top"
        },
        "xaxis": {
         "anchor": "y",
         "domain": [
          0,
          0.94
         ],
         "title": {
          "text": "Artist"
         }
        },
        "yaxis": {
         "anchor": "x",
         "domain": [
          0,
          1
         ],
         "title": {
          "text": "Index vs. Average Artist"
         }
        },
        "yaxis2": {
         "anchor": "x",
         "overlaying": "y",
         "side": "right",
         "title": {
          "text": "Count of Mentions"
         }
        }
       }
      },
      "text/html": [
       "<div>\n",
       "        \n",
       "        \n",
       "            <div id=\"79425069-dfcf-493f-8629-574a01d959ab\" class=\"plotly-graph-div\" style=\"height:525px; width:100%;\"></div>\n",
       "            <script type=\"text/javascript\">\n",
       "                require([\"plotly\"], function(Plotly) {\n",
       "                    window.PLOTLYENV=window.PLOTLYENV || {};\n",
       "                    \n",
       "                if (document.getElementById(\"79425069-dfcf-493f-8629-574a01d959ab\")) {\n",
       "                    Plotly.newPlot(\n",
       "                        '79425069-dfcf-493f-8629-574a01d959ab',\n",
       "                        [{\"name\": \"Mentions of Pizza in Lyrics vs. Average Artist\", \"type\": \"bar\", \"x\": [\"princess nokia\", \"tierra whack\", \"lupe fiasco\", \"digable planets\", \"smino\", \"ty dolla sign\", \"joey badass\", \"lil dicky\", \"megan thee stallion\", \"ski mask the slump god\"], \"xaxis\": \"x\", \"y\": [27.54443390431979, 20.557919906942114, 14.424822384155304, 10.53786587558285, 9.606139408756473, 9.064549634829632, 7.481446715161322, 7.2461993830703095, 6.582057578431749, 5.369172703818212], \"yaxis\": \"y\"}, {\"name\": \"Mentions of Pizza in Unique Songs vs. Average Artist\", \"type\": \"bar\", \"x\": [\"princess nokia\", \"tierra whack\", \"lupe fiasco\", \"digable planets\", \"smino\", \"ty dolla sign\", \"joey badass\", \"lil dicky\", \"megan thee stallion\", \"ski mask the slump god\"], \"xaxis\": \"x\", \"y\": [7.833654375343974, 5.157155797101449, 3.6919236131375026, 15.094114528101802, 4.834833559782608, 0.2955390141605415, 2.915706457725201, 6.726724952741021, 6.933990987699428, 1.7190519323671498], \"yaxis\": \"y\"}, {\"name\": \"Total Mentions of Pizza\", \"type\": \"scatter\", \"x\": [\"princess nokia\", \"tierra whack\", \"lupe fiasco\", \"digable planets\", \"smino\", \"ty dolla sign\", \"joey badass\", \"lil dicky\", \"megan thee stallion\", \"ski mask the slump god\"], \"xaxis\": \"x\", \"y\": [10, 3, 40, 3, 6, 19, 10, 6, 5, 7], \"yaxis\": \"y2\"}, {\"name\": \"Unique Count of Songs in Which Pizza is Mentioned\", \"type\": \"scatter\", \"x\": [\"princess nokia\", \"tierra whack\", \"lupe fiasco\", \"digable planets\", \"smino\", \"ty dolla sign\", \"joey badass\", \"lil dicky\", \"megan thee stallion\", \"ski mask the slump god\"], \"xaxis\": \"x\", \"y\": [3, 1, 8, 3, 3, 1, 4, 3, 4, 3], \"yaxis\": \"y2\"}],\n",
       "                        {\"legend\": {\"orientation\": \"h\", \"x\": 0.7, \"xanchor\": \"right\", \"y\": 1.02, \"yanchor\": \"bottom\"}, \"template\": {\"data\": {\"bar\": [{\"error_x\": {\"color\": \"#2a3f5f\"}, \"error_y\": {\"color\": \"#2a3f5f\"}, \"marker\": {\"line\": {\"color\": \"#E5ECF6\", \"width\": 0.5}}, \"type\": \"bar\"}], \"barpolar\": [{\"marker\": {\"line\": {\"color\": \"#E5ECF6\", \"width\": 0.5}}, \"type\": \"barpolar\"}], \"carpet\": [{\"aaxis\": {\"endlinecolor\": \"#2a3f5f\", \"gridcolor\": \"white\", \"linecolor\": \"white\", \"minorgridcolor\": \"white\", \"startlinecolor\": \"#2a3f5f\"}, \"baxis\": {\"endlinecolor\": \"#2a3f5f\", \"gridcolor\": \"white\", \"linecolor\": \"white\", \"minorgridcolor\": \"white\", \"startlinecolor\": \"#2a3f5f\"}, \"type\": \"carpet\"}], \"choropleth\": [{\"colorbar\": {\"outlinewidth\": 0, \"ticks\": \"\"}, \"type\": \"choropleth\"}], \"contour\": [{\"colorbar\": {\"outlinewidth\": 0, \"ticks\": \"\"}, \"colorscale\": [[0.0, \"#0d0887\"], [0.1111111111111111, \"#46039f\"], [0.2222222222222222, \"#7201a8\"], [0.3333333333333333, \"#9c179e\"], [0.4444444444444444, \"#bd3786\"], [0.5555555555555556, \"#d8576b\"], [0.6666666666666666, \"#ed7953\"], [0.7777777777777778, \"#fb9f3a\"], [0.8888888888888888, \"#fdca26\"], [1.0, \"#f0f921\"]], \"type\": \"contour\"}], \"contourcarpet\": [{\"colorbar\": {\"outlinewidth\": 0, \"ticks\": \"\"}, \"type\": \"contourcarpet\"}], \"heatmap\": [{\"colorbar\": {\"outlinewidth\": 0, \"ticks\": \"\"}, \"colorscale\": [[0.0, \"#0d0887\"], [0.1111111111111111, \"#46039f\"], [0.2222222222222222, \"#7201a8\"], [0.3333333333333333, \"#9c179e\"], [0.4444444444444444, \"#bd3786\"], [0.5555555555555556, \"#d8576b\"], [0.6666666666666666, \"#ed7953\"], [0.7777777777777778, \"#fb9f3a\"], [0.8888888888888888, \"#fdca26\"], [1.0, \"#f0f921\"]], \"type\": \"heatmap\"}], \"heatmapgl\": [{\"colorbar\": {\"outlinewidth\": 0, \"ticks\": \"\"}, \"colorscale\": [[0.0, \"#0d0887\"], [0.1111111111111111, \"#46039f\"], [0.2222222222222222, \"#7201a8\"], [0.3333333333333333, \"#9c179e\"], [0.4444444444444444, \"#bd3786\"], [0.5555555555555556, \"#d8576b\"], [0.6666666666666666, \"#ed7953\"], [0.7777777777777778, \"#fb9f3a\"], [0.8888888888888888, \"#fdca26\"], [1.0, \"#f0f921\"]], \"type\": \"heatmapgl\"}], \"histogram\": [{\"marker\": {\"colorbar\": {\"outlinewidth\": 0, \"ticks\": \"\"}}, \"type\": \"histogram\"}], \"histogram2d\": [{\"colorbar\": {\"outlinewidth\": 0, \"ticks\": \"\"}, \"colorscale\": [[0.0, \"#0d0887\"], [0.1111111111111111, \"#46039f\"], [0.2222222222222222, \"#7201a8\"], [0.3333333333333333, \"#9c179e\"], [0.4444444444444444, \"#bd3786\"], [0.5555555555555556, \"#d8576b\"], [0.6666666666666666, \"#ed7953\"], [0.7777777777777778, \"#fb9f3a\"], [0.8888888888888888, \"#fdca26\"], [1.0, \"#f0f921\"]], \"type\": \"histogram2d\"}], \"histogram2dcontour\": [{\"colorbar\": {\"outlinewidth\": 0, \"ticks\": \"\"}, \"colorscale\": [[0.0, \"#0d0887\"], [0.1111111111111111, \"#46039f\"], [0.2222222222222222, \"#7201a8\"], [0.3333333333333333, \"#9c179e\"], [0.4444444444444444, \"#bd3786\"], [0.5555555555555556, \"#d8576b\"], [0.6666666666666666, \"#ed7953\"], [0.7777777777777778, \"#fb9f3a\"], [0.8888888888888888, \"#fdca26\"], [1.0, \"#f0f921\"]], \"type\": \"histogram2dcontour\"}], \"mesh3d\": [{\"colorbar\": {\"outlinewidth\": 0, \"ticks\": \"\"}, \"type\": \"mesh3d\"}], \"parcoords\": [{\"line\": {\"colorbar\": {\"outlinewidth\": 0, \"ticks\": \"\"}}, \"type\": \"parcoords\"}], \"pie\": [{\"automargin\": true, \"type\": \"pie\"}], \"scatter\": [{\"marker\": {\"colorbar\": {\"outlinewidth\": 0, \"ticks\": \"\"}}, \"type\": \"scatter\"}], \"scatter3d\": [{\"line\": {\"colorbar\": {\"outlinewidth\": 0, \"ticks\": \"\"}}, \"marker\": {\"colorbar\": {\"outlinewidth\": 0, \"ticks\": \"\"}}, \"type\": \"scatter3d\"}], \"scattercarpet\": [{\"marker\": {\"colorbar\": {\"outlinewidth\": 0, \"ticks\": \"\"}}, \"type\": \"scattercarpet\"}], \"scattergeo\": [{\"marker\": {\"colorbar\": {\"outlinewidth\": 0, \"ticks\": \"\"}}, \"type\": \"scattergeo\"}], \"scattergl\": [{\"marker\": {\"colorbar\": {\"outlinewidth\": 0, \"ticks\": \"\"}}, \"type\": \"scattergl\"}], \"scattermapbox\": [{\"marker\": {\"colorbar\": {\"outlinewidth\": 0, \"ticks\": \"\"}}, \"type\": \"scattermapbox\"}], \"scatterpolar\": [{\"marker\": {\"colorbar\": {\"outlinewidth\": 0, \"ticks\": \"\"}}, \"type\": \"scatterpolar\"}], \"scatterpolargl\": [{\"marker\": {\"colorbar\": {\"outlinewidth\": 0, \"ticks\": \"\"}}, \"type\": \"scatterpolargl\"}], \"scatterternary\": [{\"marker\": {\"colorbar\": {\"outlinewidth\": 0, \"ticks\": \"\"}}, \"type\": \"scatterternary\"}], \"surface\": [{\"colorbar\": {\"outlinewidth\": 0, \"ticks\": \"\"}, \"colorscale\": [[0.0, \"#0d0887\"], [0.1111111111111111, \"#46039f\"], [0.2222222222222222, \"#7201a8\"], [0.3333333333333333, \"#9c179e\"], [0.4444444444444444, \"#bd3786\"], [0.5555555555555556, \"#d8576b\"], [0.6666666666666666, \"#ed7953\"], [0.7777777777777778, \"#fb9f3a\"], [0.8888888888888888, \"#fdca26\"], [1.0, \"#f0f921\"]], \"type\": \"surface\"}], \"table\": [{\"cells\": {\"fill\": {\"color\": \"#EBF0F8\"}, \"line\": {\"color\": \"white\"}}, \"header\": {\"fill\": {\"color\": \"#C8D4E3\"}, \"line\": {\"color\": \"white\"}}, \"type\": \"table\"}]}, \"layout\": {\"annotationdefaults\": {\"arrowcolor\": \"#2a3f5f\", \"arrowhead\": 0, \"arrowwidth\": 1}, \"coloraxis\": {\"colorbar\": {\"outlinewidth\": 0, \"ticks\": \"\"}}, \"colorscale\": {\"diverging\": [[0, \"#8e0152\"], [0.1, \"#c51b7d\"], [0.2, \"#de77ae\"], [0.3, \"#f1b6da\"], [0.4, \"#fde0ef\"], [0.5, \"#f7f7f7\"], [0.6, \"#e6f5d0\"], [0.7, \"#b8e186\"], [0.8, \"#7fbc41\"], [0.9, \"#4d9221\"], [1, \"#276419\"]], \"sequential\": [[0.0, \"#0d0887\"], [0.1111111111111111, \"#46039f\"], [0.2222222222222222, \"#7201a8\"], [0.3333333333333333, \"#9c179e\"], [0.4444444444444444, \"#bd3786\"], [0.5555555555555556, \"#d8576b\"], [0.6666666666666666, \"#ed7953\"], [0.7777777777777778, \"#fb9f3a\"], [0.8888888888888888, \"#fdca26\"], [1.0, \"#f0f921\"]], \"sequentialminus\": [[0.0, \"#0d0887\"], [0.1111111111111111, \"#46039f\"], [0.2222222222222222, \"#7201a8\"], [0.3333333333333333, \"#9c179e\"], [0.4444444444444444, \"#bd3786\"], [0.5555555555555556, \"#d8576b\"], [0.6666666666666666, \"#ed7953\"], [0.7777777777777778, \"#fb9f3a\"], [0.8888888888888888, \"#fdca26\"], [1.0, \"#f0f921\"]]}, \"colorway\": [\"#636efa\", \"#EF553B\", \"#00cc96\", \"#ab63fa\", \"#FFA15A\", \"#19d3f3\", \"#FF6692\", \"#B6E880\", \"#FF97FF\", \"#FECB52\"], \"font\": {\"color\": \"#2a3f5f\"}, \"geo\": {\"bgcolor\": \"white\", \"lakecolor\": \"white\", \"landcolor\": \"#E5ECF6\", \"showlakes\": true, \"showland\": true, \"subunitcolor\": \"white\"}, \"hoverlabel\": {\"align\": \"left\"}, \"hovermode\": \"closest\", \"mapbox\": {\"style\": \"light\"}, \"paper_bgcolor\": \"white\", \"plot_bgcolor\": \"#E5ECF6\", \"polar\": {\"angularaxis\": {\"gridcolor\": \"white\", \"linecolor\": \"white\", \"ticks\": \"\"}, \"bgcolor\": \"#E5ECF6\", \"radialaxis\": {\"gridcolor\": \"white\", \"linecolor\": \"white\", \"ticks\": \"\"}}, \"scene\": {\"xaxis\": {\"backgroundcolor\": \"#E5ECF6\", \"gridcolor\": \"white\", \"gridwidth\": 2, \"linecolor\": \"white\", \"showbackground\": true, \"ticks\": \"\", \"zerolinecolor\": \"white\"}, \"yaxis\": {\"backgroundcolor\": \"#E5ECF6\", \"gridcolor\": \"white\", \"gridwidth\": 2, \"linecolor\": \"white\", \"showbackground\": true, \"ticks\": \"\", \"zerolinecolor\": \"white\"}, \"zaxis\": {\"backgroundcolor\": \"#E5ECF6\", \"gridcolor\": \"white\", \"gridwidth\": 2, \"linecolor\": \"white\", \"showbackground\": true, \"ticks\": \"\", \"zerolinecolor\": \"white\"}}, \"shapedefaults\": {\"line\": {\"color\": \"#2a3f5f\"}}, \"ternary\": {\"aaxis\": {\"gridcolor\": \"white\", \"linecolor\": \"white\", \"ticks\": \"\"}, \"baxis\": {\"gridcolor\": \"white\", \"linecolor\": \"white\", \"ticks\": \"\"}, \"bgcolor\": \"#E5ECF6\", \"caxis\": {\"gridcolor\": \"white\", \"linecolor\": \"white\", \"ticks\": \"\"}}, \"title\": {\"x\": 0.05}, \"xaxis\": {\"automargin\": true, \"gridcolor\": \"white\", \"linecolor\": \"white\", \"ticks\": \"\", \"title\": {\"standoff\": 15}, \"zerolinecolor\": \"white\", \"zerolinewidth\": 2}, \"yaxis\": {\"automargin\": true, \"gridcolor\": \"white\", \"linecolor\": \"white\", \"ticks\": \"\", \"title\": {\"standoff\": 15}, \"zerolinecolor\": \"white\", \"zerolinewidth\": 2}}}, \"title\": {\"text\": \"Top 10 Artists: Pizza\", \"x\": 0.45, \"xanchor\": \"center\", \"y\": 0.95, \"yanchor\": \"top\"}, \"xaxis\": {\"anchor\": \"y\", \"domain\": [0.0, 0.94], \"title\": {\"text\": \"Artist\"}}, \"yaxis\": {\"anchor\": \"x\", \"domain\": [0.0, 1.0], \"title\": {\"text\": \"Index vs. Average Artist\"}}, \"yaxis2\": {\"anchor\": \"x\", \"overlaying\": \"y\", \"side\": \"right\", \"title\": {\"text\": \"Count of Mentions\"}}},\n",
       "                        {\"responsive\": true}\n",
       "                    ).then(function(){\n",
       "                            \n",
       "var gd = document.getElementById('79425069-dfcf-493f-8629-574a01d959ab');\n",
       "var x = new MutationObserver(function (mutations, observer) {{\n",
       "        var display = window.getComputedStyle(gd).display;\n",
       "        if (!display || display === 'none') {{\n",
       "            console.log([gd, 'removed!']);\n",
       "            Plotly.purge(gd);\n",
       "            observer.disconnect();\n",
       "        }}\n",
       "}});\n",
       "\n",
       "// Listen for the removal of the full notebook cells\n",
       "var notebookContainer = gd.closest('#notebook-container');\n",
       "if (notebookContainer) {{\n",
       "    x.observe(notebookContainer, {childList: true});\n",
       "}}\n",
       "\n",
       "// Listen for the clearing of the current output cell\n",
       "var outputEl = gd.closest('.output');\n",
       "if (outputEl) {{\n",
       "    x.observe(outputEl, {childList: true});\n",
       "}}\n",
       "\n",
       "                        })\n",
       "                };\n",
       "                });\n",
       "            </script>\n",
       "        </div>"
      ]
     },
     "metadata": {},
     "output_type": "display_data"
    },
    {
     "data": {
      "text/html": [
       "<div>\n",
       "<style scoped>\n",
       "    .dataframe tbody tr th:only-of-type {\n",
       "        vertical-align: middle;\n",
       "    }\n",
       "\n",
       "    .dataframe tbody tr th {\n",
       "        vertical-align: top;\n",
       "    }\n",
       "\n",
       "    .dataframe thead th {\n",
       "        text-align: right;\n",
       "    }\n",
       "</style>\n",
       "<table border=\"1\" class=\"dataframe\">\n",
       "  <thead>\n",
       "    <tr style=\"text-align: right;\">\n",
       "      <th></th>\n",
       "      <th>food_word</th>\n",
       "      <th>artist</th>\n",
       "      <th>food_word_count</th>\n",
       "      <th>total_lyric_words_count</th>\n",
       "      <th>food_word_unique_song_count</th>\n",
       "      <th>total_unique_song_count</th>\n",
       "      <th>index_lyrics</th>\n",
       "      <th>index_songs</th>\n",
       "    </tr>\n",
       "  </thead>\n",
       "  <tbody>\n",
       "    <tr>\n",
       "      <th>0</th>\n",
       "      <td>pizza</td>\n",
       "      <td>princess nokia</td>\n",
       "      <td>10</td>\n",
       "      <td>23239.0</td>\n",
       "      <td>3</td>\n",
       "      <td>79.0</td>\n",
       "      <td>27.544434</td>\n",
       "      <td>7.833654</td>\n",
       "    </tr>\n",
       "    <tr>\n",
       "      <th>1</th>\n",
       "      <td>pizza</td>\n",
       "      <td>tierra whack</td>\n",
       "      <td>3</td>\n",
       "      <td>9341.0</td>\n",
       "      <td>1</td>\n",
       "      <td>40.0</td>\n",
       "      <td>20.557920</td>\n",
       "      <td>5.157156</td>\n",
       "    </tr>\n",
       "    <tr>\n",
       "      <th>2</th>\n",
       "      <td>pizza</td>\n",
       "      <td>lupe fiasco</td>\n",
       "      <td>40</td>\n",
       "      <td>177501.0</td>\n",
       "      <td>8</td>\n",
       "      <td>447.0</td>\n",
       "      <td>14.424822</td>\n",
       "      <td>3.691924</td>\n",
       "    </tr>\n",
       "    <tr>\n",
       "      <th>3</th>\n",
       "      <td>pizza</td>\n",
       "      <td>digable planets</td>\n",
       "      <td>3</td>\n",
       "      <td>18223.0</td>\n",
       "      <td>3</td>\n",
       "      <td>41.0</td>\n",
       "      <td>10.537866</td>\n",
       "      <td>15.094115</td>\n",
       "    </tr>\n",
       "    <tr>\n",
       "      <th>4</th>\n",
       "      <td>pizza</td>\n",
       "      <td>smino</td>\n",
       "      <td>6</td>\n",
       "      <td>39981.0</td>\n",
       "      <td>3</td>\n",
       "      <td>128.0</td>\n",
       "      <td>9.606139</td>\n",
       "      <td>4.834834</td>\n",
       "    </tr>\n",
       "    <tr>\n",
       "      <th>5</th>\n",
       "      <td>pizza</td>\n",
       "      <td>ty dolla sign</td>\n",
       "      <td>19</td>\n",
       "      <td>134171.0</td>\n",
       "      <td>1</td>\n",
       "      <td>698.0</td>\n",
       "      <td>9.064550</td>\n",
       "      <td>0.295539</td>\n",
       "    </tr>\n",
       "    <tr>\n",
       "      <th>6</th>\n",
       "      <td>pizza</td>\n",
       "      <td>joey badass</td>\n",
       "      <td>10</td>\n",
       "      <td>85559.0</td>\n",
       "      <td>4</td>\n",
       "      <td>283.0</td>\n",
       "      <td>7.481447</td>\n",
       "      <td>2.915706</td>\n",
       "    </tr>\n",
       "    <tr>\n",
       "      <th>7</th>\n",
       "      <td>pizza</td>\n",
       "      <td>lil dicky</td>\n",
       "      <td>6</td>\n",
       "      <td>53002.0</td>\n",
       "      <td>3</td>\n",
       "      <td>92.0</td>\n",
       "      <td>7.246199</td>\n",
       "      <td>6.726725</td>\n",
       "    </tr>\n",
       "    <tr>\n",
       "      <th>8</th>\n",
       "      <td>pizza</td>\n",
       "      <td>megan thee stallion</td>\n",
       "      <td>5</td>\n",
       "      <td>48625.0</td>\n",
       "      <td>4</td>\n",
       "      <td>119.0</td>\n",
       "      <td>6.582058</td>\n",
       "      <td>6.933991</td>\n",
       "    </tr>\n",
       "    <tr>\n",
       "      <th>9</th>\n",
       "      <td>pizza</td>\n",
       "      <td>ski mask the slump god</td>\n",
       "      <td>7</td>\n",
       "      <td>83453.0</td>\n",
       "      <td>3</td>\n",
       "      <td>360.0</td>\n",
       "      <td>5.369173</td>\n",
       "      <td>1.719052</td>\n",
       "    </tr>\n",
       "  </tbody>\n",
       "</table>\n",
       "</div>"
      ],
      "text/plain": [
       "  food_word                  artist  food_word_count  total_lyric_words_count  \\\n",
       "0     pizza          princess nokia               10                  23239.0   \n",
       "1     pizza            tierra whack                3                   9341.0   \n",
       "2     pizza             lupe fiasco               40                 177501.0   \n",
       "3     pizza         digable planets                3                  18223.0   \n",
       "4     pizza                   smino                6                  39981.0   \n",
       "5     pizza           ty dolla sign               19                 134171.0   \n",
       "6     pizza             joey badass               10                  85559.0   \n",
       "7     pizza               lil dicky                6                  53002.0   \n",
       "8     pizza     megan thee stallion                5                  48625.0   \n",
       "9     pizza  ski mask the slump god                7                  83453.0   \n",
       "\n",
       "   food_word_unique_song_count  total_unique_song_count  index_lyrics  \\\n",
       "0                            3                     79.0     27.544434   \n",
       "1                            1                     40.0     20.557920   \n",
       "2                            8                    447.0     14.424822   \n",
       "3                            3                     41.0     10.537866   \n",
       "4                            3                    128.0      9.606139   \n",
       "5                            1                    698.0      9.064550   \n",
       "6                            4                    283.0      7.481447   \n",
       "7                            3                     92.0      7.246199   \n",
       "8                            4                    119.0      6.582058   \n",
       "9                            3                    360.0      5.369173   \n",
       "\n",
       "   index_songs  \n",
       "0     7.833654  \n",
       "1     5.157156  \n",
       "2     3.691924  \n",
       "3    15.094115  \n",
       "4     4.834834  \n",
       "5     0.295539  \n",
       "6     2.915706  \n",
       "7     6.726725  \n",
       "8     6.933991  \n",
       "9     1.719052  "
      ]
     },
     "execution_count": 226,
     "metadata": {},
     "output_type": "execute_result"
    }
   ],
   "source": [
    "# Create figure with secondary y-axis\n",
    "fig = make_subplots(specs=[[{\"secondary_y\": True}]])\n",
    "\n",
    "# Add traces\n",
    "fig.add_trace(\n",
    "    go.Bar(x=food_word_top_artist_plot_df['artist_clean'],\n",
    "               y=food_word_top_artist_plot_df['artist_food_word_index_all_lyric_words'],\n",
    "               name=\"Mentions of {0} in Lyrics vs. Average Artist\".format(food_word.title())),\n",
    "    secondary_y=False,\n",
    ")\n",
    "\n",
    "fig.add_trace(\n",
    "    go.Bar(x=food_word_top_artist_plot_df['artist_clean'],\n",
    "               y=food_word_top_artist_plot_df['artist_food_word_index_num_songs'],\n",
    "               name=\"Mentions of {0} in Unique Songs vs. Average Artist\".format(food_word.title())),\n",
    "    secondary_y=False,\n",
    ")\n",
    "\n",
    "fig.add_trace(\n",
    "    go.Scatter(x=food_word_top_artist_plot_df['artist_clean'],\n",
    "               y=food_word_top_artist_plot_df['artist_food_word_count'],\n",
    "               name=\"Total Mentions of {0}\".format(food_word.title())),\n",
    "    secondary_y=True,\n",
    ")\n",
    "\n",
    "fig.add_trace(\n",
    "    go.Scatter(x=food_word_top_artist_plot_df['artist_clean'],\n",
    "               y=food_word_top_artist_plot_df['artist_food_word_unique_song_count'],\n",
    "               name=\"Unique Count of Songs in Which {0} is Mentioned\".format(food_word.title())),\n",
    "    secondary_y=True,\n",
    ")\n",
    "\n",
    "# Add figure title\n",
    "fig.update_layout(\n",
    "    title={\n",
    "        'text': \"Top {0} Artists: {1}\".format(results_limit,food_word.title()),\n",
    "        'y':0.94,\n",
    "        'x':0.5,\n",
    "        'xanchor': 'center',\n",
    "        'yanchor': 'top'}\n",
    ")\n",
    "\n",
    "# Set x-axis title\n",
    "fig.update_xaxes(title_text=\"Artist\")\n",
    "\n",
    "# Set y-axes titles\n",
    "fig.update_yaxes(title_text=\"Index vs. Average Artist\", secondary_y=False)\n",
    "fig.update_yaxes(title_text=\"Count of Mentions\", secondary_y=True)\n",
    "fig.update_layout(legend=dict(\n",
    "    orientation=\"h\",\n",
    "    yanchor=\"bottom\",\n",
    "    y=1.02,\n",
    "    xanchor=\"right\",\n",
    "    x=0.7\n",
    "))\n",
    "\n",
    "fig.show()\n",
    "df_below_plot = food_word_top_artist_plot_df[['food_word','artist_clean','artist_food_word_count','total_lyric_words','artist_food_word_unique_song_count','unique_song_count','artist_food_word_index_all_lyric_words','artist_food_word_index_num_songs']].reset_index().drop(labels='index',axis=1)\n",
    "df_below_plot.columns=['food_word','artist','food_word_count','total_lyric_words_count','food_word_unique_song_count','total_unique_song_count','index_lyrics','index_songs']\n",
    "df_below_plot"
   ]
  },
  {
   "cell_type": "markdown",
   "metadata": {},
   "source": [
    "## Top Songs for Food Word & Artist Combos"
   ]
  },
  {
   "cell_type": "code",
   "execution_count": 251,
   "metadata": {},
   "outputs": [],
   "source": [
    "food_word_artist = 'princess nokia'\n",
    "results_limit = 100"
   ]
  },
  {
   "cell_type": "code",
   "execution_count": 252,
   "metadata": {},
   "outputs": [
    {
     "data": {
      "text/html": [
       "<div>\n",
       "<style scoped>\n",
       "    .dataframe tbody tr th:only-of-type {\n",
       "        vertical-align: middle;\n",
       "    }\n",
       "\n",
       "    .dataframe tbody tr th {\n",
       "        vertical-align: top;\n",
       "    }\n",
       "\n",
       "    .dataframe thead th {\n",
       "        text-align: right;\n",
       "    }\n",
       "</style>\n",
       "<table border=\"1\" class=\"dataframe\">\n",
       "  <thead>\n",
       "    <tr style=\"text-align: right;\">\n",
       "      <th></th>\n",
       "      <th>food_word</th>\n",
       "      <th>food_word_count</th>\n",
       "      <th>artist_clean</th>\n",
       "      <th>song</th>\n",
       "    </tr>\n",
       "  </thead>\n",
       "  <tbody>\n",
       "    <tr>\n",
       "      <th>0</th>\n",
       "      <td>pizza</td>\n",
       "      <td>8</td>\n",
       "      <td>princess nokia</td>\n",
       "      <td>chinese slippers</td>\n",
       "    </tr>\n",
       "    <tr>\n",
       "      <th>1</th>\n",
       "      <td>pizza</td>\n",
       "      <td>1</td>\n",
       "      <td>princess nokia</td>\n",
       "      <td>dame aquí</td>\n",
       "    </tr>\n",
       "    <tr>\n",
       "      <th>2</th>\n",
       "      <td>pizza</td>\n",
       "      <td>1</td>\n",
       "      <td>princess nokia</td>\n",
       "      <td>versace hottie</td>\n",
       "    </tr>\n",
       "  </tbody>\n",
       "</table>\n",
       "</div>"
      ],
      "text/plain": [
       "  food_word  food_word_count    artist_clean              song\n",
       "0     pizza                8  princess nokia  chinese slippers\n",
       "1     pizza                1  princess nokia         dame aquí\n",
       "2     pizza                1  princess nokia    versace hottie"
      ]
     },
     "execution_count": 252,
     "metadata": {},
     "output_type": "execute_result"
    }
   ],
   "source": [
    "artist_food_word_stats_df.loc[(artist_food_word_stats_df.food_word == food_word)\n",
    "                             & (artist_food_word_stats_df.artist_clean == food_word_artist)][['food_word','food_word_count','artist_clean','song']].sort_values(by='food_word_count',ascending=False)[:results_limit].reset_index().drop(labels='index',axis=1)"
   ]
  },
  {
   "cell_type": "markdown",
   "metadata": {},
   "source": [
    "## Regional Patterns"
   ]
  },
  {
   "cell_type": "code",
   "execution_count": 180,
   "metadata": {},
   "outputs": [],
   "source": [
    "## Calculate lyric word counts and unique song counts by region, state, city\n",
    "region_lyric_and_song_counts = artist_agg_stats_df.groupby(['region']).agg({'lyrics_word_count':sum,\n",
    "                                                                                'lyrics_word_count_excl_sw':sum,\n",
    "                                                                                'song':pd.Series.nunique})\n",
    "region_lyric_and_song_counts = region_lyric_and_song_counts.reset_index()\n",
    "region_lyric_and_song_counts.columns = ['region','total_lyric_words','total_lyric_words_excl_sw','unique_song_count']\n",
    "\n",
    "state_lyric_and_song_counts = artist_agg_stats_df.groupby(['state']).agg({'lyrics_word_count':sum,\n",
    "                                                                                'lyrics_word_count_excl_sw':sum,\n",
    "                                                                                'song':pd.Series.nunique})\n",
    "state_lyric_and_song_counts = state_lyric_and_song_counts.reset_index()\n",
    "state_lyric_and_song_counts.columns = ['state','total_lyric_words','total_lyric_words_excl_sw','unique_song_count']\n",
    "\n",
    "city_lyric_and_song_counts = artist_agg_stats_df.groupby(['city']).agg({'lyrics_word_count':sum,\n",
    "                                                                                'lyrics_word_count_excl_sw':sum,\n",
    "                                                                                'song':pd.Series.nunique})\n",
    "city_lyric_and_song_counts = city_lyric_and_song_counts.reset_index()\n",
    "city_lyric_and_song_counts.columns = ['city','total_lyric_words','total_lyric_words_excl_sw','unique_song_count']\n"
   ]
  },
  {
   "cell_type": "markdown",
   "metadata": {},
   "source": [
    "## Region Analysis"
   ]
  },
  {
   "cell_type": "code",
   "execution_count": 181,
   "metadata": {},
   "outputs": [],
   "source": [
    "## Calculate region food word probabilities\n",
    "region_food_word_probs_df = artist_food_word_stats_df.groupby(['food_word','region']).agg({'food_word_count':sum,'song':[pd.Series.nunique,unique_values],'artist_clean':[pd.Series.nunique,unique_values]})\n",
    "region_food_word_probs_df = region_food_word_probs_df.reset_index()\n",
    "region_food_word_probs_df.columns = ['food_word','region','region_food_word_count','region_food_word_unique_song_count','region_food_word_unique_songs','region_food_word_unique_artist_count','region_food_word_unique_artists']\n",
    "## Merge artist total lyric and song counts with artist food word counts\n",
    "region_food_word_probs_df = pd.merge(region_food_word_probs_df,region_lyric_and_song_counts,on='region',how='left')\n",
    "region_food_word_probs_df['region_food_word_prob_all_lyric_words'] = region_food_word_probs_df['region_food_word_count'] / region_food_word_probs_df['total_lyric_words']\n",
    "region_food_word_probs_df['region_food_word_prob_lyric_words_excl_sw'] = region_food_word_probs_df['region_food_word_count'] / region_food_word_probs_df['total_lyric_words_excl_sw']\n",
    "region_food_word_probs_df['region_food_word_prob_num_songs'] = region_food_word_probs_df['region_food_word_unique_song_count'] / region_food_word_probs_df['unique_song_count']\n",
    "### Merge food word baselines with artist food word probabilities\n",
    "region_food_word_probs_df = pd.merge(region_food_word_probs_df,food_word_baseline_df,on='food_word',how='left')\n",
    "region_food_word_probs_df['region_food_word_index_all_lyric_words'] = region_food_word_probs_df['region_food_word_prob_all_lyric_words'] / region_food_word_probs_df['food_word_baseline_prob_all_lyric_words']\n",
    "region_food_word_probs_df['region_food_word_index_lyric_words_excl_sw'] = region_food_word_probs_df['region_food_word_prob_lyric_words_excl_sw'] / region_food_word_probs_df['food_word_baseline_prob_lyric_words_excl_sw']\n",
    "region_food_word_probs_df['region_food_word_index_num_songs'] = region_food_word_probs_df['region_food_word_prob_num_songs'] / region_food_word_probs_df['food_word_baseline_prob_num_songs']\n"
   ]
  },
  {
   "cell_type": "markdown",
   "metadata": {},
   "source": [
    "## Top Foods - Search by Region (East, South, West, Midwest)"
   ]
  },
  {
   "cell_type": "code",
   "execution_count": 183,
   "metadata": {},
   "outputs": [],
   "source": [
    "region = 'South'\n",
    "region_min_food_word_count =3\n",
    "region_min_food_word_unique_song_count = 3\n",
    "region_min_artist_food_word_count = 5\n",
    "sort_results_by = 'region_food_word_index_all_lyric_words'\n",
    "#sort_results_by = 'region_food_word_index_num_songs'\n",
    "#sort_results_by = 'region_food_word_count'\n",
    "results_limit = 25"
   ]
  },
  {
   "cell_type": "code",
   "execution_count": 184,
   "metadata": {},
   "outputs": [],
   "source": [
    "region_food_word_plot_df = region_food_word_probs_df.loc[(region_food_word_probs_df.region == region)\n",
    "                                                         & (region_food_word_probs_df.region_food_word_count>=region_min_food_word_count)\n",
    "                                                        & (region_food_word_probs_df.region_food_word_unique_song_count>=region_min_food_word_unique_song_count)\n",
    "                                                        & (region_food_word_probs_df.region_food_word_unique_artist_count>=region_min_artist_food_word_count)]\n",
    "region_food_word_plot_df = region_food_word_plot_df.sort_values(by=sort_results_by,ascending=False)[:results_limit]\n"
   ]
  },
  {
   "cell_type": "code",
   "execution_count": 185,
   "metadata": {},
   "outputs": [
    {
     "data": {
      "application/vnd.plotly.v1+json": {
       "config": {
        "plotlyServerURL": "https://plot.ly"
       },
       "data": [
        {
         "name": "Food Word Mentions in Lyrics vs. Average",
         "type": "bar",
         "x": [
          "egg yolk",
          "coffee bean",
          "crab cake",
          "orville redenbacher",
          "froot loop",
          "slimfast",
          "wedding cake",
          "spinach dip",
          "fettuccine",
          "gelato",
          "cream soda",
          "lemonhead",
          "chicken tender",
          "bison",
          "biscotti",
          "pop tart",
          "vitamin d",
          "vanilla wafer",
          "naan",
          "sherbert",
          "jelly bean",
          "syrup",
          "chef boyardee",
          "almond joy",
          "crockpot"
         ],
         "xaxis": "x",
         "y": [
          2.5409349246108013,
          2.4757827470566784,
          2.3665570376277074,
          2.3665570376277074,
          2.3468357289808095,
          2.3468357289808095,
          2.332259109546146,
          2.2989411222669154,
          2.2949910516100998,
          2.2211123863568374,
          2.219667290464608,
          2.2087865684525267,
          2.1456783807824547,
          2.1456783807824547,
          2.0953890437328657,
          2.0631522892138987,
          2.011573481983551,
          2.011573481983551,
          1.9506167098022316,
          1.9370707604286048,
          1.933605517565584,
          1.9308100275248279,
          1.915784268555763,
          1.915784268555763,
          1.8998193996511314
         ],
         "yaxis": "y"
        },
        {
         "name": "Food Word Mentions in Unique Songs vs. Average",
         "type": "bar",
         "x": [
          "egg yolk",
          "coffee bean",
          "crab cake",
          "orville redenbacher",
          "froot loop",
          "slimfast",
          "wedding cake",
          "spinach dip",
          "fettuccine",
          "gelato",
          "cream soda",
          "lemonhead",
          "chicken tender",
          "bison",
          "biscotti",
          "pop tart",
          "vitamin d",
          "vanilla wafer",
          "naan",
          "sherbert",
          "jelly bean",
          "syrup",
          "chef boyardee",
          "almond joy",
          "crockpot"
         ],
         "xaxis": "x",
         "y": [
          2.188919878650617,
          2.149121335402424,
          2.069524248906038,
          1.989927162409652,
          1.989927162409652,
          2.0894235205301346,
          1.7366637053756964,
          2.046782224192785,
          1.5521431866795286,
          1.7558180844791047,
          1.8193619770602534,
          1.910330075913266,
          1.910330075913266,
          1.5919417299277216,
          1.9103300759132658,
          1.759514543604324,
          1.857265351582342,
          1.7909344461686867,
          1.7366637053756964,
          1.9401789833494107,
          1.399810831488169,
          1.6963125493970461,
          1.4327475569349493,
          1.7056518534939875,
          1.5919417299277216
         ],
         "yaxis": "y"
        },
        {
         "name": "Region Food Word Total Mentions",
         "type": "scatter",
         "x": [
          "egg yolk",
          "coffee bean",
          "crab cake",
          "orville redenbacher",
          "froot loop",
          "slimfast",
          "wedding cake",
          "spinach dip",
          "fettuccine",
          "gelato",
          "cream soda",
          "lemonhead",
          "chicken tender",
          "bison",
          "biscotti",
          "pop tart",
          "vitamin d",
          "vanilla wafer",
          "naan",
          "sherbert",
          "jelly bean",
          "syrup",
          "chef boyardee",
          "almond joy",
          "crockpot"
         ],
         "xaxis": "x",
         "y": [
          18,
          12,
          15,
          15,
          14,
          7,
          20,
          6,
          83,
          106,
          24,
          14,
          8,
          24,
          25,
          20,
          15,
          9,
          8,
          13,
          31,
          771,
          25,
          10,
          17
         ],
         "yaxis": "y2"
        },
        {
         "name": "Region Food Word Unique Song Count",
         "type": "scatter",
         "x": [
          "egg yolk",
          "coffee bean",
          "crab cake",
          "orville redenbacher",
          "froot loop",
          "slimfast",
          "wedding cake",
          "spinach dip",
          "fettuccine",
          "gelato",
          "cream soda",
          "lemonhead",
          "chicken tender",
          "bison",
          "biscotti",
          "pop tart",
          "vitamin d",
          "vanilla wafer",
          "naan",
          "sherbert",
          "jelly bean",
          "syrup",
          "chef boyardee",
          "almond joy",
          "crockpot"
         ],
         "xaxis": "x",
         "y": [
          11,
          9,
          13,
          10,
          10,
          7,
          8,
          6,
          26,
          50,
          16,
          12,
          8,
          12,
          20,
          14,
          14,
          9,
          8,
          13,
          17,
          493,
          15,
          10,
          10
         ],
         "yaxis": "y2"
        }
       ],
       "layout": {
        "legend": {
         "orientation": "h",
         "x": 0.7,
         "xanchor": "right",
         "y": 1.02,
         "yanchor": "bottom"
        },
        "template": {
         "data": {
          "bar": [
           {
            "error_x": {
             "color": "#2a3f5f"
            },
            "error_y": {
             "color": "#2a3f5f"
            },
            "marker": {
             "line": {
              "color": "#E5ECF6",
              "width": 0.5
             }
            },
            "type": "bar"
           }
          ],
          "barpolar": [
           {
            "marker": {
             "line": {
              "color": "#E5ECF6",
              "width": 0.5
             }
            },
            "type": "barpolar"
           }
          ],
          "carpet": [
           {
            "aaxis": {
             "endlinecolor": "#2a3f5f",
             "gridcolor": "white",
             "linecolor": "white",
             "minorgridcolor": "white",
             "startlinecolor": "#2a3f5f"
            },
            "baxis": {
             "endlinecolor": "#2a3f5f",
             "gridcolor": "white",
             "linecolor": "white",
             "minorgridcolor": "white",
             "startlinecolor": "#2a3f5f"
            },
            "type": "carpet"
           }
          ],
          "choropleth": [
           {
            "colorbar": {
             "outlinewidth": 0,
             "ticks": ""
            },
            "type": "choropleth"
           }
          ],
          "contour": [
           {
            "colorbar": {
             "outlinewidth": 0,
             "ticks": ""
            },
            "colorscale": [
             [
              0,
              "#0d0887"
             ],
             [
              0.1111111111111111,
              "#46039f"
             ],
             [
              0.2222222222222222,
              "#7201a8"
             ],
             [
              0.3333333333333333,
              "#9c179e"
             ],
             [
              0.4444444444444444,
              "#bd3786"
             ],
             [
              0.5555555555555556,
              "#d8576b"
             ],
             [
              0.6666666666666666,
              "#ed7953"
             ],
             [
              0.7777777777777778,
              "#fb9f3a"
             ],
             [
              0.8888888888888888,
              "#fdca26"
             ],
             [
              1,
              "#f0f921"
             ]
            ],
            "type": "contour"
           }
          ],
          "contourcarpet": [
           {
            "colorbar": {
             "outlinewidth": 0,
             "ticks": ""
            },
            "type": "contourcarpet"
           }
          ],
          "heatmap": [
           {
            "colorbar": {
             "outlinewidth": 0,
             "ticks": ""
            },
            "colorscale": [
             [
              0,
              "#0d0887"
             ],
             [
              0.1111111111111111,
              "#46039f"
             ],
             [
              0.2222222222222222,
              "#7201a8"
             ],
             [
              0.3333333333333333,
              "#9c179e"
             ],
             [
              0.4444444444444444,
              "#bd3786"
             ],
             [
              0.5555555555555556,
              "#d8576b"
             ],
             [
              0.6666666666666666,
              "#ed7953"
             ],
             [
              0.7777777777777778,
              "#fb9f3a"
             ],
             [
              0.8888888888888888,
              "#fdca26"
             ],
             [
              1,
              "#f0f921"
             ]
            ],
            "type": "heatmap"
           }
          ],
          "heatmapgl": [
           {
            "colorbar": {
             "outlinewidth": 0,
             "ticks": ""
            },
            "colorscale": [
             [
              0,
              "#0d0887"
             ],
             [
              0.1111111111111111,
              "#46039f"
             ],
             [
              0.2222222222222222,
              "#7201a8"
             ],
             [
              0.3333333333333333,
              "#9c179e"
             ],
             [
              0.4444444444444444,
              "#bd3786"
             ],
             [
              0.5555555555555556,
              "#d8576b"
             ],
             [
              0.6666666666666666,
              "#ed7953"
             ],
             [
              0.7777777777777778,
              "#fb9f3a"
             ],
             [
              0.8888888888888888,
              "#fdca26"
             ],
             [
              1,
              "#f0f921"
             ]
            ],
            "type": "heatmapgl"
           }
          ],
          "histogram": [
           {
            "marker": {
             "colorbar": {
              "outlinewidth": 0,
              "ticks": ""
             }
            },
            "type": "histogram"
           }
          ],
          "histogram2d": [
           {
            "colorbar": {
             "outlinewidth": 0,
             "ticks": ""
            },
            "colorscale": [
             [
              0,
              "#0d0887"
             ],
             [
              0.1111111111111111,
              "#46039f"
             ],
             [
              0.2222222222222222,
              "#7201a8"
             ],
             [
              0.3333333333333333,
              "#9c179e"
             ],
             [
              0.4444444444444444,
              "#bd3786"
             ],
             [
              0.5555555555555556,
              "#d8576b"
             ],
             [
              0.6666666666666666,
              "#ed7953"
             ],
             [
              0.7777777777777778,
              "#fb9f3a"
             ],
             [
              0.8888888888888888,
              "#fdca26"
             ],
             [
              1,
              "#f0f921"
             ]
            ],
            "type": "histogram2d"
           }
          ],
          "histogram2dcontour": [
           {
            "colorbar": {
             "outlinewidth": 0,
             "ticks": ""
            },
            "colorscale": [
             [
              0,
              "#0d0887"
             ],
             [
              0.1111111111111111,
              "#46039f"
             ],
             [
              0.2222222222222222,
              "#7201a8"
             ],
             [
              0.3333333333333333,
              "#9c179e"
             ],
             [
              0.4444444444444444,
              "#bd3786"
             ],
             [
              0.5555555555555556,
              "#d8576b"
             ],
             [
              0.6666666666666666,
              "#ed7953"
             ],
             [
              0.7777777777777778,
              "#fb9f3a"
             ],
             [
              0.8888888888888888,
              "#fdca26"
             ],
             [
              1,
              "#f0f921"
             ]
            ],
            "type": "histogram2dcontour"
           }
          ],
          "mesh3d": [
           {
            "colorbar": {
             "outlinewidth": 0,
             "ticks": ""
            },
            "type": "mesh3d"
           }
          ],
          "parcoords": [
           {
            "line": {
             "colorbar": {
              "outlinewidth": 0,
              "ticks": ""
             }
            },
            "type": "parcoords"
           }
          ],
          "pie": [
           {
            "automargin": true,
            "type": "pie"
           }
          ],
          "scatter": [
           {
            "marker": {
             "colorbar": {
              "outlinewidth": 0,
              "ticks": ""
             }
            },
            "type": "scatter"
           }
          ],
          "scatter3d": [
           {
            "line": {
             "colorbar": {
              "outlinewidth": 0,
              "ticks": ""
             }
            },
            "marker": {
             "colorbar": {
              "outlinewidth": 0,
              "ticks": ""
             }
            },
            "type": "scatter3d"
           }
          ],
          "scattercarpet": [
           {
            "marker": {
             "colorbar": {
              "outlinewidth": 0,
              "ticks": ""
             }
            },
            "type": "scattercarpet"
           }
          ],
          "scattergeo": [
           {
            "marker": {
             "colorbar": {
              "outlinewidth": 0,
              "ticks": ""
             }
            },
            "type": "scattergeo"
           }
          ],
          "scattergl": [
           {
            "marker": {
             "colorbar": {
              "outlinewidth": 0,
              "ticks": ""
             }
            },
            "type": "scattergl"
           }
          ],
          "scattermapbox": [
           {
            "marker": {
             "colorbar": {
              "outlinewidth": 0,
              "ticks": ""
             }
            },
            "type": "scattermapbox"
           }
          ],
          "scatterpolar": [
           {
            "marker": {
             "colorbar": {
              "outlinewidth": 0,
              "ticks": ""
             }
            },
            "type": "scatterpolar"
           }
          ],
          "scatterpolargl": [
           {
            "marker": {
             "colorbar": {
              "outlinewidth": 0,
              "ticks": ""
             }
            },
            "type": "scatterpolargl"
           }
          ],
          "scatterternary": [
           {
            "marker": {
             "colorbar": {
              "outlinewidth": 0,
              "ticks": ""
             }
            },
            "type": "scatterternary"
           }
          ],
          "surface": [
           {
            "colorbar": {
             "outlinewidth": 0,
             "ticks": ""
            },
            "colorscale": [
             [
              0,
              "#0d0887"
             ],
             [
              0.1111111111111111,
              "#46039f"
             ],
             [
              0.2222222222222222,
              "#7201a8"
             ],
             [
              0.3333333333333333,
              "#9c179e"
             ],
             [
              0.4444444444444444,
              "#bd3786"
             ],
             [
              0.5555555555555556,
              "#d8576b"
             ],
             [
              0.6666666666666666,
              "#ed7953"
             ],
             [
              0.7777777777777778,
              "#fb9f3a"
             ],
             [
              0.8888888888888888,
              "#fdca26"
             ],
             [
              1,
              "#f0f921"
             ]
            ],
            "type": "surface"
           }
          ],
          "table": [
           {
            "cells": {
             "fill": {
              "color": "#EBF0F8"
             },
             "line": {
              "color": "white"
             }
            },
            "header": {
             "fill": {
              "color": "#C8D4E3"
             },
             "line": {
              "color": "white"
             }
            },
            "type": "table"
           }
          ]
         },
         "layout": {
          "annotationdefaults": {
           "arrowcolor": "#2a3f5f",
           "arrowhead": 0,
           "arrowwidth": 1
          },
          "coloraxis": {
           "colorbar": {
            "outlinewidth": 0,
            "ticks": ""
           }
          },
          "colorscale": {
           "diverging": [
            [
             0,
             "#8e0152"
            ],
            [
             0.1,
             "#c51b7d"
            ],
            [
             0.2,
             "#de77ae"
            ],
            [
             0.3,
             "#f1b6da"
            ],
            [
             0.4,
             "#fde0ef"
            ],
            [
             0.5,
             "#f7f7f7"
            ],
            [
             0.6,
             "#e6f5d0"
            ],
            [
             0.7,
             "#b8e186"
            ],
            [
             0.8,
             "#7fbc41"
            ],
            [
             0.9,
             "#4d9221"
            ],
            [
             1,
             "#276419"
            ]
           ],
           "sequential": [
            [
             0,
             "#0d0887"
            ],
            [
             0.1111111111111111,
             "#46039f"
            ],
            [
             0.2222222222222222,
             "#7201a8"
            ],
            [
             0.3333333333333333,
             "#9c179e"
            ],
            [
             0.4444444444444444,
             "#bd3786"
            ],
            [
             0.5555555555555556,
             "#d8576b"
            ],
            [
             0.6666666666666666,
             "#ed7953"
            ],
            [
             0.7777777777777778,
             "#fb9f3a"
            ],
            [
             0.8888888888888888,
             "#fdca26"
            ],
            [
             1,
             "#f0f921"
            ]
           ],
           "sequentialminus": [
            [
             0,
             "#0d0887"
            ],
            [
             0.1111111111111111,
             "#46039f"
            ],
            [
             0.2222222222222222,
             "#7201a8"
            ],
            [
             0.3333333333333333,
             "#9c179e"
            ],
            [
             0.4444444444444444,
             "#bd3786"
            ],
            [
             0.5555555555555556,
             "#d8576b"
            ],
            [
             0.6666666666666666,
             "#ed7953"
            ],
            [
             0.7777777777777778,
             "#fb9f3a"
            ],
            [
             0.8888888888888888,
             "#fdca26"
            ],
            [
             1,
             "#f0f921"
            ]
           ]
          },
          "colorway": [
           "#636efa",
           "#EF553B",
           "#00cc96",
           "#ab63fa",
           "#FFA15A",
           "#19d3f3",
           "#FF6692",
           "#B6E880",
           "#FF97FF",
           "#FECB52"
          ],
          "font": {
           "color": "#2a3f5f"
          },
          "geo": {
           "bgcolor": "white",
           "lakecolor": "white",
           "landcolor": "#E5ECF6",
           "showlakes": true,
           "showland": true,
           "subunitcolor": "white"
          },
          "hoverlabel": {
           "align": "left"
          },
          "hovermode": "closest",
          "mapbox": {
           "style": "light"
          },
          "paper_bgcolor": "white",
          "plot_bgcolor": "#E5ECF6",
          "polar": {
           "angularaxis": {
            "gridcolor": "white",
            "linecolor": "white",
            "ticks": ""
           },
           "bgcolor": "#E5ECF6",
           "radialaxis": {
            "gridcolor": "white",
            "linecolor": "white",
            "ticks": ""
           }
          },
          "scene": {
           "xaxis": {
            "backgroundcolor": "#E5ECF6",
            "gridcolor": "white",
            "gridwidth": 2,
            "linecolor": "white",
            "showbackground": true,
            "ticks": "",
            "zerolinecolor": "white"
           },
           "yaxis": {
            "backgroundcolor": "#E5ECF6",
            "gridcolor": "white",
            "gridwidth": 2,
            "linecolor": "white",
            "showbackground": true,
            "ticks": "",
            "zerolinecolor": "white"
           },
           "zaxis": {
            "backgroundcolor": "#E5ECF6",
            "gridcolor": "white",
            "gridwidth": 2,
            "linecolor": "white",
            "showbackground": true,
            "ticks": "",
            "zerolinecolor": "white"
           }
          },
          "shapedefaults": {
           "line": {
            "color": "#2a3f5f"
           }
          },
          "ternary": {
           "aaxis": {
            "gridcolor": "white",
            "linecolor": "white",
            "ticks": ""
           },
           "baxis": {
            "gridcolor": "white",
            "linecolor": "white",
            "ticks": ""
           },
           "bgcolor": "#E5ECF6",
           "caxis": {
            "gridcolor": "white",
            "linecolor": "white",
            "ticks": ""
           }
          },
          "title": {
           "x": 0.05
          },
          "xaxis": {
           "automargin": true,
           "gridcolor": "white",
           "linecolor": "white",
           "ticks": "",
           "title": {
            "standoff": 15
           },
           "zerolinecolor": "white",
           "zerolinewidth": 2
          },
          "yaxis": {
           "automargin": true,
           "gridcolor": "white",
           "linecolor": "white",
           "ticks": "",
           "title": {
            "standoff": 15
           },
           "zerolinecolor": "white",
           "zerolinewidth": 2
          }
         }
        },
        "title": {
         "text": "Top 25 Food Words: South",
         "x": 0.45,
         "xanchor": "center",
         "y": 0.95,
         "yanchor": "top"
        },
        "xaxis": {
         "anchor": "y",
         "domain": [
          0,
          0.94
         ],
         "title": {
          "text": "Food Word"
         }
        },
        "yaxis": {
         "anchor": "x",
         "domain": [
          0,
          1
         ],
         "title": {
          "text": "Index vs. Average"
         }
        },
        "yaxis2": {
         "anchor": "x",
         "overlaying": "y",
         "side": "right",
         "title": {
          "text": "Count of Food Word Mentions by Region"
         }
        }
       }
      },
      "text/html": [
       "<div>\n",
       "        \n",
       "        \n",
       "            <div id=\"70f9ce94-bc55-481f-ba1d-2355062e6e42\" class=\"plotly-graph-div\" style=\"height:525px; width:100%;\"></div>\n",
       "            <script type=\"text/javascript\">\n",
       "                require([\"plotly\"], function(Plotly) {\n",
       "                    window.PLOTLYENV=window.PLOTLYENV || {};\n",
       "                    \n",
       "                if (document.getElementById(\"70f9ce94-bc55-481f-ba1d-2355062e6e42\")) {\n",
       "                    Plotly.newPlot(\n",
       "                        '70f9ce94-bc55-481f-ba1d-2355062e6e42',\n",
       "                        [{\"name\": \"Food Word Mentions in Lyrics vs. Average\", \"type\": \"bar\", \"x\": [\"egg yolk\", \"coffee bean\", \"crab cake\", \"orville redenbacher\", \"froot loop\", \"slimfast\", \"wedding cake\", \"spinach dip\", \"fettuccine\", \"gelato\", \"cream soda\", \"lemonhead\", \"chicken tender\", \"bison\", \"biscotti\", \"pop tart\", \"vitamin d\", \"vanilla wafer\", \"naan\", \"sherbert\", \"jelly bean\", \"syrup\", \"chef boyardee\", \"almond joy\", \"crockpot\"], \"xaxis\": \"x\", \"y\": [2.5409349246108013, 2.4757827470566784, 2.3665570376277074, 2.3665570376277074, 2.3468357289808095, 2.3468357289808095, 2.332259109546146, 2.2989411222669154, 2.2949910516100998, 2.2211123863568374, 2.219667290464608, 2.2087865684525267, 2.1456783807824547, 2.1456783807824547, 2.0953890437328657, 2.0631522892138987, 2.011573481983551, 2.011573481983551, 1.9506167098022316, 1.9370707604286048, 1.933605517565584, 1.9308100275248279, 1.915784268555763, 1.915784268555763, 1.8998193996511314], \"yaxis\": \"y\"}, {\"name\": \"Food Word Mentions in Unique Songs vs. Average\", \"type\": \"bar\", \"x\": [\"egg yolk\", \"coffee bean\", \"crab cake\", \"orville redenbacher\", \"froot loop\", \"slimfast\", \"wedding cake\", \"spinach dip\", \"fettuccine\", \"gelato\", \"cream soda\", \"lemonhead\", \"chicken tender\", \"bison\", \"biscotti\", \"pop tart\", \"vitamin d\", \"vanilla wafer\", \"naan\", \"sherbert\", \"jelly bean\", \"syrup\", \"chef boyardee\", \"almond joy\", \"crockpot\"], \"xaxis\": \"x\", \"y\": [2.188919878650617, 2.149121335402424, 2.069524248906038, 1.989927162409652, 1.989927162409652, 2.0894235205301346, 1.7366637053756964, 2.046782224192785, 1.5521431866795286, 1.7558180844791047, 1.8193619770602534, 1.910330075913266, 1.910330075913266, 1.5919417299277216, 1.9103300759132658, 1.759514543604324, 1.857265351582342, 1.7909344461686867, 1.7366637053756964, 1.9401789833494107, 1.399810831488169, 1.6963125493970461, 1.4327475569349493, 1.7056518534939875, 1.5919417299277216], \"yaxis\": \"y\"}, {\"name\": \"Region Food Word Total Mentions\", \"type\": \"scatter\", \"x\": [\"egg yolk\", \"coffee bean\", \"crab cake\", \"orville redenbacher\", \"froot loop\", \"slimfast\", \"wedding cake\", \"spinach dip\", \"fettuccine\", \"gelato\", \"cream soda\", \"lemonhead\", \"chicken tender\", \"bison\", \"biscotti\", \"pop tart\", \"vitamin d\", \"vanilla wafer\", \"naan\", \"sherbert\", \"jelly bean\", \"syrup\", \"chef boyardee\", \"almond joy\", \"crockpot\"], \"xaxis\": \"x\", \"y\": [18, 12, 15, 15, 14, 7, 20, 6, 83, 106, 24, 14, 8, 24, 25, 20, 15, 9, 8, 13, 31, 771, 25, 10, 17], \"yaxis\": \"y2\"}, {\"name\": \"Region Food Word Unique Song Count\", \"type\": \"scatter\", \"x\": [\"egg yolk\", \"coffee bean\", \"crab cake\", \"orville redenbacher\", \"froot loop\", \"slimfast\", \"wedding cake\", \"spinach dip\", \"fettuccine\", \"gelato\", \"cream soda\", \"lemonhead\", \"chicken tender\", \"bison\", \"biscotti\", \"pop tart\", \"vitamin d\", \"vanilla wafer\", \"naan\", \"sherbert\", \"jelly bean\", \"syrup\", \"chef boyardee\", \"almond joy\", \"crockpot\"], \"xaxis\": \"x\", \"y\": [11, 9, 13, 10, 10, 7, 8, 6, 26, 50, 16, 12, 8, 12, 20, 14, 14, 9, 8, 13, 17, 493, 15, 10, 10], \"yaxis\": \"y2\"}],\n",
       "                        {\"legend\": {\"orientation\": \"h\", \"x\": 0.7, \"xanchor\": \"right\", \"y\": 1.02, \"yanchor\": \"bottom\"}, \"template\": {\"data\": {\"bar\": [{\"error_x\": {\"color\": \"#2a3f5f\"}, \"error_y\": {\"color\": \"#2a3f5f\"}, \"marker\": {\"line\": {\"color\": \"#E5ECF6\", \"width\": 0.5}}, \"type\": \"bar\"}], \"barpolar\": [{\"marker\": {\"line\": {\"color\": \"#E5ECF6\", \"width\": 0.5}}, \"type\": \"barpolar\"}], \"carpet\": [{\"aaxis\": {\"endlinecolor\": \"#2a3f5f\", \"gridcolor\": \"white\", \"linecolor\": \"white\", \"minorgridcolor\": \"white\", \"startlinecolor\": \"#2a3f5f\"}, \"baxis\": {\"endlinecolor\": \"#2a3f5f\", \"gridcolor\": \"white\", \"linecolor\": \"white\", \"minorgridcolor\": \"white\", \"startlinecolor\": \"#2a3f5f\"}, \"type\": \"carpet\"}], \"choropleth\": [{\"colorbar\": {\"outlinewidth\": 0, \"ticks\": \"\"}, \"type\": \"choropleth\"}], \"contour\": [{\"colorbar\": {\"outlinewidth\": 0, \"ticks\": \"\"}, \"colorscale\": [[0.0, \"#0d0887\"], [0.1111111111111111, \"#46039f\"], [0.2222222222222222, \"#7201a8\"], [0.3333333333333333, \"#9c179e\"], [0.4444444444444444, \"#bd3786\"], [0.5555555555555556, \"#d8576b\"], [0.6666666666666666, \"#ed7953\"], [0.7777777777777778, \"#fb9f3a\"], [0.8888888888888888, \"#fdca26\"], [1.0, \"#f0f921\"]], \"type\": \"contour\"}], \"contourcarpet\": [{\"colorbar\": {\"outlinewidth\": 0, \"ticks\": \"\"}, \"type\": \"contourcarpet\"}], \"heatmap\": [{\"colorbar\": {\"outlinewidth\": 0, \"ticks\": \"\"}, \"colorscale\": [[0.0, \"#0d0887\"], [0.1111111111111111, \"#46039f\"], [0.2222222222222222, \"#7201a8\"], [0.3333333333333333, \"#9c179e\"], [0.4444444444444444, \"#bd3786\"], [0.5555555555555556, \"#d8576b\"], [0.6666666666666666, \"#ed7953\"], [0.7777777777777778, \"#fb9f3a\"], [0.8888888888888888, \"#fdca26\"], [1.0, \"#f0f921\"]], \"type\": \"heatmap\"}], \"heatmapgl\": [{\"colorbar\": {\"outlinewidth\": 0, \"ticks\": \"\"}, \"colorscale\": [[0.0, \"#0d0887\"], [0.1111111111111111, \"#46039f\"], [0.2222222222222222, \"#7201a8\"], [0.3333333333333333, \"#9c179e\"], [0.4444444444444444, \"#bd3786\"], [0.5555555555555556, \"#d8576b\"], [0.6666666666666666, \"#ed7953\"], [0.7777777777777778, \"#fb9f3a\"], [0.8888888888888888, \"#fdca26\"], [1.0, \"#f0f921\"]], \"type\": \"heatmapgl\"}], \"histogram\": [{\"marker\": {\"colorbar\": {\"outlinewidth\": 0, \"ticks\": \"\"}}, \"type\": \"histogram\"}], \"histogram2d\": [{\"colorbar\": {\"outlinewidth\": 0, \"ticks\": \"\"}, \"colorscale\": [[0.0, \"#0d0887\"], [0.1111111111111111, \"#46039f\"], [0.2222222222222222, \"#7201a8\"], [0.3333333333333333, \"#9c179e\"], [0.4444444444444444, \"#bd3786\"], [0.5555555555555556, \"#d8576b\"], [0.6666666666666666, \"#ed7953\"], [0.7777777777777778, \"#fb9f3a\"], [0.8888888888888888, \"#fdca26\"], [1.0, \"#f0f921\"]], \"type\": \"histogram2d\"}], \"histogram2dcontour\": [{\"colorbar\": {\"outlinewidth\": 0, \"ticks\": \"\"}, \"colorscale\": [[0.0, \"#0d0887\"], [0.1111111111111111, \"#46039f\"], [0.2222222222222222, \"#7201a8\"], [0.3333333333333333, \"#9c179e\"], [0.4444444444444444, \"#bd3786\"], [0.5555555555555556, \"#d8576b\"], [0.6666666666666666, \"#ed7953\"], [0.7777777777777778, \"#fb9f3a\"], [0.8888888888888888, \"#fdca26\"], [1.0, \"#f0f921\"]], \"type\": \"histogram2dcontour\"}], \"mesh3d\": [{\"colorbar\": {\"outlinewidth\": 0, \"ticks\": \"\"}, \"type\": \"mesh3d\"}], \"parcoords\": [{\"line\": {\"colorbar\": {\"outlinewidth\": 0, \"ticks\": \"\"}}, \"type\": \"parcoords\"}], \"pie\": [{\"automargin\": true, \"type\": \"pie\"}], \"scatter\": [{\"marker\": {\"colorbar\": {\"outlinewidth\": 0, \"ticks\": \"\"}}, \"type\": \"scatter\"}], \"scatter3d\": [{\"line\": {\"colorbar\": {\"outlinewidth\": 0, \"ticks\": \"\"}}, \"marker\": {\"colorbar\": {\"outlinewidth\": 0, \"ticks\": \"\"}}, \"type\": \"scatter3d\"}], \"scattercarpet\": [{\"marker\": {\"colorbar\": {\"outlinewidth\": 0, \"ticks\": \"\"}}, \"type\": \"scattercarpet\"}], \"scattergeo\": [{\"marker\": {\"colorbar\": {\"outlinewidth\": 0, \"ticks\": \"\"}}, \"type\": \"scattergeo\"}], \"scattergl\": [{\"marker\": {\"colorbar\": {\"outlinewidth\": 0, \"ticks\": \"\"}}, \"type\": \"scattergl\"}], \"scattermapbox\": [{\"marker\": {\"colorbar\": {\"outlinewidth\": 0, \"ticks\": \"\"}}, \"type\": \"scattermapbox\"}], \"scatterpolar\": [{\"marker\": {\"colorbar\": {\"outlinewidth\": 0, \"ticks\": \"\"}}, \"type\": \"scatterpolar\"}], \"scatterpolargl\": [{\"marker\": {\"colorbar\": {\"outlinewidth\": 0, \"ticks\": \"\"}}, \"type\": \"scatterpolargl\"}], \"scatterternary\": [{\"marker\": {\"colorbar\": {\"outlinewidth\": 0, \"ticks\": \"\"}}, \"type\": \"scatterternary\"}], \"surface\": [{\"colorbar\": {\"outlinewidth\": 0, \"ticks\": \"\"}, \"colorscale\": [[0.0, \"#0d0887\"], [0.1111111111111111, \"#46039f\"], [0.2222222222222222, \"#7201a8\"], [0.3333333333333333, \"#9c179e\"], [0.4444444444444444, \"#bd3786\"], [0.5555555555555556, \"#d8576b\"], [0.6666666666666666, \"#ed7953\"], [0.7777777777777778, \"#fb9f3a\"], [0.8888888888888888, \"#fdca26\"], [1.0, \"#f0f921\"]], \"type\": \"surface\"}], \"table\": [{\"cells\": {\"fill\": {\"color\": \"#EBF0F8\"}, \"line\": {\"color\": \"white\"}}, \"header\": {\"fill\": {\"color\": \"#C8D4E3\"}, \"line\": {\"color\": \"white\"}}, \"type\": \"table\"}]}, \"layout\": {\"annotationdefaults\": {\"arrowcolor\": \"#2a3f5f\", \"arrowhead\": 0, \"arrowwidth\": 1}, \"coloraxis\": {\"colorbar\": {\"outlinewidth\": 0, \"ticks\": \"\"}}, \"colorscale\": {\"diverging\": [[0, \"#8e0152\"], [0.1, \"#c51b7d\"], [0.2, \"#de77ae\"], [0.3, \"#f1b6da\"], [0.4, \"#fde0ef\"], [0.5, \"#f7f7f7\"], [0.6, \"#e6f5d0\"], [0.7, \"#b8e186\"], [0.8, \"#7fbc41\"], [0.9, \"#4d9221\"], [1, \"#276419\"]], \"sequential\": [[0.0, \"#0d0887\"], [0.1111111111111111, \"#46039f\"], [0.2222222222222222, \"#7201a8\"], [0.3333333333333333, \"#9c179e\"], [0.4444444444444444, \"#bd3786\"], [0.5555555555555556, \"#d8576b\"], [0.6666666666666666, \"#ed7953\"], [0.7777777777777778, \"#fb9f3a\"], [0.8888888888888888, \"#fdca26\"], [1.0, \"#f0f921\"]], \"sequentialminus\": [[0.0, \"#0d0887\"], [0.1111111111111111, \"#46039f\"], [0.2222222222222222, \"#7201a8\"], [0.3333333333333333, \"#9c179e\"], [0.4444444444444444, \"#bd3786\"], [0.5555555555555556, \"#d8576b\"], [0.6666666666666666, \"#ed7953\"], [0.7777777777777778, \"#fb9f3a\"], [0.8888888888888888, \"#fdca26\"], [1.0, \"#f0f921\"]]}, \"colorway\": [\"#636efa\", \"#EF553B\", \"#00cc96\", \"#ab63fa\", \"#FFA15A\", \"#19d3f3\", \"#FF6692\", \"#B6E880\", \"#FF97FF\", \"#FECB52\"], \"font\": {\"color\": \"#2a3f5f\"}, \"geo\": {\"bgcolor\": \"white\", \"lakecolor\": \"white\", \"landcolor\": \"#E5ECF6\", \"showlakes\": true, \"showland\": true, \"subunitcolor\": \"white\"}, \"hoverlabel\": {\"align\": \"left\"}, \"hovermode\": \"closest\", \"mapbox\": {\"style\": \"light\"}, \"paper_bgcolor\": \"white\", \"plot_bgcolor\": \"#E5ECF6\", \"polar\": {\"angularaxis\": {\"gridcolor\": \"white\", \"linecolor\": \"white\", \"ticks\": \"\"}, \"bgcolor\": \"#E5ECF6\", \"radialaxis\": {\"gridcolor\": \"white\", \"linecolor\": \"white\", \"ticks\": \"\"}}, \"scene\": {\"xaxis\": {\"backgroundcolor\": \"#E5ECF6\", \"gridcolor\": \"white\", \"gridwidth\": 2, \"linecolor\": \"white\", \"showbackground\": true, \"ticks\": \"\", \"zerolinecolor\": \"white\"}, \"yaxis\": {\"backgroundcolor\": \"#E5ECF6\", \"gridcolor\": \"white\", \"gridwidth\": 2, \"linecolor\": \"white\", \"showbackground\": true, \"ticks\": \"\", \"zerolinecolor\": \"white\"}, \"zaxis\": {\"backgroundcolor\": \"#E5ECF6\", \"gridcolor\": \"white\", \"gridwidth\": 2, \"linecolor\": \"white\", \"showbackground\": true, \"ticks\": \"\", \"zerolinecolor\": \"white\"}}, \"shapedefaults\": {\"line\": {\"color\": \"#2a3f5f\"}}, \"ternary\": {\"aaxis\": {\"gridcolor\": \"white\", \"linecolor\": \"white\", \"ticks\": \"\"}, \"baxis\": {\"gridcolor\": \"white\", \"linecolor\": \"white\", \"ticks\": \"\"}, \"bgcolor\": \"#E5ECF6\", \"caxis\": {\"gridcolor\": \"white\", \"linecolor\": \"white\", \"ticks\": \"\"}}, \"title\": {\"x\": 0.05}, \"xaxis\": {\"automargin\": true, \"gridcolor\": \"white\", \"linecolor\": \"white\", \"ticks\": \"\", \"title\": {\"standoff\": 15}, \"zerolinecolor\": \"white\", \"zerolinewidth\": 2}, \"yaxis\": {\"automargin\": true, \"gridcolor\": \"white\", \"linecolor\": \"white\", \"ticks\": \"\", \"title\": {\"standoff\": 15}, \"zerolinecolor\": \"white\", \"zerolinewidth\": 2}}}, \"title\": {\"text\": \"Top 25 Food Words: South\", \"x\": 0.45, \"xanchor\": \"center\", \"y\": 0.95, \"yanchor\": \"top\"}, \"xaxis\": {\"anchor\": \"y\", \"domain\": [0.0, 0.94], \"title\": {\"text\": \"Food Word\"}}, \"yaxis\": {\"anchor\": \"x\", \"domain\": [0.0, 1.0], \"title\": {\"text\": \"Index vs. Average\"}}, \"yaxis2\": {\"anchor\": \"x\", \"overlaying\": \"y\", \"side\": \"right\", \"title\": {\"text\": \"Count of Food Word Mentions by Region\"}}},\n",
       "                        {\"responsive\": true}\n",
       "                    ).then(function(){\n",
       "                            \n",
       "var gd = document.getElementById('70f9ce94-bc55-481f-ba1d-2355062e6e42');\n",
       "var x = new MutationObserver(function (mutations, observer) {{\n",
       "        var display = window.getComputedStyle(gd).display;\n",
       "        if (!display || display === 'none') {{\n",
       "            console.log([gd, 'removed!']);\n",
       "            Plotly.purge(gd);\n",
       "            observer.disconnect();\n",
       "        }}\n",
       "}});\n",
       "\n",
       "// Listen for the removal of the full notebook cells\n",
       "var notebookContainer = gd.closest('#notebook-container');\n",
       "if (notebookContainer) {{\n",
       "    x.observe(notebookContainer, {childList: true});\n",
       "}}\n",
       "\n",
       "// Listen for the clearing of the current output cell\n",
       "var outputEl = gd.closest('.output');\n",
       "if (outputEl) {{\n",
       "    x.observe(outputEl, {childList: true});\n",
       "}}\n",
       "\n",
       "                        })\n",
       "                };\n",
       "                });\n",
       "            </script>\n",
       "        </div>"
      ]
     },
     "metadata": {},
     "output_type": "display_data"
    },
    {
     "data": {
      "text/html": [
       "<div>\n",
       "<style scoped>\n",
       "    .dataframe tbody tr th:only-of-type {\n",
       "        vertical-align: middle;\n",
       "    }\n",
       "\n",
       "    .dataframe tbody tr th {\n",
       "        vertical-align: top;\n",
       "    }\n",
       "\n",
       "    .dataframe thead th {\n",
       "        text-align: right;\n",
       "    }\n",
       "</style>\n",
       "<table border=\"1\" class=\"dataframe\">\n",
       "  <thead>\n",
       "    <tr style=\"text-align: right;\">\n",
       "      <th></th>\n",
       "      <th>region</th>\n",
       "      <th>food_word</th>\n",
       "      <th>food_word_count</th>\n",
       "      <th>unique_song_count</th>\n",
       "      <th>unique_artist_count</th>\n",
       "      <th>index_lyrics</th>\n",
       "      <th>index_songs</th>\n",
       "      <th>food_word_artists</th>\n",
       "    </tr>\n",
       "  </thead>\n",
       "  <tbody>\n",
       "    <tr>\n",
       "      <th>0</th>\n",
       "      <td>South</td>\n",
       "      <td>egg yolk</td>\n",
       "      <td>18</td>\n",
       "      <td>11</td>\n",
       "      <td>7</td>\n",
       "      <td>2.540935</td>\n",
       "      <td>2.188920</td>\n",
       "      <td>'young thug', 'gucci mane', 'soulja boy tell e...</td>\n",
       "    </tr>\n",
       "    <tr>\n",
       "      <th>1</th>\n",
       "      <td>South</td>\n",
       "      <td>coffee bean</td>\n",
       "      <td>12</td>\n",
       "      <td>9</td>\n",
       "      <td>6</td>\n",
       "      <td>2.475783</td>\n",
       "      <td>2.149121</td>\n",
       "      <td>'gucci mane', 'pusha t', 'juicy j', 'travis sc...</td>\n",
       "    </tr>\n",
       "    <tr>\n",
       "      <th>2</th>\n",
       "      <td>South</td>\n",
       "      <td>crab cake</td>\n",
       "      <td>15</td>\n",
       "      <td>13</td>\n",
       "      <td>8</td>\n",
       "      <td>2.366557</td>\n",
       "      <td>2.069524</td>\n",
       "      <td>'young thug', 'rick ross', 'gucci mane', '2 ch...</td>\n",
       "    </tr>\n",
       "    <tr>\n",
       "      <th>3</th>\n",
       "      <td>South</td>\n",
       "      <td>orville redenbacher</td>\n",
       "      <td>15</td>\n",
       "      <td>10</td>\n",
       "      <td>7</td>\n",
       "      <td>2.366557</td>\n",
       "      <td>1.989927</td>\n",
       "      <td>'bun b', 'merlyn wood', 'gucci mane', '2 chain...</td>\n",
       "    </tr>\n",
       "    <tr>\n",
       "      <th>4</th>\n",
       "      <td>South</td>\n",
       "      <td>froot loop</td>\n",
       "      <td>14</td>\n",
       "      <td>10</td>\n",
       "      <td>8</td>\n",
       "      <td>2.346836</td>\n",
       "      <td>1.989927</td>\n",
       "      <td>'waka flocka flame', 'offset', 'young thug', '...</td>\n",
       "    </tr>\n",
       "    <tr>\n",
       "      <th>5</th>\n",
       "      <td>South</td>\n",
       "      <td>slimfast</td>\n",
       "      <td>7</td>\n",
       "      <td>7</td>\n",
       "      <td>5</td>\n",
       "      <td>2.346836</td>\n",
       "      <td>2.089424</td>\n",
       "      <td>'young thug', 'lil yachty', 'gucci mane', 'tpa...</td>\n",
       "    </tr>\n",
       "    <tr>\n",
       "      <th>6</th>\n",
       "      <td>South</td>\n",
       "      <td>wedding cake</td>\n",
       "      <td>20</td>\n",
       "      <td>8</td>\n",
       "      <td>5</td>\n",
       "      <td>2.332259</td>\n",
       "      <td>1.736664</td>\n",
       "      <td>'gucci mane', 'soulja boy tell em', 'childish ...</td>\n",
       "    </tr>\n",
       "    <tr>\n",
       "      <th>7</th>\n",
       "      <td>South</td>\n",
       "      <td>spinach dip</td>\n",
       "      <td>6</td>\n",
       "      <td>6</td>\n",
       "      <td>6</td>\n",
       "      <td>2.298941</td>\n",
       "      <td>2.046782</td>\n",
       "      <td>'pimp c', 'rick ross', '2 chainz', 'wale', 'ju...</td>\n",
       "    </tr>\n",
       "    <tr>\n",
       "      <th>8</th>\n",
       "      <td>South</td>\n",
       "      <td>fettuccine</td>\n",
       "      <td>83</td>\n",
       "      <td>26</td>\n",
       "      <td>15</td>\n",
       "      <td>2.294991</td>\n",
       "      <td>1.552143</td>\n",
       "      <td>'offset', 'young thug', 'bun b', 'gucci mane',...</td>\n",
       "    </tr>\n",
       "    <tr>\n",
       "      <th>9</th>\n",
       "      <td>South</td>\n",
       "      <td>gelato</td>\n",
       "      <td>106</td>\n",
       "      <td>50</td>\n",
       "      <td>19</td>\n",
       "      <td>2.221112</td>\n",
       "      <td>1.755818</td>\n",
       "      <td>'kodak black', 'lil yachty', 'soulja boy tell ...</td>\n",
       "    </tr>\n",
       "    <tr>\n",
       "      <th>10</th>\n",
       "      <td>South</td>\n",
       "      <td>cream soda</td>\n",
       "      <td>24</td>\n",
       "      <td>16</td>\n",
       "      <td>9</td>\n",
       "      <td>2.219667</td>\n",
       "      <td>1.819362</td>\n",
       "      <td>'pimp c', 'offset', 'young thug', '2 chainz', ...</td>\n",
       "    </tr>\n",
       "    <tr>\n",
       "      <th>11</th>\n",
       "      <td>South</td>\n",
       "      <td>lemonhead</td>\n",
       "      <td>14</td>\n",
       "      <td>12</td>\n",
       "      <td>5</td>\n",
       "      <td>2.208787</td>\n",
       "      <td>1.910330</td>\n",
       "      <td>'lil yachty', 'gucci mane', 'lil wayne', 'flo ...</td>\n",
       "    </tr>\n",
       "    <tr>\n",
       "      <th>12</th>\n",
       "      <td>South</td>\n",
       "      <td>chicken tender</td>\n",
       "      <td>8</td>\n",
       "      <td>8</td>\n",
       "      <td>6</td>\n",
       "      <td>2.145678</td>\n",
       "      <td>1.910330</td>\n",
       "      <td>'offset', 'rick ross', 'takeoff', 'rich homie ...</td>\n",
       "    </tr>\n",
       "    <tr>\n",
       "      <th>13</th>\n",
       "      <td>South</td>\n",
       "      <td>bison</td>\n",
       "      <td>24</td>\n",
       "      <td>12</td>\n",
       "      <td>6</td>\n",
       "      <td>2.145678</td>\n",
       "      <td>1.591942</td>\n",
       "      <td>'lil yachty', 'rick ross', 'soulja boy tell em...</td>\n",
       "    </tr>\n",
       "    <tr>\n",
       "      <th>14</th>\n",
       "      <td>South</td>\n",
       "      <td>biscotti</td>\n",
       "      <td>25</td>\n",
       "      <td>20</td>\n",
       "      <td>6</td>\n",
       "      <td>2.095389</td>\n",
       "      <td>1.910330</td>\n",
       "      <td>'offset', 'young thug', 'lil yachty', 'takeoff...</td>\n",
       "    </tr>\n",
       "    <tr>\n",
       "      <th>15</th>\n",
       "      <td>South</td>\n",
       "      <td>pop tart</td>\n",
       "      <td>20</td>\n",
       "      <td>14</td>\n",
       "      <td>13</td>\n",
       "      <td>2.063152</td>\n",
       "      <td>1.759515</td>\n",
       "      <td>'young thug', 'lil baby', 'lil yachty', 'soulj...</td>\n",
       "    </tr>\n",
       "    <tr>\n",
       "      <th>16</th>\n",
       "      <td>South</td>\n",
       "      <td>vitamin d</td>\n",
       "      <td>15</td>\n",
       "      <td>14</td>\n",
       "      <td>10</td>\n",
       "      <td>2.011573</td>\n",
       "      <td>1.857265</td>\n",
       "      <td>'dram', 'j cole', 'currensy', 'andre 3000', 'x...</td>\n",
       "    </tr>\n",
       "    <tr>\n",
       "      <th>17</th>\n",
       "      <td>South</td>\n",
       "      <td>vanilla wafer</td>\n",
       "      <td>9</td>\n",
       "      <td>9</td>\n",
       "      <td>6</td>\n",
       "      <td>2.011573</td>\n",
       "      <td>1.790934</td>\n",
       "      <td>'offset', 'lil yachty', 'bob', 'rich homie qua...</td>\n",
       "    </tr>\n",
       "    <tr>\n",
       "      <th>18</th>\n",
       "      <td>South</td>\n",
       "      <td>naan</td>\n",
       "      <td>8</td>\n",
       "      <td>8</td>\n",
       "      <td>7</td>\n",
       "      <td>1.950617</td>\n",
       "      <td>1.736664</td>\n",
       "      <td>'plies', 'gucci mane', '2 chainz', 'yo gotti',...</td>\n",
       "    </tr>\n",
       "    <tr>\n",
       "      <th>19</th>\n",
       "      <td>South</td>\n",
       "      <td>sherbert</td>\n",
       "      <td>13</td>\n",
       "      <td>13</td>\n",
       "      <td>9</td>\n",
       "      <td>1.937071</td>\n",
       "      <td>1.940179</td>\n",
       "      <td>'denzel curry', 'offset', 'young thug', 'gucci...</td>\n",
       "    </tr>\n",
       "    <tr>\n",
       "      <th>20</th>\n",
       "      <td>South</td>\n",
       "      <td>jelly bean</td>\n",
       "      <td>31</td>\n",
       "      <td>17</td>\n",
       "      <td>10</td>\n",
       "      <td>1.933606</td>\n",
       "      <td>1.399811</td>\n",
       "      <td>'young thug', 'gucci mane', 'kevin gates', 'ac...</td>\n",
       "    </tr>\n",
       "    <tr>\n",
       "      <th>21</th>\n",
       "      <td>South</td>\n",
       "      <td>syrup</td>\n",
       "      <td>771</td>\n",
       "      <td>493</td>\n",
       "      <td>49</td>\n",
       "      <td>1.930810</td>\n",
       "      <td>1.696313</td>\n",
       "      <td>'kodak black', 'lil yachty', 'mike jones', 'ke...</td>\n",
       "    </tr>\n",
       "    <tr>\n",
       "      <th>22</th>\n",
       "      <td>South</td>\n",
       "      <td>chef boyardee</td>\n",
       "      <td>25</td>\n",
       "      <td>15</td>\n",
       "      <td>9</td>\n",
       "      <td>1.915784</td>\n",
       "      <td>1.432748</td>\n",
       "      <td>'pimp c', 'young thug', 'lil yachty', 'gucci m...</td>\n",
       "    </tr>\n",
       "    <tr>\n",
       "      <th>23</th>\n",
       "      <td>South</td>\n",
       "      <td>almond joy</td>\n",
       "      <td>10</td>\n",
       "      <td>10</td>\n",
       "      <td>9</td>\n",
       "      <td>1.915784</td>\n",
       "      <td>1.705652</td>\n",
       "      <td>'offset', 'young thug', 'plies', 'gucci mane',...</td>\n",
       "    </tr>\n",
       "    <tr>\n",
       "      <th>24</th>\n",
       "      <td>South</td>\n",
       "      <td>crockpot</td>\n",
       "      <td>17</td>\n",
       "      <td>10</td>\n",
       "      <td>6</td>\n",
       "      <td>1.899819</td>\n",
       "      <td>1.591942</td>\n",
       "      <td>'offset', 'young thug', 'rick ross', 'takeoff'...</td>\n",
       "    </tr>\n",
       "  </tbody>\n",
       "</table>\n",
       "</div>"
      ],
      "text/plain": [
       "   region            food_word  food_word_count  unique_song_count  \\\n",
       "0   South             egg yolk               18                 11   \n",
       "1   South          coffee bean               12                  9   \n",
       "2   South            crab cake               15                 13   \n",
       "3   South  orville redenbacher               15                 10   \n",
       "4   South           froot loop               14                 10   \n",
       "5   South             slimfast                7                  7   \n",
       "6   South         wedding cake               20                  8   \n",
       "7   South          spinach dip                6                  6   \n",
       "8   South           fettuccine               83                 26   \n",
       "9   South               gelato              106                 50   \n",
       "10  South           cream soda               24                 16   \n",
       "11  South            lemonhead               14                 12   \n",
       "12  South       chicken tender                8                  8   \n",
       "13  South                bison               24                 12   \n",
       "14  South             biscotti               25                 20   \n",
       "15  South             pop tart               20                 14   \n",
       "16  South            vitamin d               15                 14   \n",
       "17  South        vanilla wafer                9                  9   \n",
       "18  South                 naan                8                  8   \n",
       "19  South             sherbert               13                 13   \n",
       "20  South           jelly bean               31                 17   \n",
       "21  South                syrup              771                493   \n",
       "22  South        chef boyardee               25                 15   \n",
       "23  South           almond joy               10                 10   \n",
       "24  South             crockpot               17                 10   \n",
       "\n",
       "    unique_artist_count  index_lyrics  index_songs  \\\n",
       "0                     7      2.540935     2.188920   \n",
       "1                     6      2.475783     2.149121   \n",
       "2                     8      2.366557     2.069524   \n",
       "3                     7      2.366557     1.989927   \n",
       "4                     8      2.346836     1.989927   \n",
       "5                     5      2.346836     2.089424   \n",
       "6                     5      2.332259     1.736664   \n",
       "7                     6      2.298941     2.046782   \n",
       "8                    15      2.294991     1.552143   \n",
       "9                    19      2.221112     1.755818   \n",
       "10                    9      2.219667     1.819362   \n",
       "11                    5      2.208787     1.910330   \n",
       "12                    6      2.145678     1.910330   \n",
       "13                    6      2.145678     1.591942   \n",
       "14                    6      2.095389     1.910330   \n",
       "15                   13      2.063152     1.759515   \n",
       "16                   10      2.011573     1.857265   \n",
       "17                    6      2.011573     1.790934   \n",
       "18                    7      1.950617     1.736664   \n",
       "19                    9      1.937071     1.940179   \n",
       "20                   10      1.933606     1.399811   \n",
       "21                   49      1.930810     1.696313   \n",
       "22                    9      1.915784     1.432748   \n",
       "23                    9      1.915784     1.705652   \n",
       "24                    6      1.899819     1.591942   \n",
       "\n",
       "                                    food_word_artists  \n",
       "0   'young thug', 'gucci mane', 'soulja boy tell e...  \n",
       "1   'gucci mane', 'pusha t', 'juicy j', 'travis sc...  \n",
       "2   'young thug', 'rick ross', 'gucci mane', '2 ch...  \n",
       "3   'bun b', 'merlyn wood', 'gucci mane', '2 chain...  \n",
       "4   'waka flocka flame', 'offset', 'young thug', '...  \n",
       "5   'young thug', 'lil yachty', 'gucci mane', 'tpa...  \n",
       "6   'gucci mane', 'soulja boy tell em', 'childish ...  \n",
       "7   'pimp c', 'rick ross', '2 chainz', 'wale', 'ju...  \n",
       "8   'offset', 'young thug', 'bun b', 'gucci mane',...  \n",
       "9   'kodak black', 'lil yachty', 'soulja boy tell ...  \n",
       "10  'pimp c', 'offset', 'young thug', '2 chainz', ...  \n",
       "11  'lil yachty', 'gucci mane', 'lil wayne', 'flo ...  \n",
       "12  'offset', 'rick ross', 'takeoff', 'rich homie ...  \n",
       "13  'lil yachty', 'rick ross', 'soulja boy tell em...  \n",
       "14  'offset', 'young thug', 'lil yachty', 'takeoff...  \n",
       "15  'young thug', 'lil baby', 'lil yachty', 'soulj...  \n",
       "16  'dram', 'j cole', 'currensy', 'andre 3000', 'x...  \n",
       "17  'offset', 'lil yachty', 'bob', 'rich homie qua...  \n",
       "18  'plies', 'gucci mane', '2 chainz', 'yo gotti',...  \n",
       "19  'denzel curry', 'offset', 'young thug', 'gucci...  \n",
       "20  'young thug', 'gucci mane', 'kevin gates', 'ac...  \n",
       "21  'kodak black', 'lil yachty', 'mike jones', 'ke...  \n",
       "22  'pimp c', 'young thug', 'lil yachty', 'gucci m...  \n",
       "23  'offset', 'young thug', 'plies', 'gucci mane',...  \n",
       "24  'offset', 'young thug', 'rick ross', 'takeoff'...  "
      ]
     },
     "execution_count": 185,
     "metadata": {},
     "output_type": "execute_result"
    }
   ],
   "source": [
    "# Create figure with secondary y-axis\n",
    "fig = make_subplots(specs=[[{\"secondary_y\": True}]])\n",
    "\n",
    "# Add traces\n",
    "fig.add_trace(\n",
    "    go.Bar(x=region_food_word_plot_df['food_word'],\n",
    "               y=region_food_word_plot_df['region_food_word_index_all_lyric_words'],\n",
    "               name=\"Food Word Mentions in Lyrics vs. Average\"),\n",
    "    secondary_y=False,\n",
    ")\n",
    "\n",
    "fig.add_trace(\n",
    "    go.Bar(x=region_food_word_plot_df['food_word'],\n",
    "               y=region_food_word_plot_df['region_food_word_index_num_songs'],\n",
    "               name=\"Food Word Mentions in Unique Songs vs. Average\"),\n",
    "    secondary_y=False,\n",
    ")\n",
    "\n",
    "fig.add_trace(\n",
    "    go.Scatter(x=region_food_word_plot_df['food_word'],\n",
    "               y=region_food_word_plot_df['region_food_word_count'],\n",
    "               name=\"Region Food Word Total Mentions\"),\n",
    "    secondary_y=True,\n",
    ")\n",
    "\n",
    "fig.add_trace(\n",
    "    go.Scatter(x=region_food_word_plot_df['food_word'],\n",
    "               y=region_food_word_plot_df['region_food_word_unique_song_count'],\n",
    "               name=\"Region Food Word Unique Song Count\"),\n",
    "    secondary_y=True,\n",
    ")\n",
    "\n",
    "# Add figure title\n",
    "fig.update_layout(\n",
    "    title={\n",
    "        'text': \"Top {0} Food Words: {1}\".format(results_limit,region.title()),\n",
    "        'y':0.94,\n",
    "        'x':0.5,\n",
    "        'xanchor': 'center',\n",
    "        'yanchor': 'top'}\n",
    ")\n",
    "\n",
    "# Set x-axis title\n",
    "fig.update_xaxes(title_text=\"Food Word\")\n",
    "\n",
    "# Set y-axes titles\n",
    "fig.update_yaxes(title_text=\"Index vs. Average\", secondary_y=False)\n",
    "fig.update_yaxes(title_text=\"Count of Food Word Mentions by Region\", secondary_y=True)\n",
    "fig.update_layout(legend=dict(\n",
    "    orientation=\"h\",\n",
    "    yanchor=\"bottom\",\n",
    "    y=1.02,\n",
    "    xanchor=\"right\",\n",
    "    x=0.7\n",
    "))\n",
    "\n",
    "fig.show()\n",
    "df_below_plot = region_food_word_plot_df[['region','food_word','region_food_word_count','region_food_word_unique_song_count','region_food_word_unique_artist_count','region_food_word_index_all_lyric_words','region_food_word_index_num_songs','region_food_word_unique_artists']].reset_index().drop(labels='index',axis=1)\n",
    "df_below_plot.columns=['region','food_word','food_word_count','unique_song_count','unique_artist_count','index_lyrics','index_songs','food_word_artists']\n",
    "df_below_plot"
   ]
  },
  {
   "cell_type": "markdown",
   "metadata": {},
   "source": [
    "## City Analysis"
   ]
  },
  {
   "cell_type": "code",
   "execution_count": 186,
   "metadata": {},
   "outputs": [],
   "source": [
    "## Calculate region food word probabilities\n",
    "city_food_word_probs_df = artist_food_word_stats_df.groupby(['food_word','city']).agg({'food_word_count':sum,'song':[pd.Series.nunique,unique_values],'artist_clean':[pd.Series.nunique,unique_values]})\n",
    "city_food_word_probs_df = city_food_word_probs_df.reset_index()\n",
    "city_food_word_probs_df.columns = ['food_word','city','city_food_word_count','city_food_word_unique_song_count','city_food_word_unique_songs','city_food_word_unique_artist_count','city_food_word_unique_artists']\n",
    "## Merge artist total lyric and song counts with artist food word counts\n",
    "city_food_word_probs_df = pd.merge(city_food_word_probs_df,city_lyric_and_song_counts,on='city',how='left')\n",
    "city_food_word_probs_df['city_food_word_prob_all_lyric_words'] = city_food_word_probs_df['city_food_word_count'] / city_food_word_probs_df['total_lyric_words']\n",
    "city_food_word_probs_df['city_food_word_prob_lyric_words_excl_sw'] = city_food_word_probs_df['city_food_word_count'] / city_food_word_probs_df['total_lyric_words_excl_sw']\n",
    "city_food_word_probs_df['city_food_word_prob_num_songs'] = city_food_word_probs_df['city_food_word_unique_song_count'] / city_food_word_probs_df['unique_song_count']\n",
    "### Merge food word baselines with artist food word probabilities\n",
    "city_food_word_probs_df = pd.merge(city_food_word_probs_df,food_word_baseline_df,on='food_word',how='left')\n",
    "city_food_word_probs_df['city_food_word_index_all_lyric_words'] = city_food_word_probs_df['city_food_word_prob_all_lyric_words'] / city_food_word_probs_df['food_word_baseline_prob_all_lyric_words']\n",
    "city_food_word_probs_df['city_food_word_index_lyric_words_excl_sw'] = city_food_word_probs_df['city_food_word_prob_lyric_words_excl_sw'] / city_food_word_probs_df['food_word_baseline_prob_lyric_words_excl_sw']\n",
    "city_food_word_probs_df['city_food_word_index_num_songs'] = city_food_word_probs_df['city_food_word_prob_num_songs'] / city_food_word_probs_df['food_word_baseline_prob_num_songs']\n"
   ]
  },
  {
   "cell_type": "markdown",
   "metadata": {},
   "source": [
    "## Top Foods - Search by City"
   ]
  },
  {
   "cell_type": "code",
   "execution_count": 190,
   "metadata": {},
   "outputs": [],
   "source": [
    "city = 'Miami'\n",
    "city_min_food_word_count = 3\n",
    "city_min_food_word_unique_song_count = 3\n",
    "city_min_artist_food_word_count = 3\n",
    "sort_results_by = 'city_food_word_index_all_lyric_words'\n",
    "#sort_results_by = 'city_food_word_index_num_songs'\n",
    "#sort_results_by = 'city_food_word_count'\n",
    "results_limit = 25"
   ]
  },
  {
   "cell_type": "code",
   "execution_count": 191,
   "metadata": {},
   "outputs": [],
   "source": [
    "city_food_word_plot_df = city_food_word_probs_df.loc[(city_food_word_probs_df.city == city)\n",
    "                                                     & (city_food_word_probs_df.city_food_word_count >= city_min_food_word_count)\n",
    "                                                     & (city_food_word_probs_df.city_food_word_unique_song_count >= city_min_food_word_unique_song_count)\n",
    "                                                     & (city_food_word_probs_df.city_food_word_unique_artist_count >= city_min_artist_food_word_count)]\n",
    "city_food_word_plot_df = city_food_word_plot_df.sort_values(by=sort_results_by,ascending=False)[:results_limit]\n"
   ]
  },
  {
   "cell_type": "code",
   "execution_count": 192,
   "metadata": {},
   "outputs": [
    {
     "data": {
      "application/vnd.plotly.v1+json": {
       "config": {
        "plotlyServerURL": "https://plot.ly"
       },
       "data": [
        {
         "name": "Food Word Mentions in Lyrics vs. Average",
         "type": "bar",
         "x": [
          "curry",
          "duck sauce",
          "betty crocker",
          "smoothie",
          "glaze",
          "ramen noodle",
          "chardonnay",
          "starbucks",
          "sage",
          "m&m",
          "skittle",
          "cracker",
          "sauce",
          "wheat",
          "similac",
          "pepper",
          "pillsbury",
          "ramen",
          "chicken wing",
          "cactus",
          "nugget",
          "popeyes",
          "lotus",
          "pineapple",
          "fried chicken"
         ],
         "xaxis": "x",
         "y": [
          13.36204355143189,
          11.3523052936962,
          8.555360511191338,
          8.013391972020846,
          7.265475387965568,
          6.05456282330464,
          5.480423245232648,
          5.210894233172025,
          4.9537332190674315,
          4.781728593405369,
          4.622495568690668,
          4.616604152769788,
          4.22750373697836,
          4.128111015889527,
          3.8482390826088815,
          3.7953975907282818,
          3.40569158810886,
          3.3389133216753533,
          3.2769541053968414,
          3.078591266087105,
          3.0272814116523197,
          3.0272814116523197,
          2.9296271725667618,
          2.7585040900570204,
          2.7520740105930184
         ],
         "yaxis": "y"
        },
        {
         "name": "Food Word Mentions in Unique Songs vs. Average",
         "type": "bar",
         "x": [
          "curry",
          "duck sauce",
          "betty crocker",
          "smoothie",
          "glaze",
          "ramen noodle",
          "chardonnay",
          "starbucks",
          "sage",
          "m&m",
          "skittle",
          "cracker",
          "sauce",
          "wheat",
          "similac",
          "pepper",
          "pillsbury",
          "ramen",
          "chicken wing",
          "cactus",
          "nugget",
          "popeyes",
          "lotus",
          "pineapple",
          "fried chicken"
         ],
         "xaxis": "x",
         "y": [
          7.7843861088323765,
          6.394317160826595,
          1.5659552230595744,
          4.950439092252848,
          1.9182951482479784,
          3.141068079002538,
          4.26287810721773,
          3.37812982081405,
          2.557726864330638,
          2.193670850794525,
          1.6732792570387351,
          2.079909757807332,
          2.5349126504763504,
          2.204936952009171,
          1.8946124920967689,
          2.71274061368401,
          2.131439053608865,
          1.856414659594818,
          1.805454257174568,
          1.0334249956891466,
          1.79840170148248,
          1.4532539001878626,
          1.561970604171382,
          2.423109660944815,
          2.0879402974127657
         ],
         "yaxis": "y"
        },
        {
         "name": "City Food Word Total Mentions",
         "type": "scatter",
         "x": [
          "curry",
          "duck sauce",
          "betty crocker",
          "smoothie",
          "glaze",
          "ramen noodle",
          "chardonnay",
          "starbucks",
          "sage",
          "m&m",
          "skittle",
          "cracker",
          "sauce",
          "wheat",
          "similac",
          "pepper",
          "pillsbury",
          "ramen",
          "chicken wing",
          "cactus",
          "nugget",
          "popeyes",
          "lotus",
          "pineapple",
          "fried chicken"
         ],
         "xaxis": "x",
         "y": [
          123,
          3,
          13,
          6,
          8,
          8,
          7,
          7,
          6,
          139,
          17,
          61,
          174,
          6,
          5,
          28,
          3,
          10,
          7,
          8,
          10,
          7,
          10,
          13,
          4
         ],
         "yaxis": "y2"
        },
        {
         "name": "City Food Word Unique Song Count",
         "type": "scatter",
         "x": [
          "curry",
          "duck sauce",
          "betty crocker",
          "smoothie",
          "glaze",
          "ramen noodle",
          "chardonnay",
          "starbucks",
          "sage",
          "m&m",
          "skittle",
          "cracker",
          "sauce",
          "wheat",
          "similac",
          "pepper",
          "pillsbury",
          "ramen",
          "chicken wing",
          "cactus",
          "nugget",
          "popeyes",
          "lotus",
          "pineapple",
          "fried chicken"
         ],
         "xaxis": "x",
         "y": [
          77,
          3,
          3,
          6,
          3,
          7,
          7,
          7,
          5,
          47,
          7,
          37,
          100,
          5,
          4,
          28,
          3,
          9,
          6,
          4,
          9,
          5,
          8,
          9,
          4
         ],
         "yaxis": "y2"
        }
       ],
       "layout": {
        "legend": {
         "orientation": "h",
         "x": 0.7,
         "xanchor": "right",
         "y": 1.02,
         "yanchor": "bottom"
        },
        "template": {
         "data": {
          "bar": [
           {
            "error_x": {
             "color": "#2a3f5f"
            },
            "error_y": {
             "color": "#2a3f5f"
            },
            "marker": {
             "line": {
              "color": "#E5ECF6",
              "width": 0.5
             }
            },
            "type": "bar"
           }
          ],
          "barpolar": [
           {
            "marker": {
             "line": {
              "color": "#E5ECF6",
              "width": 0.5
             }
            },
            "type": "barpolar"
           }
          ],
          "carpet": [
           {
            "aaxis": {
             "endlinecolor": "#2a3f5f",
             "gridcolor": "white",
             "linecolor": "white",
             "minorgridcolor": "white",
             "startlinecolor": "#2a3f5f"
            },
            "baxis": {
             "endlinecolor": "#2a3f5f",
             "gridcolor": "white",
             "linecolor": "white",
             "minorgridcolor": "white",
             "startlinecolor": "#2a3f5f"
            },
            "type": "carpet"
           }
          ],
          "choropleth": [
           {
            "colorbar": {
             "outlinewidth": 0,
             "ticks": ""
            },
            "type": "choropleth"
           }
          ],
          "contour": [
           {
            "colorbar": {
             "outlinewidth": 0,
             "ticks": ""
            },
            "colorscale": [
             [
              0,
              "#0d0887"
             ],
             [
              0.1111111111111111,
              "#46039f"
             ],
             [
              0.2222222222222222,
              "#7201a8"
             ],
             [
              0.3333333333333333,
              "#9c179e"
             ],
             [
              0.4444444444444444,
              "#bd3786"
             ],
             [
              0.5555555555555556,
              "#d8576b"
             ],
             [
              0.6666666666666666,
              "#ed7953"
             ],
             [
              0.7777777777777778,
              "#fb9f3a"
             ],
             [
              0.8888888888888888,
              "#fdca26"
             ],
             [
              1,
              "#f0f921"
             ]
            ],
            "type": "contour"
           }
          ],
          "contourcarpet": [
           {
            "colorbar": {
             "outlinewidth": 0,
             "ticks": ""
            },
            "type": "contourcarpet"
           }
          ],
          "heatmap": [
           {
            "colorbar": {
             "outlinewidth": 0,
             "ticks": ""
            },
            "colorscale": [
             [
              0,
              "#0d0887"
             ],
             [
              0.1111111111111111,
              "#46039f"
             ],
             [
              0.2222222222222222,
              "#7201a8"
             ],
             [
              0.3333333333333333,
              "#9c179e"
             ],
             [
              0.4444444444444444,
              "#bd3786"
             ],
             [
              0.5555555555555556,
              "#d8576b"
             ],
             [
              0.6666666666666666,
              "#ed7953"
             ],
             [
              0.7777777777777778,
              "#fb9f3a"
             ],
             [
              0.8888888888888888,
              "#fdca26"
             ],
             [
              1,
              "#f0f921"
             ]
            ],
            "type": "heatmap"
           }
          ],
          "heatmapgl": [
           {
            "colorbar": {
             "outlinewidth": 0,
             "ticks": ""
            },
            "colorscale": [
             [
              0,
              "#0d0887"
             ],
             [
              0.1111111111111111,
              "#46039f"
             ],
             [
              0.2222222222222222,
              "#7201a8"
             ],
             [
              0.3333333333333333,
              "#9c179e"
             ],
             [
              0.4444444444444444,
              "#bd3786"
             ],
             [
              0.5555555555555556,
              "#d8576b"
             ],
             [
              0.6666666666666666,
              "#ed7953"
             ],
             [
              0.7777777777777778,
              "#fb9f3a"
             ],
             [
              0.8888888888888888,
              "#fdca26"
             ],
             [
              1,
              "#f0f921"
             ]
            ],
            "type": "heatmapgl"
           }
          ],
          "histogram": [
           {
            "marker": {
             "colorbar": {
              "outlinewidth": 0,
              "ticks": ""
             }
            },
            "type": "histogram"
           }
          ],
          "histogram2d": [
           {
            "colorbar": {
             "outlinewidth": 0,
             "ticks": ""
            },
            "colorscale": [
             [
              0,
              "#0d0887"
             ],
             [
              0.1111111111111111,
              "#46039f"
             ],
             [
              0.2222222222222222,
              "#7201a8"
             ],
             [
              0.3333333333333333,
              "#9c179e"
             ],
             [
              0.4444444444444444,
              "#bd3786"
             ],
             [
              0.5555555555555556,
              "#d8576b"
             ],
             [
              0.6666666666666666,
              "#ed7953"
             ],
             [
              0.7777777777777778,
              "#fb9f3a"
             ],
             [
              0.8888888888888888,
              "#fdca26"
             ],
             [
              1,
              "#f0f921"
             ]
            ],
            "type": "histogram2d"
           }
          ],
          "histogram2dcontour": [
           {
            "colorbar": {
             "outlinewidth": 0,
             "ticks": ""
            },
            "colorscale": [
             [
              0,
              "#0d0887"
             ],
             [
              0.1111111111111111,
              "#46039f"
             ],
             [
              0.2222222222222222,
              "#7201a8"
             ],
             [
              0.3333333333333333,
              "#9c179e"
             ],
             [
              0.4444444444444444,
              "#bd3786"
             ],
             [
              0.5555555555555556,
              "#d8576b"
             ],
             [
              0.6666666666666666,
              "#ed7953"
             ],
             [
              0.7777777777777778,
              "#fb9f3a"
             ],
             [
              0.8888888888888888,
              "#fdca26"
             ],
             [
              1,
              "#f0f921"
             ]
            ],
            "type": "histogram2dcontour"
           }
          ],
          "mesh3d": [
           {
            "colorbar": {
             "outlinewidth": 0,
             "ticks": ""
            },
            "type": "mesh3d"
           }
          ],
          "parcoords": [
           {
            "line": {
             "colorbar": {
              "outlinewidth": 0,
              "ticks": ""
             }
            },
            "type": "parcoords"
           }
          ],
          "pie": [
           {
            "automargin": true,
            "type": "pie"
           }
          ],
          "scatter": [
           {
            "marker": {
             "colorbar": {
              "outlinewidth": 0,
              "ticks": ""
             }
            },
            "type": "scatter"
           }
          ],
          "scatter3d": [
           {
            "line": {
             "colorbar": {
              "outlinewidth": 0,
              "ticks": ""
             }
            },
            "marker": {
             "colorbar": {
              "outlinewidth": 0,
              "ticks": ""
             }
            },
            "type": "scatter3d"
           }
          ],
          "scattercarpet": [
           {
            "marker": {
             "colorbar": {
              "outlinewidth": 0,
              "ticks": ""
             }
            },
            "type": "scattercarpet"
           }
          ],
          "scattergeo": [
           {
            "marker": {
             "colorbar": {
              "outlinewidth": 0,
              "ticks": ""
             }
            },
            "type": "scattergeo"
           }
          ],
          "scattergl": [
           {
            "marker": {
             "colorbar": {
              "outlinewidth": 0,
              "ticks": ""
             }
            },
            "type": "scattergl"
           }
          ],
          "scattermapbox": [
           {
            "marker": {
             "colorbar": {
              "outlinewidth": 0,
              "ticks": ""
             }
            },
            "type": "scattermapbox"
           }
          ],
          "scatterpolar": [
           {
            "marker": {
             "colorbar": {
              "outlinewidth": 0,
              "ticks": ""
             }
            },
            "type": "scatterpolar"
           }
          ],
          "scatterpolargl": [
           {
            "marker": {
             "colorbar": {
              "outlinewidth": 0,
              "ticks": ""
             }
            },
            "type": "scatterpolargl"
           }
          ],
          "scatterternary": [
           {
            "marker": {
             "colorbar": {
              "outlinewidth": 0,
              "ticks": ""
             }
            },
            "type": "scatterternary"
           }
          ],
          "surface": [
           {
            "colorbar": {
             "outlinewidth": 0,
             "ticks": ""
            },
            "colorscale": [
             [
              0,
              "#0d0887"
             ],
             [
              0.1111111111111111,
              "#46039f"
             ],
             [
              0.2222222222222222,
              "#7201a8"
             ],
             [
              0.3333333333333333,
              "#9c179e"
             ],
             [
              0.4444444444444444,
              "#bd3786"
             ],
             [
              0.5555555555555556,
              "#d8576b"
             ],
             [
              0.6666666666666666,
              "#ed7953"
             ],
             [
              0.7777777777777778,
              "#fb9f3a"
             ],
             [
              0.8888888888888888,
              "#fdca26"
             ],
             [
              1,
              "#f0f921"
             ]
            ],
            "type": "surface"
           }
          ],
          "table": [
           {
            "cells": {
             "fill": {
              "color": "#EBF0F8"
             },
             "line": {
              "color": "white"
             }
            },
            "header": {
             "fill": {
              "color": "#C8D4E3"
             },
             "line": {
              "color": "white"
             }
            },
            "type": "table"
           }
          ]
         },
         "layout": {
          "annotationdefaults": {
           "arrowcolor": "#2a3f5f",
           "arrowhead": 0,
           "arrowwidth": 1
          },
          "coloraxis": {
           "colorbar": {
            "outlinewidth": 0,
            "ticks": ""
           }
          },
          "colorscale": {
           "diverging": [
            [
             0,
             "#8e0152"
            ],
            [
             0.1,
             "#c51b7d"
            ],
            [
             0.2,
             "#de77ae"
            ],
            [
             0.3,
             "#f1b6da"
            ],
            [
             0.4,
             "#fde0ef"
            ],
            [
             0.5,
             "#f7f7f7"
            ],
            [
             0.6,
             "#e6f5d0"
            ],
            [
             0.7,
             "#b8e186"
            ],
            [
             0.8,
             "#7fbc41"
            ],
            [
             0.9,
             "#4d9221"
            ],
            [
             1,
             "#276419"
            ]
           ],
           "sequential": [
            [
             0,
             "#0d0887"
            ],
            [
             0.1111111111111111,
             "#46039f"
            ],
            [
             0.2222222222222222,
             "#7201a8"
            ],
            [
             0.3333333333333333,
             "#9c179e"
            ],
            [
             0.4444444444444444,
             "#bd3786"
            ],
            [
             0.5555555555555556,
             "#d8576b"
            ],
            [
             0.6666666666666666,
             "#ed7953"
            ],
            [
             0.7777777777777778,
             "#fb9f3a"
            ],
            [
             0.8888888888888888,
             "#fdca26"
            ],
            [
             1,
             "#f0f921"
            ]
           ],
           "sequentialminus": [
            [
             0,
             "#0d0887"
            ],
            [
             0.1111111111111111,
             "#46039f"
            ],
            [
             0.2222222222222222,
             "#7201a8"
            ],
            [
             0.3333333333333333,
             "#9c179e"
            ],
            [
             0.4444444444444444,
             "#bd3786"
            ],
            [
             0.5555555555555556,
             "#d8576b"
            ],
            [
             0.6666666666666666,
             "#ed7953"
            ],
            [
             0.7777777777777778,
             "#fb9f3a"
            ],
            [
             0.8888888888888888,
             "#fdca26"
            ],
            [
             1,
             "#f0f921"
            ]
           ]
          },
          "colorway": [
           "#636efa",
           "#EF553B",
           "#00cc96",
           "#ab63fa",
           "#FFA15A",
           "#19d3f3",
           "#FF6692",
           "#B6E880",
           "#FF97FF",
           "#FECB52"
          ],
          "font": {
           "color": "#2a3f5f"
          },
          "geo": {
           "bgcolor": "white",
           "lakecolor": "white",
           "landcolor": "#E5ECF6",
           "showlakes": true,
           "showland": true,
           "subunitcolor": "white"
          },
          "hoverlabel": {
           "align": "left"
          },
          "hovermode": "closest",
          "mapbox": {
           "style": "light"
          },
          "paper_bgcolor": "white",
          "plot_bgcolor": "#E5ECF6",
          "polar": {
           "angularaxis": {
            "gridcolor": "white",
            "linecolor": "white",
            "ticks": ""
           },
           "bgcolor": "#E5ECF6",
           "radialaxis": {
            "gridcolor": "white",
            "linecolor": "white",
            "ticks": ""
           }
          },
          "scene": {
           "xaxis": {
            "backgroundcolor": "#E5ECF6",
            "gridcolor": "white",
            "gridwidth": 2,
            "linecolor": "white",
            "showbackground": true,
            "ticks": "",
            "zerolinecolor": "white"
           },
           "yaxis": {
            "backgroundcolor": "#E5ECF6",
            "gridcolor": "white",
            "gridwidth": 2,
            "linecolor": "white",
            "showbackground": true,
            "ticks": "",
            "zerolinecolor": "white"
           },
           "zaxis": {
            "backgroundcolor": "#E5ECF6",
            "gridcolor": "white",
            "gridwidth": 2,
            "linecolor": "white",
            "showbackground": true,
            "ticks": "",
            "zerolinecolor": "white"
           }
          },
          "shapedefaults": {
           "line": {
            "color": "#2a3f5f"
           }
          },
          "ternary": {
           "aaxis": {
            "gridcolor": "white",
            "linecolor": "white",
            "ticks": ""
           },
           "baxis": {
            "gridcolor": "white",
            "linecolor": "white",
            "ticks": ""
           },
           "bgcolor": "#E5ECF6",
           "caxis": {
            "gridcolor": "white",
            "linecolor": "white",
            "ticks": ""
           }
          },
          "title": {
           "x": 0.05
          },
          "xaxis": {
           "automargin": true,
           "gridcolor": "white",
           "linecolor": "white",
           "ticks": "",
           "title": {
            "standoff": 15
           },
           "zerolinecolor": "white",
           "zerolinewidth": 2
          },
          "yaxis": {
           "automargin": true,
           "gridcolor": "white",
           "linecolor": "white",
           "ticks": "",
           "title": {
            "standoff": 15
           },
           "zerolinecolor": "white",
           "zerolinewidth": 2
          }
         }
        },
        "title": {
         "text": "Top 25 Food Words: Miami",
         "x": 0.45,
         "xanchor": "center",
         "y": 0.95,
         "yanchor": "top"
        },
        "xaxis": {
         "anchor": "y",
         "domain": [
          0,
          0.94
         ],
         "title": {
          "text": "Food Word"
         }
        },
        "yaxis": {
         "anchor": "x",
         "domain": [
          0,
          1
         ],
         "title": {
          "text": "Index vs. Average"
         }
        },
        "yaxis2": {
         "anchor": "x",
         "overlaying": "y",
         "side": "right",
         "title": {
          "text": "Count of Food Word Mentions by City"
         }
        }
       }
      },
      "text/html": [
       "<div>\n",
       "        \n",
       "        \n",
       "            <div id=\"327bcfcd-1c14-40db-aead-5351d9451c17\" class=\"plotly-graph-div\" style=\"height:525px; width:100%;\"></div>\n",
       "            <script type=\"text/javascript\">\n",
       "                require([\"plotly\"], function(Plotly) {\n",
       "                    window.PLOTLYENV=window.PLOTLYENV || {};\n",
       "                    \n",
       "                if (document.getElementById(\"327bcfcd-1c14-40db-aead-5351d9451c17\")) {\n",
       "                    Plotly.newPlot(\n",
       "                        '327bcfcd-1c14-40db-aead-5351d9451c17',\n",
       "                        [{\"name\": \"Food Word Mentions in Lyrics vs. Average\", \"type\": \"bar\", \"x\": [\"curry\", \"duck sauce\", \"betty crocker\", \"smoothie\", \"glaze\", \"ramen noodle\", \"chardonnay\", \"starbucks\", \"sage\", \"m&m\", \"skittle\", \"cracker\", \"sauce\", \"wheat\", \"similac\", \"pepper\", \"pillsbury\", \"ramen\", \"chicken wing\", \"cactus\", \"nugget\", \"popeyes\", \"lotus\", \"pineapple\", \"fried chicken\"], \"xaxis\": \"x\", \"y\": [13.36204355143189, 11.3523052936962, 8.555360511191338, 8.013391972020846, 7.265475387965568, 6.05456282330464, 5.480423245232648, 5.210894233172025, 4.9537332190674315, 4.781728593405369, 4.622495568690668, 4.616604152769788, 4.22750373697836, 4.128111015889527, 3.8482390826088815, 3.7953975907282818, 3.40569158810886, 3.3389133216753533, 3.2769541053968414, 3.078591266087105, 3.0272814116523197, 3.0272814116523197, 2.9296271725667618, 2.7585040900570204, 2.7520740105930184], \"yaxis\": \"y\"}, {\"name\": \"Food Word Mentions in Unique Songs vs. Average\", \"type\": \"bar\", \"x\": [\"curry\", \"duck sauce\", \"betty crocker\", \"smoothie\", \"glaze\", \"ramen noodle\", \"chardonnay\", \"starbucks\", \"sage\", \"m&m\", \"skittle\", \"cracker\", \"sauce\", \"wheat\", \"similac\", \"pepper\", \"pillsbury\", \"ramen\", \"chicken wing\", \"cactus\", \"nugget\", \"popeyes\", \"lotus\", \"pineapple\", \"fried chicken\"], \"xaxis\": \"x\", \"y\": [7.7843861088323765, 6.394317160826595, 1.5659552230595744, 4.950439092252848, 1.9182951482479784, 3.141068079002538, 4.26287810721773, 3.37812982081405, 2.557726864330638, 2.193670850794525, 1.6732792570387351, 2.079909757807332, 2.5349126504763504, 2.204936952009171, 1.8946124920967689, 2.71274061368401, 2.131439053608865, 1.856414659594818, 1.805454257174568, 1.0334249956891466, 1.79840170148248, 1.4532539001878626, 1.561970604171382, 2.423109660944815, 2.0879402974127657], \"yaxis\": \"y\"}, {\"name\": \"City Food Word Total Mentions\", \"type\": \"scatter\", \"x\": [\"curry\", \"duck sauce\", \"betty crocker\", \"smoothie\", \"glaze\", \"ramen noodle\", \"chardonnay\", \"starbucks\", \"sage\", \"m&m\", \"skittle\", \"cracker\", \"sauce\", \"wheat\", \"similac\", \"pepper\", \"pillsbury\", \"ramen\", \"chicken wing\", \"cactus\", \"nugget\", \"popeyes\", \"lotus\", \"pineapple\", \"fried chicken\"], \"xaxis\": \"x\", \"y\": [123, 3, 13, 6, 8, 8, 7, 7, 6, 139, 17, 61, 174, 6, 5, 28, 3, 10, 7, 8, 10, 7, 10, 13, 4], \"yaxis\": \"y2\"}, {\"name\": \"City Food Word Unique Song Count\", \"type\": \"scatter\", \"x\": [\"curry\", \"duck sauce\", \"betty crocker\", \"smoothie\", \"glaze\", \"ramen noodle\", \"chardonnay\", \"starbucks\", \"sage\", \"m&m\", \"skittle\", \"cracker\", \"sauce\", \"wheat\", \"similac\", \"pepper\", \"pillsbury\", \"ramen\", \"chicken wing\", \"cactus\", \"nugget\", \"popeyes\", \"lotus\", \"pineapple\", \"fried chicken\"], \"xaxis\": \"x\", \"y\": [77, 3, 3, 6, 3, 7, 7, 7, 5, 47, 7, 37, 100, 5, 4, 28, 3, 9, 6, 4, 9, 5, 8, 9, 4], \"yaxis\": \"y2\"}],\n",
       "                        {\"legend\": {\"orientation\": \"h\", \"x\": 0.7, \"xanchor\": \"right\", \"y\": 1.02, \"yanchor\": \"bottom\"}, \"template\": {\"data\": {\"bar\": [{\"error_x\": {\"color\": \"#2a3f5f\"}, \"error_y\": {\"color\": \"#2a3f5f\"}, \"marker\": {\"line\": {\"color\": \"#E5ECF6\", \"width\": 0.5}}, \"type\": \"bar\"}], \"barpolar\": [{\"marker\": {\"line\": {\"color\": \"#E5ECF6\", \"width\": 0.5}}, \"type\": \"barpolar\"}], \"carpet\": [{\"aaxis\": {\"endlinecolor\": \"#2a3f5f\", \"gridcolor\": \"white\", \"linecolor\": \"white\", \"minorgridcolor\": \"white\", \"startlinecolor\": \"#2a3f5f\"}, \"baxis\": {\"endlinecolor\": \"#2a3f5f\", \"gridcolor\": \"white\", \"linecolor\": \"white\", \"minorgridcolor\": \"white\", \"startlinecolor\": \"#2a3f5f\"}, \"type\": \"carpet\"}], \"choropleth\": [{\"colorbar\": {\"outlinewidth\": 0, \"ticks\": \"\"}, \"type\": \"choropleth\"}], \"contour\": [{\"colorbar\": {\"outlinewidth\": 0, \"ticks\": \"\"}, \"colorscale\": [[0.0, \"#0d0887\"], [0.1111111111111111, \"#46039f\"], [0.2222222222222222, \"#7201a8\"], [0.3333333333333333, \"#9c179e\"], [0.4444444444444444, \"#bd3786\"], [0.5555555555555556, \"#d8576b\"], [0.6666666666666666, \"#ed7953\"], [0.7777777777777778, \"#fb9f3a\"], [0.8888888888888888, \"#fdca26\"], [1.0, \"#f0f921\"]], \"type\": \"contour\"}], \"contourcarpet\": [{\"colorbar\": {\"outlinewidth\": 0, \"ticks\": \"\"}, \"type\": \"contourcarpet\"}], \"heatmap\": [{\"colorbar\": {\"outlinewidth\": 0, \"ticks\": \"\"}, \"colorscale\": [[0.0, \"#0d0887\"], [0.1111111111111111, \"#46039f\"], [0.2222222222222222, \"#7201a8\"], [0.3333333333333333, \"#9c179e\"], [0.4444444444444444, \"#bd3786\"], [0.5555555555555556, \"#d8576b\"], [0.6666666666666666, \"#ed7953\"], [0.7777777777777778, \"#fb9f3a\"], [0.8888888888888888, \"#fdca26\"], [1.0, \"#f0f921\"]], \"type\": \"heatmap\"}], \"heatmapgl\": [{\"colorbar\": {\"outlinewidth\": 0, \"ticks\": \"\"}, \"colorscale\": [[0.0, \"#0d0887\"], [0.1111111111111111, \"#46039f\"], [0.2222222222222222, \"#7201a8\"], [0.3333333333333333, \"#9c179e\"], [0.4444444444444444, \"#bd3786\"], [0.5555555555555556, \"#d8576b\"], [0.6666666666666666, \"#ed7953\"], [0.7777777777777778, \"#fb9f3a\"], [0.8888888888888888, \"#fdca26\"], [1.0, \"#f0f921\"]], \"type\": \"heatmapgl\"}], \"histogram\": [{\"marker\": {\"colorbar\": {\"outlinewidth\": 0, \"ticks\": \"\"}}, \"type\": \"histogram\"}], \"histogram2d\": [{\"colorbar\": {\"outlinewidth\": 0, \"ticks\": \"\"}, \"colorscale\": [[0.0, \"#0d0887\"], [0.1111111111111111, \"#46039f\"], [0.2222222222222222, \"#7201a8\"], [0.3333333333333333, \"#9c179e\"], [0.4444444444444444, \"#bd3786\"], [0.5555555555555556, \"#d8576b\"], [0.6666666666666666, \"#ed7953\"], [0.7777777777777778, \"#fb9f3a\"], [0.8888888888888888, \"#fdca26\"], [1.0, \"#f0f921\"]], \"type\": \"histogram2d\"}], \"histogram2dcontour\": [{\"colorbar\": {\"outlinewidth\": 0, \"ticks\": \"\"}, \"colorscale\": [[0.0, \"#0d0887\"], [0.1111111111111111, \"#46039f\"], [0.2222222222222222, \"#7201a8\"], [0.3333333333333333, \"#9c179e\"], [0.4444444444444444, \"#bd3786\"], [0.5555555555555556, \"#d8576b\"], [0.6666666666666666, \"#ed7953\"], [0.7777777777777778, \"#fb9f3a\"], [0.8888888888888888, \"#fdca26\"], [1.0, \"#f0f921\"]], \"type\": \"histogram2dcontour\"}], \"mesh3d\": [{\"colorbar\": {\"outlinewidth\": 0, \"ticks\": \"\"}, \"type\": \"mesh3d\"}], \"parcoords\": [{\"line\": {\"colorbar\": {\"outlinewidth\": 0, \"ticks\": \"\"}}, \"type\": \"parcoords\"}], \"pie\": [{\"automargin\": true, \"type\": \"pie\"}], \"scatter\": [{\"marker\": {\"colorbar\": {\"outlinewidth\": 0, \"ticks\": \"\"}}, \"type\": \"scatter\"}], \"scatter3d\": [{\"line\": {\"colorbar\": {\"outlinewidth\": 0, \"ticks\": \"\"}}, \"marker\": {\"colorbar\": {\"outlinewidth\": 0, \"ticks\": \"\"}}, \"type\": \"scatter3d\"}], \"scattercarpet\": [{\"marker\": {\"colorbar\": {\"outlinewidth\": 0, \"ticks\": \"\"}}, \"type\": \"scattercarpet\"}], \"scattergeo\": [{\"marker\": {\"colorbar\": {\"outlinewidth\": 0, \"ticks\": \"\"}}, \"type\": \"scattergeo\"}], \"scattergl\": [{\"marker\": {\"colorbar\": {\"outlinewidth\": 0, \"ticks\": \"\"}}, \"type\": \"scattergl\"}], \"scattermapbox\": [{\"marker\": {\"colorbar\": {\"outlinewidth\": 0, \"ticks\": \"\"}}, \"type\": \"scattermapbox\"}], \"scatterpolar\": [{\"marker\": {\"colorbar\": {\"outlinewidth\": 0, \"ticks\": \"\"}}, \"type\": \"scatterpolar\"}], \"scatterpolargl\": [{\"marker\": {\"colorbar\": {\"outlinewidth\": 0, \"ticks\": \"\"}}, \"type\": \"scatterpolargl\"}], \"scatterternary\": [{\"marker\": {\"colorbar\": {\"outlinewidth\": 0, \"ticks\": \"\"}}, \"type\": \"scatterternary\"}], \"surface\": [{\"colorbar\": {\"outlinewidth\": 0, \"ticks\": \"\"}, \"colorscale\": [[0.0, \"#0d0887\"], [0.1111111111111111, \"#46039f\"], [0.2222222222222222, \"#7201a8\"], [0.3333333333333333, \"#9c179e\"], [0.4444444444444444, \"#bd3786\"], [0.5555555555555556, \"#d8576b\"], [0.6666666666666666, \"#ed7953\"], [0.7777777777777778, \"#fb9f3a\"], [0.8888888888888888, \"#fdca26\"], [1.0, \"#f0f921\"]], \"type\": \"surface\"}], \"table\": [{\"cells\": {\"fill\": {\"color\": \"#EBF0F8\"}, \"line\": {\"color\": \"white\"}}, \"header\": {\"fill\": {\"color\": \"#C8D4E3\"}, \"line\": {\"color\": \"white\"}}, \"type\": \"table\"}]}, \"layout\": {\"annotationdefaults\": {\"arrowcolor\": \"#2a3f5f\", \"arrowhead\": 0, \"arrowwidth\": 1}, \"coloraxis\": {\"colorbar\": {\"outlinewidth\": 0, \"ticks\": \"\"}}, \"colorscale\": {\"diverging\": [[0, \"#8e0152\"], [0.1, \"#c51b7d\"], [0.2, \"#de77ae\"], [0.3, \"#f1b6da\"], [0.4, \"#fde0ef\"], [0.5, \"#f7f7f7\"], [0.6, \"#e6f5d0\"], [0.7, \"#b8e186\"], [0.8, \"#7fbc41\"], [0.9, \"#4d9221\"], [1, \"#276419\"]], \"sequential\": [[0.0, \"#0d0887\"], [0.1111111111111111, \"#46039f\"], [0.2222222222222222, \"#7201a8\"], [0.3333333333333333, \"#9c179e\"], [0.4444444444444444, \"#bd3786\"], [0.5555555555555556, \"#d8576b\"], [0.6666666666666666, \"#ed7953\"], [0.7777777777777778, \"#fb9f3a\"], [0.8888888888888888, \"#fdca26\"], [1.0, \"#f0f921\"]], \"sequentialminus\": [[0.0, \"#0d0887\"], [0.1111111111111111, \"#46039f\"], [0.2222222222222222, \"#7201a8\"], [0.3333333333333333, \"#9c179e\"], [0.4444444444444444, \"#bd3786\"], [0.5555555555555556, \"#d8576b\"], [0.6666666666666666, \"#ed7953\"], [0.7777777777777778, \"#fb9f3a\"], [0.8888888888888888, \"#fdca26\"], [1.0, \"#f0f921\"]]}, \"colorway\": [\"#636efa\", \"#EF553B\", \"#00cc96\", \"#ab63fa\", \"#FFA15A\", \"#19d3f3\", \"#FF6692\", \"#B6E880\", \"#FF97FF\", \"#FECB52\"], \"font\": {\"color\": \"#2a3f5f\"}, \"geo\": {\"bgcolor\": \"white\", \"lakecolor\": \"white\", \"landcolor\": \"#E5ECF6\", \"showlakes\": true, \"showland\": true, \"subunitcolor\": \"white\"}, \"hoverlabel\": {\"align\": \"left\"}, \"hovermode\": \"closest\", \"mapbox\": {\"style\": \"light\"}, \"paper_bgcolor\": \"white\", \"plot_bgcolor\": \"#E5ECF6\", \"polar\": {\"angularaxis\": {\"gridcolor\": \"white\", \"linecolor\": \"white\", \"ticks\": \"\"}, \"bgcolor\": \"#E5ECF6\", \"radialaxis\": {\"gridcolor\": \"white\", \"linecolor\": \"white\", \"ticks\": \"\"}}, \"scene\": {\"xaxis\": {\"backgroundcolor\": \"#E5ECF6\", \"gridcolor\": \"white\", \"gridwidth\": 2, \"linecolor\": \"white\", \"showbackground\": true, \"ticks\": \"\", \"zerolinecolor\": \"white\"}, \"yaxis\": {\"backgroundcolor\": \"#E5ECF6\", \"gridcolor\": \"white\", \"gridwidth\": 2, \"linecolor\": \"white\", \"showbackground\": true, \"ticks\": \"\", \"zerolinecolor\": \"white\"}, \"zaxis\": {\"backgroundcolor\": \"#E5ECF6\", \"gridcolor\": \"white\", \"gridwidth\": 2, \"linecolor\": \"white\", \"showbackground\": true, \"ticks\": \"\", \"zerolinecolor\": \"white\"}}, \"shapedefaults\": {\"line\": {\"color\": \"#2a3f5f\"}}, \"ternary\": {\"aaxis\": {\"gridcolor\": \"white\", \"linecolor\": \"white\", \"ticks\": \"\"}, \"baxis\": {\"gridcolor\": \"white\", \"linecolor\": \"white\", \"ticks\": \"\"}, \"bgcolor\": \"#E5ECF6\", \"caxis\": {\"gridcolor\": \"white\", \"linecolor\": \"white\", \"ticks\": \"\"}}, \"title\": {\"x\": 0.05}, \"xaxis\": {\"automargin\": true, \"gridcolor\": \"white\", \"linecolor\": \"white\", \"ticks\": \"\", \"title\": {\"standoff\": 15}, \"zerolinecolor\": \"white\", \"zerolinewidth\": 2}, \"yaxis\": {\"automargin\": true, \"gridcolor\": \"white\", \"linecolor\": \"white\", \"ticks\": \"\", \"title\": {\"standoff\": 15}, \"zerolinecolor\": \"white\", \"zerolinewidth\": 2}}}, \"title\": {\"text\": \"Top 25 Food Words: Miami\", \"x\": 0.45, \"xanchor\": \"center\", \"y\": 0.95, \"yanchor\": \"top\"}, \"xaxis\": {\"anchor\": \"y\", \"domain\": [0.0, 0.94], \"title\": {\"text\": \"Food Word\"}}, \"yaxis\": {\"anchor\": \"x\", \"domain\": [0.0, 1.0], \"title\": {\"text\": \"Index vs. Average\"}}, \"yaxis2\": {\"anchor\": \"x\", \"overlaying\": \"y\", \"side\": \"right\", \"title\": {\"text\": \"Count of Food Word Mentions by City\"}}},\n",
       "                        {\"responsive\": true}\n",
       "                    ).then(function(){\n",
       "                            \n",
       "var gd = document.getElementById('327bcfcd-1c14-40db-aead-5351d9451c17');\n",
       "var x = new MutationObserver(function (mutations, observer) {{\n",
       "        var display = window.getComputedStyle(gd).display;\n",
       "        if (!display || display === 'none') {{\n",
       "            console.log([gd, 'removed!']);\n",
       "            Plotly.purge(gd);\n",
       "            observer.disconnect();\n",
       "        }}\n",
       "}});\n",
       "\n",
       "// Listen for the removal of the full notebook cells\n",
       "var notebookContainer = gd.closest('#notebook-container');\n",
       "if (notebookContainer) {{\n",
       "    x.observe(notebookContainer, {childList: true});\n",
       "}}\n",
       "\n",
       "// Listen for the clearing of the current output cell\n",
       "var outputEl = gd.closest('.output');\n",
       "if (outputEl) {{\n",
       "    x.observe(outputEl, {childList: true});\n",
       "}}\n",
       "\n",
       "                        })\n",
       "                };\n",
       "                });\n",
       "            </script>\n",
       "        </div>"
      ]
     },
     "metadata": {},
     "output_type": "display_data"
    },
    {
     "data": {
      "text/html": [
       "<div>\n",
       "<style scoped>\n",
       "    .dataframe tbody tr th:only-of-type {\n",
       "        vertical-align: middle;\n",
       "    }\n",
       "\n",
       "    .dataframe tbody tr th {\n",
       "        vertical-align: top;\n",
       "    }\n",
       "\n",
       "    .dataframe thead th {\n",
       "        text-align: right;\n",
       "    }\n",
       "</style>\n",
       "<table border=\"1\" class=\"dataframe\">\n",
       "  <thead>\n",
       "    <tr style=\"text-align: right;\">\n",
       "      <th></th>\n",
       "      <th>city</th>\n",
       "      <th>food_word</th>\n",
       "      <th>food_word_count</th>\n",
       "      <th>unique_song_count</th>\n",
       "      <th>unique_artist_count</th>\n",
       "      <th>index_lyrics</th>\n",
       "      <th>index_songs</th>\n",
       "      <th>food_word_artists</th>\n",
       "    </tr>\n",
       "  </thead>\n",
       "  <tbody>\n",
       "    <tr>\n",
       "      <th>0</th>\n",
       "      <td>Miami</td>\n",
       "      <td>curry</td>\n",
       "      <td>123</td>\n",
       "      <td>77</td>\n",
       "      <td>4</td>\n",
       "      <td>13.362044</td>\n",
       "      <td>7.784386</td>\n",
       "      <td>'denzel curry', 'rick ross', 'flo rida', 'ski ...</td>\n",
       "    </tr>\n",
       "    <tr>\n",
       "      <th>1</th>\n",
       "      <td>Miami</td>\n",
       "      <td>duck sauce</td>\n",
       "      <td>3</td>\n",
       "      <td>3</td>\n",
       "      <td>3</td>\n",
       "      <td>11.352305</td>\n",
       "      <td>6.394317</td>\n",
       "      <td>'rick ross', 'trina', 'ski mask the slump god'</td>\n",
       "    </tr>\n",
       "    <tr>\n",
       "      <th>2</th>\n",
       "      <td>Miami</td>\n",
       "      <td>betty crocker</td>\n",
       "      <td>13</td>\n",
       "      <td>3</td>\n",
       "      <td>3</td>\n",
       "      <td>8.555361</td>\n",
       "      <td>1.565955</td>\n",
       "      <td>'trina', 'flo rida', 'ski mask the slump god'</td>\n",
       "    </tr>\n",
       "    <tr>\n",
       "      <th>3</th>\n",
       "      <td>Miami</td>\n",
       "      <td>smoothie</td>\n",
       "      <td>6</td>\n",
       "      <td>6</td>\n",
       "      <td>3</td>\n",
       "      <td>8.013392</td>\n",
       "      <td>4.950439</td>\n",
       "      <td>'denzel curry', 'lil pump', 'rick ross'</td>\n",
       "    </tr>\n",
       "    <tr>\n",
       "      <th>4</th>\n",
       "      <td>Miami</td>\n",
       "      <td>glaze</td>\n",
       "      <td>8</td>\n",
       "      <td>3</td>\n",
       "      <td>3</td>\n",
       "      <td>7.265475</td>\n",
       "      <td>1.918295</td>\n",
       "      <td>'denzel curry', 'rick ross', 'ski mask the slu...</td>\n",
       "    </tr>\n",
       "    <tr>\n",
       "      <th>5</th>\n",
       "      <td>Miami</td>\n",
       "      <td>ramen noodle</td>\n",
       "      <td>8</td>\n",
       "      <td>7</td>\n",
       "      <td>3</td>\n",
       "      <td>6.054563</td>\n",
       "      <td>3.141068</td>\n",
       "      <td>'rick ross', 'flo rida', 'ski mask the slump god'</td>\n",
       "    </tr>\n",
       "    <tr>\n",
       "      <th>6</th>\n",
       "      <td>Miami</td>\n",
       "      <td>chardonnay</td>\n",
       "      <td>7</td>\n",
       "      <td>7</td>\n",
       "      <td>4</td>\n",
       "      <td>5.480423</td>\n",
       "      <td>4.262878</td>\n",
       "      <td>'denzel curry', 'rick ross', 'trina', 'ski mas...</td>\n",
       "    </tr>\n",
       "    <tr>\n",
       "      <th>7</th>\n",
       "      <td>Miami</td>\n",
       "      <td>starbucks</td>\n",
       "      <td>7</td>\n",
       "      <td>7</td>\n",
       "      <td>4</td>\n",
       "      <td>5.210894</td>\n",
       "      <td>3.378130</td>\n",
       "      <td>'rick ross', 'trina', 'flo rida', 'ski mask th...</td>\n",
       "    </tr>\n",
       "    <tr>\n",
       "      <th>8</th>\n",
       "      <td>Miami</td>\n",
       "      <td>sage</td>\n",
       "      <td>6</td>\n",
       "      <td>5</td>\n",
       "      <td>4</td>\n",
       "      <td>4.953733</td>\n",
       "      <td>2.557727</td>\n",
       "      <td>'denzel curry', 'rick ross', 'flo rida', 'ski ...</td>\n",
       "    </tr>\n",
       "    <tr>\n",
       "      <th>9</th>\n",
       "      <td>Miami</td>\n",
       "      <td>m&amp;m</td>\n",
       "      <td>139</td>\n",
       "      <td>47</td>\n",
       "      <td>3</td>\n",
       "      <td>4.781729</td>\n",
       "      <td>2.193671</td>\n",
       "      <td>'denzel curry', 'rick ross', 'ski mask the slu...</td>\n",
       "    </tr>\n",
       "    <tr>\n",
       "      <th>10</th>\n",
       "      <td>Miami</td>\n",
       "      <td>skittle</td>\n",
       "      <td>17</td>\n",
       "      <td>7</td>\n",
       "      <td>3</td>\n",
       "      <td>4.622496</td>\n",
       "      <td>1.673279</td>\n",
       "      <td>'lil pump', 'trina', 'ski mask the slump god'</td>\n",
       "    </tr>\n",
       "    <tr>\n",
       "      <th>11</th>\n",
       "      <td>Miami</td>\n",
       "      <td>cracker</td>\n",
       "      <td>61</td>\n",
       "      <td>37</td>\n",
       "      <td>5</td>\n",
       "      <td>4.616604</td>\n",
       "      <td>2.079910</td>\n",
       "      <td>'denzel curry', 'rick ross', 'lil pump', 'trin...</td>\n",
       "    </tr>\n",
       "    <tr>\n",
       "      <th>12</th>\n",
       "      <td>Miami</td>\n",
       "      <td>sauce</td>\n",
       "      <td>174</td>\n",
       "      <td>100</td>\n",
       "      <td>6</td>\n",
       "      <td>4.227504</td>\n",
       "      <td>2.534913</td>\n",
       "      <td>'denzel curry', 'rick ross', 'lil pump', 'trin...</td>\n",
       "    </tr>\n",
       "    <tr>\n",
       "      <th>13</th>\n",
       "      <td>Miami</td>\n",
       "      <td>wheat</td>\n",
       "      <td>6</td>\n",
       "      <td>5</td>\n",
       "      <td>4</td>\n",
       "      <td>4.128111</td>\n",
       "      <td>2.204937</td>\n",
       "      <td>'rick ross', 'lil pump', 'flo rida', 'ski mask...</td>\n",
       "    </tr>\n",
       "    <tr>\n",
       "      <th>14</th>\n",
       "      <td>Miami</td>\n",
       "      <td>similac</td>\n",
       "      <td>5</td>\n",
       "      <td>4</td>\n",
       "      <td>3</td>\n",
       "      <td>3.848239</td>\n",
       "      <td>1.894612</td>\n",
       "      <td>'denzel curry', 'rick ross', 'ski mask the slu...</td>\n",
       "    </tr>\n",
       "    <tr>\n",
       "      <th>15</th>\n",
       "      <td>Miami</td>\n",
       "      <td>pepper</td>\n",
       "      <td>28</td>\n",
       "      <td>28</td>\n",
       "      <td>5</td>\n",
       "      <td>3.795398</td>\n",
       "      <td>2.712741</td>\n",
       "      <td>'denzel curry', 'rick ross', 'trina', 'flo rid...</td>\n",
       "    </tr>\n",
       "    <tr>\n",
       "      <th>16</th>\n",
       "      <td>Miami</td>\n",
       "      <td>pillsbury</td>\n",
       "      <td>3</td>\n",
       "      <td>3</td>\n",
       "      <td>3</td>\n",
       "      <td>3.405692</td>\n",
       "      <td>2.131439</td>\n",
       "      <td>'denzel curry', 'rick ross', 'flo rida'</td>\n",
       "    </tr>\n",
       "    <tr>\n",
       "      <th>17</th>\n",
       "      <td>Miami</td>\n",
       "      <td>ramen</td>\n",
       "      <td>10</td>\n",
       "      <td>9</td>\n",
       "      <td>3</td>\n",
       "      <td>3.338913</td>\n",
       "      <td>1.856415</td>\n",
       "      <td>'rick ross', 'flo rida', 'ski mask the slump god'</td>\n",
       "    </tr>\n",
       "    <tr>\n",
       "      <th>18</th>\n",
       "      <td>Miami</td>\n",
       "      <td>chicken wing</td>\n",
       "      <td>7</td>\n",
       "      <td>6</td>\n",
       "      <td>3</td>\n",
       "      <td>3.276954</td>\n",
       "      <td>1.805454</td>\n",
       "      <td>'rick ross', 'trina', 'ski mask the slump god'</td>\n",
       "    </tr>\n",
       "    <tr>\n",
       "      <th>19</th>\n",
       "      <td>Miami</td>\n",
       "      <td>cactus</td>\n",
       "      <td>8</td>\n",
       "      <td>4</td>\n",
       "      <td>3</td>\n",
       "      <td>3.078591</td>\n",
       "      <td>1.033425</td>\n",
       "      <td>'rick ross', 'flo rida', 'ski mask the slump god'</td>\n",
       "    </tr>\n",
       "    <tr>\n",
       "      <th>20</th>\n",
       "      <td>Miami</td>\n",
       "      <td>nugget</td>\n",
       "      <td>10</td>\n",
       "      <td>9</td>\n",
       "      <td>3</td>\n",
       "      <td>3.027281</td>\n",
       "      <td>1.798402</td>\n",
       "      <td>'denzel curry', 'rick ross', 'ski mask the slu...</td>\n",
       "    </tr>\n",
       "    <tr>\n",
       "      <th>21</th>\n",
       "      <td>Miami</td>\n",
       "      <td>popeyes</td>\n",
       "      <td>7</td>\n",
       "      <td>5</td>\n",
       "      <td>4</td>\n",
       "      <td>3.027281</td>\n",
       "      <td>1.453254</td>\n",
       "      <td>'denzel curry', 'rick ross', 'trina', 'flo rida'</td>\n",
       "    </tr>\n",
       "    <tr>\n",
       "      <th>22</th>\n",
       "      <td>Miami</td>\n",
       "      <td>lotus</td>\n",
       "      <td>10</td>\n",
       "      <td>8</td>\n",
       "      <td>3</td>\n",
       "      <td>2.929627</td>\n",
       "      <td>1.561971</td>\n",
       "      <td>'denzel curry', 'rick ross', 'ski mask the slu...</td>\n",
       "    </tr>\n",
       "    <tr>\n",
       "      <th>23</th>\n",
       "      <td>Miami</td>\n",
       "      <td>pineapple</td>\n",
       "      <td>13</td>\n",
       "      <td>9</td>\n",
       "      <td>3</td>\n",
       "      <td>2.758504</td>\n",
       "      <td>2.423110</td>\n",
       "      <td>'rick ross', 'trina', 'ski mask the slump god'</td>\n",
       "    </tr>\n",
       "    <tr>\n",
       "      <th>24</th>\n",
       "      <td>Miami</td>\n",
       "      <td>fried chicken</td>\n",
       "      <td>4</td>\n",
       "      <td>4</td>\n",
       "      <td>3</td>\n",
       "      <td>2.752074</td>\n",
       "      <td>2.087940</td>\n",
       "      <td>'denzel curry', 'rick ross', 'flo rida'</td>\n",
       "    </tr>\n",
       "  </tbody>\n",
       "</table>\n",
       "</div>"
      ],
      "text/plain": [
       "     city      food_word  food_word_count  unique_song_count  \\\n",
       "0   Miami          curry              123                 77   \n",
       "1   Miami     duck sauce                3                  3   \n",
       "2   Miami  betty crocker               13                  3   \n",
       "3   Miami       smoothie                6                  6   \n",
       "4   Miami          glaze                8                  3   \n",
       "5   Miami   ramen noodle                8                  7   \n",
       "6   Miami     chardonnay                7                  7   \n",
       "7   Miami      starbucks                7                  7   \n",
       "8   Miami           sage                6                  5   \n",
       "9   Miami            m&m              139                 47   \n",
       "10  Miami        skittle               17                  7   \n",
       "11  Miami        cracker               61                 37   \n",
       "12  Miami          sauce              174                100   \n",
       "13  Miami          wheat                6                  5   \n",
       "14  Miami        similac                5                  4   \n",
       "15  Miami         pepper               28                 28   \n",
       "16  Miami      pillsbury                3                  3   \n",
       "17  Miami          ramen               10                  9   \n",
       "18  Miami   chicken wing                7                  6   \n",
       "19  Miami         cactus                8                  4   \n",
       "20  Miami         nugget               10                  9   \n",
       "21  Miami        popeyes                7                  5   \n",
       "22  Miami          lotus               10                  8   \n",
       "23  Miami      pineapple               13                  9   \n",
       "24  Miami  fried chicken                4                  4   \n",
       "\n",
       "    unique_artist_count  index_lyrics  index_songs  \\\n",
       "0                     4     13.362044     7.784386   \n",
       "1                     3     11.352305     6.394317   \n",
       "2                     3      8.555361     1.565955   \n",
       "3                     3      8.013392     4.950439   \n",
       "4                     3      7.265475     1.918295   \n",
       "5                     3      6.054563     3.141068   \n",
       "6                     4      5.480423     4.262878   \n",
       "7                     4      5.210894     3.378130   \n",
       "8                     4      4.953733     2.557727   \n",
       "9                     3      4.781729     2.193671   \n",
       "10                    3      4.622496     1.673279   \n",
       "11                    5      4.616604     2.079910   \n",
       "12                    6      4.227504     2.534913   \n",
       "13                    4      4.128111     2.204937   \n",
       "14                    3      3.848239     1.894612   \n",
       "15                    5      3.795398     2.712741   \n",
       "16                    3      3.405692     2.131439   \n",
       "17                    3      3.338913     1.856415   \n",
       "18                    3      3.276954     1.805454   \n",
       "19                    3      3.078591     1.033425   \n",
       "20                    3      3.027281     1.798402   \n",
       "21                    4      3.027281     1.453254   \n",
       "22                    3      2.929627     1.561971   \n",
       "23                    3      2.758504     2.423110   \n",
       "24                    3      2.752074     2.087940   \n",
       "\n",
       "                                    food_word_artists  \n",
       "0   'denzel curry', 'rick ross', 'flo rida', 'ski ...  \n",
       "1      'rick ross', 'trina', 'ski mask the slump god'  \n",
       "2       'trina', 'flo rida', 'ski mask the slump god'  \n",
       "3             'denzel curry', 'lil pump', 'rick ross'  \n",
       "4   'denzel curry', 'rick ross', 'ski mask the slu...  \n",
       "5   'rick ross', 'flo rida', 'ski mask the slump god'  \n",
       "6   'denzel curry', 'rick ross', 'trina', 'ski mas...  \n",
       "7   'rick ross', 'trina', 'flo rida', 'ski mask th...  \n",
       "8   'denzel curry', 'rick ross', 'flo rida', 'ski ...  \n",
       "9   'denzel curry', 'rick ross', 'ski mask the slu...  \n",
       "10      'lil pump', 'trina', 'ski mask the slump god'  \n",
       "11  'denzel curry', 'rick ross', 'lil pump', 'trin...  \n",
       "12  'denzel curry', 'rick ross', 'lil pump', 'trin...  \n",
       "13  'rick ross', 'lil pump', 'flo rida', 'ski mask...  \n",
       "14  'denzel curry', 'rick ross', 'ski mask the slu...  \n",
       "15  'denzel curry', 'rick ross', 'trina', 'flo rid...  \n",
       "16            'denzel curry', 'rick ross', 'flo rida'  \n",
       "17  'rick ross', 'flo rida', 'ski mask the slump god'  \n",
       "18     'rick ross', 'trina', 'ski mask the slump god'  \n",
       "19  'rick ross', 'flo rida', 'ski mask the slump god'  \n",
       "20  'denzel curry', 'rick ross', 'ski mask the slu...  \n",
       "21   'denzel curry', 'rick ross', 'trina', 'flo rida'  \n",
       "22  'denzel curry', 'rick ross', 'ski mask the slu...  \n",
       "23     'rick ross', 'trina', 'ski mask the slump god'  \n",
       "24            'denzel curry', 'rick ross', 'flo rida'  "
      ]
     },
     "execution_count": 192,
     "metadata": {},
     "output_type": "execute_result"
    }
   ],
   "source": [
    "# Create figure with secondary y-axis\n",
    "fig = make_subplots(specs=[[{\"secondary_y\": True}]])\n",
    "\n",
    "# Add traces\n",
    "fig.add_trace(\n",
    "    go.Bar(x=city_food_word_plot_df['food_word'],\n",
    "               y=city_food_word_plot_df['city_food_word_index_all_lyric_words'],\n",
    "               name=\"Food Word Mentions in Lyrics vs. Average\"),\n",
    "    secondary_y=False,\n",
    ")\n",
    "\n",
    "fig.add_trace(\n",
    "    go.Bar(x=city_food_word_plot_df['food_word'],\n",
    "               y=city_food_word_plot_df['city_food_word_index_num_songs'],\n",
    "               name=\"Food Word Mentions in Unique Songs vs. Average\"),\n",
    "    secondary_y=False,\n",
    ")\n",
    "\n",
    "fig.add_trace(\n",
    "    go.Scatter(x=city_food_word_plot_df['food_word'],\n",
    "               y=city_food_word_plot_df['city_food_word_count'],\n",
    "               name=\"City Food Word Total Mentions\"),\n",
    "    secondary_y=True,\n",
    ")\n",
    "\n",
    "fig.add_trace(\n",
    "    go.Scatter(x=city_food_word_plot_df['food_word'],\n",
    "               y=city_food_word_plot_df['city_food_word_unique_song_count'],\n",
    "               name=\"City Food Word Unique Song Count\"),\n",
    "    secondary_y=True,\n",
    ")\n",
    "\n",
    "# Add figure title\n",
    "fig.update_layout(\n",
    "    title={\n",
    "        'text': \"Top {0} Food Words: {1}\".format(results_limit,city.title()),\n",
    "        'y':0.94,\n",
    "        'x':0.5,\n",
    "        'xanchor': 'center',\n",
    "        'yanchor': 'top'}\n",
    ")\n",
    "\n",
    "# Set x-axis title\n",
    "fig.update_xaxes(title_text=\"Food Word\")\n",
    "\n",
    "# Set y-axes titles\n",
    "fig.update_yaxes(title_text=\"Index vs. Average\", secondary_y=False)\n",
    "fig.update_yaxes(title_text=\"Count of Food Word Mentions by City\", secondary_y=True)\n",
    "fig.update_layout(legend=dict(\n",
    "    orientation=\"h\",\n",
    "    yanchor=\"bottom\",\n",
    "    y=1.02,\n",
    "    xanchor=\"right\",\n",
    "    x=0.7\n",
    "))\n",
    "\n",
    "fig.show()\n",
    "df_below_plot = city_food_word_plot_df[['city','food_word','city_food_word_count','city_food_word_unique_song_count','city_food_word_unique_artist_count','city_food_word_index_all_lyric_words','city_food_word_index_num_songs','city_food_word_unique_artists']].reset_index().drop(labels='index',axis=1)\n",
    "df_below_plot.columns=['city','food_word','food_word_count','unique_song_count','unique_artist_count','index_lyrics','index_songs','food_word_artists']\n",
    "df_below_plot"
   ]
  },
  {
   "cell_type": "markdown",
   "metadata": {},
   "source": [
    "# Top City Foods - Search by Food"
   ]
  },
  {
   "cell_type": "code",
   "execution_count": 241,
   "metadata": {},
   "outputs": [],
   "source": [
    "city_food_word = 'pizza'\n",
    "city_min_food_word_count = 3\n",
    "city_min_food_word_unique_song_count = 3\n",
    "city_min_artist_food_word_count = 3\n",
    "sort_results_by = 'city_food_word_index_all_lyric_words'\n",
    "#sort_results_by = 'city_food_word_index_num_songs'\n",
    "#sort_results_by = 'city_food_word_count'\n",
    "results_limit = 25"
   ]
  },
  {
   "cell_type": "code",
   "execution_count": 248,
   "metadata": {},
   "outputs": [],
   "source": [
    "food_city_word_plot_df = city_food_word_probs_df.loc[(city_food_word_probs_df.food_word == city_food_word)\n",
    "                                                     & (city_food_word_probs_df.city_food_word_count >= city_min_food_word_count)\n",
    "                                                     & (city_food_word_probs_df.city_food_word_unique_song_count >= city_min_food_word_unique_song_count)\n",
    "                                                     & (city_food_word_probs_df.city_food_word_unique_artist_count >= city_min_artist_food_word_count)]\n",
    "food_city_word_plot_df = food_city_word_plot_df.sort_values(by=sort_results_by,ascending=False)[:results_limit]\n"
   ]
  },
  {
   "cell_type": "code",
   "execution_count": 249,
   "metadata": {},
   "outputs": [
    {
     "data": {
      "application/vnd.plotly.v1+json": {
       "config": {
        "plotlyServerURL": "https://plot.ly"
       },
       "data": [
        {
         "name": "Food Word Mentions in Lyrics vs. Average",
         "type": "bar",
         "x": [
          "Chicago",
          "Harlem",
          "Detroit",
          "Philadelphia",
          "Houston",
          "Miami",
          "Brooklyn",
          "Los Angeles",
          "Atlanta",
          "Bronx",
          "Bay Area",
          "Staten Island",
          "Queens",
          "None"
         ],
         "xaxis": "x",
         "y": [
          2.6215075402729937,
          2.041349351156769,
          1.4817495394142104,
          1.2622723381018266,
          1.2511175456761852,
          1.1295826162881792,
          1.1065285867982522,
          1.0810771652621889,
          1.0706126833194662,
          0.857591538897719,
          0.7272838924006627,
          0.6836684533499462,
          0.4994103169832175,
          0.2527083117523579
         ],
         "yaxis": "y"
        },
        {
         "name": "Food Word Mentions in Unique Songs vs. Average",
         "type": "bar",
         "x": [
          "Chicago",
          "Harlem",
          "Detroit",
          "Philadelphia",
          "Houston",
          "Miami",
          "Brooklyn",
          "Los Angeles",
          "Atlanta",
          "Bronx",
          "Bay Area",
          "Staten Island",
          "Queens",
          "None"
         ],
         "xaxis": "x",
         "y": [
          1.387039351875187,
          1.29434498437056,
          1.444003623188406,
          0.8519823722625007,
          1.1727471966120409,
          0.5560275792023126,
          0.908539268844947,
          0.7068770795979772,
          0.7798399405157908,
          0.544865905663122,
          0.5865165000765256,
          0.6891522223298151,
          0.5654494270432687,
          0.27946654213052174
         ],
         "yaxis": "y"
        },
        {
         "name": "City Food Word Total Mentions",
         "type": "scatter",
         "x": [
          "Chicago",
          "Harlem",
          "Detroit",
          "Philadelphia",
          "Houston",
          "Miami",
          "Brooklyn",
          "Los Angeles",
          "Atlanta",
          "Bronx",
          "Bay Area",
          "Staten Island",
          "Queens",
          "None"
         ],
         "xaxis": "x",
         "y": [
          61,
          25,
          18,
          13,
          12,
          10,
          25,
          47,
          70,
          7,
          10,
          9,
          11,
          7
         ],
         "yaxis": "y2"
        },
        {
         "name": "City Food Word Unique Song Count",
         "type": "scatter",
         "x": [
          "Chicago",
          "Harlem",
          "Detroit",
          "Philadelphia",
          "Houston",
          "Miami",
          "Brooklyn",
          "Los Angeles",
          "Atlanta",
          "Bronx",
          "Bay Area",
          "Staten Island",
          "Queens",
          "None"
         ],
         "xaxis": "x",
         "y": [
          29,
          16,
          14,
          8,
          10,
          6,
          19,
          29,
          42,
          5,
          7,
          9,
          11,
          7
         ],
         "yaxis": "y2"
        }
       ],
       "layout": {
        "legend": {
         "orientation": "h",
         "x": 0.7,
         "xanchor": "right",
         "y": 1.02,
         "yanchor": "bottom"
        },
        "template": {
         "data": {
          "bar": [
           {
            "error_x": {
             "color": "#2a3f5f"
            },
            "error_y": {
             "color": "#2a3f5f"
            },
            "marker": {
             "line": {
              "color": "#E5ECF6",
              "width": 0.5
             }
            },
            "type": "bar"
           }
          ],
          "barpolar": [
           {
            "marker": {
             "line": {
              "color": "#E5ECF6",
              "width": 0.5
             }
            },
            "type": "barpolar"
           }
          ],
          "carpet": [
           {
            "aaxis": {
             "endlinecolor": "#2a3f5f",
             "gridcolor": "white",
             "linecolor": "white",
             "minorgridcolor": "white",
             "startlinecolor": "#2a3f5f"
            },
            "baxis": {
             "endlinecolor": "#2a3f5f",
             "gridcolor": "white",
             "linecolor": "white",
             "minorgridcolor": "white",
             "startlinecolor": "#2a3f5f"
            },
            "type": "carpet"
           }
          ],
          "choropleth": [
           {
            "colorbar": {
             "outlinewidth": 0,
             "ticks": ""
            },
            "type": "choropleth"
           }
          ],
          "contour": [
           {
            "colorbar": {
             "outlinewidth": 0,
             "ticks": ""
            },
            "colorscale": [
             [
              0,
              "#0d0887"
             ],
             [
              0.1111111111111111,
              "#46039f"
             ],
             [
              0.2222222222222222,
              "#7201a8"
             ],
             [
              0.3333333333333333,
              "#9c179e"
             ],
             [
              0.4444444444444444,
              "#bd3786"
             ],
             [
              0.5555555555555556,
              "#d8576b"
             ],
             [
              0.6666666666666666,
              "#ed7953"
             ],
             [
              0.7777777777777778,
              "#fb9f3a"
             ],
             [
              0.8888888888888888,
              "#fdca26"
             ],
             [
              1,
              "#f0f921"
             ]
            ],
            "type": "contour"
           }
          ],
          "contourcarpet": [
           {
            "colorbar": {
             "outlinewidth": 0,
             "ticks": ""
            },
            "type": "contourcarpet"
           }
          ],
          "heatmap": [
           {
            "colorbar": {
             "outlinewidth": 0,
             "ticks": ""
            },
            "colorscale": [
             [
              0,
              "#0d0887"
             ],
             [
              0.1111111111111111,
              "#46039f"
             ],
             [
              0.2222222222222222,
              "#7201a8"
             ],
             [
              0.3333333333333333,
              "#9c179e"
             ],
             [
              0.4444444444444444,
              "#bd3786"
             ],
             [
              0.5555555555555556,
              "#d8576b"
             ],
             [
              0.6666666666666666,
              "#ed7953"
             ],
             [
              0.7777777777777778,
              "#fb9f3a"
             ],
             [
              0.8888888888888888,
              "#fdca26"
             ],
             [
              1,
              "#f0f921"
             ]
            ],
            "type": "heatmap"
           }
          ],
          "heatmapgl": [
           {
            "colorbar": {
             "outlinewidth": 0,
             "ticks": ""
            },
            "colorscale": [
             [
              0,
              "#0d0887"
             ],
             [
              0.1111111111111111,
              "#46039f"
             ],
             [
              0.2222222222222222,
              "#7201a8"
             ],
             [
              0.3333333333333333,
              "#9c179e"
             ],
             [
              0.4444444444444444,
              "#bd3786"
             ],
             [
              0.5555555555555556,
              "#d8576b"
             ],
             [
              0.6666666666666666,
              "#ed7953"
             ],
             [
              0.7777777777777778,
              "#fb9f3a"
             ],
             [
              0.8888888888888888,
              "#fdca26"
             ],
             [
              1,
              "#f0f921"
             ]
            ],
            "type": "heatmapgl"
           }
          ],
          "histogram": [
           {
            "marker": {
             "colorbar": {
              "outlinewidth": 0,
              "ticks": ""
             }
            },
            "type": "histogram"
           }
          ],
          "histogram2d": [
           {
            "colorbar": {
             "outlinewidth": 0,
             "ticks": ""
            },
            "colorscale": [
             [
              0,
              "#0d0887"
             ],
             [
              0.1111111111111111,
              "#46039f"
             ],
             [
              0.2222222222222222,
              "#7201a8"
             ],
             [
              0.3333333333333333,
              "#9c179e"
             ],
             [
              0.4444444444444444,
              "#bd3786"
             ],
             [
              0.5555555555555556,
              "#d8576b"
             ],
             [
              0.6666666666666666,
              "#ed7953"
             ],
             [
              0.7777777777777778,
              "#fb9f3a"
             ],
             [
              0.8888888888888888,
              "#fdca26"
             ],
             [
              1,
              "#f0f921"
             ]
            ],
            "type": "histogram2d"
           }
          ],
          "histogram2dcontour": [
           {
            "colorbar": {
             "outlinewidth": 0,
             "ticks": ""
            },
            "colorscale": [
             [
              0,
              "#0d0887"
             ],
             [
              0.1111111111111111,
              "#46039f"
             ],
             [
              0.2222222222222222,
              "#7201a8"
             ],
             [
              0.3333333333333333,
              "#9c179e"
             ],
             [
              0.4444444444444444,
              "#bd3786"
             ],
             [
              0.5555555555555556,
              "#d8576b"
             ],
             [
              0.6666666666666666,
              "#ed7953"
             ],
             [
              0.7777777777777778,
              "#fb9f3a"
             ],
             [
              0.8888888888888888,
              "#fdca26"
             ],
             [
              1,
              "#f0f921"
             ]
            ],
            "type": "histogram2dcontour"
           }
          ],
          "mesh3d": [
           {
            "colorbar": {
             "outlinewidth": 0,
             "ticks": ""
            },
            "type": "mesh3d"
           }
          ],
          "parcoords": [
           {
            "line": {
             "colorbar": {
              "outlinewidth": 0,
              "ticks": ""
             }
            },
            "type": "parcoords"
           }
          ],
          "pie": [
           {
            "automargin": true,
            "type": "pie"
           }
          ],
          "scatter": [
           {
            "marker": {
             "colorbar": {
              "outlinewidth": 0,
              "ticks": ""
             }
            },
            "type": "scatter"
           }
          ],
          "scatter3d": [
           {
            "line": {
             "colorbar": {
              "outlinewidth": 0,
              "ticks": ""
             }
            },
            "marker": {
             "colorbar": {
              "outlinewidth": 0,
              "ticks": ""
             }
            },
            "type": "scatter3d"
           }
          ],
          "scattercarpet": [
           {
            "marker": {
             "colorbar": {
              "outlinewidth": 0,
              "ticks": ""
             }
            },
            "type": "scattercarpet"
           }
          ],
          "scattergeo": [
           {
            "marker": {
             "colorbar": {
              "outlinewidth": 0,
              "ticks": ""
             }
            },
            "type": "scattergeo"
           }
          ],
          "scattergl": [
           {
            "marker": {
             "colorbar": {
              "outlinewidth": 0,
              "ticks": ""
             }
            },
            "type": "scattergl"
           }
          ],
          "scattermapbox": [
           {
            "marker": {
             "colorbar": {
              "outlinewidth": 0,
              "ticks": ""
             }
            },
            "type": "scattermapbox"
           }
          ],
          "scatterpolar": [
           {
            "marker": {
             "colorbar": {
              "outlinewidth": 0,
              "ticks": ""
             }
            },
            "type": "scatterpolar"
           }
          ],
          "scatterpolargl": [
           {
            "marker": {
             "colorbar": {
              "outlinewidth": 0,
              "ticks": ""
             }
            },
            "type": "scatterpolargl"
           }
          ],
          "scatterternary": [
           {
            "marker": {
             "colorbar": {
              "outlinewidth": 0,
              "ticks": ""
             }
            },
            "type": "scatterternary"
           }
          ],
          "surface": [
           {
            "colorbar": {
             "outlinewidth": 0,
             "ticks": ""
            },
            "colorscale": [
             [
              0,
              "#0d0887"
             ],
             [
              0.1111111111111111,
              "#46039f"
             ],
             [
              0.2222222222222222,
              "#7201a8"
             ],
             [
              0.3333333333333333,
              "#9c179e"
             ],
             [
              0.4444444444444444,
              "#bd3786"
             ],
             [
              0.5555555555555556,
              "#d8576b"
             ],
             [
              0.6666666666666666,
              "#ed7953"
             ],
             [
              0.7777777777777778,
              "#fb9f3a"
             ],
             [
              0.8888888888888888,
              "#fdca26"
             ],
             [
              1,
              "#f0f921"
             ]
            ],
            "type": "surface"
           }
          ],
          "table": [
           {
            "cells": {
             "fill": {
              "color": "#EBF0F8"
             },
             "line": {
              "color": "white"
             }
            },
            "header": {
             "fill": {
              "color": "#C8D4E3"
             },
             "line": {
              "color": "white"
             }
            },
            "type": "table"
           }
          ]
         },
         "layout": {
          "annotationdefaults": {
           "arrowcolor": "#2a3f5f",
           "arrowhead": 0,
           "arrowwidth": 1
          },
          "coloraxis": {
           "colorbar": {
            "outlinewidth": 0,
            "ticks": ""
           }
          },
          "colorscale": {
           "diverging": [
            [
             0,
             "#8e0152"
            ],
            [
             0.1,
             "#c51b7d"
            ],
            [
             0.2,
             "#de77ae"
            ],
            [
             0.3,
             "#f1b6da"
            ],
            [
             0.4,
             "#fde0ef"
            ],
            [
             0.5,
             "#f7f7f7"
            ],
            [
             0.6,
             "#e6f5d0"
            ],
            [
             0.7,
             "#b8e186"
            ],
            [
             0.8,
             "#7fbc41"
            ],
            [
             0.9,
             "#4d9221"
            ],
            [
             1,
             "#276419"
            ]
           ],
           "sequential": [
            [
             0,
             "#0d0887"
            ],
            [
             0.1111111111111111,
             "#46039f"
            ],
            [
             0.2222222222222222,
             "#7201a8"
            ],
            [
             0.3333333333333333,
             "#9c179e"
            ],
            [
             0.4444444444444444,
             "#bd3786"
            ],
            [
             0.5555555555555556,
             "#d8576b"
            ],
            [
             0.6666666666666666,
             "#ed7953"
            ],
            [
             0.7777777777777778,
             "#fb9f3a"
            ],
            [
             0.8888888888888888,
             "#fdca26"
            ],
            [
             1,
             "#f0f921"
            ]
           ],
           "sequentialminus": [
            [
             0,
             "#0d0887"
            ],
            [
             0.1111111111111111,
             "#46039f"
            ],
            [
             0.2222222222222222,
             "#7201a8"
            ],
            [
             0.3333333333333333,
             "#9c179e"
            ],
            [
             0.4444444444444444,
             "#bd3786"
            ],
            [
             0.5555555555555556,
             "#d8576b"
            ],
            [
             0.6666666666666666,
             "#ed7953"
            ],
            [
             0.7777777777777778,
             "#fb9f3a"
            ],
            [
             0.8888888888888888,
             "#fdca26"
            ],
            [
             1,
             "#f0f921"
            ]
           ]
          },
          "colorway": [
           "#636efa",
           "#EF553B",
           "#00cc96",
           "#ab63fa",
           "#FFA15A",
           "#19d3f3",
           "#FF6692",
           "#B6E880",
           "#FF97FF",
           "#FECB52"
          ],
          "font": {
           "color": "#2a3f5f"
          },
          "geo": {
           "bgcolor": "white",
           "lakecolor": "white",
           "landcolor": "#E5ECF6",
           "showlakes": true,
           "showland": true,
           "subunitcolor": "white"
          },
          "hoverlabel": {
           "align": "left"
          },
          "hovermode": "closest",
          "mapbox": {
           "style": "light"
          },
          "paper_bgcolor": "white",
          "plot_bgcolor": "#E5ECF6",
          "polar": {
           "angularaxis": {
            "gridcolor": "white",
            "linecolor": "white",
            "ticks": ""
           },
           "bgcolor": "#E5ECF6",
           "radialaxis": {
            "gridcolor": "white",
            "linecolor": "white",
            "ticks": ""
           }
          },
          "scene": {
           "xaxis": {
            "backgroundcolor": "#E5ECF6",
            "gridcolor": "white",
            "gridwidth": 2,
            "linecolor": "white",
            "showbackground": true,
            "ticks": "",
            "zerolinecolor": "white"
           },
           "yaxis": {
            "backgroundcolor": "#E5ECF6",
            "gridcolor": "white",
            "gridwidth": 2,
            "linecolor": "white",
            "showbackground": true,
            "ticks": "",
            "zerolinecolor": "white"
           },
           "zaxis": {
            "backgroundcolor": "#E5ECF6",
            "gridcolor": "white",
            "gridwidth": 2,
            "linecolor": "white",
            "showbackground": true,
            "ticks": "",
            "zerolinecolor": "white"
           }
          },
          "shapedefaults": {
           "line": {
            "color": "#2a3f5f"
           }
          },
          "ternary": {
           "aaxis": {
            "gridcolor": "white",
            "linecolor": "white",
            "ticks": ""
           },
           "baxis": {
            "gridcolor": "white",
            "linecolor": "white",
            "ticks": ""
           },
           "bgcolor": "#E5ECF6",
           "caxis": {
            "gridcolor": "white",
            "linecolor": "white",
            "ticks": ""
           }
          },
          "title": {
           "x": 0.05
          },
          "xaxis": {
           "automargin": true,
           "gridcolor": "white",
           "linecolor": "white",
           "ticks": "",
           "title": {
            "standoff": 15
           },
           "zerolinecolor": "white",
           "zerolinewidth": 2
          },
          "yaxis": {
           "automargin": true,
           "gridcolor": "white",
           "linecolor": "white",
           "ticks": "",
           "title": {
            "standoff": 15
           },
           "zerolinecolor": "white",
           "zerolinewidth": 2
          }
         }
        },
        "title": {
         "text": "Top 25 Cities: Pizza",
         "x": 0.45,
         "xanchor": "center",
         "y": 0.95,
         "yanchor": "top"
        },
        "xaxis": {
         "anchor": "y",
         "domain": [
          0,
          0.94
         ],
         "title": {
          "text": "City"
         }
        },
        "yaxis": {
         "anchor": "x",
         "domain": [
          0,
          1
         ],
         "title": {
          "text": "Index vs. Average"
         }
        },
        "yaxis2": {
         "anchor": "x",
         "overlaying": "y",
         "side": "right",
         "title": {
          "text": "Count of Food Word Mentions by City"
         }
        }
       }
      },
      "text/html": [
       "<div>\n",
       "        \n",
       "        \n",
       "            <div id=\"ce6c4727-c794-4dc0-8221-6f850ca9ebd3\" class=\"plotly-graph-div\" style=\"height:525px; width:100%;\"></div>\n",
       "            <script type=\"text/javascript\">\n",
       "                require([\"plotly\"], function(Plotly) {\n",
       "                    window.PLOTLYENV=window.PLOTLYENV || {};\n",
       "                    \n",
       "                if (document.getElementById(\"ce6c4727-c794-4dc0-8221-6f850ca9ebd3\")) {\n",
       "                    Plotly.newPlot(\n",
       "                        'ce6c4727-c794-4dc0-8221-6f850ca9ebd3',\n",
       "                        [{\"name\": \"Food Word Mentions in Lyrics vs. Average\", \"type\": \"bar\", \"x\": [\"Chicago\", \"Harlem\", \"Detroit\", \"Philadelphia\", \"Houston\", \"Miami\", \"Brooklyn\", \"Los Angeles\", \"Atlanta\", \"Bronx\", \"Bay Area\", \"Staten Island\", \"Queens\", \"None\"], \"xaxis\": \"x\", \"y\": [2.6215075402729937, 2.041349351156769, 1.4817495394142104, 1.2622723381018266, 1.2511175456761852, 1.1295826162881792, 1.1065285867982522, 1.0810771652621889, 1.0706126833194662, 0.857591538897719, 0.7272838924006627, 0.6836684533499462, 0.4994103169832175, 0.2527083117523579], \"yaxis\": \"y\"}, {\"name\": \"Food Word Mentions in Unique Songs vs. Average\", \"type\": \"bar\", \"x\": [\"Chicago\", \"Harlem\", \"Detroit\", \"Philadelphia\", \"Houston\", \"Miami\", \"Brooklyn\", \"Los Angeles\", \"Atlanta\", \"Bronx\", \"Bay Area\", \"Staten Island\", \"Queens\", \"None\"], \"xaxis\": \"x\", \"y\": [1.387039351875187, 1.29434498437056, 1.444003623188406, 0.8519823722625007, 1.1727471966120409, 0.5560275792023126, 0.908539268844947, 0.7068770795979772, 0.7798399405157908, 0.544865905663122, 0.5865165000765256, 0.6891522223298151, 0.5654494270432687, 0.27946654213052174], \"yaxis\": \"y\"}, {\"name\": \"City Food Word Total Mentions\", \"type\": \"scatter\", \"x\": [\"Chicago\", \"Harlem\", \"Detroit\", \"Philadelphia\", \"Houston\", \"Miami\", \"Brooklyn\", \"Los Angeles\", \"Atlanta\", \"Bronx\", \"Bay Area\", \"Staten Island\", \"Queens\", \"None\"], \"xaxis\": \"x\", \"y\": [61, 25, 18, 13, 12, 10, 25, 47, 70, 7, 10, 9, 11, 7], \"yaxis\": \"y2\"}, {\"name\": \"City Food Word Unique Song Count\", \"type\": \"scatter\", \"x\": [\"Chicago\", \"Harlem\", \"Detroit\", \"Philadelphia\", \"Houston\", \"Miami\", \"Brooklyn\", \"Los Angeles\", \"Atlanta\", \"Bronx\", \"Bay Area\", \"Staten Island\", \"Queens\", \"None\"], \"xaxis\": \"x\", \"y\": [29, 16, 14, 8, 10, 6, 19, 29, 42, 5, 7, 9, 11, 7], \"yaxis\": \"y2\"}],\n",
       "                        {\"legend\": {\"orientation\": \"h\", \"x\": 0.7, \"xanchor\": \"right\", \"y\": 1.02, \"yanchor\": \"bottom\"}, \"template\": {\"data\": {\"bar\": [{\"error_x\": {\"color\": \"#2a3f5f\"}, \"error_y\": {\"color\": \"#2a3f5f\"}, \"marker\": {\"line\": {\"color\": \"#E5ECF6\", \"width\": 0.5}}, \"type\": \"bar\"}], \"barpolar\": [{\"marker\": {\"line\": {\"color\": \"#E5ECF6\", \"width\": 0.5}}, \"type\": \"barpolar\"}], \"carpet\": [{\"aaxis\": {\"endlinecolor\": \"#2a3f5f\", \"gridcolor\": \"white\", \"linecolor\": \"white\", \"minorgridcolor\": \"white\", \"startlinecolor\": \"#2a3f5f\"}, \"baxis\": {\"endlinecolor\": \"#2a3f5f\", \"gridcolor\": \"white\", \"linecolor\": \"white\", \"minorgridcolor\": \"white\", \"startlinecolor\": \"#2a3f5f\"}, \"type\": \"carpet\"}], \"choropleth\": [{\"colorbar\": {\"outlinewidth\": 0, \"ticks\": \"\"}, \"type\": \"choropleth\"}], \"contour\": [{\"colorbar\": {\"outlinewidth\": 0, \"ticks\": \"\"}, \"colorscale\": [[0.0, \"#0d0887\"], [0.1111111111111111, \"#46039f\"], [0.2222222222222222, \"#7201a8\"], [0.3333333333333333, \"#9c179e\"], [0.4444444444444444, \"#bd3786\"], [0.5555555555555556, \"#d8576b\"], [0.6666666666666666, \"#ed7953\"], [0.7777777777777778, \"#fb9f3a\"], [0.8888888888888888, \"#fdca26\"], [1.0, \"#f0f921\"]], \"type\": \"contour\"}], \"contourcarpet\": [{\"colorbar\": {\"outlinewidth\": 0, \"ticks\": \"\"}, \"type\": \"contourcarpet\"}], \"heatmap\": [{\"colorbar\": {\"outlinewidth\": 0, \"ticks\": \"\"}, \"colorscale\": [[0.0, \"#0d0887\"], [0.1111111111111111, \"#46039f\"], [0.2222222222222222, \"#7201a8\"], [0.3333333333333333, \"#9c179e\"], [0.4444444444444444, \"#bd3786\"], [0.5555555555555556, \"#d8576b\"], [0.6666666666666666, \"#ed7953\"], [0.7777777777777778, \"#fb9f3a\"], [0.8888888888888888, \"#fdca26\"], [1.0, \"#f0f921\"]], \"type\": \"heatmap\"}], \"heatmapgl\": [{\"colorbar\": {\"outlinewidth\": 0, \"ticks\": \"\"}, \"colorscale\": [[0.0, \"#0d0887\"], [0.1111111111111111, \"#46039f\"], [0.2222222222222222, \"#7201a8\"], [0.3333333333333333, \"#9c179e\"], [0.4444444444444444, \"#bd3786\"], [0.5555555555555556, \"#d8576b\"], [0.6666666666666666, \"#ed7953\"], [0.7777777777777778, \"#fb9f3a\"], [0.8888888888888888, \"#fdca26\"], [1.0, \"#f0f921\"]], \"type\": \"heatmapgl\"}], \"histogram\": [{\"marker\": {\"colorbar\": {\"outlinewidth\": 0, \"ticks\": \"\"}}, \"type\": \"histogram\"}], \"histogram2d\": [{\"colorbar\": {\"outlinewidth\": 0, \"ticks\": \"\"}, \"colorscale\": [[0.0, \"#0d0887\"], [0.1111111111111111, \"#46039f\"], [0.2222222222222222, \"#7201a8\"], [0.3333333333333333, \"#9c179e\"], [0.4444444444444444, \"#bd3786\"], [0.5555555555555556, \"#d8576b\"], [0.6666666666666666, \"#ed7953\"], [0.7777777777777778, \"#fb9f3a\"], [0.8888888888888888, \"#fdca26\"], [1.0, \"#f0f921\"]], \"type\": \"histogram2d\"}], \"histogram2dcontour\": [{\"colorbar\": {\"outlinewidth\": 0, \"ticks\": \"\"}, \"colorscale\": [[0.0, \"#0d0887\"], [0.1111111111111111, \"#46039f\"], [0.2222222222222222, \"#7201a8\"], [0.3333333333333333, \"#9c179e\"], [0.4444444444444444, \"#bd3786\"], [0.5555555555555556, \"#d8576b\"], [0.6666666666666666, \"#ed7953\"], [0.7777777777777778, \"#fb9f3a\"], [0.8888888888888888, \"#fdca26\"], [1.0, \"#f0f921\"]], \"type\": \"histogram2dcontour\"}], \"mesh3d\": [{\"colorbar\": {\"outlinewidth\": 0, \"ticks\": \"\"}, \"type\": \"mesh3d\"}], \"parcoords\": [{\"line\": {\"colorbar\": {\"outlinewidth\": 0, \"ticks\": \"\"}}, \"type\": \"parcoords\"}], \"pie\": [{\"automargin\": true, \"type\": \"pie\"}], \"scatter\": [{\"marker\": {\"colorbar\": {\"outlinewidth\": 0, \"ticks\": \"\"}}, \"type\": \"scatter\"}], \"scatter3d\": [{\"line\": {\"colorbar\": {\"outlinewidth\": 0, \"ticks\": \"\"}}, \"marker\": {\"colorbar\": {\"outlinewidth\": 0, \"ticks\": \"\"}}, \"type\": \"scatter3d\"}], \"scattercarpet\": [{\"marker\": {\"colorbar\": {\"outlinewidth\": 0, \"ticks\": \"\"}}, \"type\": \"scattercarpet\"}], \"scattergeo\": [{\"marker\": {\"colorbar\": {\"outlinewidth\": 0, \"ticks\": \"\"}}, \"type\": \"scattergeo\"}], \"scattergl\": [{\"marker\": {\"colorbar\": {\"outlinewidth\": 0, \"ticks\": \"\"}}, \"type\": \"scattergl\"}], \"scattermapbox\": [{\"marker\": {\"colorbar\": {\"outlinewidth\": 0, \"ticks\": \"\"}}, \"type\": \"scattermapbox\"}], \"scatterpolar\": [{\"marker\": {\"colorbar\": {\"outlinewidth\": 0, \"ticks\": \"\"}}, \"type\": \"scatterpolar\"}], \"scatterpolargl\": [{\"marker\": {\"colorbar\": {\"outlinewidth\": 0, \"ticks\": \"\"}}, \"type\": \"scatterpolargl\"}], \"scatterternary\": [{\"marker\": {\"colorbar\": {\"outlinewidth\": 0, \"ticks\": \"\"}}, \"type\": \"scatterternary\"}], \"surface\": [{\"colorbar\": {\"outlinewidth\": 0, \"ticks\": \"\"}, \"colorscale\": [[0.0, \"#0d0887\"], [0.1111111111111111, \"#46039f\"], [0.2222222222222222, \"#7201a8\"], [0.3333333333333333, \"#9c179e\"], [0.4444444444444444, \"#bd3786\"], [0.5555555555555556, \"#d8576b\"], [0.6666666666666666, \"#ed7953\"], [0.7777777777777778, \"#fb9f3a\"], [0.8888888888888888, \"#fdca26\"], [1.0, \"#f0f921\"]], \"type\": \"surface\"}], \"table\": [{\"cells\": {\"fill\": {\"color\": \"#EBF0F8\"}, \"line\": {\"color\": \"white\"}}, \"header\": {\"fill\": {\"color\": \"#C8D4E3\"}, \"line\": {\"color\": \"white\"}}, \"type\": \"table\"}]}, \"layout\": {\"annotationdefaults\": {\"arrowcolor\": \"#2a3f5f\", \"arrowhead\": 0, \"arrowwidth\": 1}, \"coloraxis\": {\"colorbar\": {\"outlinewidth\": 0, \"ticks\": \"\"}}, \"colorscale\": {\"diverging\": [[0, \"#8e0152\"], [0.1, \"#c51b7d\"], [0.2, \"#de77ae\"], [0.3, \"#f1b6da\"], [0.4, \"#fde0ef\"], [0.5, \"#f7f7f7\"], [0.6, \"#e6f5d0\"], [0.7, \"#b8e186\"], [0.8, \"#7fbc41\"], [0.9, \"#4d9221\"], [1, \"#276419\"]], \"sequential\": [[0.0, \"#0d0887\"], [0.1111111111111111, \"#46039f\"], [0.2222222222222222, \"#7201a8\"], [0.3333333333333333, \"#9c179e\"], [0.4444444444444444, \"#bd3786\"], [0.5555555555555556, \"#d8576b\"], [0.6666666666666666, \"#ed7953\"], [0.7777777777777778, \"#fb9f3a\"], [0.8888888888888888, \"#fdca26\"], [1.0, \"#f0f921\"]], \"sequentialminus\": [[0.0, \"#0d0887\"], [0.1111111111111111, \"#46039f\"], [0.2222222222222222, \"#7201a8\"], [0.3333333333333333, \"#9c179e\"], [0.4444444444444444, \"#bd3786\"], [0.5555555555555556, \"#d8576b\"], [0.6666666666666666, \"#ed7953\"], [0.7777777777777778, \"#fb9f3a\"], [0.8888888888888888, \"#fdca26\"], [1.0, \"#f0f921\"]]}, \"colorway\": [\"#636efa\", \"#EF553B\", \"#00cc96\", \"#ab63fa\", \"#FFA15A\", \"#19d3f3\", \"#FF6692\", \"#B6E880\", \"#FF97FF\", \"#FECB52\"], \"font\": {\"color\": \"#2a3f5f\"}, \"geo\": {\"bgcolor\": \"white\", \"lakecolor\": \"white\", \"landcolor\": \"#E5ECF6\", \"showlakes\": true, \"showland\": true, \"subunitcolor\": \"white\"}, \"hoverlabel\": {\"align\": \"left\"}, \"hovermode\": \"closest\", \"mapbox\": {\"style\": \"light\"}, \"paper_bgcolor\": \"white\", \"plot_bgcolor\": \"#E5ECF6\", \"polar\": {\"angularaxis\": {\"gridcolor\": \"white\", \"linecolor\": \"white\", \"ticks\": \"\"}, \"bgcolor\": \"#E5ECF6\", \"radialaxis\": {\"gridcolor\": \"white\", \"linecolor\": \"white\", \"ticks\": \"\"}}, \"scene\": {\"xaxis\": {\"backgroundcolor\": \"#E5ECF6\", \"gridcolor\": \"white\", \"gridwidth\": 2, \"linecolor\": \"white\", \"showbackground\": true, \"ticks\": \"\", \"zerolinecolor\": \"white\"}, \"yaxis\": {\"backgroundcolor\": \"#E5ECF6\", \"gridcolor\": \"white\", \"gridwidth\": 2, \"linecolor\": \"white\", \"showbackground\": true, \"ticks\": \"\", \"zerolinecolor\": \"white\"}, \"zaxis\": {\"backgroundcolor\": \"#E5ECF6\", \"gridcolor\": \"white\", \"gridwidth\": 2, \"linecolor\": \"white\", \"showbackground\": true, \"ticks\": \"\", \"zerolinecolor\": \"white\"}}, \"shapedefaults\": {\"line\": {\"color\": \"#2a3f5f\"}}, \"ternary\": {\"aaxis\": {\"gridcolor\": \"white\", \"linecolor\": \"white\", \"ticks\": \"\"}, \"baxis\": {\"gridcolor\": \"white\", \"linecolor\": \"white\", \"ticks\": \"\"}, \"bgcolor\": \"#E5ECF6\", \"caxis\": {\"gridcolor\": \"white\", \"linecolor\": \"white\", \"ticks\": \"\"}}, \"title\": {\"x\": 0.05}, \"xaxis\": {\"automargin\": true, \"gridcolor\": \"white\", \"linecolor\": \"white\", \"ticks\": \"\", \"title\": {\"standoff\": 15}, \"zerolinecolor\": \"white\", \"zerolinewidth\": 2}, \"yaxis\": {\"automargin\": true, \"gridcolor\": \"white\", \"linecolor\": \"white\", \"ticks\": \"\", \"title\": {\"standoff\": 15}, \"zerolinecolor\": \"white\", \"zerolinewidth\": 2}}}, \"title\": {\"text\": \"Top 25 Cities: Pizza\", \"x\": 0.45, \"xanchor\": \"center\", \"y\": 0.95, \"yanchor\": \"top\"}, \"xaxis\": {\"anchor\": \"y\", \"domain\": [0.0, 0.94], \"title\": {\"text\": \"City\"}}, \"yaxis\": {\"anchor\": \"x\", \"domain\": [0.0, 1.0], \"title\": {\"text\": \"Index vs. Average\"}}, \"yaxis2\": {\"anchor\": \"x\", \"overlaying\": \"y\", \"side\": \"right\", \"title\": {\"text\": \"Count of Food Word Mentions by City\"}}},\n",
       "                        {\"responsive\": true}\n",
       "                    ).then(function(){\n",
       "                            \n",
       "var gd = document.getElementById('ce6c4727-c794-4dc0-8221-6f850ca9ebd3');\n",
       "var x = new MutationObserver(function (mutations, observer) {{\n",
       "        var display = window.getComputedStyle(gd).display;\n",
       "        if (!display || display === 'none') {{\n",
       "            console.log([gd, 'removed!']);\n",
       "            Plotly.purge(gd);\n",
       "            observer.disconnect();\n",
       "        }}\n",
       "}});\n",
       "\n",
       "// Listen for the removal of the full notebook cells\n",
       "var notebookContainer = gd.closest('#notebook-container');\n",
       "if (notebookContainer) {{\n",
       "    x.observe(notebookContainer, {childList: true});\n",
       "}}\n",
       "\n",
       "// Listen for the clearing of the current output cell\n",
       "var outputEl = gd.closest('.output');\n",
       "if (outputEl) {{\n",
       "    x.observe(outputEl, {childList: true});\n",
       "}}\n",
       "\n",
       "                        })\n",
       "                };\n",
       "                });\n",
       "            </script>\n",
       "        </div>"
      ]
     },
     "metadata": {},
     "output_type": "display_data"
    },
    {
     "data": {
      "text/html": [
       "<div>\n",
       "<style scoped>\n",
       "    .dataframe tbody tr th:only-of-type {\n",
       "        vertical-align: middle;\n",
       "    }\n",
       "\n",
       "    .dataframe tbody tr th {\n",
       "        vertical-align: top;\n",
       "    }\n",
       "\n",
       "    .dataframe thead th {\n",
       "        text-align: right;\n",
       "    }\n",
       "</style>\n",
       "<table border=\"1\" class=\"dataframe\">\n",
       "  <thead>\n",
       "    <tr style=\"text-align: right;\">\n",
       "      <th></th>\n",
       "      <th>city</th>\n",
       "      <th>food_word</th>\n",
       "      <th>food_word_count</th>\n",
       "      <th>unique_song_count</th>\n",
       "      <th>unique_artist_count</th>\n",
       "      <th>index_lyrics</th>\n",
       "      <th>index_songs</th>\n",
       "      <th>food_word_artists</th>\n",
       "    </tr>\n",
       "  </thead>\n",
       "  <tbody>\n",
       "    <tr>\n",
       "      <th>0</th>\n",
       "      <td>Chicago</td>\n",
       "      <td>pizza</td>\n",
       "      <td>61</td>\n",
       "      <td>29</td>\n",
       "      <td>6</td>\n",
       "      <td>2.621508</td>\n",
       "      <td>1.387039</td>\n",
       "      <td>'chief keef', 'chance the rapper', 'juice wrld...</td>\n",
       "    </tr>\n",
       "    <tr>\n",
       "      <th>1</th>\n",
       "      <td>Harlem</td>\n",
       "      <td>pizza</td>\n",
       "      <td>25</td>\n",
       "      <td>16</td>\n",
       "      <td>7</td>\n",
       "      <td>2.041349</td>\n",
       "      <td>1.294345</td>\n",
       "      <td>'princess nokia', 'camron', 'jim jones', 'juel...</td>\n",
       "    </tr>\n",
       "    <tr>\n",
       "      <th>2</th>\n",
       "      <td>Detroit</td>\n",
       "      <td>pizza</td>\n",
       "      <td>18</td>\n",
       "      <td>14</td>\n",
       "      <td>5</td>\n",
       "      <td>1.481750</td>\n",
       "      <td>1.444004</td>\n",
       "      <td>'big sean', 'eminem', 'royce da 59', 'danny br...</td>\n",
       "    </tr>\n",
       "    <tr>\n",
       "      <th>3</th>\n",
       "      <td>Philadelphia</td>\n",
       "      <td>pizza</td>\n",
       "      <td>13</td>\n",
       "      <td>8</td>\n",
       "      <td>4</td>\n",
       "      <td>1.262272</td>\n",
       "      <td>0.851982</td>\n",
       "      <td>'lil dicky', 'meek mill', 'tierra whack', 'lil...</td>\n",
       "    </tr>\n",
       "    <tr>\n",
       "      <th>4</th>\n",
       "      <td>Houston</td>\n",
       "      <td>pizza</td>\n",
       "      <td>12</td>\n",
       "      <td>10</td>\n",
       "      <td>3</td>\n",
       "      <td>1.251118</td>\n",
       "      <td>1.172747</td>\n",
       "      <td>'megan thee stallion', 'chamillionaire', 'trav...</td>\n",
       "    </tr>\n",
       "    <tr>\n",
       "      <th>5</th>\n",
       "      <td>Miami</td>\n",
       "      <td>pizza</td>\n",
       "      <td>10</td>\n",
       "      <td>6</td>\n",
       "      <td>3</td>\n",
       "      <td>1.129583</td>\n",
       "      <td>0.556028</td>\n",
       "      <td>'rick ross', 'flo rida', 'ski mask the slump god'</td>\n",
       "    </tr>\n",
       "    <tr>\n",
       "      <th>6</th>\n",
       "      <td>Brooklyn</td>\n",
       "      <td>pizza</td>\n",
       "      <td>25</td>\n",
       "      <td>19</td>\n",
       "      <td>7</td>\n",
       "      <td>1.106529</td>\n",
       "      <td>0.908539</td>\n",
       "      <td>'the notorious big', 'jayz', 'busta rhymes', '...</td>\n",
       "    </tr>\n",
       "    <tr>\n",
       "      <th>7</th>\n",
       "      <td>Los Angeles</td>\n",
       "      <td>pizza</td>\n",
       "      <td>47</td>\n",
       "      <td>29</td>\n",
       "      <td>13</td>\n",
       "      <td>1.081077</td>\n",
       "      <td>0.706877</td>\n",
       "      <td>'ice cube', 'ty dolla sign', 'earl sweatshirt'...</td>\n",
       "    </tr>\n",
       "    <tr>\n",
       "      <th>8</th>\n",
       "      <td>Atlanta</td>\n",
       "      <td>pizza</td>\n",
       "      <td>70</td>\n",
       "      <td>42</td>\n",
       "      <td>17</td>\n",
       "      <td>1.070613</td>\n",
       "      <td>0.779840</td>\n",
       "      <td>'waka flocka flame', 'offset', 'young thug', '...</td>\n",
       "    </tr>\n",
       "    <tr>\n",
       "      <th>9</th>\n",
       "      <td>Bronx</td>\n",
       "      <td>pizza</td>\n",
       "      <td>7</td>\n",
       "      <td>5</td>\n",
       "      <td>4</td>\n",
       "      <td>0.857592</td>\n",
       "      <td>0.544866</td>\n",
       "      <td>'big pun', 'slick rick', 'remy ma', 'cardi b'</td>\n",
       "    </tr>\n",
       "    <tr>\n",
       "      <th>10</th>\n",
       "      <td>Bay Area</td>\n",
       "      <td>pizza</td>\n",
       "      <td>10</td>\n",
       "      <td>7</td>\n",
       "      <td>4</td>\n",
       "      <td>0.727284</td>\n",
       "      <td>0.586517</td>\n",
       "      <td>'del the funky homosapien', 'andre nickatina',...</td>\n",
       "    </tr>\n",
       "    <tr>\n",
       "      <th>11</th>\n",
       "      <td>Staten Island</td>\n",
       "      <td>pizza</td>\n",
       "      <td>9</td>\n",
       "      <td>9</td>\n",
       "      <td>3</td>\n",
       "      <td>0.683668</td>\n",
       "      <td>0.689152</td>\n",
       "      <td>'raekwon', 'inspectah deck', 'ghostface killah'</td>\n",
       "    </tr>\n",
       "    <tr>\n",
       "      <th>12</th>\n",
       "      <td>Queens</td>\n",
       "      <td>pizza</td>\n",
       "      <td>11</td>\n",
       "      <td>11</td>\n",
       "      <td>7</td>\n",
       "      <td>0.499410</td>\n",
       "      <td>0.565449</td>\n",
       "      <td>'kool g rap', 'nicki minaj', 'll cool j', '50 ...</td>\n",
       "    </tr>\n",
       "    <tr>\n",
       "      <th>13</th>\n",
       "      <td>None</td>\n",
       "      <td>pizza</td>\n",
       "      <td>7</td>\n",
       "      <td>7</td>\n",
       "      <td>4</td>\n",
       "      <td>0.252708</td>\n",
       "      <td>0.279467</td>\n",
       "      <td>'xxxtentacion', '2pac', 'tory lanez', 'kodak b...</td>\n",
       "    </tr>\n",
       "  </tbody>\n",
       "</table>\n",
       "</div>"
      ],
      "text/plain": [
       "             city food_word  food_word_count  unique_song_count  \\\n",
       "0         Chicago     pizza               61                 29   \n",
       "1          Harlem     pizza               25                 16   \n",
       "2         Detroit     pizza               18                 14   \n",
       "3    Philadelphia     pizza               13                  8   \n",
       "4         Houston     pizza               12                 10   \n",
       "5           Miami     pizza               10                  6   \n",
       "6        Brooklyn     pizza               25                 19   \n",
       "7     Los Angeles     pizza               47                 29   \n",
       "8         Atlanta     pizza               70                 42   \n",
       "9           Bronx     pizza                7                  5   \n",
       "10       Bay Area     pizza               10                  7   \n",
       "11  Staten Island     pizza                9                  9   \n",
       "12         Queens     pizza               11                 11   \n",
       "13           None     pizza                7                  7   \n",
       "\n",
       "    unique_artist_count  index_lyrics  index_songs  \\\n",
       "0                     6      2.621508     1.387039   \n",
       "1                     7      2.041349     1.294345   \n",
       "2                     5      1.481750     1.444004   \n",
       "3                     4      1.262272     0.851982   \n",
       "4                     3      1.251118     1.172747   \n",
       "5                     3      1.129583     0.556028   \n",
       "6                     7      1.106529     0.908539   \n",
       "7                    13      1.081077     0.706877   \n",
       "8                    17      1.070613     0.779840   \n",
       "9                     4      0.857592     0.544866   \n",
       "10                    4      0.727284     0.586517   \n",
       "11                    3      0.683668     0.689152   \n",
       "12                    7      0.499410     0.565449   \n",
       "13                    4      0.252708     0.279467   \n",
       "\n",
       "                                    food_word_artists  \n",
       "0   'chief keef', 'chance the rapper', 'juice wrld...  \n",
       "1   'princess nokia', 'camron', 'jim jones', 'juel...  \n",
       "2   'big sean', 'eminem', 'royce da 59', 'danny br...  \n",
       "3   'lil dicky', 'meek mill', 'tierra whack', 'lil...  \n",
       "4   'megan thee stallion', 'chamillionaire', 'trav...  \n",
       "5   'rick ross', 'flo rida', 'ski mask the slump god'  \n",
       "6   'the notorious big', 'jayz', 'busta rhymes', '...  \n",
       "7   'ice cube', 'ty dolla sign', 'earl sweatshirt'...  \n",
       "8   'waka flocka flame', 'offset', 'young thug', '...  \n",
       "9       'big pun', 'slick rick', 'remy ma', 'cardi b'  \n",
       "10  'del the funky homosapien', 'andre nickatina',...  \n",
       "11    'raekwon', 'inspectah deck', 'ghostface killah'  \n",
       "12  'kool g rap', 'nicki minaj', 'll cool j', '50 ...  \n",
       "13  'xxxtentacion', '2pac', 'tory lanez', 'kodak b...  "
      ]
     },
     "execution_count": 249,
     "metadata": {},
     "output_type": "execute_result"
    }
   ],
   "source": [
    "# Create figure with secondary y-axis\n",
    "fig = make_subplots(specs=[[{\"secondary_y\": True}]])\n",
    "\n",
    "# Add traces\n",
    "fig.add_trace(\n",
    "    go.Bar(x=food_city_word_plot_df['city'],\n",
    "               y=food_city_word_plot_df['city_food_word_index_all_lyric_words'],\n",
    "               name=\"Food Word Mentions in Lyrics vs. Average\"),\n",
    "    secondary_y=False,\n",
    ")\n",
    "\n",
    "fig.add_trace(\n",
    "    go.Bar(x=food_city_word_plot_df['city'],\n",
    "               y=food_city_word_plot_df['city_food_word_index_num_songs'],\n",
    "               name=\"Food Word Mentions in Unique Songs vs. Average\"),\n",
    "    secondary_y=False,\n",
    ")\n",
    "\n",
    "fig.add_trace(\n",
    "    go.Scatter(x=food_city_word_plot_df['city'],\n",
    "               y=food_city_word_plot_df['city_food_word_count'],\n",
    "               name=\"City Food Word Total Mentions\"),\n",
    "    secondary_y=True,\n",
    ")\n",
    "\n",
    "fig.add_trace(\n",
    "    go.Scatter(x=food_city_word_plot_df['city'],\n",
    "               y=food_city_word_plot_df['city_food_word_unique_song_count'],\n",
    "               name=\"City Food Word Unique Song Count\"),\n",
    "    secondary_y=True,\n",
    ")\n",
    "\n",
    "# Add figure title\n",
    "fig.update_layout(\n",
    "    title={\n",
    "        'text': \"Top {0} Cities: {1}\".format(results_limit,city_food_word.title()),\n",
    "        'y':0.94,\n",
    "        'x':0.5,\n",
    "        'xanchor': 'center',\n",
    "        'yanchor': 'top'}\n",
    ")\n",
    "\n",
    "# Set x-axis title\n",
    "fig.update_xaxes(title_text=\"City\")\n",
    "\n",
    "# Set y-axes titles\n",
    "fig.update_yaxes(title_text=\"Index vs. Average\", secondary_y=False)\n",
    "fig.update_yaxes(title_text=\"Count of Food Word Mentions by City\", secondary_y=True)\n",
    "fig.update_layout(legend=dict(\n",
    "    orientation=\"h\",\n",
    "    yanchor=\"bottom\",\n",
    "    y=1.02,\n",
    "    xanchor=\"right\",\n",
    "    x=0.7\n",
    "))\n",
    "\n",
    "fig.show()\n",
    "df_below_plot = food_city_word_plot_df[['city','food_word','city_food_word_count','city_food_word_unique_song_count','city_food_word_unique_artist_count','city_food_word_index_all_lyric_words','city_food_word_index_num_songs','city_food_word_unique_artists']].reset_index().drop(labels='index',axis=1)\n",
    "df_below_plot.columns=['city','food_word','food_word_count','unique_song_count','unique_artist_count','index_lyrics','index_songs','food_word_artists']\n",
    "df_below_plot"
   ]
  },
  {
   "cell_type": "code",
   "execution_count": null,
   "metadata": {},
   "outputs": [],
   "source": []
  }
 ],
 "metadata": {
  "kernelspec": {
   "display_name": "Python 3",
   "language": "python",
   "name": "python3"
  },
  "language_info": {
   "codemirror_mode": {
    "name": "ipython",
    "version": 3
   },
   "file_extension": ".py",
   "mimetype": "text/x-python",
   "name": "python",
   "nbconvert_exporter": "python",
   "pygments_lexer": "ipython3",
   "version": "3.7.7"
  }
 },
 "nbformat": 4,
 "nbformat_minor": 4
}
